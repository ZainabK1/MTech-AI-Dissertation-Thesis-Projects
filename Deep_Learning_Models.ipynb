{
  "nbformat": 4,
  "nbformat_minor": 0,
  "metadata": {
    "colab": {
      "provenance": []
    },
    "kernelspec": {
      "name": "python3",
      "display_name": "Python 3"
    },
    "language_info": {
      "name": "python"
    },
    "accelerator": "GPU",
    "gpuClass": "standard"
  },
  "cells": [
    {
      "cell_type": "code",
      "execution_count": null,
      "metadata": {
        "id": "e-as1Q28wKw_",
        "colab": {
          "base_uri": "https://localhost:8080/"
        },
        "outputId": "427a941b-2465-452d-f82a-10a45cc92222"
      },
      "outputs": [
        {
          "output_type": "stream",
          "name": "stdout",
          "text": [
            "Looking in indexes: https://pypi.org/simple, https://us-python.pkg.dev/colab-wheels/public/simple/\n",
            "Collecting keras-tuner\n",
            "  Downloading keras_tuner-1.3.3-py3-none-any.whl (172 kB)\n",
            "\u001b[2K     \u001b[90m━━━━━━━━━━━━━━━━━━━━━━━━━━━━━━━━━━━━━━━\u001b[0m \u001b[32m172.1/172.1 KB\u001b[0m \u001b[31m6.4 MB/s\u001b[0m eta \u001b[36m0:00:00\u001b[0m\n",
            "\u001b[?25hRequirement already satisfied: packaging in /usr/local/lib/python3.9/dist-packages (from keras-tuner) (23.0)\n",
            "Requirement already satisfied: requests in /usr/local/lib/python3.9/dist-packages (from keras-tuner) (2.27.1)\n",
            "Requirement already satisfied: tensorflow>=2.0 in /usr/local/lib/python3.9/dist-packages (from keras-tuner) (2.12.0)\n",
            "Collecting kt-legacy\n",
            "  Downloading kt_legacy-1.0.4-py3-none-any.whl (9.6 kB)\n",
            "Requirement already satisfied: protobuf<=3.20.3 in /usr/local/lib/python3.9/dist-packages (from keras-tuner) (3.20.3)\n",
            "Requirement already satisfied: h5py>=2.9.0 in /usr/local/lib/python3.9/dist-packages (from tensorflow>=2.0->keras-tuner) (3.8.0)\n",
            "Requirement already satisfied: gast<=0.4.0,>=0.2.1 in /usr/local/lib/python3.9/dist-packages (from tensorflow>=2.0->keras-tuner) (0.4.0)\n",
            "Requirement already satisfied: setuptools in /usr/local/lib/python3.9/dist-packages (from tensorflow>=2.0->keras-tuner) (67.6.1)\n",
            "Requirement already satisfied: termcolor>=1.1.0 in /usr/local/lib/python3.9/dist-packages (from tensorflow>=2.0->keras-tuner) (2.2.0)\n",
            "Requirement already satisfied: google-pasta>=0.1.1 in /usr/local/lib/python3.9/dist-packages (from tensorflow>=2.0->keras-tuner) (0.2.0)\n",
            "Requirement already satisfied: tensorflow-io-gcs-filesystem>=0.23.1 in /usr/local/lib/python3.9/dist-packages (from tensorflow>=2.0->keras-tuner) (0.32.0)\n",
            "Requirement already satisfied: opt-einsum>=2.3.2 in /usr/local/lib/python3.9/dist-packages (from tensorflow>=2.0->keras-tuner) (3.3.0)\n",
            "Requirement already satisfied: flatbuffers>=2.0 in /usr/local/lib/python3.9/dist-packages (from tensorflow>=2.0->keras-tuner) (23.3.3)\n",
            "Requirement already satisfied: absl-py>=1.0.0 in /usr/local/lib/python3.9/dist-packages (from tensorflow>=2.0->keras-tuner) (1.4.0)\n",
            "Requirement already satisfied: six>=1.12.0 in /usr/local/lib/python3.9/dist-packages (from tensorflow>=2.0->keras-tuner) (1.16.0)\n",
            "Requirement already satisfied: wrapt<1.15,>=1.11.0 in /usr/local/lib/python3.9/dist-packages (from tensorflow>=2.0->keras-tuner) (1.14.1)\n",
            "Requirement already satisfied: typing-extensions>=3.6.6 in /usr/local/lib/python3.9/dist-packages (from tensorflow>=2.0->keras-tuner) (4.5.0)\n",
            "Requirement already satisfied: numpy<1.24,>=1.22 in /usr/local/lib/python3.9/dist-packages (from tensorflow>=2.0->keras-tuner) (1.22.4)\n",
            "Requirement already satisfied: tensorflow-estimator<2.13,>=2.12.0 in /usr/local/lib/python3.9/dist-packages (from tensorflow>=2.0->keras-tuner) (2.12.0)\n",
            "Requirement already satisfied: jax>=0.3.15 in /usr/local/lib/python3.9/dist-packages (from tensorflow>=2.0->keras-tuner) (0.4.7)\n",
            "Requirement already satisfied: libclang>=13.0.0 in /usr/local/lib/python3.9/dist-packages (from tensorflow>=2.0->keras-tuner) (16.0.0)\n",
            "Requirement already satisfied: grpcio<2.0,>=1.24.3 in /usr/local/lib/python3.9/dist-packages (from tensorflow>=2.0->keras-tuner) (1.53.0)\n",
            "Requirement already satisfied: keras<2.13,>=2.12.0 in /usr/local/lib/python3.9/dist-packages (from tensorflow>=2.0->keras-tuner) (2.12.0)\n",
            "Requirement already satisfied: tensorboard<2.13,>=2.12 in /usr/local/lib/python3.9/dist-packages (from tensorflow>=2.0->keras-tuner) (2.12.0)\n",
            "Requirement already satisfied: astunparse>=1.6.0 in /usr/local/lib/python3.9/dist-packages (from tensorflow>=2.0->keras-tuner) (1.6.3)\n",
            "Requirement already satisfied: certifi>=2017.4.17 in /usr/local/lib/python3.9/dist-packages (from requests->keras-tuner) (2022.12.7)\n",
            "Requirement already satisfied: urllib3<1.27,>=1.21.1 in /usr/local/lib/python3.9/dist-packages (from requests->keras-tuner) (1.26.15)\n",
            "Requirement already satisfied: idna<4,>=2.5 in /usr/local/lib/python3.9/dist-packages (from requests->keras-tuner) (3.4)\n",
            "Requirement already satisfied: charset-normalizer~=2.0.0 in /usr/local/lib/python3.9/dist-packages (from requests->keras-tuner) (2.0.12)\n",
            "Requirement already satisfied: wheel<1.0,>=0.23.0 in /usr/local/lib/python3.9/dist-packages (from astunparse>=1.6.0->tensorflow>=2.0->keras-tuner) (0.40.0)\n",
            "Requirement already satisfied: ml-dtypes>=0.0.3 in /usr/local/lib/python3.9/dist-packages (from jax>=0.3.15->tensorflow>=2.0->keras-tuner) (0.0.4)\n",
            "Requirement already satisfied: scipy>=1.7 in /usr/local/lib/python3.9/dist-packages (from jax>=0.3.15->tensorflow>=2.0->keras-tuner) (1.10.1)\n",
            "Requirement already satisfied: google-auth<3,>=1.6.3 in /usr/local/lib/python3.9/dist-packages (from tensorboard<2.13,>=2.12->tensorflow>=2.0->keras-tuner) (2.17.0)\n",
            "Requirement already satisfied: google-auth-oauthlib<0.5,>=0.4.1 in /usr/local/lib/python3.9/dist-packages (from tensorboard<2.13,>=2.12->tensorflow>=2.0->keras-tuner) (0.4.6)\n",
            "Requirement already satisfied: markdown>=2.6.8 in /usr/local/lib/python3.9/dist-packages (from tensorboard<2.13,>=2.12->tensorflow>=2.0->keras-tuner) (3.4.3)\n",
            "Requirement already satisfied: werkzeug>=1.0.1 in /usr/local/lib/python3.9/dist-packages (from tensorboard<2.13,>=2.12->tensorflow>=2.0->keras-tuner) (2.2.3)\n",
            "Requirement already satisfied: tensorboard-plugin-wit>=1.6.0 in /usr/local/lib/python3.9/dist-packages (from tensorboard<2.13,>=2.12->tensorflow>=2.0->keras-tuner) (1.8.1)\n",
            "Requirement already satisfied: tensorboard-data-server<0.8.0,>=0.7.0 in /usr/local/lib/python3.9/dist-packages (from tensorboard<2.13,>=2.12->tensorflow>=2.0->keras-tuner) (0.7.0)\n",
            "Requirement already satisfied: pyasn1-modules>=0.2.1 in /usr/local/lib/python3.9/dist-packages (from google-auth<3,>=1.6.3->tensorboard<2.13,>=2.12->tensorflow>=2.0->keras-tuner) (0.2.8)\n",
            "Requirement already satisfied: cachetools<6.0,>=2.0.0 in /usr/local/lib/python3.9/dist-packages (from google-auth<3,>=1.6.3->tensorboard<2.13,>=2.12->tensorflow>=2.0->keras-tuner) (5.3.0)\n",
            "Requirement already satisfied: rsa<5,>=3.1.4 in /usr/local/lib/python3.9/dist-packages (from google-auth<3,>=1.6.3->tensorboard<2.13,>=2.12->tensorflow>=2.0->keras-tuner) (4.9)\n",
            "Requirement already satisfied: requests-oauthlib>=0.7.0 in /usr/local/lib/python3.9/dist-packages (from google-auth-oauthlib<0.5,>=0.4.1->tensorboard<2.13,>=2.12->tensorflow>=2.0->keras-tuner) (1.3.1)\n",
            "Requirement already satisfied: importlib-metadata>=4.4 in /usr/local/lib/python3.9/dist-packages (from markdown>=2.6.8->tensorboard<2.13,>=2.12->tensorflow>=2.0->keras-tuner) (6.1.0)\n",
            "Requirement already satisfied: MarkupSafe>=2.1.1 in /usr/local/lib/python3.9/dist-packages (from werkzeug>=1.0.1->tensorboard<2.13,>=2.12->tensorflow>=2.0->keras-tuner) (2.1.2)\n",
            "Requirement already satisfied: zipp>=0.5 in /usr/local/lib/python3.9/dist-packages (from importlib-metadata>=4.4->markdown>=2.6.8->tensorboard<2.13,>=2.12->tensorflow>=2.0->keras-tuner) (3.15.0)\n",
            "Requirement already satisfied: pyasn1<0.5.0,>=0.4.6 in /usr/local/lib/python3.9/dist-packages (from pyasn1-modules>=0.2.1->google-auth<3,>=1.6.3->tensorboard<2.13,>=2.12->tensorflow>=2.0->keras-tuner) (0.4.8)\n",
            "Requirement already satisfied: oauthlib>=3.0.0 in /usr/local/lib/python3.9/dist-packages (from requests-oauthlib>=0.7.0->google-auth-oauthlib<0.5,>=0.4.1->tensorboard<2.13,>=2.12->tensorflow>=2.0->keras-tuner) (3.2.2)\n",
            "Installing collected packages: kt-legacy, keras-tuner\n",
            "Successfully installed keras-tuner-1.3.3 kt-legacy-1.0.4\n"
          ]
        }
      ],
      "source": [
        "!pip install keras-tuner"
      ]
    },
    {
      "cell_type": "code",
      "source": [
        "!pip install tensorflow-gpu"
      ],
      "metadata": {
        "id": "39yV2aHAylHH",
        "colab": {
          "base_uri": "https://localhost:8080/"
        },
        "outputId": "7667b223-ce92-47df-a88c-04b7e9d05d0e"
      },
      "execution_count": null,
      "outputs": [
        {
          "output_type": "stream",
          "name": "stdout",
          "text": [
            "Looking in indexes: https://pypi.org/simple, https://us-python.pkg.dev/colab-wheels/public/simple/\n",
            "Collecting tensorflow-gpu\n",
            "  Downloading tensorflow-gpu-2.12.0.tar.gz (2.6 kB)\n",
            "  \u001b[1;31merror\u001b[0m: \u001b[1msubprocess-exited-with-error\u001b[0m\n",
            "  \n",
            "  \u001b[31m×\u001b[0m \u001b[32mpython setup.py egg_info\u001b[0m did not run successfully.\n",
            "  \u001b[31m│\u001b[0m exit code: \u001b[1;36m1\u001b[0m\n",
            "  \u001b[31m╰─>\u001b[0m See above for output.\n",
            "  \n",
            "  \u001b[1;35mnote\u001b[0m: This error originates from a subprocess, and is likely not a problem with pip.\n",
            "  Preparing metadata (setup.py) ... \u001b[?25l\u001b[?25herror\n",
            "\u001b[1;31merror\u001b[0m: \u001b[1mmetadata-generation-failed\u001b[0m\n",
            "\n",
            "\u001b[31m×\u001b[0m Encountered error while generating package metadata.\n",
            "\u001b[31m╰─>\u001b[0m See above for output.\n",
            "\n",
            "\u001b[1;35mnote\u001b[0m: This is an issue with the package mentioned above, not pip.\n",
            "\u001b[1;36mhint\u001b[0m: See above for details.\n"
          ]
        }
      ]
    },
    {
      "cell_type": "code",
      "source": [
        "!nvidia-smi"
      ],
      "metadata": {
        "id": "TsG8YLBBypS2",
        "colab": {
          "base_uri": "https://localhost:8080/"
        },
        "outputId": "4e53ebcf-3512-42e4-9021-3f0cf63f34a2"
      },
      "execution_count": null,
      "outputs": [
        {
          "output_type": "stream",
          "name": "stdout",
          "text": [
            "NVIDIA-SMI has failed because it couldn't communicate with the NVIDIA driver. Make sure that the latest NVIDIA driver is installed and running.\n",
            "\n"
          ]
        }
      ]
    },
    {
      "cell_type": "code",
      "source": [
        "#Libraries for hyper parameter tunning\n",
        "import tensorflow as tf\n",
        "from tensorflow import keras\n",
        "import numpy as np\n",
        "# import keras_tuner\n",
        "# from keras_tuner import RandomSearch\n",
        "# from keras_tuner.engine.hyperparameters import HyperParameters\n",
        "#Libraries to create the model\n",
        "from keras.layers import Conv2D, MaxPooling2D\n",
        "from keras.preprocessing import image\n",
        "import pandas as pd\n",
        "from sklearn.model_selection import train_test_split\n",
        "from tqdm import tqdm\n",
        "from keras.layers import BatchNormalization, Dropout, Flatten, Dense\n",
        "from keras.models import Sequential"
      ],
      "metadata": {
        "id": "-1r3Iyq6yw_x"
      },
      "execution_count": null,
      "outputs": []
    },
    {
      "cell_type": "code",
      "source": [
        "from google.colab import drive\n",
        "drive.mount('/content/drive')"
      ],
      "metadata": {
        "colab": {
          "base_uri": "https://localhost:8080/"
        },
        "id": "NcHcwDj3vb_2",
        "outputId": "efd4d14b-3d0f-4b61-e948-68d3d0108cee"
      },
      "execution_count": null,
      "outputs": [
        {
          "output_type": "stream",
          "name": "stdout",
          "text": [
            "Mounted at /content/drive\n"
          ]
        }
      ]
    },
    {
      "cell_type": "code",
      "source": [
        "# image_directory = \"/content/images/\"\n",
        "images = ('/content/drive/My Drive/images')\n",
        "\n",
        "\n",
        "df = pd.read_csv('/content/dataset.csv')\n",
        "print(df.head(5))\n",
        "print(df.columns)"
      ],
      "metadata": {
        "colab": {
          "base_uri": "https://localhost:8080/"
        },
        "id": "I4vh4hcP9Fkg",
        "outputId": "c501fb7e-09a8-4704-c8bb-517ea34d96ab"
      },
      "execution_count": null,
      "outputs": [
        {
          "output_type": "stream",
          "name": "stdout",
          "text": [
            "  filename  Balanced  Crossbar  High Crossbar  Left Do Crossbar  \\\n",
            "0    0.png                   1              0                 0   \n",
            "1    1.png                   1              0                 0   \n",
            "2    2.png                   1              0                 0   \n",
            "3    3.png                   0              0                 0   \n",
            "4    4.png                   1              1                 0   \n",
            "\n",
            "   Short Length Crossbar  Down Sloping  Right Do Crossbar  Upsloping  \\\n",
            "0                      1             0                  0          0   \n",
            "1                      0             0                  1          1   \n",
            "2                      0             0                  0          1   \n",
            "3                      0             0                  1          0   \n",
            "4                      0             0                  0          0   \n",
            "\n",
            "   Lengthy Crossbar  Flat Crossbar  Low Crossbar  Medium Length Crossbar  \n",
            "0                 0              1             0                       0  \n",
            "1                 0              0             1                       1  \n",
            "2                 1              0             1                       0  \n",
            "3                 0              1             0                       0  \n",
            "4                 1              1             0                       0  \n",
            "Index(['filename', 'Balanced  Crossbar', 'High Crossbar', 'Left Do Crossbar',\n",
            "       'Short Length Crossbar', 'Down Sloping', 'Right Do Crossbar',\n",
            "       'Upsloping', 'Lengthy Crossbar', 'Flat Crossbar', 'Low Crossbar',\n",
            "       'Medium Length Crossbar'],\n",
            "      dtype='object')\n"
          ]
        }
      ]
    },
    {
      "cell_type": "code",
      "source": [
        "from PIL import Image\n",
        "import os\n",
        "\n",
        "# Set the path to the image folder\n",
        "img_folder = '/content/drive/My Drive/images'\n",
        "\n",
        "# Loop through each file in the folder\n",
        "for filename in os.listdir(img_folder):\n",
        "    # Load the image\n",
        "    img = Image.open(os.path.join(img_folder, filename))\n",
        "\n",
        "    # Get the mode of the image (e.g. \"RGB\", \"L=grayscale/B&W\", \"CMYK\", etc.)\n",
        "    print(f\"{filename}: {img.mode}\")"
      ],
      "metadata": {
        "id": "7NvUo49269cW"
      },
      "execution_count": null,
      "outputs": []
    },
    {
      "cell_type": "code",
      "source": [
        "#preparing X\n",
        "X_dataset = []\n",
        "for i in tqdm(range(df.shape[0])):\n",
        "    img = tf.keras.utils.load_img(images +'/'+df['filename'][i], color_mode='grayscale')\n",
        "    img =  tf.keras.utils.img_to_array(img)\n",
        "    img = img/255\n",
        "    X_dataset.append(img)\n",
        "# X = np.array(X_dataset)"
      ],
      "metadata": {
        "colab": {
          "base_uri": "https://localhost:8080/"
        },
        "id": "QajJ0V269VO0",
        "outputId": "a99a4968-9bdb-4879-d2cb-47846fbb7425"
      },
      "execution_count": null,
      "outputs": [
        {
          "output_type": "stream",
          "name": "stderr",
          "text": [
            "100%|██████████| 1996/1996 [07:29<00:00,  4.44it/s]\n"
          ]
        }
      ]
    },
    {
      "cell_type": "code",
      "source": [
        "X_dataset1 = []\n",
        "for i in tqdm(range(df.shape[0])):\n",
        "    img = tf.keras.utils.load_img(images +'/'+df['filename'][i], color_mode='grayscale')\n",
        " #   img_gray = tf.image.convert_image_dtype(tf.image.rgb_to_grayscale(img), tf.float32)\n",
        "    img_gray =  tf.keras.utils.img_to_array(img)\n",
        "    img_gray = img_gray/255.0\n",
        "    X_dataset1.append(img_gray)"
      ],
      "metadata": {
        "colab": {
          "base_uri": "https://localhost:8080/"
        },
        "id": "Ni-2WLQc7pyi",
        "outputId": "f5cdea3a-6a1b-450b-81a5-b56dfeab1ea3"
      },
      "execution_count": null,
      "outputs": [
        {
          "output_type": "stream",
          "name": "stderr",
          "text": [
            "100%|██████████| 1996/1996 [00:02<00:00, 781.42it/s]\n"
          ]
        }
      ]
    },
    {
      "cell_type": "code",
      "source": [
        "X1 = np.array(X_dataset1)"
      ],
      "metadata": {
        "id": "Bp1vxz6O7_7v"
      },
      "execution_count": null,
      "outputs": []
    },
    {
      "cell_type": "code",
      "source": [
        "X1.shape"
      ],
      "metadata": {
        "colab": {
          "base_uri": "https://localhost:8080/"
        },
        "id": "aPKNxaEw8D9y",
        "outputId": "d6fff55c-3dad-4c68-a20c-85ac8bded705"
      },
      "execution_count": null,
      "outputs": [
        {
          "output_type": "execute_result",
          "data": {
            "text/plain": [
              "(1996, 28, 28, 1)"
            ]
          },
          "metadata": {},
          "execution_count": 50
        }
      ]
    },
    {
      "cell_type": "code",
      "source": [
        "X = np.array(X_dataset)"
      ],
      "metadata": {
        "id": "IsZv_nxa2liJ"
      },
      "execution_count": null,
      "outputs": []
    },
    {
      "cell_type": "code",
      "source": [
        "X = X.astype(np.float32)"
      ],
      "metadata": {
        "id": "1q2gMhHvylAj"
      },
      "execution_count": null,
      "outputs": []
    },
    {
      "cell_type": "code",
      "source": [
        "print(X.shape)\n"
      ],
      "metadata": {
        "colab": {
          "base_uri": "https://localhost:8080/"
        },
        "id": "U078RFcwIROG",
        "outputId": "fd57a711-16d2-4780-e7ba-fddf31642be2"
      },
      "execution_count": null,
      "outputs": [
        {
          "output_type": "stream",
          "name": "stdout",
          "text": [
            "(1996, 28, 28, 1)\n"
          ]
        }
      ]
    },
    {
      "cell_type": "code",
      "source": [
        "df1 = df.iloc[0:992]"
      ],
      "metadata": {
        "id": "kFj4JkR8I497"
      },
      "execution_count": null,
      "outputs": []
    },
    {
      "cell_type": "code",
      "source": [
        "Y = np.array(df.drop(['filename'], axis=1))"
      ],
      "metadata": {
        "id": "x8A3Zr5oBRGz"
      },
      "execution_count": null,
      "outputs": []
    },
    {
      "cell_type": "code",
      "source": [
        "Y.shape"
      ],
      "metadata": {
        "colab": {
          "base_uri": "https://localhost:8080/"
        },
        "id": "05zxjnY6AW_0",
        "outputId": "62067260-1d46-4876-bf8c-1a085c121432"
      },
      "execution_count": null,
      "outputs": [
        {
          "output_type": "execute_result",
          "data": {
            "text/plain": [
              "(1996, 11)"
            ]
          },
          "metadata": {},
          "execution_count": 9
        }
      ]
    },
    {
      "cell_type": "code",
      "source": [
        "print(df['filename'][30]) #30.png\n",
        "print(df[30:31])"
      ],
      "metadata": {
        "colab": {
          "base_uri": "https://localhost:8080/"
        },
        "id": "oUu7TG37D1v7",
        "outputId": "e499cda2-3c3a-47aa-9494-de3f79960b60"
      },
      "execution_count": null,
      "outputs": [
        {
          "output_type": "stream",
          "name": "stdout",
          "text": [
            "30.png\n",
            "   filename  Balanced  Crossbar  High Crossbar  Left Do Crossbar  \\\n",
            "30   30.png                   0              1                 1   \n",
            "\n",
            "    Short Length Crossbar  Down Sloping  Right Do Crossbar  Upsloping  \\\n",
            "30                      0             0                  0          0   \n",
            "\n",
            "    Lengthy Crossbar  Flat Crossbar  Low Crossbar  Medium Length Crossbar  \n",
            "30                 0              1             0                       1  \n"
          ]
        }
      ]
    },
    {
      "cell_type": "code",
      "source": [
        "x_train, x_test, y_train, y_test = train_test_split(X, Y, random_state=20, test_size = 0.10)\n",
        "x_train.shape"
      ],
      "metadata": {
        "colab": {
          "base_uri": "https://localhost:8080/"
        },
        "id": "Bl-VWa0iKcfb",
        "outputId": "c859e30f-36af-4ea0-e45d-68ae1071f179"
      },
      "execution_count": null,
      "outputs": [
        {
          "output_type": "execute_result",
          "data": {
            "text/plain": [
              "(1796, 28, 28, 1)"
            ]
          },
          "metadata": {},
          "execution_count": 10
        }
      ]
    },
    {
      "cell_type": "code",
      "source": [
        "y_train[0]"
      ],
      "metadata": {
        "colab": {
          "base_uri": "https://localhost:8080/"
        },
        "id": "CG-H73emAhT2",
        "outputId": "1d219fe3-09a7-4cfb-baf8-68c0217a6cec"
      },
      "execution_count": null,
      "outputs": [
        {
          "output_type": "execute_result",
          "data": {
            "text/plain": [
              "array([1, 1, 1, 0, 0, 0, 0, 1, 1, 0, 0])"
            ]
          },
          "metadata": {},
          "execution_count": 54
        }
      ]
    },
    {
      "cell_type": "code",
      "source": [
        "from kerastuner import RandomSearch\n",
        "from kerastuner.engine.hyperparameters import HyperParameters"
      ],
      "metadata": {
        "id": "TnV9vPevL7YC",
        "colab": {
          "base_uri": "https://localhost:8080/"
        },
        "outputId": "50369644-3648-4255-eb12-6264e46395fc"
      },
      "execution_count": null,
      "outputs": [
        {
          "output_type": "stream",
          "name": "stderr",
          "text": [
            "<ipython-input-18-2bbfbe7dae29>:1: DeprecationWarning: `import kerastuner` is deprecated, please use `import keras_tuner`.\n",
            "  from kerastuner import RandomSearch\n"
          ]
        }
      ]
    },
    {
      "cell_type": "code",
      "metadata": {
        "id": "alNFfaFfzi6z"
      },
      "source": [
        "def build_model(hp):\n",
        "  model = keras.Sequential([\n",
        "    keras.layers.Conv2D(\n",
        "        filters=hp.Int('conv_1_filter', min_value=32, max_value=128, step=16),\n",
        "        kernel_size=hp.Choice('conv_1_kernel', values = [3,5]),\n",
        "        activation='relu',\n",
        "        input_shape=(28,28,1)\n",
        "    ),\n",
        "    keras.layers.Conv2D(\n",
        "        filters=hp.Int('conv_2_filter', min_value=32, max_value=64, step=16),\n",
        "        kernel_size=hp.Choice('conv_2_kernel', values = [3,5]),\n",
        "        activation='relu'\n",
        "    ),\n",
        "    keras.layers.Flatten(),\n",
        "    keras.layers.Dense(\n",
        "        units=hp.Int('dense_1_units', min_value=32, max_value=128, step=16),\n",
        "        activation='relu'\n",
        "    ),\n",
        "    keras.layers.Dense(11, activation='softmax')\n",
        "  ])\n",
        "\n",
        "  model.compile(optimizer=keras.optimizers.Adam(hp.Choice('learning_rate', values=[1e-2, 1e-3])),\n",
        "              loss='binary_crossentropy',\n",
        "              metrics=['accuracy'])\n",
        "\n",
        "  return model"
      ],
      "execution_count": null,
      "outputs": []
    },
    {
      "cell_type": "code",
      "source": [
        "tuner_search=RandomSearch(build_model,\n",
        "                          objective='val_accuracy',\n",
        "                          max_trials=5,directory='output',project_name=\"T Classification\")"
      ],
      "metadata": {
        "id": "RG1Mbcu5M8pk"
      },
      "execution_count": null,
      "outputs": []
    },
    {
      "cell_type": "code",
      "source": [
        "tuner_search.search(x_train,y_train,epochs=3,validation_data=(x_test, y_test))"
      ],
      "metadata": {
        "id": "ZrZUU5h_M9dg"
      },
      "execution_count": null,
      "outputs": []
    },
    {
      "cell_type": "code",
      "source": [
        "model=tuner_search.get_best_models(num_models=1)[0]"
      ],
      "metadata": {
        "colab": {
          "base_uri": "https://localhost:8080/"
        },
        "id": "Au8TF8kuTu8m",
        "outputId": "3e27f4ec-ebab-43de-c804-3913b0e51795"
      },
      "execution_count": null,
      "outputs": [
        {
          "output_type": "stream",
          "name": "stderr",
          "text": [
            "WARNING:tensorflow:Detecting that an object or model or tf.train.Checkpoint is being deleted with unrestored values. See the following logs for the specific values in question. To silence these warnings, use `status.expect_partial()`. See https://www.tensorflow.org/api_docs/python/tf/train/Checkpoint#restorefor details about the status object returned by the restore function.\n",
            "WARNING:tensorflow:Value in checkpoint could not be found in the restored object: (root).optimizer._variables.1\n",
            "WARNING:tensorflow:Value in checkpoint could not be found in the restored object: (root).optimizer._variables.2\n",
            "WARNING:tensorflow:Value in checkpoint could not be found in the restored object: (root).optimizer._variables.3\n",
            "WARNING:tensorflow:Value in checkpoint could not be found in the restored object: (root).optimizer._variables.4\n",
            "WARNING:tensorflow:Value in checkpoint could not be found in the restored object: (root).optimizer._variables.5\n",
            "WARNING:tensorflow:Value in checkpoint could not be found in the restored object: (root).optimizer._variables.6\n",
            "WARNING:tensorflow:Value in checkpoint could not be found in the restored object: (root).optimizer._variables.7\n",
            "WARNING:tensorflow:Value in checkpoint could not be found in the restored object: (root).optimizer._variables.8\n",
            "WARNING:tensorflow:Value in checkpoint could not be found in the restored object: (root).optimizer._variables.9\n",
            "WARNING:tensorflow:Value in checkpoint could not be found in the restored object: (root).optimizer._variables.10\n",
            "WARNING:tensorflow:Value in checkpoint could not be found in the restored object: (root).optimizer._variables.11\n",
            "WARNING:tensorflow:Value in checkpoint could not be found in the restored object: (root).optimizer._variables.12\n",
            "WARNING:tensorflow:Value in checkpoint could not be found in the restored object: (root).optimizer._variables.13\n",
            "WARNING:tensorflow:Value in checkpoint could not be found in the restored object: (root).optimizer._variables.14\n",
            "WARNING:tensorflow:Value in checkpoint could not be found in the restored object: (root).optimizer._variables.15\n",
            "WARNING:tensorflow:Value in checkpoint could not be found in the restored object: (root).optimizer._variables.16\n"
          ]
        }
      ]
    },
    {
      "cell_type": "code",
      "source": [
        "model.summary()"
      ],
      "metadata": {
        "colab": {
          "base_uri": "https://localhost:8080/"
        },
        "id": "e-n1HW_YLiDn",
        "outputId": "c0c6b4f2-67e9-43cc-b63f-972b672e4b0b"
      },
      "execution_count": null,
      "outputs": [
        {
          "output_type": "stream",
          "name": "stdout",
          "text": [
            "Model: \"sequential\"\n",
            "_________________________________________________________________\n",
            " Layer (type)                Output Shape              Param #   \n",
            "=================================================================\n",
            " conv2d (Conv2D)             (None, 24, 24, 64)        1664      \n",
            "                                                                 \n",
            " conv2d_1 (Conv2D)           (None, 22, 22, 48)        27696     \n",
            "                                                                 \n",
            " flatten (Flatten)           (None, 23232)             0         \n",
            "                                                                 \n",
            " dense (Dense)               (None, 112)               2602096   \n",
            "                                                                 \n",
            " dense_1 (Dense)             (None, 11)                1243      \n",
            "                                                                 \n",
            "=================================================================\n",
            "Total params: 2,632,699\n",
            "Trainable params: 2,632,699\n",
            "Non-trainable params: 0\n",
            "_________________________________________________________________\n"
          ]
        }
      ]
    },
    {
      "cell_type": "code",
      "source": [
        "model = Sequential()\n",
        "\n",
        "model.add(Conv2D(filters=16, kernel_size=(3, 3), padding='same', activation=\"relu\", input_shape=(28,28,1)))\n",
        "model.add(BatchNormalization())\n",
        "model.add(MaxPooling2D(pool_size=(2, 2)))\n",
        "model.add(Dropout(0.15))\n",
        "\n",
        "model.add(Conv2D(filters=32, kernel_size=(3, 3), padding='same', activation='relu'))\n",
        "model.add(MaxPooling2D(pool_size=(2, 2)))\n",
        "model.add(BatchNormalization())\n",
        "model.add(Dropout(0.15))\n",
        "\n",
        "model.add(Conv2D(filters=64, kernel_size=(3, 3), padding='same', activation=\"relu\"))\n",
        "model.add(MaxPooling2D(pool_size=(2, 2)))\n",
        "model.add(BatchNormalization())\n",
        "model.add(Dropout(0.12))\n",
        "\n",
        "model.add(Conv2D(filters=64, kernel_size=(3, 3), padding='same', activation='relu'))\n",
        "model.add(MaxPooling2D(pool_size=(2, 2)))\n",
        "model.add(BatchNormalization())\n",
        "model.add(Dropout(0.12))\n",
        "\n",
        "model.add(Flatten())\n",
        "model.add(Dense(128, activation='relu'))\n",
        "model.add(Dropout(0.1))\n",
        "model.add(Dense(64, activation='relu'))\n",
        "model.add(Dropout(0.1))\n",
        "model.add(Dense(11, activation='sigmoid'))\n"
      ],
      "metadata": {
        "id": "-ThjazaaPG-0"
      },
      "execution_count": null,
      "outputs": []
    },
    {
      "cell_type": "code",
      "source": [
        "model.summary()\n",
        "\n",
        "#Binary cross entropy of each label. So no really a binary classification problem but\n",
        "#Calculating binary cross entropy for each label.\n",
        "# model.compile(optimizer='adam', loss='binary_crossentropy', metrics=['accuracy'])\n",
        "model.compile(\n",
        "    optimizer=keras.optimizers.RMSprop(lr=1e-5),\n",
        "    loss='binary_crossentropy',\n",
        "    metrics=['accuracy']\n",
        "  )\n",
        "\n",
        "\n",
        "history = model.fit(x_train, y_train, epochs=20, validation_data=(x_test, y_test), batch_size=32)"
      ],
      "metadata": {
        "colab": {
          "base_uri": "https://localhost:8080/"
        },
        "id": "CBXSsqTLP_dg",
        "outputId": "5d70f1d4-dbb7-447d-e71e-cd80c4ae5786"
      },
      "execution_count": null,
      "outputs": [
        {
          "output_type": "stream",
          "name": "stdout",
          "text": [
            "Model: \"sequential\"\n",
            "_________________________________________________________________\n",
            " Layer (type)                Output Shape              Param #   \n",
            "=================================================================\n",
            " conv2d (Conv2D)             (None, 28, 28, 16)        160       \n",
            "                                                                 \n",
            " batch_normalization (BatchN  (None, 28, 28, 16)       64        \n",
            " ormalization)                                                   \n",
            "                                                                 \n",
            " max_pooling2d (MaxPooling2D  (None, 14, 14, 16)       0         \n",
            " )                                                               \n",
            "                                                                 \n",
            " dropout (Dropout)           (None, 14, 14, 16)        0         \n",
            "                                                                 \n",
            " conv2d_1 (Conv2D)           (None, 14, 14, 32)        4640      \n",
            "                                                                 \n",
            " max_pooling2d_1 (MaxPooling  (None, 7, 7, 32)         0         \n",
            " 2D)                                                             \n",
            "                                                                 \n",
            " batch_normalization_1 (Batc  (None, 7, 7, 32)         128       \n",
            " hNormalization)                                                 \n",
            "                                                                 \n",
            " dropout_1 (Dropout)         (None, 7, 7, 32)          0         \n",
            "                                                                 \n",
            " conv2d_2 (Conv2D)           (None, 7, 7, 64)          18496     \n",
            "                                                                 \n",
            " max_pooling2d_2 (MaxPooling  (None, 3, 3, 64)         0         \n",
            " 2D)                                                             \n",
            "                                                                 \n",
            " batch_normalization_2 (Batc  (None, 3, 3, 64)         256       \n",
            " hNormalization)                                                 \n",
            "                                                                 \n",
            " dropout_2 (Dropout)         (None, 3, 3, 64)          0         \n",
            "                                                                 \n",
            " conv2d_3 (Conv2D)           (None, 3, 3, 64)          36928     \n",
            "                                                                 \n",
            " max_pooling2d_3 (MaxPooling  (None, 1, 1, 64)         0         \n",
            " 2D)                                                             \n",
            "                                                                 \n",
            " batch_normalization_3 (Batc  (None, 1, 1, 64)         256       \n",
            " hNormalization)                                                 \n",
            "                                                                 \n",
            " dropout_3 (Dropout)         (None, 1, 1, 64)          0         \n",
            "                                                                 \n",
            " flatten (Flatten)           (None, 64)                0         \n",
            "                                                                 \n",
            " dense (Dense)               (None, 128)               8320      \n",
            "                                                                 \n",
            " dropout_4 (Dropout)         (None, 128)               0         \n",
            "                                                                 \n",
            " dense_1 (Dense)             (None, 64)                8256      \n",
            "                                                                 \n",
            " dropout_5 (Dropout)         (None, 64)                0         \n",
            "                                                                 \n",
            " dense_2 (Dense)             (None, 11)                715       \n",
            "                                                                 \n",
            "=================================================================\n",
            "Total params: 78,219\n",
            "Trainable params: 77,867\n",
            "Non-trainable params: 352\n",
            "_________________________________________________________________\n"
          ]
        },
        {
          "output_type": "stream",
          "name": "stderr",
          "text": [
            "WARNING:absl:`lr` is deprecated in Keras optimizer, please use `learning_rate` or use the legacy optimizer, e.g.,tf.keras.optimizers.legacy.RMSprop.\n"
          ]
        },
        {
          "output_type": "stream",
          "name": "stdout",
          "text": [
            "Epoch 1/20\n",
            "44/44 [==============================] - 5s 52ms/step - loss: 0.5934 - accuracy: 0.1546 - val_loss: 0.6358 - val_accuracy: 0.0384\n",
            "Epoch 2/20\n",
            "44/44 [==============================] - 2s 42ms/step - loss: 0.4946 - accuracy: 0.2520 - val_loss: 0.6408 - val_accuracy: 0.0384\n",
            "Epoch 3/20\n",
            "44/44 [==============================] - 2s 44ms/step - loss: 0.4554 - accuracy: 0.2806 - val_loss: 0.7226 - val_accuracy: 0.0684\n",
            "Epoch 4/20\n",
            "44/44 [==============================] - 2s 44ms/step - loss: 0.4346 - accuracy: 0.2799 - val_loss: 0.7963 - val_accuracy: 0.0684\n",
            "Epoch 5/20\n",
            "44/44 [==============================] - 3s 72ms/step - loss: 0.4182 - accuracy: 0.2663 - val_loss: 0.7648 - val_accuracy: 0.0835\n",
            "Epoch 6/20\n",
            "44/44 [==============================] - 2s 53ms/step - loss: 0.4004 - accuracy: 0.2706 - val_loss: 0.7697 - val_accuracy: 0.0968\n",
            "Epoch 7/20\n",
            "44/44 [==============================] - 2s 41ms/step - loss: 0.3909 - accuracy: 0.2978 - val_loss: 0.7783 - val_accuracy: 0.1302\n",
            "Epoch 8/20\n",
            "44/44 [==============================] - 2s 41ms/step - loss: 0.3780 - accuracy: 0.3006 - val_loss: 0.7219 - val_accuracy: 0.1669\n",
            "Epoch 9/20\n",
            "44/44 [==============================] - 2s 41ms/step - loss: 0.3740 - accuracy: 0.3214 - val_loss: 0.7780 - val_accuracy: 0.1686\n",
            "Epoch 10/20\n",
            "44/44 [==============================] - 2s 45ms/step - loss: 0.3636 - accuracy: 0.2963 - val_loss: 0.5309 - val_accuracy: 0.3005\n",
            "Epoch 11/20\n",
            "44/44 [==============================] - 3s 59ms/step - loss: 0.3537 - accuracy: 0.2992 - val_loss: 0.4383 - val_accuracy: 0.3255\n",
            "Epoch 12/20\n",
            "44/44 [==============================] - 3s 62ms/step - loss: 0.3473 - accuracy: 0.3021 - val_loss: 0.4186 - val_accuracy: 0.3289\n",
            "Epoch 13/20\n",
            "44/44 [==============================] - 2s 41ms/step - loss: 0.3440 - accuracy: 0.3006 - val_loss: 0.4008 - val_accuracy: 0.2871\n",
            "Epoch 14/20\n",
            "44/44 [==============================] - 2s 44ms/step - loss: 0.3380 - accuracy: 0.2956 - val_loss: 0.3970 - val_accuracy: 0.3088\n",
            "Epoch 15/20\n",
            "44/44 [==============================] - 2s 44ms/step - loss: 0.3246 - accuracy: 0.3042 - val_loss: 0.3958 - val_accuracy: 0.3022\n",
            "Epoch 16/20\n",
            "44/44 [==============================] - 2s 43ms/step - loss: 0.3226 - accuracy: 0.3092 - val_loss: 0.3567 - val_accuracy: 0.2721\n",
            "Epoch 17/20\n",
            "44/44 [==============================] - 2s 42ms/step - loss: 0.3240 - accuracy: 0.3092 - val_loss: 0.3548 - val_accuracy: 0.3055\n",
            "Epoch 18/20\n",
            "44/44 [==============================] - 4s 81ms/step - loss: 0.3120 - accuracy: 0.3064 - val_loss: 0.3528 - val_accuracy: 0.2471\n",
            "Epoch 19/20\n",
            "44/44 [==============================] - 2s 43ms/step - loss: 0.3039 - accuracy: 0.2878 - val_loss: 0.3506 - val_accuracy: 0.2554\n",
            "Epoch 20/20\n",
            "44/44 [==============================] - 2s 44ms/step - loss: 0.3064 - accuracy: 0.2899 - val_loss: 0.3569 - val_accuracy: 0.2487\n"
          ]
        }
      ]
    },
    {
      "cell_type": "code",
      "source": [
        "import matplotlib.pyplot as plt\n",
        "#plot the training and validation accuracy and loss at each epoch\n",
        "loss = history.history['loss']\n",
        "val_loss = history.history['val_loss']\n",
        "epochs = range(1, len(loss) + 1)\n",
        "plt.plot(epochs, loss, 'y', label='Training loss')\n",
        "plt.plot(epochs, val_loss, 'r', label='Validation loss')\n",
        "plt.title('Training and validation loss')\n",
        "plt.xlabel('Epochs')\n",
        "plt.ylabel('Loss')\n",
        "plt.legend()\n",
        "plt.show()\n",
        "\n",
        "\n",
        "accuracy = history.history['accuracy']\n",
        "val_accuracy = history.history['val_accuracy']\n",
        "plt.plot(epochs, accuracy, 'y', label='Training accuracy')\n",
        "plt.plot(epochs, val_accuracy, 'r', label='Validation accuracy')\n",
        "plt.title('Training and validation accuracy')\n",
        "plt.xlabel('Epochs')\n",
        "plt.ylabel('Accuracy')\n",
        "plt.legend()\n",
        "plt.show()"
      ],
      "metadata": {
        "colab": {
          "base_uri": "https://localhost:8080/",
          "height": 927
        },
        "id": "dmGjzrOmQ1vx",
        "outputId": "79d8ad14-bff7-4721-b95f-ae968d84cbd2"
      },
      "execution_count": null,
      "outputs": [
        {
          "output_type": "display_data",
          "data": {
            "text/plain": [
              "<Figure size 640x480 with 1 Axes>"
            ],
            "image/png": "[encoded data removed]"
          },
          "metadata": {}
        },
        {
          "output_type": "display_data",
          "data": {
            "text/plain": [
              "<Figure size 640x480 with 1 Axes>"
            ],
            "image/png": "[encoded data removed]"
          },
          "metadata": {}
        }
      ]
    },
    {
      "cell_type": "markdown",
      "source": [
        "**Using Transfer Learning**"
      ],
      "metadata": {
        "id": "_HiuX4tZhYer"
      }
    },
    {
      "cell_type": "code",
      "source": [
        "from keras.applications.vgg16 import VGG16"
      ],
      "metadata": {
        "id": "Bsg8ZDhzfcgZ"
      },
      "execution_count": null,
      "outputs": []
    },
    {
      "cell_type": "code",
      "source": [
        "conv_base = VGG16(\n",
        "    weights='imagenet',\n",
        "    include_top = False,\n",
        "    input_shape=(150,150,3)\n",
        ")"
      ],
      "metadata": {
        "colab": {
          "base_uri": "https://localhost:8080/"
        },
        "id": "QBhuwCy3fhiA",
        "outputId": "10ddcf99-7ab6-41a4-ee41-9d76e06e7ed7"
      },
      "execution_count": null,
      "outputs": [
        {
          "output_type": "stream",
          "name": "stdout",
          "text": [
            "Downloading data from https://storage.googleapis.com/tensorflow/keras-applications/vgg16/vgg16_weights_tf_dim_ordering_tf_kernels_notop.h5\n",
            "58889256/58889256 [==============================] - 0s 0us/step\n"
          ]
        }
      ]
    },
    {
      "cell_type": "code",
      "source": [
        "conv_base.summary()"
      ],
      "metadata": {
        "colab": {
          "base_uri": "https://localhost:8080/"
        },
        "id": "wCW_n5LIfodT",
        "outputId": "cc55030b-8177-4b7d-8766-35a0b0a559a9"
      },
      "execution_count": null,
      "outputs": [
        {
          "output_type": "stream",
          "name": "stdout",
          "text": [
            "Model: \"vgg16\"\n",
            "_________________________________________________________________\n",
            " Layer (type)                Output Shape              Param #   \n",
            "=================================================================\n",
            " input_1 (InputLayer)        [(None, 150, 150, 3)]     0         \n",
            "                                                                 \n",
            " block1_conv1 (Conv2D)       (None, 150, 150, 64)      1792      \n",
            "                                                                 \n",
            " block1_conv2 (Conv2D)       (None, 150, 150, 64)      36928     \n",
            "                                                                 \n",
            " block1_pool (MaxPooling2D)  (None, 75, 75, 64)        0         \n",
            "                                                                 \n",
            " block2_conv1 (Conv2D)       (None, 75, 75, 128)       73856     \n",
            "                                                                 \n",
            " block2_conv2 (Conv2D)       (None, 75, 75, 128)       147584    \n",
            "                                                                 \n",
            " block2_pool (MaxPooling2D)  (None, 37, 37, 128)       0         \n",
            "                                                                 \n",
            " block3_conv1 (Conv2D)       (None, 37, 37, 256)       295168    \n",
            "                                                                 \n",
            " block3_conv2 (Conv2D)       (None, 37, 37, 256)       590080    \n",
            "                                                                 \n",
            " block3_conv3 (Conv2D)       (None, 37, 37, 256)       590080    \n",
            "                                                                 \n",
            " block3_pool (MaxPooling2D)  (None, 18, 18, 256)       0         \n",
            "                                                                 \n",
            " block4_conv1 (Conv2D)       (None, 18, 18, 512)       1180160   \n",
            "                                                                 \n",
            " block4_conv2 (Conv2D)       (None, 18, 18, 512)       2359808   \n",
            "                                                                 \n",
            " block4_conv3 (Conv2D)       (None, 18, 18, 512)       2359808   \n",
            "                                                                 \n",
            " block4_pool (MaxPooling2D)  (None, 9, 9, 512)         0         \n",
            "                                                                 \n",
            " block5_conv1 (Conv2D)       (None, 9, 9, 512)         2359808   \n",
            "                                                                 \n",
            " block5_conv2 (Conv2D)       (None, 9, 9, 512)         2359808   \n",
            "                                                                 \n",
            " block5_conv3 (Conv2D)       (None, 9, 9, 512)         2359808   \n",
            "                                                                 \n",
            " block5_pool (MaxPooling2D)  (None, 4, 4, 512)         0         \n",
            "                                                                 \n",
            "=================================================================\n",
            "Total params: 14,714,688\n",
            "Trainable params: 14,714,688\n",
            "Non-trainable params: 0\n",
            "_________________________________________________________________\n"
          ]
        }
      ]
    },
    {
      "cell_type": "code",
      "source": [
        "model2 = Sequential()\n",
        "\n",
        "model2.add(conv_base)\n",
        "model2.add(Flatten())\n",
        "model2.add(Dense(256,activation='relu'))\n",
        "model2.add(Dense(11,activation='sigmoid'))"
      ],
      "metadata": {
        "id": "07rgMRXefpr5"
      },
      "execution_count": null,
      "outputs": []
    },
    {
      "cell_type": "code",
      "source": [
        "model2.summary()"
      ],
      "metadata": {
        "colab": {
          "base_uri": "https://localhost:8080/"
        },
        "id": "IFLHZvxxfwzg",
        "outputId": "477f7210-0412-411b-d230-095b66b8ed3f"
      },
      "execution_count": null,
      "outputs": [
        {
          "output_type": "stream",
          "name": "stdout",
          "text": [
            "Model: \"sequential_1\"\n",
            "_________________________________________________________________\n",
            " Layer (type)                Output Shape              Param #   \n",
            "=================================================================\n",
            " vgg16 (Functional)          (None, 4, 4, 512)         14714688  \n",
            "                                                                 \n",
            " flatten_1 (Flatten)         (None, 8192)              0         \n",
            "                                                                 \n",
            " dense_3 (Dense)             (None, 256)               2097408   \n",
            "                                                                 \n",
            " dense_4 (Dense)             (None, 11)                2827      \n",
            "                                                                 \n",
            "=================================================================\n",
            "Total params: 16,814,923\n",
            "Trainable params: 16,814,923\n",
            "Non-trainable params: 0\n",
            "_________________________________________________________________\n"
          ]
        }
      ]
    },
    {
      "cell_type": "code",
      "source": [
        "conv_base.trainable = False"
      ],
      "metadata": {
        "id": "bmDU6TXHf93i"
      },
      "execution_count": null,
      "outputs": []
    },
    {
      "cell_type": "code",
      "source": [
        "model2.compile(optimizer='adam',loss='binary_crossentropy',metrics=['accuracy'])\n",
        "# model2.compile(\n",
        "#     optimizer=keras.optimizers.RMSprop(lr=1e-5),\n",
        "#     loss='binary_crossentropy',\n",
        "#     metrics=['accuracy']\n",
        "#   )\n"
      ],
      "metadata": {
        "id": "-z8ugQSRgCYJ"
      },
      "execution_count": null,
      "outputs": []
    },
    {
      "cell_type": "code",
      "source": [
        "history = model.fit(x_train, y_train, epochs=10, validation_data=(x_test, y_test), batch_size=32)"
      ],
      "metadata": {
        "colab": {
          "base_uri": "https://localhost:8080/"
        },
        "id": "Bkq821Qjg074",
        "outputId": "f863a7d9-ce05-49da-9202-e7dfe99228fa"
      },
      "execution_count": null,
      "outputs": [
        {
          "output_type": "stream",
          "name": "stdout",
          "text": [
            "Epoch 1/10\n",
            "44/44 [==============================] - 3s 68ms/step - loss: 0.3028 - accuracy: 0.2856 - val_loss: 0.3521 - val_accuracy: 0.2287\n",
            "Epoch 2/10\n",
            "44/44 [==============================] - 2s 54ms/step - loss: 0.2935 - accuracy: 0.2921 - val_loss: 0.3556 - val_accuracy: 0.2588\n",
            "Epoch 3/10\n",
            "44/44 [==============================] - 2s 43ms/step - loss: 0.2931 - accuracy: 0.2906 - val_loss: 0.3474 - val_accuracy: 0.2721\n",
            "Epoch 4/10\n",
            "44/44 [==============================] - 2s 44ms/step - loss: 0.2868 - accuracy: 0.2892 - val_loss: 0.3534 - val_accuracy: 0.2721\n",
            "Epoch 5/10\n",
            "44/44 [==============================] - 2s 40ms/step - loss: 0.2832 - accuracy: 0.2906 - val_loss: 0.3586 - val_accuracy: 0.2654\n",
            "Epoch 6/10\n",
            "44/44 [==============================] - 2s 40ms/step - loss: 0.2778 - accuracy: 0.2921 - val_loss: 0.3600 - val_accuracy: 0.2588\n",
            "Epoch 7/10\n",
            "44/44 [==============================] - 2s 49ms/step - loss: 0.2717 - accuracy: 0.2742 - val_loss: 0.3618 - val_accuracy: 0.2571\n",
            "Epoch 8/10\n",
            "44/44 [==============================] - 3s 69ms/step - loss: 0.2730 - accuracy: 0.2792 - val_loss: 0.3555 - val_accuracy: 0.2521\n",
            "Epoch 9/10\n",
            "44/44 [==============================] - 2s 42ms/step - loss: 0.2731 - accuracy: 0.2649 - val_loss: 0.3582 - val_accuracy: 0.2588\n",
            "Epoch 10/10\n",
            "44/44 [==============================] - 2s 44ms/step - loss: 0.2623 - accuracy: 0.2842 - val_loss: 0.3592 - val_accuracy: 0.2321\n"
          ]
        }
      ]
    },
    {
      "cell_type": "code",
      "source": [
        "import matplotlib.pyplot as plt\n",
        "\n",
        "plt.plot(history.history['accuracy'],color='red',label='train')\n",
        "plt.plot(history.history['val_accuracy'],color='blue',label='validation')\n",
        "plt.legend()\n",
        "plt.show()"
      ],
      "metadata": {
        "colab": {
          "base_uri": "https://localhost:8080/",
          "height": 430
        },
        "id": "xjXDVZbchACK",
        "outputId": "8a63f417-26a0-465e-aa0f-8d9ed38a24ad"
      },
      "execution_count": null,
      "outputs": [
        {
          "output_type": "display_data",
          "data": {
            "text/plain": [
              "<Figure size 640x480 with 1 Axes>"
            ],
            "image/png": "[encoded data removed]"
          },
          "metadata": {}
        }
      ]
    },
    {
      "cell_type": "markdown",
      "source": [
        "**Using Data Augmentation + Transfer Learning**"
      ],
      "metadata": {
        "id": "EIobAhmGhhDP"
      }
    },
    {
      "cell_type": "code",
      "source": [
        "from keras.preprocessing.image import ImageDataGenerator"
      ],
      "metadata": {
        "id": "b0DDJi98hv_d"
      },
      "execution_count": null,
      "outputs": []
    },
    {
      "cell_type": "code",
      "source": [
        "# Define your data augmentation parameters\n",
        "datagen = ImageDataGenerator(\n",
        "    rotation_range=5, # randomly rotate images by up to 20 degrees\n",
        "    width_shift_range=0.03, # randomly shift images horizontally by up to 10%\n",
        "    height_shift_range=0.03, # randomly shift images vertically by up to 10%\n",
        "    shear_range=0.5, # randomly shear images by up to 20%\n",
        "    zoom_range=0.5, # randomly zoom images by up to 20%\n",
        "    horizontal_flip=False, # dont flip images horizontally\n",
        "    vertical_flip=False, # don't flip images vertically\n",
        "    fill_mode='nearest' # fill any empty pixels with the nearest available pixel\n",
        ")"
      ],
      "metadata": {
        "id": "QC3xn5chiP9q"
      },
      "execution_count": null,
      "outputs": []
    },
    {
      "cell_type": "code",
      "source": [
        "datagen.fit(x_train)"
      ],
      "metadata": {
        "id": "w-TMVXUdi0Q6"
      },
      "execution_count": null,
      "outputs": []
    },
    {
      "cell_type": "code",
      "source": [
        "x_train.shape"
      ],
      "metadata": {
        "colab": {
          "base_uri": "https://localhost:8080/"
        },
        "id": "aEfk6TSgme4g",
        "outputId": "fe45f4da-9780-4312-e2f9-b4587f84a637"
      },
      "execution_count": null,
      "outputs": [
        {
          "output_type": "execute_result",
          "data": {
            "text/plain": [
              "(1397, 28, 28, 1)"
            ]
          },
          "metadata": {},
          "execution_count": 34
        }
      ]
    },
    {
      "cell_type": "code",
      "source": [
        "model.compile(\n",
        "    optimizer=keras.optimizers.RMSprop(lr=1e-5),\n",
        "    loss='binary_crossentropy',\n",
        "    metrics=['accuracy']\n",
        "  )\n",
        "\n",
        "\n",
        "history = model.fit(x_train, y_train, epochs=20, validation_data=(x_test, y_test), batch_size=32)"
      ],
      "metadata": {
        "colab": {
          "base_uri": "https://localhost:8080/"
        },
        "id": "vMZT2JYpm2YO",
        "outputId": "5d877ca1-8eba-4f87-c2a5-50830729880b"
      },
      "execution_count": null,
      "outputs": [
        {
          "output_type": "stream",
          "name": "stderr",
          "text": [
            "WARNING:absl:`lr` is deprecated in Keras optimizer, please use `learning_rate` or use the legacy optimizer, e.g.,tf.keras.optimizers.legacy.RMSprop.\n"
          ]
        },
        {
          "output_type": "stream",
          "name": "stdout",
          "text": [
            "Epoch 1/20\n",
            "44/44 [==============================] - 4s 47ms/step - loss: 0.2692 - accuracy: 0.2813 - val_loss: 0.3663 - val_accuracy: 0.2705\n",
            "Epoch 2/20\n",
            "44/44 [==============================] - 2s 43ms/step - loss: 0.2612 - accuracy: 0.2770 - val_loss: 0.3626 - val_accuracy: 0.2454\n",
            "Epoch 3/20\n",
            "44/44 [==============================] - 2s 47ms/step - loss: 0.2526 - accuracy: 0.2806 - val_loss: 0.3742 - val_accuracy: 0.2104\n",
            "Epoch 4/20\n",
            "44/44 [==============================] - 3s 70ms/step - loss: 0.2497 - accuracy: 0.2513 - val_loss: 0.3741 - val_accuracy: 0.2237\n",
            "Epoch 5/20\n",
            "44/44 [==============================] - 2s 44ms/step - loss: 0.2507 - accuracy: 0.2777 - val_loss: 0.3814 - val_accuracy: 0.2588\n",
            "Epoch 6/20\n",
            "44/44 [==============================] - 2s 43ms/step - loss: 0.2494 - accuracy: 0.2699 - val_loss: 0.3810 - val_accuracy: 0.2204\n",
            "Epoch 7/20\n",
            "44/44 [==============================] - 2s 43ms/step - loss: 0.2364 - accuracy: 0.2598 - val_loss: 0.3886 - val_accuracy: 0.2120\n",
            "Epoch 8/20\n",
            "44/44 [==============================] - 2s 44ms/step - loss: 0.2425 - accuracy: 0.2548 - val_loss: 0.3895 - val_accuracy: 0.2237\n",
            "Epoch 9/20\n",
            "44/44 [==============================] - 2s 44ms/step - loss: 0.2421 - accuracy: 0.2670 - val_loss: 0.3888 - val_accuracy: 0.2154\n",
            "Epoch 10/20\n",
            "44/44 [==============================] - 3s 66ms/step - loss: 0.2362 - accuracy: 0.2534 - val_loss: 0.3877 - val_accuracy: 0.2404\n",
            "Epoch 11/20\n",
            "44/44 [==============================] - 2s 51ms/step - loss: 0.2293 - accuracy: 0.2613 - val_loss: 0.3876 - val_accuracy: 0.2254\n",
            "Epoch 12/20\n",
            "44/44 [==============================] - 2s 43ms/step - loss: 0.2270 - accuracy: 0.2606 - val_loss: 0.3909 - val_accuracy: 0.2337\n",
            "Epoch 13/20\n",
            "44/44 [==============================] - 2s 44ms/step - loss: 0.2236 - accuracy: 0.2527 - val_loss: 0.3964 - val_accuracy: 0.2037\n",
            "Epoch 14/20\n",
            "44/44 [==============================] - 2s 44ms/step - loss: 0.2230 - accuracy: 0.2799 - val_loss: 0.3932 - val_accuracy: 0.2337\n",
            "Epoch 15/20\n",
            "44/44 [==============================] - 2s 44ms/step - loss: 0.2193 - accuracy: 0.2527 - val_loss: 0.4052 - val_accuracy: 0.2220\n",
            "Epoch 16/20\n",
            "44/44 [==============================] - 2s 53ms/step - loss: 0.2185 - accuracy: 0.2598 - val_loss: 0.3960 - val_accuracy: 0.2421\n",
            "Epoch 17/20\n",
            "44/44 [==============================] - 3s 66ms/step - loss: 0.2200 - accuracy: 0.2555 - val_loss: 0.4027 - val_accuracy: 0.2571\n",
            "Epoch 18/20\n",
            "44/44 [==============================] - 2s 41ms/step - loss: 0.2216 - accuracy: 0.2670 - val_loss: 0.4192 - val_accuracy: 0.2538\n",
            "Epoch 19/20\n",
            "44/44 [==============================] - 2s 43ms/step - loss: 0.2153 - accuracy: 0.2677 - val_loss: 0.4198 - val_accuracy: 0.2070\n",
            "Epoch 20/20\n",
            "44/44 [==============================] - 2s 39ms/step - loss: 0.2066 - accuracy: 0.2527 - val_loss: 0.4113 - val_accuracy: 0.2154\n"
          ]
        }
      ]
    },
    {
      "cell_type": "code",
      "source": [
        "model2.compile(\n",
        "    optimizer=keras.optimizers.RMSprop(lr=1e-5),\n",
        "    loss='binary_crossentropy',\n",
        "    metrics=['accuracy']\n",
        "  )\n",
        "\n",
        "\n",
        "history2 = model2.fit(x_train, y_train, epochs=10, validation_data=(x_test, y_test), batch_size=32)"
      ],
      "metadata": {
        "colab": {
          "base_uri": "https://localhost:8080/"
        },
        "id": "LxcZPL3UnWbq",
        "outputId": "96d6915e-7bc3-4b51-fadb-306fe7ac6e4e"
      },
      "execution_count": null,
      "outputs": [
        {
          "output_type": "stream",
          "name": "stderr",
          "text": [
            "WARNING:absl:`lr` is deprecated in Keras optimizer, please use `learning_rate` or use the legacy optimizer, e.g.,tf.keras.optimizers.legacy.RMSprop.\n"
          ]
        },
        {
          "output_type": "stream",
          "name": "stdout",
          "text": [
            "Epoch 1/10\n",
            "44/44 [==============================] - 2s 41ms/step - loss: 0.2031 - accuracy: 0.2570 - val_loss: 0.4153 - val_accuracy: 0.1920\n",
            "Epoch 2/10\n",
            "44/44 [==============================] - 2s 43ms/step - loss: 0.2122 - accuracy: 0.2513 - val_loss: 0.4092 - val_accuracy: 0.1953\n",
            "Epoch 3/10\n",
            "44/44 [==============================] - 2s 43ms/step - loss: 0.1994 - accuracy: 0.2577 - val_loss: 0.4158 - val_accuracy: 0.2170\n",
            "Epoch 4/10\n",
            "44/44 [==============================] - 2s 40ms/step - loss: 0.1965 - accuracy: 0.2541 - val_loss: 0.4245 - val_accuracy: 0.2137\n",
            "Epoch 5/10\n",
            "44/44 [==============================] - 2s 41ms/step - loss: 0.1958 - accuracy: 0.2491 - val_loss: 0.4346 - val_accuracy: 0.1937\n",
            "Epoch 6/10\n",
            "44/44 [==============================] - 3s 60ms/step - loss: 0.1993 - accuracy: 0.2527 - val_loss: 0.4280 - val_accuracy: 0.2120\n",
            "Epoch 7/10\n",
            "44/44 [==============================] - 3s 58ms/step - loss: 0.2023 - accuracy: 0.2362 - val_loss: 0.4309 - val_accuracy: 0.2037\n",
            "Epoch 8/10\n",
            "44/44 [==============================] - 2s 40ms/step - loss: 0.2008 - accuracy: 0.2384 - val_loss: 0.4331 - val_accuracy: 0.2170\n",
            "Epoch 9/10\n",
            "44/44 [==============================] - 2s 40ms/step - loss: 0.1955 - accuracy: 0.2470 - val_loss: 0.4361 - val_accuracy: 0.2137\n",
            "Epoch 10/10\n",
            "44/44 [==============================] - 2s 43ms/step - loss: 0.1891 - accuracy: 0.2491 - val_loss: 0.4249 - val_accuracy: 0.1970\n"
          ]
        }
      ]
    },
    {
      "cell_type": "code",
      "source": [
        "import matplotlib.pyplot as plt\n",
        "\n",
        "plt.plot(history.history['accuracy'],color='red',label='train')\n",
        "plt.plot(history.history['val_accuracy'],color='blue',label='validation')\n",
        "plt.legend()\n",
        "plt.show()"
      ],
      "metadata": {
        "colab": {
          "base_uri": "https://localhost:8080/",
          "height": 430
        },
        "id": "6Cwo2zuPn_Qe",
        "outputId": "40e6081b-c59f-479c-f6cb-a4cd7380ec3f"
      },
      "execution_count": null,
      "outputs": [
        {
          "output_type": "display_data",
          "data": {
            "text/plain": [
              "<Figure size 640x480 with 1 Axes>"
            ],
            "image/png": "[encoded data removed]"
          },
          "metadata": {}
        }
      ]
    },
    {
      "cell_type": "markdown",
      "source": [
        "### Using Xception model(Transfer Learning) with Softmax at the last Layer and Focal Loss, GlobalAveragePooling instead of MAXpooling, SGD optimizer"
      ],
      "metadata": {
        "id": "JmSXTegq2yxq"
      }
    },
    {
      "cell_type": "code",
      "source": [
        "import cv2\n",
        "import os\n",
        "import numpy as np\n",
        "input_folder = '/content/drive/My Drive/images'\n",
        "output_folder = '/content/drive/My Drive/Xception preprocessed images'"
      ],
      "metadata": {
        "id": "JPwXlMjz6oUz"
      },
      "execution_count": null,
      "outputs": []
    },
    {
      "cell_type": "code",
      "source": [
        "for filename in os.listdir(input_folder):\n",
        "    img = cv2.imread(os.path.join(input_folder,filename), cv2.IMREAD_GRAYSCALE)\n",
        "    img = cv2.cvtColor(img, cv2.COLOR_GRAY2RGB)\n",
        "    resized_img = cv2.resize(img, (224, 224))\n",
        "    cv2.imwrite(os.path.join(output_folder,filename), resized_img)"
      ],
      "metadata": {
        "id": "cqfhcrpb9rHk"
      },
      "execution_count": null,
      "outputs": []
    },
    {
      "cell_type": "code",
      "source": [
        "#preparing X\n",
        "#from tensorflow.keras.preprocessing.image.load_img import load_img\n",
        "X_dataset = []\n",
        "for i in tqdm(range(df.shape[0])):\n",
        "    img = tf.keras.utils.load_img(output_folder +'/'+df['filename'][i])\n",
        "    img =  tf.keras.utils.img_to_array(img)\n",
        "    img_norm = img.astype(np.float32) / 255.0\n",
        "    X_dataset.append(img_norm)\n",
        "X = np.array(X_dataset)"
      ],
      "metadata": {
        "colab": {
          "base_uri": "https://localhost:8080/"
        },
        "outputId": "68694d5b-e44f-466d-a3f0-3890fd547b7f",
        "id": "7Vhn6q107Hz8"
      },
      "execution_count": null,
      "outputs": [
        {
          "output_type": "stream",
          "name": "stderr",
          "text": [
            "100%|██████████| 1996/1996 [00:04<00:00, 466.43it/s]\n"
          ]
        }
      ]
    },
    {
      "cell_type": "code",
      "source": [
        "print(X.shape)"
      ],
      "metadata": {
        "colab": {
          "base_uri": "https://localhost:8080/"
        },
        "id": "XYHeQ5cM8rSi",
        "outputId": "b6f7406e-6f55-498e-ba03-091cca9759fb"
      },
      "execution_count": null,
      "outputs": [
        {
          "output_type": "stream",
          "name": "stdout",
          "text": [
            "(1996, 224, 224, 3)\n"
          ]
        }
      ]
    },
    {
      "cell_type": "code",
      "source": [
        "model11 = Sequential()\n",
        "model11.add(Conv2D(64, kernel_size = (3,3),activation='relu',input_shape=(28,28,1)))\n",
        "model11.add(Conv2D(64, kernel_size = (3,3),activation='relu'))\n",
        "model11.add(Conv2D(128, kernel_size = (3,3),activation='relu'))\n",
        "model11.add(Conv2D(256, kernel_size = (3,3),activation='relu'))\n",
        "model11.add(Conv2D(1024, kernel_size = (3,3),activation='relu'))\n",
        "model11.add(MaxPooling2D(pool_size=(2, 2)))\n",
        "model11.add(BatchNormalization())\n",
        "model11.add(Dropout(0.25))\n",
        "model11.add(Flatten())\n",
        "model11.add(Dense(512, activation='relu'))\n",
        "model11.add(BatchNormalization())\n",
        "model11.add(Dropout(0.5))\n",
        "model11.add(Dense(11, activation='softmax'))"
      ],
      "metadata": {
        "id": "5WEJ1_m9bivQ"
      },
      "execution_count": null,
      "outputs": []
    },
    {
      "cell_type": "code",
      "source": [
        "model11.compile(optimizer=keras.optimizers.Adam(learning_rate=1e-3), loss=keras.losses.categorical_crossentropy, metrics=['accuracy'])\n",
        "\n",
        "history = model11.fit(x_train, y_train, epochs=20, validation_data=(x_test, y_test), batch_size=32)"
      ],
      "metadata": {
        "colab": {
          "base_uri": "https://localhost:8080/"
        },
        "id": "rzHtbtefePHM",
        "outputId": "a51a9a46-c657-4f90-a010-f970c1ca5464"
      },
      "execution_count": null,
      "outputs": [
        {
          "output_type": "stream",
          "name": "stdout",
          "text": [
            "Epoch 1/20\n",
            "57/57 [==============================] - 20s 54ms/step - loss: 19.3074 - accuracy: 0.2684 - val_loss: 24.2185 - val_accuracy: 0.2550\n",
            "Epoch 2/20\n",
            "57/57 [==============================] - 2s 41ms/step - loss: 27.8070 - accuracy: 0.2533 - val_loss: 41.8671 - val_accuracy: 0.1950\n",
            "Epoch 3/20\n",
            "57/57 [==============================] - 2s 42ms/step - loss: 38.3817 - accuracy: 0.2622 - val_loss: 62.5967 - val_accuracy: 0.2150\n",
            "Epoch 4/20\n",
            "57/57 [==============================] - 2s 40ms/step - loss: 46.5522 - accuracy: 0.2628 - val_loss: 98.7311 - val_accuracy: 0.2400\n",
            "Epoch 5/20\n",
            "57/57 [==============================] - 2s 38ms/step - loss: 56.5254 - accuracy: 0.2795 - val_loss: 108.9924 - val_accuracy: 0.1500\n",
            "Epoch 6/20\n",
            "57/57 [==============================] - 2s 38ms/step - loss: 68.2079 - accuracy: 0.2634 - val_loss: 132.0730 - val_accuracy: 0.1250\n",
            "Epoch 7/20\n",
            "57/57 [==============================] - 2s 38ms/step - loss: 83.6504 - accuracy: 0.2706 - val_loss: 214.4657 - val_accuracy: 0.1850\n",
            "Epoch 8/20\n",
            "57/57 [==============================] - 2s 38ms/step - loss: 92.2321 - accuracy: 0.2611 - val_loss: 225.6062 - val_accuracy: 0.2000\n",
            "Epoch 9/20\n",
            "57/57 [==============================] - 2s 41ms/step - loss: 106.3507 - accuracy: 0.2667 - val_loss: 187.8929 - val_accuracy: 0.2000\n",
            "Epoch 10/20\n",
            "57/57 [==============================] - 2s 40ms/step - loss: 121.7918 - accuracy: 0.2595 - val_loss: 190.1680 - val_accuracy: 0.2050\n",
            "Epoch 11/20\n",
            "57/57 [==============================] - 2s 40ms/step - loss: 133.0810 - accuracy: 0.2706 - val_loss: 239.0541 - val_accuracy: 0.1950\n",
            "Epoch 12/20\n",
            "57/57 [==============================] - 2s 38ms/step - loss: 150.6544 - accuracy: 0.2650 - val_loss: 189.9748 - val_accuracy: 0.1850\n",
            "Epoch 13/20\n",
            "57/57 [==============================] - 2s 38ms/step - loss: 165.8378 - accuracy: 0.2567 - val_loss: 228.9387 - val_accuracy: 0.2550\n",
            "Epoch 14/20\n",
            "57/57 [==============================] - 2s 38ms/step - loss: 180.4938 - accuracy: 0.2622 - val_loss: 209.4943 - val_accuracy: 0.1400\n",
            "Epoch 15/20\n",
            "57/57 [==============================] - 2s 40ms/step - loss: 192.9292 - accuracy: 0.2489 - val_loss: 262.9442 - val_accuracy: 0.2300\n",
            "Epoch 16/20\n",
            "57/57 [==============================] - 2s 40ms/step - loss: 209.2841 - accuracy: 0.2595 - val_loss: 239.6057 - val_accuracy: 0.2300\n",
            "Epoch 17/20\n",
            "57/57 [==============================] - 2s 38ms/step - loss: 224.3288 - accuracy: 0.2467 - val_loss: 277.3566 - val_accuracy: 0.2000\n",
            "Epoch 18/20\n",
            "57/57 [==============================] - 2s 38ms/step - loss: 237.7629 - accuracy: 0.2645 - val_loss: 274.2122 - val_accuracy: 0.1850\n",
            "Epoch 19/20\n",
            "57/57 [==============================] - 2s 38ms/step - loss: 257.6439 - accuracy: 0.2817 - val_loss: 336.9964 - val_accuracy: 0.2350\n",
            "Epoch 20/20\n",
            "57/57 [==============================] - 2s 43ms/step - loss: 282.2259 - accuracy: 0.2762 - val_loss: 296.0900 - val_accuracy: 0.1650\n"
          ]
        }
      ]
    },
    {
      "cell_type": "code",
      "source": [
        "score = model11.evaluate(x_test, y_test, verbose=0)\n",
        "print('Test loss:', score[0])\n",
        "print('Test accuracy:', score[1]*100,\"%\")"
      ],
      "metadata": {
        "id": "PlU7QH1meT2G"
      },
      "execution_count": null,
      "outputs": []
    },
    {
      "cell_type": "code",
      "source": [
        "from keras.applications.xception import Xception\n",
        "import tensorflow as tf\n",
        "from tensorflow.keras import backend as K\n",
        "\n",
        "base_model = Xception(weights='imagenet', include_top=False, input_shape=(224, 224, 3))"
      ],
      "metadata": {
        "colab": {
          "base_uri": "https://localhost:8080/"
        },
        "id": "snEF5_23wD2j",
        "outputId": "86d3ecc8-b30a-4241-87ec-12c52ac0a8a6"
      },
      "execution_count": null,
      "outputs": [
        {
          "output_type": "stream",
          "name": "stdout",
          "text": [
            "Downloading data from https://storage.googleapis.com/tensorflow/keras-applications/xception/xception_weights_tf_dim_ordering_tf_kernels_notop.h5\n",
            "83683744/83683744 [==============================] - 1s 0us/step\n"
          ]
        }
      ]
    },
    {
      "cell_type": "code",
      "source": [
        "from keras.models import Model\n",
        "from keras.layers import Dense, GlobalAveragePooling2D, Dropout\n",
        "\n",
        "x = base_model.output\n",
        "x = GlobalAveragePooling2D()(x)\n",
        "x = Dense(1024, activation='relu')(x)\n",
        "x = Dropout(0.15)(x)\n",
        "predictions = Dense(11, activation='softmax')(x)\n",
        "\n",
        "model = Model(inputs=base_model.input, outputs=predictions)"
      ],
      "metadata": {
        "id": "BCyeBAVTwRv6"
      },
      "execution_count": null,
      "outputs": []
    },
    {
      "cell_type": "code",
      "source": [
        "for layer in base_model.layers:\n",
        "    layer.trainable = False"
      ],
      "metadata": {
        "id": "-k7Npg9AwpvH"
      },
      "execution_count": null,
      "outputs": []
    },
    {
      "cell_type": "code",
      "source": [
        "def focal_loss1(gamma=2., alpha=.25):\n",
        "    def focal_loss_func(y_true, y_pred):\n",
        "        # Define epsilon to avoid dividing by zero\n",
        "        epsilon = K.epsilon()\n",
        "        # Define y_pred_clipped to avoid log(0) error\n",
        "        y_pred_clipped = K.clip(y_pred, epsilon, 1. - epsilon)\n",
        "        # Cast y_true to float32 to match y_pred_clipped's datatype\n",
        "        y_true = K.cast(y_true, K.floatx())\n",
        "        # Calculate cross entropy loss\n",
        "        cross_entropy_loss = -y_true * K.log(y_pred_clipped)\n",
        "        # Calculate weight factor\n",
        "        weight = alpha * y_true * K.pow((1 - y_pred_clipped), gamma)\n",
        "        # Calculate focal loss\n",
        "        focal_loss = weight * cross_entropy_loss\n",
        "        # Return the focal loss\n",
        "        return K.sum(focal_loss, axis=1)\n",
        "    return focal_loss_func\n"
      ],
      "metadata": {
        "id": "dZ2FbukwERg-"
      },
      "execution_count": null,
      "outputs": []
    },
    {
      "cell_type": "code",
      "source": [
        "from keras.optimizers import SGD\n",
        "\n",
        "sgd = SGD(lr=0.001, momentum=0.9)\n",
        "model.compile(optimizer=sgd, loss=focal_loss1(), metrics=['accuracy'])\n"
      ],
      "metadata": {
        "colab": {
          "base_uri": "https://localhost:8080/"
        },
        "id": "C2plG9Ycw5YN",
        "outputId": "14ac76da-f7ee-411c-f329-616e39ef84ca"
      },
      "execution_count": null,
      "outputs": [
        {
          "output_type": "stream",
          "name": "stderr",
          "text": [
            "/usr/local/lib/python3.9/dist-packages/keras/optimizers/legacy/gradient_descent.py:114: UserWarning: The `lr` argument is deprecated, use `learning_rate` instead.\n",
            "  super().__init__(name, **kwargs)\n"
          ]
        }
      ]
    },
    {
      "cell_type": "code",
      "source": [
        "x_train, x_test, y_train, y_test = train_test_split(X, Y, random_state=20, test_size = 0.10)\n",
        "x_train.shape"
      ],
      "metadata": {
        "colab": {
          "base_uri": "https://localhost:8080/"
        },
        "id": "Pa-l9OuhCRfB",
        "outputId": "d0707d1f-8597-44b8-a684-1b282c9e8583"
      },
      "execution_count": null,
      "outputs": [
        {
          "output_type": "execute_result",
          "data": {
            "text/plain": [
              "(1796, 224, 224, 3)"
            ]
          },
          "metadata": {},
          "execution_count": 42
        }
      ]
    },
    {
      "cell_type": "code",
      "source": [
        "history = model.fit(x_train, y_train, epochs=20, validation_data=(x_test, y_test), batch_size=32)"
      ],
      "metadata": {
        "colab": {
          "base_uri": "https://localhost:8080/"
        },
        "id": "euj4FrrExned",
        "outputId": "7c2dbdee-916f-4fc9-abc5-a116297bd51e"
      },
      "execution_count": null,
      "outputs": [
        {
          "output_type": "stream",
          "name": "stdout",
          "text": [
            "Epoch 1/20\n",
            "57/57 [==============================] - 25s 190ms/step - loss: 1.6092 - accuracy: 0.0713 - val_loss: 1.6183 - val_accuracy: 0.0550\n",
            "Epoch 2/20\n",
            "57/57 [==============================] - 9s 162ms/step - loss: 1.5480 - accuracy: 0.0841 - val_loss: 1.5770 - val_accuracy: 0.0850\n",
            "Epoch 3/20\n",
            "57/57 [==============================] - 9s 158ms/step - loss: 1.5174 - accuracy: 0.1013 - val_loss: 1.5482 - val_accuracy: 0.0700\n",
            "Epoch 4/20\n",
            "57/57 [==============================] - 9s 160ms/step - loss: 1.4906 - accuracy: 0.1141 - val_loss: 1.5274 - val_accuracy: 0.0750\n",
            "Epoch 5/20\n",
            "57/57 [==============================] - 9s 158ms/step - loss: 1.4725 - accuracy: 0.1281 - val_loss: 1.5089 - val_accuracy: 0.0900\n",
            "Epoch 6/20\n",
            "57/57 [==============================] - 9s 162ms/step - loss: 1.4608 - accuracy: 0.1247 - val_loss: 1.4963 - val_accuracy: 0.0750\n",
            "Epoch 7/20\n",
            "57/57 [==============================] - 9s 161ms/step - loss: 1.4465 - accuracy: 0.1359 - val_loss: 1.4839 - val_accuracy: 0.0850\n",
            "Epoch 8/20\n",
            "57/57 [==============================] - 9s 161ms/step - loss: 1.4352 - accuracy: 0.1537 - val_loss: 1.4740 - val_accuracy: 0.0900\n",
            "Epoch 9/20\n",
            "57/57 [==============================] - 9s 161ms/step - loss: 1.4233 - accuracy: 0.1476 - val_loss: 1.4639 - val_accuracy: 0.1300\n",
            "Epoch 10/20\n",
            "57/57 [==============================] - 9s 161ms/step - loss: 1.4160 - accuracy: 0.1514 - val_loss: 1.4563 - val_accuracy: 0.1150\n",
            "Epoch 11/20\n",
            "57/57 [==============================] - 9s 163ms/step - loss: 1.4034 - accuracy: 0.1598 - val_loss: 1.4499 - val_accuracy: 0.1200\n",
            "Epoch 12/20\n",
            "57/57 [==============================] - 9s 163ms/step - loss: 1.3967 - accuracy: 0.1581 - val_loss: 1.4407 - val_accuracy: 0.1400\n",
            "Epoch 13/20\n",
            "57/57 [==============================] - 9s 163ms/step - loss: 1.3887 - accuracy: 0.1631 - val_loss: 1.4339 - val_accuracy: 0.1350\n",
            "Epoch 14/20\n",
            "57/57 [==============================] - 9s 163ms/step - loss: 1.3817 - accuracy: 0.1737 - val_loss: 1.4294 - val_accuracy: 0.1200\n",
            "Epoch 15/20\n",
            "57/57 [==============================] - 9s 156ms/step - loss: 1.3770 - accuracy: 0.1637 - val_loss: 1.4204 - val_accuracy: 0.1450\n",
            "Epoch 16/20\n",
            "57/57 [==============================] - 9s 155ms/step - loss: 1.3684 - accuracy: 0.1704 - val_loss: 1.4175 - val_accuracy: 0.1450\n",
            "Epoch 17/20\n",
            "57/57 [==============================] - 9s 154ms/step - loss: 1.3630 - accuracy: 0.1720 - val_loss: 1.4125 - val_accuracy: 0.1500\n",
            "Epoch 18/20\n",
            "57/57 [==============================] - 9s 155ms/step - loss: 1.3584 - accuracy: 0.1843 - val_loss: 1.4068 - val_accuracy: 0.1500\n",
            "Epoch 19/20\n",
            "57/57 [==============================] - 9s 155ms/step - loss: 1.3544 - accuracy: 0.1888 - val_loss: 1.4016 - val_accuracy: 0.1600\n",
            "Epoch 20/20\n",
            "57/57 [==============================] - 9s 161ms/step - loss: 1.3482 - accuracy: 0.1748 - val_loss: 1.3998 - val_accuracy: 0.1500\n"
          ]
        }
      ]
    },
    {
      "cell_type": "code",
      "source": [
        "import matplotlib.pyplot as plt\n",
        "\n",
        "plt.plot(history.history['accuracy'],color='red',label='train')\n",
        "plt.plot(history.history['val_accuracy'],color='blue',label='validation')\n",
        "plt.legend()\n",
        "plt.show()"
      ],
      "metadata": {
        "colab": {
          "base_uri": "https://localhost:8080/",
          "height": 430
        },
        "id": "ffdf7QMryGbR",
        "outputId": "3492e9b9-6661-49b3-eac9-1b303bda7f7b"
      },
      "execution_count": null,
      "outputs": [
        {
          "output_type": "display_data",
          "data": {
            "text/plain": [
              "<Figure size 640x480 with 1 Axes>"
            ],
            "image/png": "[encoded data removed]"
          },
          "metadata": {}
        }
      ]
    },
    {
      "cell_type": "markdown",
      "source": [
        "Using Softmax with the previous model"
      ],
      "metadata": {
        "id": "I5zdLJkMF3g2"
      }
    },
    {
      "cell_type": "code",
      "source": [
        "x_train, x_test, y_train, y_test = train_test_split(X1, Y, random_state=20, test_size = 0.10)\n",
        "x_train.shape"
      ],
      "metadata": {
        "colab": {
          "base_uri": "https://localhost:8080/"
        },
        "id": "rqo8dkU5GP9u",
        "outputId": "60159860-aa04-4041-aca8-eb46e060e9b7"
      },
      "execution_count": null,
      "outputs": [
        {
          "output_type": "execute_result",
          "data": {
            "text/plain": [
              "(1796, 28, 28, 1)"
            ]
          },
          "metadata": {},
          "execution_count": 53
        }
      ]
    },
    {
      "cell_type": "code",
      "source": [
        "model3 = Sequential()\n",
        "\n",
        "model3.add(Conv2D(filters=16, kernel_size=(3, 3), padding='same', activation=\"relu\", input_shape=(28,28,1)))\n",
        "model3.add(BatchNormalization())\n",
        "model3.add(MaxPooling2D(pool_size=(2, 2)))\n",
        "model3.add(Dropout(0.15))\n",
        "\n",
        "model3.add(Conv2D(filters=32, kernel_size=(3, 3), padding='same', activation='relu'))\n",
        "model3.add(MaxPooling2D(pool_size=(2, 2)))\n",
        "model3.add(BatchNormalization())\n",
        "model3.add(Dropout(0.15))\n",
        "\n",
        "model3.add(Conv2D(filters=64, kernel_size=(3, 3), padding='same', activation=\"relu\"))\n",
        "model3.add(MaxPooling2D(pool_size=(2, 2)))\n",
        "model3.add(BatchNormalization())\n",
        "model3.add(Dropout(0.12))\n",
        "\n",
        "model3.add(Conv2D(filters=64, kernel_size=(3, 3), padding='same', activation='relu'))\n",
        "model3.add(MaxPooling2D(pool_size=(2, 2)))\n",
        "model3.add(BatchNormalization())\n",
        "model3.add(Dropout(0.12))\n",
        "\n",
        "model3.add(Flatten())\n",
        "model3.add(Dense(1024, activation='relu'))\n",
        "model3.add(Dropout(0.1))\n",
        "model3.add(Dense(512, activation='relu'))\n",
        "model3.add(Dropout(0.1))\n",
        "model3.add(Dense(64, activation='relu'))\n",
        "model3.add(Dropout(0.1))\n",
        "model3.add(Dense(11, activation='softmax'))"
      ],
      "metadata": {
        "id": "WISzcmo_GT9n"
      },
      "execution_count": null,
      "outputs": []
    },
    {
      "cell_type": "code",
      "source": [
        "model3.summary()"
      ],
      "metadata": {
        "colab": {
          "base_uri": "https://localhost:8080/"
        },
        "id": "earsPGWhHRHB",
        "outputId": "2b7b31e2-35f0-4171-c1c0-38b79e720510"
      },
      "execution_count": null,
      "outputs": [
        {
          "output_type": "stream",
          "name": "stdout",
          "text": [
            "Model: \"sequential\"\n",
            "_________________________________________________________________\n",
            " Layer (type)                Output Shape              Param #   \n",
            "=================================================================\n",
            " conv2d_4 (Conv2D)           (None, 28, 28, 16)        160       \n",
            "                                                                 \n",
            " batch_normalization_4 (Batc  (None, 28, 28, 16)       64        \n",
            " hNormalization)                                                 \n",
            "                                                                 \n",
            " max_pooling2d (MaxPooling2D  (None, 14, 14, 16)       0         \n",
            " )                                                               \n",
            "                                                                 \n",
            " dropout_1 (Dropout)         (None, 14, 14, 16)        0         \n",
            "                                                                 \n",
            " conv2d_5 (Conv2D)           (None, 14, 14, 32)        4640      \n",
            "                                                                 \n",
            " max_pooling2d_1 (MaxPooling  (None, 7, 7, 32)         0         \n",
            " 2D)                                                             \n",
            "                                                                 \n",
            " batch_normalization_5 (Batc  (None, 7, 7, 32)         128       \n",
            " hNormalization)                                                 \n",
            "                                                                 \n",
            " dropout_2 (Dropout)         (None, 7, 7, 32)          0         \n",
            "                                                                 \n",
            " conv2d_6 (Conv2D)           (None, 7, 7, 64)          18496     \n",
            "                                                                 \n",
            " max_pooling2d_2 (MaxPooling  (None, 3, 3, 64)         0         \n",
            " 2D)                                                             \n",
            "                                                                 \n",
            " batch_normalization_6 (Batc  (None, 3, 3, 64)         256       \n",
            " hNormalization)                                                 \n",
            "                                                                 \n",
            " dropout_3 (Dropout)         (None, 3, 3, 64)          0         \n",
            "                                                                 \n",
            " conv2d_7 (Conv2D)           (None, 3, 3, 64)          36928     \n",
            "                                                                 \n",
            " max_pooling2d_3 (MaxPooling  (None, 1, 1, 64)         0         \n",
            " 2D)                                                             \n",
            "                                                                 \n",
            " batch_normalization_7 (Batc  (None, 1, 1, 64)         256       \n",
            " hNormalization)                                                 \n",
            "                                                                 \n",
            " dropout_4 (Dropout)         (None, 1, 1, 64)          0         \n",
            "                                                                 \n",
            " flatten (Flatten)           (None, 64)                0         \n",
            "                                                                 \n",
            " dense_2 (Dense)             (None, 1024)              66560     \n",
            "                                                                 \n",
            " dropout_5 (Dropout)         (None, 1024)              0         \n",
            "                                                                 \n",
            " dense_3 (Dense)             (None, 512)               524800    \n",
            "                                                                 \n",
            " dropout_6 (Dropout)         (None, 512)               0         \n",
            "                                                                 \n",
            " dense_4 (Dense)             (None, 64)                32832     \n",
            "                                                                 \n",
            " dropout_7 (Dropout)         (None, 64)                0         \n",
            "                                                                 \n",
            " dense_5 (Dense)             (None, 11)                715       \n",
            "                                                                 \n",
            "=================================================================\n",
            "Total params: 685,835\n",
            "Trainable params: 685,483\n",
            "Non-trainable params: 352\n",
            "_________________________________________________________________\n"
          ]
        }
      ]
    },
    {
      "cell_type": "code",
      "source": [
        "from keras.optimizers import SGD\n",
        "\n",
        "sgd = SGD(lr=0.001, momentum=0.9)\n",
        "model3.compile(optimizer=sgd, loss='binary_crossentropy', metrics=['accuracy'])"
      ],
      "metadata": {
        "colab": {
          "base_uri": "https://localhost:8080/"
        },
        "id": "SR8LbtV7HhV0",
        "outputId": "0835c5c3-85ee-49a6-c99b-34b695dc057e"
      },
      "execution_count": null,
      "outputs": [
        {
          "output_type": "stream",
          "name": "stderr",
          "text": [
            "/usr/local/lib/python3.9/dist-packages/keras/optimizers/legacy/gradient_descent.py:114: UserWarning: The `lr` argument is deprecated, use `learning_rate` instead.\n",
            "  super().__init__(name, **kwargs)\n"
          ]
        }
      ]
    },
    {
      "cell_type": "code",
      "source": [
        "history = model3.fit(x_train, y_train, epochs=20, validation_data=(x_test, y_test), batch_size=32)"
      ],
      "metadata": {
        "colab": {
          "base_uri": "https://localhost:8080/"
        },
        "id": "PaoEHZEDHcPS",
        "outputId": "8117eeb7-ce09-44de-9e54-e79e4dee3725"
      },
      "execution_count": null,
      "outputs": [
        {
          "output_type": "stream",
          "name": "stdout",
          "text": [
            "Epoch 1/20\n",
            "57/57 [==============================] - 4s 15ms/step - loss: 0.6763 - accuracy: 0.0880 - val_loss: 0.6812 - val_accuracy: 0.0350\n",
            "Epoch 2/20\n",
            "57/57 [==============================] - 0s 6ms/step - loss: 0.6494 - accuracy: 0.0735 - val_loss: 0.6599 - val_accuracy: 0.0350\n",
            "Epoch 3/20\n",
            "57/57 [==============================] - 0s 6ms/step - loss: 0.6290 - accuracy: 0.0713 - val_loss: 0.6390 - val_accuracy: 0.0350\n",
            "Epoch 4/20\n",
            "57/57 [==============================] - 0s 6ms/step - loss: 0.6155 - accuracy: 0.0635 - val_loss: 0.6241 - val_accuracy: 0.0350\n",
            "Epoch 5/20\n",
            "57/57 [==============================] - 0s 6ms/step - loss: 0.6043 - accuracy: 0.0668 - val_loss: 0.6153 - val_accuracy: 0.0350\n",
            "Epoch 6/20\n",
            "57/57 [==============================] - 0s 6ms/step - loss: 0.5943 - accuracy: 0.0674 - val_loss: 0.6096 - val_accuracy: 0.0350\n",
            "Epoch 7/20\n",
            "57/57 [==============================] - 0s 6ms/step - loss: 0.5879 - accuracy: 0.0718 - val_loss: 0.6051 - val_accuracy: 0.0350\n",
            "Epoch 8/20\n",
            "57/57 [==============================] - 0s 6ms/step - loss: 0.5826 - accuracy: 0.0768 - val_loss: 0.5985 - val_accuracy: 0.0350\n",
            "Epoch 9/20\n",
            "57/57 [==============================] - 0s 6ms/step - loss: 0.5772 - accuracy: 0.0785 - val_loss: 0.5913 - val_accuracy: 0.0750\n",
            "Epoch 10/20\n",
            "57/57 [==============================] - 0s 6ms/step - loss: 0.5700 - accuracy: 0.0869 - val_loss: 0.5816 - val_accuracy: 0.1100\n",
            "Epoch 11/20\n",
            "57/57 [==============================] - 0s 6ms/step - loss: 0.5643 - accuracy: 0.1002 - val_loss: 0.5710 - val_accuracy: 0.1350\n",
            "Epoch 12/20\n",
            "57/57 [==============================] - 0s 6ms/step - loss: 0.5586 - accuracy: 0.1186 - val_loss: 0.5596 - val_accuracy: 0.1500\n",
            "Epoch 13/20\n",
            "57/57 [==============================] - 0s 6ms/step - loss: 0.5541 - accuracy: 0.1158 - val_loss: 0.5502 - val_accuracy: 0.1450\n",
            "Epoch 14/20\n",
            "57/57 [==============================] - 0s 6ms/step - loss: 0.5478 - accuracy: 0.1325 - val_loss: 0.5410 - val_accuracy: 0.1350\n",
            "Epoch 15/20\n",
            "57/57 [==============================] - 0s 6ms/step - loss: 0.5419 - accuracy: 0.1314 - val_loss: 0.5328 - val_accuracy: 0.1500\n",
            "Epoch 16/20\n",
            "57/57 [==============================] - 0s 6ms/step - loss: 0.5356 - accuracy: 0.1448 - val_loss: 0.5252 - val_accuracy: 0.1700\n",
            "Epoch 17/20\n",
            "57/57 [==============================] - 0s 6ms/step - loss: 0.5324 - accuracy: 0.1542 - val_loss: 0.5184 - val_accuracy: 0.1650\n",
            "Epoch 18/20\n",
            "57/57 [==============================] - 0s 6ms/step - loss: 0.5265 - accuracy: 0.1481 - val_loss: 0.5127 - val_accuracy: 0.1700\n",
            "Epoch 19/20\n",
            "57/57 [==============================] - 0s 6ms/step - loss: 0.5217 - accuracy: 0.1542 - val_loss: 0.5065 - val_accuracy: 0.1750\n",
            "Epoch 20/20\n",
            "57/57 [==============================] - 0s 6ms/step - loss: 0.5191 - accuracy: 0.1542 - val_loss: 0.5005 - val_accuracy: 0.1750\n"
          ]
        }
      ]
    },
    {
      "cell_type": "code",
      "source": [],
      "metadata": {
        "id": "yE2cCTob5mVe"
      },
      "execution_count": null,
      "outputs": []
    }
  ]
}