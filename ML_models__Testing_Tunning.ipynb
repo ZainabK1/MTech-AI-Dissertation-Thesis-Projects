{
  "nbformat": 4,
  "nbformat_minor": 0,
  "metadata": {
    "colab": {
      "provenance": []
    },
    "kernelspec": {
      "name": "python3",
      "display_name": "Python 3"
    },
    "language_info": {
      "name": "python"
    },
    "accelerator": "GPU",
    "gpuClass": "standard"
  },
  "cells": [
    {
      "cell_type": "code",
      "execution_count": null,
      "metadata": {
        "id": "dUyazP3oIEa7"
      },
      "outputs": [],
      "source": [
        "# Import necessary libraries\n",
        "import numpy as np\n",
        "import pandas as pd\n",
        "import os\n",
        "from sklearn.ensemble import RandomForestClassifier\n",
        "from sklearn.model_selection import train_test_split\n",
        "from sklearn.metrics import accuracy_score, hamming_loss\n",
        "import tensorflow as tf\n",
        "from tqdm import tqdm"
      ]
    },
    {
      "cell_type": "code",
      "source": [
        "from google.colab import drive\n",
        "drive.mount('/content/drive')"
      ],
      "metadata": {
        "colab": {
          "base_uri": "https://localhost:8080/"
        },
        "id": "oaRyyRWgI1KU",
        "outputId": "c3f06a08-cd51-4920-e9a8-adfd1feaa766"
      },
      "execution_count": null,
      "outputs": [
        {
          "output_type": "stream",
          "name": "stdout",
          "text": [
            "Mounted at /content/drive\n"
          ]
        }
      ]
    },
    {
      "cell_type": "code",
      "source": [
        "# image_directory = \"/content/images/\"\n",
        "images = ('/content/drive/My Drive/images')\n",
        "\n",
        "\n",
        "df = pd.read_csv('/content/dataset.csv')\n",
        "print(df.head(5))\n",
        "print(df.columns)"
      ],
      "metadata": {
        "colab": {
          "base_uri": "https://localhost:8080/"
        },
        "id": "QPruu47LI36M",
        "outputId": "c921fcd2-6ab1-4735-b968-b27833fb3f44"
      },
      "execution_count": null,
      "outputs": [
        {
          "output_type": "stream",
          "name": "stdout",
          "text": [
            "  filename  Balanced  Crossbar  High Crossbar  Left Do Crossbar  \\\n",
            "0    0.png                   1              0                 0   \n",
            "1    1.png                   1              0                 0   \n",
            "2    2.png                   1              0                 0   \n",
            "3    3.png                   0              0                 0   \n",
            "4    4.png                   1              1                 0   \n",
            "\n",
            "   Short Length Crossbar  Down Sloping  Right Do Crossbar  Upsloping  \\\n",
            "0                      1             0                  0          0   \n",
            "1                      0             0                  1          1   \n",
            "2                      0             0                  0          1   \n",
            "3                      0             0                  1          0   \n",
            "4                      0             0                  0          0   \n",
            "\n",
            "   Lengthy Crossbar  Flat Crossbar  Low Crossbar  Medium Length Crossbar  \n",
            "0                 0              1             0                       0  \n",
            "1                 0              0             1                       1  \n",
            "2                 1              0             1                       0  \n",
            "3                 0              1             0                       0  \n",
            "4                 1              1             0                       0  \n",
            "Index(['filename', 'Balanced  Crossbar', 'High Crossbar', 'Left Do Crossbar',\n",
            "       'Short Length Crossbar', 'Down Sloping', 'Right Do Crossbar',\n",
            "       'Upsloping', 'Lengthy Crossbar', 'Flat Crossbar', 'Low Crossbar',\n",
            "       'Medium Length Crossbar'],\n",
            "      dtype='object')\n"
          ]
        }
      ]
    },
    {
      "cell_type": "code",
      "source": [
        "X_dataset = []\n",
        "for i in tqdm(range(df.shape[0])):\n",
        "    img = tf.keras.utils.load_img(images +'/'+df['filename'][i], tf.float32, color_mode='grayscale')\n",
        "    img =  tf.keras.utils.img_to_array(img)\n",
        "    img = img/255\n",
        "    X_dataset.append(img)\n",
        "X = np.array(X_dataset)"
      ],
      "metadata": {
        "colab": {
          "base_uri": "https://localhost:8080/"
        },
        "id": "Vxl6qa8bI68O",
        "outputId": "a4ee7f99-acc1-4b79-8468-42c4cdc0f4be"
      },
      "execution_count": null,
      "outputs": [
        {
          "output_type": "stream",
          "name": "stderr",
          "text": [
            "\r  0%|          | 0/1996 [00:00<?, ?it/s]/usr/local/lib/python3.9/dist-packages/keras/utils/image_utils.py:409: UserWarning: grayscale is deprecated. Please use color_mode = \"grayscale\"\n",
            "  warnings.warn(\n",
            "100%|██████████| 1996/1996 [18:53<00:00,  1.76it/s]\n"
          ]
        }
      ]
    },
    {
      "cell_type": "code",
      "source": [
        "Y = np.array(df.drop(['filename'], axis=1))"
      ],
      "metadata": {
        "id": "ctfUtFWHJE_P"
      },
      "execution_count": null,
      "outputs": []
    },
    {
      "cell_type": "code",
      "source": [
        "type(X)"
      ],
      "metadata": {
        "colab": {
          "base_uri": "https://localhost:8080/"
        },
        "id": "KdG2oEnqqqn_",
        "outputId": "ccab3217-cf86-4373-9948-c87edb2b3413"
      },
      "execution_count": null,
      "outputs": [
        {
          "output_type": "execute_result",
          "data": {
            "text/plain": [
              "numpy.ndarray"
            ]
          },
          "metadata": {},
          "execution_count": 6
        }
      ]
    },
    {
      "cell_type": "code",
      "source": [
        "print(X.shape)\n",
        "new_size = 784\n",
        "new_X = X.reshape(1996, new_size)\n",
        "print(new_X.shape)"
      ],
      "metadata": {
        "colab": {
          "base_uri": "https://localhost:8080/"
        },
        "id": "mdky13OGizpA",
        "outputId": "583097fb-9347-4959-cb9e-0aef8abf64c5"
      },
      "execution_count": null,
      "outputs": [
        {
          "output_type": "stream",
          "name": "stdout",
          "text": [
            "(1996, 28, 28, 1)\n",
            "(1996, 784)\n"
          ]
        }
      ]
    },
    {
      "cell_type": "code",
      "source": [
        "x_train, x_test, y_train, y_test = train_test_split(new_X, Y, random_state=42, test_size = 0.2)\n",
        "x_train.shape"
      ],
      "metadata": {
        "colab": {
          "base_uri": "https://localhost:8080/"
        },
        "id": "2v1Sib7EJKRq",
        "outputId": "37bcb47b-0ec4-4d55-ffb2-44d74a8c636d"
      },
      "execution_count": null,
      "outputs": [
        {
          "output_type": "execute_result",
          "data": {
            "text/plain": [
              "(1596, 784)"
            ]
          },
          "metadata": {},
          "execution_count": 7
        }
      ]
    },
    {
      "cell_type": "code",
      "source": [
        "y_train.shape"
      ],
      "metadata": {
        "colab": {
          "base_uri": "https://localhost:8080/"
        },
        "id": "DFmk8pBvPChG",
        "outputId": "f229e5bd-3f4e-44f5-cf40-5e56146e13d5"
      },
      "execution_count": null,
      "outputs": [
        {
          "output_type": "execute_result",
          "data": {
            "text/plain": [
              "(1596, 11)"
            ]
          },
          "metadata": {},
          "execution_count": 8
        }
      ]
    },
    {
      "cell_type": "code",
      "source": [
        "# Train the Random Forest Classifier\n",
        "clf = RandomForestClassifier(n_estimators=700, random_state=42)\n",
        "clf.fit(x_train, y_train)\n",
        "\n",
        "# Predict labels for the test data\n",
        "y_pred = clf.predict(x_test)\n",
        "\n",
        "# Calculate accuracy and hamming loss\n",
        "accuracy = accuracy_score(y_test, y_pred)\n",
        "# hamming_loss = hamming_loss(y_test, y_pred)\n",
        "\n",
        "print(\"Accuracy:\", accuracy)\n",
        "print(\"Hamming Loss:\", hamming_loss)\n"
      ],
      "metadata": {
        "colab": {
          "base_uri": "https://localhost:8080/"
        },
        "id": "mBFlRNp9ITUI",
        "outputId": "d7d70dde-795a-4b0f-bc5e-fe98309998f2"
      },
      "execution_count": null,
      "outputs": [
        {
          "output_type": "stream",
          "name": "stdout",
          "text": [
            "Accuracy: 0.125\n",
            "Hamming Loss: 0.19272727272727272\n"
          ]
        }
      ]
    },
    {
      "cell_type": "markdown",
      "source": [
        "# SVM"
      ],
      "metadata": {
        "id": "uRudiuVPw6Zv"
      }
    },
    {
      "cell_type": "code",
      "source": [
        "from sklearn.svm import SVC\n",
        "from sklearn.metrics import f1_score"
      ],
      "metadata": {
        "id": "55OPK5hfxBn1"
      },
      "execution_count": null,
      "outputs": []
    },
    {
      "cell_type": "code",
      "source": [
        "# Convert multi-label format of y into 1D array\n",
        "new_y_train = np.argmax(y_train, axis=1)\n",
        "new_y_test = np.argmax(y_test, axis=1)"
      ],
      "metadata": {
        "id": "Yf_uMDu2xX3S"
      },
      "execution_count": null,
      "outputs": []
    },
    {
      "cell_type": "code",
      "source": [
        "# Train the SVM classifier\n",
        "svm_classifier = SVC(kernel='linear', C=1, probability=True) # Linear kernel with regularization parameter C=1\n",
        "svm_classifier.fit(x_train, new_y_train)\n",
        "\n",
        "# Predict the labels of the test set\n",
        "y_pred = svm_classifier.predict(x_test)\n",
        "\n",
        "# Evaluate the classifier using F1 score\n",
        "f1score = f1_score(new_y_test, y_pred, average='weighted')\n",
        "print(\"F1 score: \", f1score)\n"
      ],
      "metadata": {
        "colab": {
          "base_uri": "https://localhost:8080/"
        },
        "id": "SFDcW9Arw8GA",
        "outputId": "8c23e9fb-c9c0-432c-8bd8-cb922638349e"
      },
      "execution_count": null,
      "outputs": [
        {
          "output_type": "stream",
          "name": "stdout",
          "text": [
            "F1 score:  0.45939027914249025\n"
          ]
        }
      ]
    },
    {
      "cell_type": "code",
      "source": [
        "#Accuracy\n",
        "accuracy = accuracy_score(new_y_test, y_pred)\n",
        "print(\"Accuracy:\", accuracy)"
      ],
      "metadata": {
        "colab": {
          "base_uri": "https://localhost:8080/"
        },
        "id": "tDIt3ASmyvV9",
        "outputId": "40390f0a-041f-4497-db67-e02797d0980e"
      },
      "execution_count": null,
      "outputs": [
        {
          "output_type": "stream",
          "name": "stdout",
          "text": [
            "Accuracy: 0.4725\n"
          ]
        }
      ]
    },
    {
      "cell_type": "markdown",
      "source": [
        "## Changing the RBF Kernel"
      ],
      "metadata": {
        "id": "W3MDOGFk1DjX"
      }
    },
    {
      "cell_type": "code",
      "source": [
        "svm = SVC(kernel='rbf')"
      ],
      "metadata": {
        "id": "0gMfE4io1Iaw"
      },
      "execution_count": null,
      "outputs": []
    },
    {
      "cell_type": "code",
      "source": [
        "svm.fit(x_train, new_y_train)\n",
        "\n",
        "# Predict the labels of the test set\n",
        "y_pred = svm.predict(x_test)"
      ],
      "metadata": {
        "id": "CBjJJUSh1Jp9"
      },
      "execution_count": null,
      "outputs": []
    },
    {
      "cell_type": "code",
      "source": [
        "#Accuracy\n",
        "accuracy = accuracy_score(new_y_test, y_pred)\n",
        "print(\"Accuracy:\", accuracy)"
      ],
      "metadata": {
        "colab": {
          "base_uri": "https://localhost:8080/"
        },
        "id": "TOIgn8dS2FF_",
        "outputId": "0f58ca00-fe71-407f-a5f2-820575db02bf"
      },
      "execution_count": null,
      "outputs": [
        {
          "output_type": "stream",
          "name": "stdout",
          "text": [
            "Accuracy: 0.575\n"
          ]
        }
      ]
    },
    {
      "cell_type": "markdown",
      "source": [],
      "metadata": {
        "id": "9xb9ww350Zi3"
      }
    },
    {
      "cell_type": "markdown",
      "source": [
        "## Changing the Sigmoid Kernel"
      ],
      "metadata": {
        "id": "3gsQhKlF40Uu"
      }
    },
    {
      "cell_type": "code",
      "source": [
        "svm = SVC(kernel='sigmoid')"
      ],
      "metadata": {
        "id": "e4RlVGZK431i"
      },
      "execution_count": null,
      "outputs": []
    },
    {
      "cell_type": "code",
      "source": [
        "svm.fit(x_train, new_y_train)\n",
        "\n",
        "# Predict the labels of the test set\n",
        "y_pred = svm.predict(x_test)"
      ],
      "metadata": {
        "id": "KGYeOH-P48X8"
      },
      "execution_count": null,
      "outputs": []
    },
    {
      "cell_type": "code",
      "source": [
        "#Accuracy\n",
        "accuracy = accuracy_score(new_y_test, y_pred)\n",
        "print(\"Accuracy:\", accuracy)"
      ],
      "metadata": {
        "colab": {
          "base_uri": "https://localhost:8080/"
        },
        "id": "YuqjSJ11499y",
        "outputId": "168d9cca-4cf9-4e5e-c437-47e1f3727e25"
      },
      "execution_count": null,
      "outputs": [
        {
          "output_type": "stream",
          "name": "stdout",
          "text": [
            "Accuracy: 0.5125\n"
          ]
        }
      ]
    },
    {
      "cell_type": "markdown",
      "source": [
        "### USING HYPER Parameter Tuning for SVM Algorithm"
      ],
      "metadata": {
        "id": "dHWzG5Cp5cc2"
      }
    },
    {
      "cell_type": "code",
      "source": [
        "from sklearn.model_selection import GridSearchCV"
      ],
      "metadata": {
        "id": "KhaljPUn56P4"
      },
      "execution_count": null,
      "outputs": []
    },
    {
      "cell_type": "code",
      "source": [
        "# Define the parameter grid for hyperparameter tuning\n",
        "param_grid = {\n",
        "    'C': [0.1, 1, 10],\n",
        "    'kernel': ['linear', 'rbf', 'sigmoid'],\n",
        "    'gamma': ['scale', 'auto']\n",
        "}\n",
        "\n",
        "# Create an SVM classifier\n",
        "svm = SVC()\n",
        "\n",
        "# Perform grid search to find the optimal hyperparameters\n",
        "grid_search = GridSearchCV(svm, param_grid, cv=5)\n",
        "grid_search.fit(x_train, new_y_train)"
      ],
      "metadata": {
        "colab": {
          "base_uri": "https://localhost:8080/",
          "height": 173
        },
        "id": "iJz2erE35k0E",
        "outputId": "24212a42-bb7d-457a-842c-df0652aa1745"
      },
      "execution_count": null,
      "outputs": [
        {
          "output_type": "stream",
          "name": "stderr",
          "text": [
            "/usr/local/lib/python3.9/dist-packages/sklearn/model_selection/_split.py:700: UserWarning: The least populated class in y has only 1 members, which is less than n_splits=5.\n",
            "  warnings.warn(\n"
          ]
        },
        {
          "output_type": "execute_result",
          "data": {
            "text/plain": [
              "GridSearchCV(cv=5, estimator=SVC(),\n",
              "             param_grid={'C': [0.1, 1, 10], 'gamma': ['scale', 'auto'],\n",
              "                         'kernel': ['linear', 'rbf', 'sigmoid']})"
            ],
            "text/html": [
              "<style>#sk-container-id-1 {color: black;background-color: white;}#sk-container-id-1 pre{padding: 0;}#sk-container-id-1 div.sk-toggleable {background-color: white;}#sk-container-id-1 label.sk-toggleable__label {cursor: pointer;display: block;width: 100%;margin-bottom: 0;padding: 0.3em;box-sizing: border-box;text-align: center;}#sk-container-id-1 label.sk-toggleable__label-arrow:before {content: \"▸\";float: left;margin-right: 0.25em;color: #696969;}#sk-container-id-1 label.sk-toggleable__label-arrow:hover:before {color: black;}#sk-container-id-1 div.sk-estimator:hover label.sk-toggleable__label-arrow:before {color: black;}#sk-container-id-1 div.sk-toggleable__content {max-height: 0;max-width: 0;overflow: hidden;text-align: left;background-color: #f0f8ff;}#sk-container-id-1 div.sk-toggleable__content pre {margin: 0.2em;color: black;border-radius: 0.25em;background-color: #f0f8ff;}#sk-container-id-1 input.sk-toggleable__control:checked~div.sk-toggleable__content {max-height: 200px;max-width: 100%;overflow: auto;}#sk-container-id-1 input.sk-toggleable__control:checked~label.sk-toggleable__label-arrow:before {content: \"▾\";}#sk-container-id-1 div.sk-estimator input.sk-toggleable__control:checked~label.sk-toggleable__label {background-color: #d4ebff;}#sk-container-id-1 div.sk-label input.sk-toggleable__control:checked~label.sk-toggleable__label {background-color: #d4ebff;}#sk-container-id-1 input.sk-hidden--visually {border: 0;clip: rect(1px 1px 1px 1px);clip: rect(1px, 1px, 1px, 1px);height: 1px;margin: -1px;overflow: hidden;padding: 0;position: absolute;width: 1px;}#sk-container-id-1 div.sk-estimator {font-family: monospace;background-color: #f0f8ff;border: 1px dotted black;border-radius: 0.25em;box-sizing: border-box;margin-bottom: 0.5em;}#sk-container-id-1 div.sk-estimator:hover {background-color: #d4ebff;}#sk-container-id-1 div.sk-parallel-item::after {content: \"\";width: 100%;border-bottom: 1px solid gray;flex-grow: 1;}#sk-container-id-1 div.sk-label:hover label.sk-toggleable__label {background-color: #d4ebff;}#sk-container-id-1 div.sk-serial::before {content: \"\";position: absolute;border-left: 1px solid gray;box-sizing: border-box;top: 0;bottom: 0;left: 50%;z-index: 0;}#sk-container-id-1 div.sk-serial {display: flex;flex-direction: column;align-items: center;background-color: white;padding-right: 0.2em;padding-left: 0.2em;position: relative;}#sk-container-id-1 div.sk-item {position: relative;z-index: 1;}#sk-container-id-1 div.sk-parallel {display: flex;align-items: stretch;justify-content: center;background-color: white;position: relative;}#sk-container-id-1 div.sk-item::before, #sk-container-id-1 div.sk-parallel-item::before {content: \"\";position: absolute;border-left: 1px solid gray;box-sizing: border-box;top: 0;bottom: 0;left: 50%;z-index: -1;}#sk-container-id-1 div.sk-parallel-item {display: flex;flex-direction: column;z-index: 1;position: relative;background-color: white;}#sk-container-id-1 div.sk-parallel-item:first-child::after {align-self: flex-end;width: 50%;}#sk-container-id-1 div.sk-parallel-item:last-child::after {align-self: flex-start;width: 50%;}#sk-container-id-1 div.sk-parallel-item:only-child::after {width: 0;}#sk-container-id-1 div.sk-dashed-wrapped {border: 1px dashed gray;margin: 0 0.4em 0.5em 0.4em;box-sizing: border-box;padding-bottom: 0.4em;background-color: white;}#sk-container-id-1 div.sk-label label {font-family: monospace;font-weight: bold;display: inline-block;line-height: 1.2em;}#sk-container-id-1 div.sk-label-container {text-align: center;}#sk-container-id-1 div.sk-container {/* jupyter's `normalize.less` sets `[hidden] { display: none; }` but bootstrap.min.css set `[hidden] { display: none !important; }` so we also need the `!important` here to be able to override the default hidden behavior on the sphinx rendered scikit-learn.org. See: https://github.com/scikit-learn/scikit-learn/issues/21755 */display: inline-block !important;position: relative;}#sk-container-id-1 div.sk-text-repr-fallback {display: none;}</style><div id=\"sk-container-id-1\" class=\"sk-top-container\"><div class=\"sk-text-repr-fallback\"><pre>GridSearchCV(cv=5, estimator=SVC(),\n",
              "             param_grid={&#x27;C&#x27;: [0.1, 1, 10], &#x27;gamma&#x27;: [&#x27;scale&#x27;, &#x27;auto&#x27;],\n",
              "                         &#x27;kernel&#x27;: [&#x27;linear&#x27;, &#x27;rbf&#x27;, &#x27;sigmoid&#x27;]})</pre><b>In a Jupyter environment, please rerun this cell to show the HTML representation or trust the notebook. <br />On GitHub, the HTML representation is unable to render, please try loading this page with nbviewer.org.</b></div><div class=\"sk-container\" hidden><div class=\"sk-item sk-dashed-wrapped\"><div class=\"sk-label-container\"><div class=\"sk-label sk-toggleable\"><input class=\"sk-toggleable__control sk-hidden--visually\" id=\"sk-estimator-id-1\" type=\"checkbox\" ><label for=\"sk-estimator-id-1\" class=\"sk-toggleable__label sk-toggleable__label-arrow\">GridSearchCV</label><div class=\"sk-toggleable__content\"><pre>GridSearchCV(cv=5, estimator=SVC(),\n",
              "             param_grid={&#x27;C&#x27;: [0.1, 1, 10], &#x27;gamma&#x27;: [&#x27;scale&#x27;, &#x27;auto&#x27;],\n",
              "                         &#x27;kernel&#x27;: [&#x27;linear&#x27;, &#x27;rbf&#x27;, &#x27;sigmoid&#x27;]})</pre></div></div></div><div class=\"sk-parallel\"><div class=\"sk-parallel-item\"><div class=\"sk-item\"><div class=\"sk-label-container\"><div class=\"sk-label sk-toggleable\"><input class=\"sk-toggleable__control sk-hidden--visually\" id=\"sk-estimator-id-2\" type=\"checkbox\" ><label for=\"sk-estimator-id-2\" class=\"sk-toggleable__label sk-toggleable__label-arrow\">estimator: SVC</label><div class=\"sk-toggleable__content\"><pre>SVC()</pre></div></div></div><div class=\"sk-serial\"><div class=\"sk-item\"><div class=\"sk-estimator sk-toggleable\"><input class=\"sk-toggleable__control sk-hidden--visually\" id=\"sk-estimator-id-3\" type=\"checkbox\" ><label for=\"sk-estimator-id-3\" class=\"sk-toggleable__label sk-toggleable__label-arrow\">SVC</label><div class=\"sk-toggleable__content\"><pre>SVC()</pre></div></div></div></div></div></div></div></div></div></div>"
            ]
          },
          "metadata": {},
          "execution_count": 40
        }
      ]
    },
    {
      "cell_type": "code",
      "source": [
        "# Print the optimal hyperparameters\n",
        "print('Optimal hyperparameters:', grid_search.best_params_)\n",
        "\n",
        "# Evaluate the performance of the classifier with the optimal hyperparameters\n",
        "svm = SVC(**grid_search.best_params_)\n",
        "svm.fit(x_train, new_y_train)\n",
        "y_pred = svm.predict(x_test)\n",
        "f1score = f1_score(new_y_test, y_pred, average='micro')\n",
        "print('F1 score:', f1score)"
      ],
      "metadata": {
        "colab": {
          "base_uri": "https://localhost:8080/"
        },
        "id": "05javcy850QX",
        "outputId": "cf4a9323-8330-4772-97eb-eedd96027b2e"
      },
      "execution_count": null,
      "outputs": [
        {
          "output_type": "stream",
          "name": "stdout",
          "text": [
            "Optimal hyperparameters: {'C': 1, 'gamma': 'scale', 'kernel': 'rbf'}\n",
            "F1 score: 0.575\n"
          ]
        }
      ]
    },
    {
      "cell_type": "markdown",
      "source": [
        "### Using Bagging with SVM"
      ],
      "metadata": {
        "id": "GFap4jeVanuz"
      }
    },
    {
      "cell_type": "code",
      "source": [
        "from sklearn.ensemble import BaggingClassifier\n",
        "from sklearn.svm import SVC\n",
        "\n",
        "# Initialize the base SVM classifier\n",
        "base_classifier = SVC(kernel='rbf', C=1, gamma='scale')\n",
        "\n",
        "# Initialize the bagging classifier with the base classifier\n",
        "bagging_classifier = BaggingClassifier(base_estimator=base_classifier, n_estimators=15)\n",
        "\n",
        "# Train the bagging classifier on the training data\n",
        "bagging_classifier.fit(x_train, new_y_train)\n",
        "\n",
        "# Make predictions on the test data\n",
        "y_pred = bagging_classifier.predict(x_test)\n"
      ],
      "metadata": {
        "colab": {
          "base_uri": "https://localhost:8080/"
        },
        "id": "R2znvxNdauHc",
        "outputId": "122bdd6c-9955-4364-f616-89064c57ee96"
      },
      "execution_count": null,
      "outputs": [
        {
          "output_type": "stream",
          "name": "stderr",
          "text": [
            "/usr/local/lib/python3.9/dist-packages/sklearn/ensemble/_base.py:166: FutureWarning: `base_estimator` was renamed to `estimator` in version 1.2 and will be removed in 1.4.\n",
            "  warnings.warn(\n"
          ]
        }
      ]
    },
    {
      "cell_type": "code",
      "source": [
        "f1score = f1_score(new_y_test, y_pred, average='micro')\n",
        "print('F1 score:', f1score)"
      ],
      "metadata": {
        "colab": {
          "base_uri": "https://localhost:8080/"
        },
        "id": "Ab-pP0S6a2XJ",
        "outputId": "4207b1da-c23b-49e8-b101-85b7cbca35ba"
      },
      "execution_count": null,
      "outputs": [
        {
          "output_type": "stream",
          "name": "stdout",
          "text": [
            "F1 score: 0.5725\n"
          ]
        }
      ]
    },
    {
      "cell_type": "code",
      "source": [
        "#Accuracy\n",
        "accuracy = accuracy_score(new_y_test, y_pred)\n",
        "print(\"Accuracy%:\", accuracy*100)"
      ],
      "metadata": {
        "colab": {
          "base_uri": "https://localhost:8080/"
        },
        "id": "kInk9Tuof8Ow",
        "outputId": "e589134f-e526-4b29-b3a4-4b2208fc174f"
      },
      "execution_count": null,
      "outputs": [
        {
          "output_type": "stream",
          "name": "stdout",
          "text": [
            "Accuracy%: 57.49999999999999\n"
          ]
        }
      ]
    },
    {
      "cell_type": "markdown",
      "source": [
        "## Using Boosting"
      ],
      "metadata": {
        "id": "Huu00xE3gSQp"
      }
    },
    {
      "cell_type": "code",
      "source": [
        "from sklearn.svm import SVC\n",
        "from sklearn.ensemble import AdaBoostClassifier\n",
        "from sklearn.metrics import classification_report\n",
        "\n",
        "# create a base SVM classifier with RBF kernel\n",
        "base_clf = SVC(kernel='rbf', C=1, gamma='scale', probability=True)\n",
        "\n",
        "# create an AdaBoost classifier with 50 weak SVM classifiers\n",
        "clf = AdaBoostClassifier(base_estimator=base_clf, n_estimators=50)\n",
        "\n",
        "# train the classifier on the training data\n",
        "clf.fit(x_train, new_y_train)\n",
        "\n",
        "# evaluate the performance on the test data\n",
        "y_pred = clf.predict(x_test)\n",
        "print(classification_report(new_y_test, y_pred))\n"
      ],
      "metadata": {
        "colab": {
          "base_uri": "https://localhost:8080/"
        },
        "id": "kGXqVuusgWeh",
        "outputId": "a959a31b-832f-4348-94eb-2ff4086f4c79"
      },
      "execution_count": null,
      "outputs": [
        {
          "output_type": "stream",
          "name": "stderr",
          "text": [
            "/usr/local/lib/python3.9/dist-packages/sklearn/ensemble/_base.py:166: FutureWarning: `base_estimator` was renamed to `estimator` in version 1.2 and will be removed in 1.4.\n",
            "  warnings.warn(\n"
          ]
        },
        {
          "output_type": "stream",
          "name": "stdout",
          "text": [
            "              precision    recall  f1-score   support\n",
            "\n",
            "           0       0.35      1.00      0.52       140\n",
            "           1       0.00      0.00      0.00        84\n",
            "           2       0.00      0.00      0.00        58\n",
            "           3       0.00      0.00      0.00        21\n",
            "           4       0.00      0.00      0.00        25\n",
            "           5       0.00      0.00      0.00        38\n",
            "           6       0.00      0.00      0.00         8\n",
            "           7       0.00      0.00      0.00         2\n",
            "           8       0.00      0.00      0.00        24\n",
            "\n",
            "    accuracy                           0.35       400\n",
            "   macro avg       0.04      0.11      0.06       400\n",
            "weighted avg       0.12      0.35      0.18       400\n",
            "\n"
          ]
        },
        {
          "output_type": "stream",
          "name": "stderr",
          "text": [
            "/usr/local/lib/python3.9/dist-packages/sklearn/metrics/_classification.py:1344: UndefinedMetricWarning: Precision and F-score are ill-defined and being set to 0.0 in labels with no predicted samples. Use `zero_division` parameter to control this behavior.\n",
            "  _warn_prf(average, modifier, msg_start, len(result))\n",
            "/usr/local/lib/python3.9/dist-packages/sklearn/metrics/_classification.py:1344: UndefinedMetricWarning: Precision and F-score are ill-defined and being set to 0.0 in labels with no predicted samples. Use `zero_division` parameter to control this behavior.\n",
            "  _warn_prf(average, modifier, msg_start, len(result))\n",
            "/usr/local/lib/python3.9/dist-packages/sklearn/metrics/_classification.py:1344: UndefinedMetricWarning: Precision and F-score are ill-defined and being set to 0.0 in labels with no predicted samples. Use `zero_division` parameter to control this behavior.\n",
            "  _warn_prf(average, modifier, msg_start, len(result))\n"
          ]
        }
      ]
    },
    {
      "cell_type": "code",
      "source": [
        "from sklearn.neighbors import KNeighborsClassifier\n",
        "from sklearn.model_selection import GridSearchCV\n",
        "from sklearn.metrics import classification_report\n",
        "\n",
        "# create a KNN classifier\n",
        "clf = KNeighborsClassifier()\n",
        "\n",
        "# define the hyperparameters to search over\n",
        "param_grid = {'n_neighbors': [3, 5, 7, 9], 'weights': ['uniform', 'distance'], 'p': [1, 2]}\n",
        "\n",
        "# create a grid search object\n",
        "grid = GridSearchCV(clf, param_grid, cv=5, scoring='f1_macro')\n",
        "\n",
        "# fit the grid search object to the training data\n",
        "grid.fit(x_train, new_y_train)\n",
        "\n",
        "# print the best hyperparameters found by grid search\n",
        "print(\"Best hyperparameters:\", grid.best_params_)\n",
        "\n",
        "# evaluate the performance on the test data using the best hyperparameters\n",
        "y_pred = grid.predict(x_test)\n",
        "print(classification_report(new_y_test, y_pred))\n"
      ],
      "metadata": {
        "colab": {
          "base_uri": "https://localhost:8080/"
        },
        "id": "D9L3GTyXnN8t",
        "outputId": "5fced44a-da40-41df-9b90-818f514345f8"
      },
      "execution_count": null,
      "outputs": [
        {
          "output_type": "stream",
          "name": "stderr",
          "text": [
            "/usr/local/lib/python3.9/dist-packages/sklearn/model_selection/_split.py:700: UserWarning: The least populated class in y has only 1 members, which is less than n_splits=5.\n",
            "  warnings.warn(\n"
          ]
        },
        {
          "output_type": "stream",
          "name": "stdout",
          "text": [
            "Best hyperparameters: {'n_neighbors': 7, 'p': 2, 'weights': 'distance'}\n",
            "              precision    recall  f1-score   support\n",
            "\n",
            "           0       0.53      0.69      0.60       140\n",
            "           1       0.59      0.61      0.60        84\n",
            "           2       0.62      0.55      0.58        58\n",
            "           3       0.25      0.24      0.24        21\n",
            "           4       0.00      0.00      0.00        25\n",
            "           5       0.65      0.68      0.67        38\n",
            "           6       0.00      0.00      0.00         8\n",
            "           7       0.00      0.00      0.00         2\n",
            "           8       0.00      0.00      0.00        24\n",
            "\n",
            "    accuracy                           0.53       400\n",
            "   macro avg       0.29      0.31      0.30       400\n",
            "weighted avg       0.47      0.53      0.50       400\n",
            "\n"
          ]
        },
        {
          "output_type": "stream",
          "name": "stderr",
          "text": [
            "/usr/local/lib/python3.9/dist-packages/sklearn/metrics/_classification.py:1344: UndefinedMetricWarning: Precision and F-score are ill-defined and being set to 0.0 in labels with no predicted samples. Use `zero_division` parameter to control this behavior.\n",
            "  _warn_prf(average, modifier, msg_start, len(result))\n",
            "/usr/local/lib/python3.9/dist-packages/sklearn/metrics/_classification.py:1344: UndefinedMetricWarning: Precision and F-score are ill-defined and being set to 0.0 in labels with no predicted samples. Use `zero_division` parameter to control this behavior.\n",
            "  _warn_prf(average, modifier, msg_start, len(result))\n",
            "/usr/local/lib/python3.9/dist-packages/sklearn/metrics/_classification.py:1344: UndefinedMetricWarning: Precision and F-score are ill-defined and being set to 0.0 in labels with no predicted samples. Use `zero_division` parameter to control this behavior.\n",
            "  _warn_prf(average, modifier, msg_start, len(result))\n"
          ]
        }
      ]
    },
    {
      "cell_type": "markdown",
      "source": [
        "## **Creating SVM for each Trait**"
      ],
      "metadata": {
        "id": "AtE_uMrScsvS"
      }
    },
    {
      "cell_type": "code",
      "source": [
        "import csv\n",
        "\n",
        "# initialize the lists to store the values\n",
        "y_t1 = []\n",
        "y_t2 = []\n",
        "y_t3 = []\n",
        "y_t4 = []\n",
        "y_t5 = []\n",
        "y_t6 = []\n",
        "y_t7 = []\n",
        "y_t8 = []\n",
        "y_t9 = []\n",
        "y_t10 = []\n",
        "y_t11 = []\n",
        "\n",
        "with open('/content/dataset.csv', 'r') as file:\n",
        "    reader = csv.reader(file)\n",
        "    # skip the first row (header)\n",
        "    next(reader)\n",
        "\n",
        "    # iterate through each row and extract the values from columns 2 to 12\n",
        "    for row in reader:\n",
        "        y_t1.append(float(row[1]))\n",
        "        y_t2.append(float(row[2]))\n",
        "        y_t3.append(float(row[3]))\n",
        "        y_t4.append(float(row[4]))\n",
        "        y_t5.append(float(row[5]))\n",
        "        y_t6.append(float(row[6]))\n",
        "        y_t7.append(float(row[7]))\n",
        "        y_t8.append(float(row[8]))\n",
        "        y_t9.append(float(row[9]))\n",
        "        y_t10.append(float(row[10]))\n",
        "        y_t11.append(float(row[11]))\n"
      ],
      "metadata": {
        "id": "eWcSNQXwczMp"
      },
      "execution_count": null,
      "outputs": []
    },
    {
      "cell_type": "code",
      "source": [
        "y_t3"
      ],
      "metadata": {
        "id": "cZ5s3GevhZIG"
      },
      "execution_count": null,
      "outputs": []
    },
    {
      "cell_type": "code",
      "source": [
        "# Code for classifier 1\n",
        "X_train, X_test, y_train, y_test = train_test_split(new_X, y_t1, test_size=.10, random_state=8)\n",
        "clf1 = SVC(kernel='rbf')\n",
        "clf1.fit(X_train, y_train)\n",
        "print(\"Classifier 1 accuracy: \", accuracy_score(clf1.predict(X_test), y_test))\n",
        "# Code for classifier 2\n",
        "X_train, X_test, y_train, y_test = train_test_split(new_X, y_t2, test_size=.10, random_state=8)\n",
        "clf2 = SVC(kernel='rbf')\n",
        "clf2.fit(X_train, y_train)\n",
        "print(\"Classifier 2 accuracy: \", accuracy_score(clf2.predict(X_test), y_test))\n",
        "\n",
        "# Code for classifier 3\n",
        "X_train, X_test, y_train, y_test = train_test_split(new_X, y_t3, test_size=.10, random_state=8)\n",
        "clf3 = SVC(kernel='rbf')\n",
        "clf3.fit(X_train, y_train)\n",
        "print(\"Classifier 3 accuracy: \", accuracy_score(clf3.predict(X_test), y_test))\n",
        "\n",
        "# Code for classifier 4\n",
        "X_train, X_test, y_train, y_test = train_test_split(new_X, y_t4, test_size=.10, random_state=8)\n",
        "clf4 = SVC(kernel='rbf')\n",
        "clf4.fit(X_train, y_train)\n",
        "print(\"Classifier 4 accuracy: \", accuracy_score(clf4.predict(X_test), y_test))\n",
        "\n",
        "# Code for classifier 5\n",
        "X_train, X_test, y_train, y_test = train_test_split(new_X, y_t5, test_size=.10, random_state=8)\n",
        "clf5 = SVC(kernel='rbf')\n",
        "clf5.fit(X_train, y_train)\n",
        "print(\"Classifier 5 accuracy: \", accuracy_score(clf5.predict(X_test), y_test))\n",
        "\n",
        "# Code for classifier 6\n",
        "X_train, X_test, y_train, y_test = train_test_split(new_X, y_t6, test_size=.10, random_state=8)\n",
        "clf6 = SVC(kernel='rbf')\n",
        "clf6.fit(X_train, y_train)\n",
        "print(\"Classifier 6 accuracy: \", accuracy_score(clf6.predict(X_test), y_test))\n",
        "\n",
        "# Code for classifier 7\n",
        "X_train, X_test, y_train, y_test = train_test_split(new_X, y_t7, test_size=.10, random_state=8)\n",
        "clf7 = SVC(kernel='rbf')\n",
        "clf7.fit(X_train, y_train)\n",
        "print(\"Classifier 7 accuracy: \", accuracy_score(clf7.predict(X_test), y_test))\n",
        "\n",
        "# Code for classifier 8\n",
        "X_train, X_test, y_train, y_test = train_test_split(new_X, y_t8, test_size=.10, random_state=8)\n",
        "clf8 = SVC(kernel='rbf')\n",
        "clf8.fit(X_train, y_train)\n",
        "print(\"Classifier 8 accuracy: \", accuracy_score(clf8.predict(X_test), y_test))\n",
        "\n",
        "# Code for classifier 9\n",
        "X_train, X_test, y_train, y_test = train_test_split(new_X, y_t9, test_size=.10, random_state=8)\n",
        "clf9 = SVC(kernel='rbf')\n",
        "clf9.fit(X_train, y_train)\n",
        "print(\"Classifier 9 accuracy: \", accuracy_score(clf9.predict(X_test), y_test))\n",
        "\n",
        "# Code for classifier 10\n",
        "X_train, X_test, y_train, y_test = train_test_split(new_X, y_t10, test_size=.10, random_state=8)\n",
        "clf10 = SVC(kernel='rbf')\n",
        "clf10.fit(X_train, y_train)\n",
        "print(\"Classifier 10 accuracy: \", accuracy_score(clf10.predict(X_test), y_test))\n",
        "\n",
        "# Code for classifier 11\n",
        "X_train, X_test, y_train, y_test = train_test_split(new_X, y_t11, test_size=.10, random_state=8)\n",
        "clf11 = SVC(kernel='rbf')\n",
        "clf11.fit(X_train, y_train)\n",
        "print(\"Classifier 11 accuracy: \", accuracy_score(clf11.predict(X_test), y_test))"
      ],
      "metadata": {
        "colab": {
          "base_uri": "https://localhost:8080/"
        },
        "id": "wuivXcTBc1Ro",
        "outputId": "49f00227-270c-4fd3-b0dc-aa0821ee631d"
      },
      "execution_count": null,
      "outputs": [
        {
          "output_type": "stream",
          "name": "stdout",
          "text": [
            "Classifier 1 accuracy:  0.795\n",
            "Classifier 2 accuracy:  0.92\n",
            "Classifier 3 accuracy:  0.78\n",
            "Classifier 4 accuracy:  0.865\n",
            "Classifier 5 accuracy:  0.835\n",
            "Classifier 6 accuracy:  0.87\n",
            "Classifier 7 accuracy:  0.805\n",
            "Classifier 8 accuracy:  0.84\n",
            "Classifier 9 accuracy:  0.655\n",
            "Classifier 10 accuracy:  0.92\n",
            "Classifier 11 accuracy:  0.78\n"
          ]
        }
      ]
    },
    {
      "cell_type": "markdown",
      "source": [
        "Average accuracy: 0.8231818181818182"
      ],
      "metadata": {
        "id": "wXWyGACurNfE"
      }
    },
    {
      "cell_type": "code",
      "source": [
        "# Load the image using the provided filename\n",
        "img = tf.keras.utils.load_img('/content/10910.png', tf.float32, color_mode='grayscale')\n",
        "\n",
        "# Convert the loaded image to a numpy array\n",
        "img = tf.keras.utils.img_to_array(img)\n",
        "\n",
        "# Normalize the pixel values of the image between 0 and 1\n",
        "img = img/255.0\n",
        "\n",
        "# Reshape the image to a 2D tensor with dimensions (1, heigh* width)\n",
        "img = np.reshape(img, (1, 784))\n"
      ],
      "metadata": {
        "colab": {
          "base_uri": "https://localhost:8080/"
        },
        "id": "9G_q7ycMfnmZ",
        "outputId": "4ec1c5b7-aeeb-47d8-c901-ea7293c55860"
      },
      "execution_count": null,
      "outputs": [
        {
          "output_type": "stream",
          "name": "stderr",
          "text": [
            "/usr/local/lib/python3.9/dist-packages/keras/utils/image_utils.py:409: UserWarning: grayscale is deprecated. Please use color_mode = \"grayscale\"\n",
            "  warnings.warn(\n"
          ]
        }
      ]
    },
    {
      "cell_type": "code",
      "source": [
        "!pip install joblib"
      ],
      "metadata": {
        "colab": {
          "base_uri": "https://localhost:8080/"
        },
        "id": "JxoJcZ_zk2Ql",
        "outputId": "fc7a23c7-33a4-4365-dec8-b0ce54f47dc6"
      },
      "execution_count": null,
      "outputs": [
        {
          "output_type": "stream",
          "name": "stdout",
          "text": [
            "Looking in indexes: https://pypi.org/simple, https://us-python.pkg.dev/colab-wheels/public/simple/\n",
            "Requirement already satisfied: joblib in /usr/local/lib/python3.9/dist-packages (1.1.1)\n"
          ]
        }
      ]
    },
    {
      "cell_type": "code",
      "source": [
        "import joblib\n",
        "\n",
        "# Saving all the classifiers\n",
        "for i in range(1, 12):\n",
        "    filename = f\"classifier_{i}.joblib\"\n",
        "    joblib.dump(eval(f\"clf{i}\"), filename)"
      ],
      "metadata": {
        "id": "enOBIym6lbAp"
      },
      "execution_count": null,
      "outputs": []
    },
    {
      "cell_type": "code",
      "source": [
        "# Define a dictionary that maps index to label\n",
        "label_map = {\n",
        "    0: 'Balanced Crossbar',\n",
        "    1: 'High Crossbar',\n",
        "    2: 'Left Do Crossbar',\n",
        "    3: 'Short Length Crossbar',\n",
        "    4: 'Down Sloping',\n",
        "    5: 'Right Do Crossbar',\n",
        "    6: 'Upsloping',\n",
        "    7: 'Lengthy Crossbar',\n",
        "    8: 'Flat Crossbar',\n",
        "    9: 'Low Crossbar',\n",
        "    10: 'Medium Length Crossbar'\n",
        "}\n",
        "\n",
        "# Define a list to store the predictions for each classifier\n",
        "predictions = []\n",
        "\n",
        "# Loop over the 11 classifiers\n",
        "for i in range(1, 12):\n",
        "    # Load the classifier\n",
        "    clf = joblib.load(f'classifier_{i}.joblib')\n",
        "\n",
        "    # Make a prediction for the image using the classifier\n",
        "    prediction = clf.predict(img)\n",
        "\n",
        "    # Add the prediction to the list of predictions\n",
        "    predictions.append(prediction[0])\n",
        "\n",
        "# Print the list of predictions for each classifier\n",
        "for i, pred in enumerate(predictions):\n",
        "    label = label_map[i]\n",
        "    print(f'{label}: [{pred}]')\n"
      ],
      "metadata": {
        "colab": {
          "base_uri": "https://localhost:8080/"
        },
        "id": "61Gq2-jvtXf7",
        "outputId": "61a29545-0a8c-4c75-a44d-652bc4370690"
      },
      "execution_count": null,
      "outputs": [
        {
          "output_type": "stream",
          "name": "stdout",
          "text": [
            "Balanced Crossbar: [0.0]\n",
            "High Crossbar: [0.0]\n",
            "Left Do Crossbar: [1.0]\n",
            "Short Length Crossbar: [0.0]\n",
            "Down Sloping: [0.0]\n",
            "Right Do Crossbar: [0.0]\n",
            "Upsloping: [0.0]\n",
            "Lengthy Crossbar: [0.0]\n",
            "Flat Crossbar: [1.0]\n",
            "Low Crossbar: [1.0]\n",
            "Medium Length Crossbar: [0.0]\n"
          ]
        }
      ]
    }
  ]
}