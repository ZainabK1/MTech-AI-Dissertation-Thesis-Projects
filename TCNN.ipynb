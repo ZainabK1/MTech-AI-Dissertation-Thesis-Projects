{
  "cells": [
    {
      "cell_type": "code",
      "execution_count": null,
      "metadata": {
        "colab": {
          "base_uri": "https://localhost:8080/"
        },
        "id": "VxRl82haJkfw",
        "outputId": "cc3190ca-fc5e-4d65-fc0d-fa791bf15414"
      },
      "outputs": [
        {
          "name": "stdout",
          "output_type": "stream",
          "text": [
            "Looking in indexes: https://pypi.org/simple, https://us-python.pkg.dev/colab-wheels/public/simple/\n",
            "Collecting keras-tuner\n",
            "  Downloading keras_tuner-1.3.5-py3-none-any.whl (176 kB)\n",
            "\u001b[2K     \u001b[90m━━━━━━━━━━━━━━━━━━━━━━━━━━━━━━━━━━━━━━━\u001b[0m \u001b[32m176.1/176.1 kB\u001b[0m \u001b[31m8.7 MB/s\u001b[0m eta \u001b[36m0:00:00\u001b[0m\n",
            "\u001b[?25hCollecting kt-legacy\n",
            "  Downloading kt_legacy-1.0.5-py3-none-any.whl (9.6 kB)\n",
            "Requirement already satisfied: requests in /usr/local/lib/python3.9/dist-packages (from keras-tuner) (2.27.1)\n",
            "Requirement already satisfied: packaging in /usr/local/lib/python3.9/dist-packages (from keras-tuner) (23.0)\n",
            "Requirement already satisfied: idna<4,>=2.5 in /usr/local/lib/python3.9/dist-packages (from requests->keras-tuner) (3.4)\n",
            "Requirement already satisfied: charset-normalizer~=2.0.0 in /usr/local/lib/python3.9/dist-packages (from requests->keras-tuner) (2.0.12)\n",
            "Requirement already satisfied: urllib3<1.27,>=1.21.1 in /usr/local/lib/python3.9/dist-packages (from requests->keras-tuner) (1.26.15)\n",
            "Requirement already satisfied: certifi>=2017.4.17 in /usr/local/lib/python3.9/dist-packages (from requests->keras-tuner) (2022.12.7)\n",
            "Installing collected packages: kt-legacy, keras-tuner\n",
            "Successfully installed keras-tuner-1.3.5 kt-legacy-1.0.5\n"
          ]
        }
      ],
      "source": [
        "!pip install keras-tuner"
      ]
    },
    {
      "cell_type": "code",
      "execution_count": null,
      "metadata": {
        "id": "TUUxxDJJ7-OO"
      },
      "outputs": [],
      "source": [
        "#Libraries for hyper parameter tunning\n",
        "import tensorflow as tf\n",
        "from tensorflow import keras\n",
        "import numpy as np\n",
        "# import keras_tuner\n",
        "# from keras_tuner import RandomSearch\n",
        "# from keras_tuner.engine.hyperparameters import HyperParameters\n",
        "#Libraries to create the model\n",
        "from keras.layers import Conv2D, MaxPooling2D\n",
        "from keras.preprocessing import image\n",
        "import pandas as pd\n",
        "from sklearn.model_selection import train_test_split\n",
        "from tqdm import tqdm\n",
        "from keras.layers import BatchNormalization, Dropout, Flatten, Dense\n",
        "from keras.models import Sequential\n"
      ]
    },
    {
      "cell_type": "code",
      "execution_count": null,
      "metadata": {
        "colab": {
          "base_uri": "https://localhost:8080/",
          "height": 36
        },
        "id": "i5v_eU6pX01k",
        "outputId": "77da0f5f-e764-415b-df0a-727c3106a89a"
      },
      "outputs": [
        {
          "output_type": "execute_result",
          "data": {
            "text/plain": [
              "'2.17.0'"
            ],
            "application/vnd.google.colaboratory.intrinsic+json": {
              "type": "string"
            }
          },
          "metadata": {},
          "execution_count": 2
        }
      ],
      "source": [
        "tf.__version__"
      ]
    },
    {
      "cell_type": "code",
      "execution_count": null,
      "metadata": {
        "colab": {
          "base_uri": "https://localhost:8080/"
        },
        "id": "LzLbJpjj8dVA",
        "outputId": "5ed70f10-1346-44e7-986b-4aaa09ed2fd1"
      },
      "outputs": [
        {
          "output_type": "stream",
          "name": "stdout",
          "text": [
            "Mounted at /content/drive\n"
          ]
        }
      ],
      "source": [
        "from google.colab import drive\n",
        "drive.mount('/content/drive')"
      ]
    },
    {
      "cell_type": "code",
      "execution_count": null,
      "metadata": {
        "colab": {
          "base_uri": "https://localhost:8080/"
        },
        "id": "2bKTlj5v8eAe",
        "outputId": "912eb11e-0639-4e4d-c5ab-e52adb35f4b0"
      },
      "outputs": [
        {
          "name": "stdout",
          "output_type": "stream",
          "text": [
            "  filename  Balanced  Crossbar  High Crossbar  Left Do Crossbar  \\\n",
            "0    0.png                   1              0                 0   \n",
            "1    1.png                   1              0                 0   \n",
            "2    2.png                   1              0                 0   \n",
            "3    3.png                   0              0                 0   \n",
            "4    4.png                   1              1                 0   \n",
            "\n",
            "   Short Length Crossbar  Down Sloping  Right Do Crossbar  Upsloping  \\\n",
            "0                      1             0                  0          0   \n",
            "1                      0             0                  1          1   \n",
            "2                      0             0                  0          1   \n",
            "3                      0             0                  1          0   \n",
            "4                      0             0                  0          0   \n",
            "\n",
            "   Lengthy Crossbar  Flat Crossbar  Low Crossbar  Medium Length Crossbar  \n",
            "0                 0              1             0                       0  \n",
            "1                 0              0             1                       1  \n",
            "2                 1              0             1                       0  \n",
            "3                 0              1             0                       0  \n",
            "4                 1              1             0                       0  \n",
            "Index(['filename', 'Balanced  Crossbar', 'High Crossbar', 'Left Do Crossbar',\n",
            "       'Short Length Crossbar', 'Down Sloping', 'Right Do Crossbar',\n",
            "       'Upsloping', 'Lengthy Crossbar', 'Flat Crossbar', 'Low Crossbar',\n",
            "       'Medium Length Crossbar'],\n",
            "      dtype='object')\n"
          ]
        }
      ],
      "source": [
        "# image_directory = \"/content/images/\"\n",
        "images = ('/content/drive/My Drive/images')\n",
        "\n",
        "\n",
        "df = pd.read_csv('/content/dataset.csv')\n",
        "print(df.head(5))\n",
        "print(df.columns)"
      ]
    },
    {
      "cell_type": "code",
      "execution_count": null,
      "metadata": {
        "colab": {
          "base_uri": "https://localhost:8080/"
        },
        "id": "89K1OkqX8jJ-",
        "outputId": "2384165c-9105-48ac-e963-9a7e0d4c3e24"
      },
      "outputs": [
        {
          "name": "stderr",
          "output_type": "stream",
          "text": [
            "100%|██████████| 1996/1996 [00:02<00:00, 777.09it/s]\n"
          ]
        }
      ],
      "source": [
        "#preparing X\n",
        "#from tensorflow.keras.preprocessing.image.load_img import load_img\n",
        "X_dataset = []\n",
        "for i in tqdm(range(df.shape[0])):\n",
        "    img = tf.keras.utils.load_img(images +'/'+df['filename'][i], color_mode='grayscale')\n",
        "    img =  tf.keras.utils.img_to_array(img)\n",
        "    img = img/255.0\n",
        "    X_dataset.append(img)\n",
        "X = np.array(X_dataset)"
      ]
    },
    {
      "cell_type": "code",
      "execution_count": null,
      "metadata": {
        "colab": {
          "background_save": true
        },
        "id": "GnEZC5Jt8sLf"
      },
      "outputs": [],
      "source": [
        "import csv\n",
        "\n",
        "# initialize the lists to store the values\n",
        "y_t1 = []\n",
        "y_t2 = []\n",
        "y_t3 = []\n",
        "y_t4 = []\n",
        "y_t5 = []\n",
        "y_t6 = []\n",
        "y_t7 = []\n",
        "y_t8 = []\n",
        "y_t9 = []\n",
        "y_t10 = []\n",
        "y_t11 = []\n",
        "\n",
        "with open('/content/dataset.csv', 'r') as file:\n",
        "    reader = csv.reader(file)\n",
        "    # skip the first row (header)\n",
        "    next(reader)\n",
        "\n",
        "    # iterate through each row and extract the values from columns 2 to 12\n",
        "    for row in reader:\n",
        "        y_t1.append(float(row[1]))\n",
        "        y_t2.append(float(row[2]))\n",
        "        y_t3.append(float(row[3]))\n",
        "        y_t4.append(float(row[4]))\n",
        "        y_t5.append(float(row[5]))\n",
        "        y_t6.append(float(row[6]))\n",
        "        y_t7.append(float(row[7]))\n",
        "        y_t8.append(float(row[8]))\n",
        "        y_t9.append(float(row[9]))\n",
        "        y_t10.append(float(row[10]))\n",
        "        y_t11.append(float(row[11]))\n"
      ]
    },
    {
      "cell_type": "code",
      "execution_count": null,
      "metadata": {
        "colab": {
          "background_save": true
        },
        "id": "kO6KejkMRMph"
      },
      "outputs": [],
      "source": [
        "y_t1 = np.array(y_t1)\n",
        "y_t2 = np.array(y_t2)\n",
        "y_t3 = np.array(y_t3)\n",
        "y_t4 = np.array(y_t4)\n",
        "y_t5 = np.array(y_t5)\n",
        "y_t6 = np.array(y_t6)\n",
        "y_t7 = np.array(y_t7)\n",
        "y_t8 = np.array(y_t8)\n",
        "y_t9 = np.array(y_t9)\n",
        "y_t10 = np.array(y_t10)\n",
        "y_t11 = np.array(y_t11)"
      ]
    },
    {
      "cell_type": "code",
      "execution_count": null,
      "metadata": {
        "colab": {
          "base_uri": "https://localhost:8080/"
        },
        "id": "iJGbArfSUZ81",
        "outputId": "8f70dafe-9314-40e9-91d0-5eed89f2b1cd"
      },
      "outputs": [
        {
          "data": {
            "text/plain": [
              "(1996,)"
            ]
          },
          "execution_count": 8,
          "metadata": {},
          "output_type": "execute_result"
        }
      ],
      "source": [
        "y_t1.shape"
      ]
    },
    {
      "cell_type": "code",
      "execution_count": null,
      "metadata": {
        "colab": {
          "base_uri": "https://localhost:8080/"
        },
        "id": "D1K-ZdEs9R8J",
        "outputId": "6ab52682-d40a-4785-904b-7c821b1080f3"
      },
      "outputs": [
        {
          "data": {
            "text/plain": [
              "(1796, 28, 28, 1)"
            ]
          },
          "execution_count": 9,
          "metadata": {},
          "output_type": "execute_result"
        }
      ],
      "source": [
        "x_train, x_test, y_train1, y_test1 = train_test_split(X, y_t1, random_state=8, test_size = 0.10)\n",
        "x_train.shape"
      ]
    },
    {
      "cell_type": "code",
      "execution_count": null,
      "metadata": {
        "colab": {
          "base_uri": "https://localhost:8080/"
        },
        "id": "WUIf-UQR9dMG",
        "outputId": "b7e8d314-50ef-463a-e616-a59000674c92"
      },
      "outputs": [
        {
          "name": "stderr",
          "output_type": "stream",
          "text": [
            "<ipython-input-10-2bbfbe7dae29>:1: DeprecationWarning: `import kerastuner` is deprecated, please use `import keras_tuner`.\n",
            "  from kerastuner import RandomSearch\n"
          ]
        }
      ],
      "source": [
        "from kerastuner import RandomSearch\n",
        "from kerastuner.engine.hyperparameters import HyperParameters"
      ]
    },
    {
      "cell_type": "code",
      "execution_count": null,
      "metadata": {
        "id": "dX82nGjY9h6n"
      },
      "outputs": [],
      "source": [
        "def build_model(hp):\n",
        "  model = keras.Sequential([\n",
        "    keras.layers.Conv2D(\n",
        "        filters=hp.Int('conv_1_filter', min_value=32, max_value=128, step=16),\n",
        "        kernel_size=hp.Choice('conv_1_kernel', values = [3,5]),\n",
        "        activation='relu',\n",
        "        input_shape=(28,28,1)\n",
        "    ),\n",
        "    keras.layers.Conv2D(\n",
        "        filters=hp.Int('conv_2_filter', min_value=32, max_value=64, step=16),\n",
        "        kernel_size=hp.Choice('conv_2_kernel', values = [3,5]),\n",
        "        activation='relu'\n",
        "    ),\n",
        "    keras.layers.Flatten(),\n",
        "    keras.layers.Dense(\n",
        "        units=hp.Int('dense_1_units', min_value=32, max_value=128, step=16),\n",
        "        activation='relu'\n",
        "    ),\n",
        "    keras.layers.Dense(1, activation='sigmoid')\n",
        "  ])\n",
        "\n",
        "  model.compile(optimizer=keras.optimizers.Adam(hp.Choice('learning_rate', values=[1e-2, 1e-3])),\n",
        "              loss='binary_crossentropy',\n",
        "              metrics=['accuracy'])\n",
        "\n",
        "  return model"
      ]
    },
    {
      "cell_type": "code",
      "execution_count": null,
      "metadata": {
        "id": "_AREvFqe9mN0"
      },
      "outputs": [],
      "source": [
        "tuner_search=RandomSearch(build_model,\n",
        "                          objective='val_accuracy',\n",
        "                          max_trials=10,directory='output')"
      ]
    },
    {
      "cell_type": "code",
      "execution_count": null,
      "metadata": {
        "colab": {
          "base_uri": "https://localhost:8080/"
        },
        "id": "ujtf4VsI9oWq",
        "outputId": "454e83a1-8f4d-4fc6-c596-2a4cee45c2c9"
      },
      "outputs": [
        {
          "name": "stdout",
          "output_type": "stream",
          "text": [
            "Trial 10 Complete [00h 00m 11s]\n",
            "val_accuracy: 0.6499999761581421\n",
            "\n",
            "Best val_accuracy So Far: 0.8100000023841858\n",
            "Total elapsed time: 00h 01m 40s\n"
          ]
        }
      ],
      "source": [
        "tuner_search.search(x_train, y_train1,epochs=10, validation_data=(x_test, y_test1))"
      ]
    },
    {
      "cell_type": "code",
      "execution_count": null,
      "metadata": {
        "id": "OjAwjQHc9sr5"
      },
      "outputs": [],
      "source": [
        "model = tuner_search.get_best_models(num_models=1)[0]"
      ]
    },
    {
      "cell_type": "code",
      "execution_count": null,
      "metadata": {
        "colab": {
          "base_uri": "https://localhost:8080/"
        },
        "id": "MGGHTzdH9wwy",
        "outputId": "2fb86b63-5a1a-4eeb-c975-12ae8b631200"
      },
      "outputs": [
        {
          "name": "stdout",
          "output_type": "stream",
          "text": [
            "Model: \"sequential\"\n",
            "_________________________________________________________________\n",
            " Layer (type)                Output Shape              Param #   \n",
            "=================================================================\n",
            " conv2d (Conv2D)             (None, 26, 26, 32)        320       \n",
            "                                                                 \n",
            " conv2d_1 (Conv2D)           (None, 22, 22, 64)        51264     \n",
            "                                                                 \n",
            " flatten (Flatten)           (None, 30976)             0         \n",
            "                                                                 \n",
            " dense (Dense)               (None, 80)                2478160   \n",
            "                                                                 \n",
            " dense_1 (Dense)             (None, 1)                 81        \n",
            "                                                                 \n",
            "=================================================================\n",
            "Total params: 2,529,825\n",
            "Trainable params: 2,529,825\n",
            "Non-trainable params: 0\n",
            "_________________________________________________________________\n"
          ]
        }
      ],
      "source": [
        "model.summary()"
      ]
    },
    {
      "cell_type": "markdown",
      "metadata": {
        "id": "JSzvmNrPGxjC"
      },
      "source": [
        "## T1"
      ]
    },
    {
      "cell_type": "code",
      "execution_count": null,
      "metadata": {
        "id": "ek-tuSC_WCsq"
      },
      "outputs": [],
      "source": [
        "M1 = model.save('M1.h5')"
      ]
    },
    {
      "cell_type": "code",
      "execution_count": null,
      "metadata": {
        "colab": {
          "background_save": true,
          "base_uri": "https://localhost:8080/"
        },
        "id": "uwlMygCF-deu",
        "outputId": "d2c13396-3e72-4959-993d-62591e522898"
      },
      "outputs": [
        {
          "data": {
            "text/plain": [
              "(1796, 28, 28, 1)"
            ]
          },
          "execution_count": 15,
          "metadata": {},
          "output_type": "execute_result"
        }
      ],
      "source": [
        "x_train, x_test, y_train1, y_test1 = train_test_split(X, y_t1, random_state=8, test_size = 0.10)\n",
        "x_train.shape"
      ]
    },
    {
      "cell_type": "code",
      "execution_count": null,
      "metadata": {
        "id": "ylKheaX7-cmr"
      },
      "outputs": [],
      "source": [
        "M1 = keras.models.load_model('M1.h5')"
      ]
    },
    {
      "cell_type": "code",
      "execution_count": null,
      "metadata": {
        "id": "IZkRLfao-jJk"
      },
      "outputs": [],
      "source": [
        "M1.compile(optimizer=keras.optimizers.Adam(learning_rate=1e-3), loss='binary_crossentropy', metrics=['accuracy'])\n",
        "\n",
        "history = M1.fit(x_train, y_train1, epochs=20, validation_data=(x_test, y_test1), batch_size=32)"
      ]
    },
    {
      "cell_type": "code",
      "execution_count": null,
      "metadata": {
        "colab": {
          "base_uri": "https://localhost:8080/",
          "height": 430
        },
        "id": "ivXfiJGkHgDV",
        "outputId": "e31cd3fa-5661-4b46-9908-78e00e11284f"
      },
      "outputs": [
        {
          "data": {
            "image/png": "[encoded data removed]",
            "text/plain": [
              "<Figure size 640x480 with 1 Axes>"
            ]
          },
          "metadata": {},
          "output_type": "display_data"
        }
      ],
      "source": [
        "import matplotlib.pyplot as plt\n",
        "\n",
        "plt.plot(history.history['accuracy'],color='red',label='train')\n",
        "plt.plot(history.history['val_accuracy'],color='blue',label='validation')\n",
        "plt.legend()\n",
        "plt.show()"
      ]
    },
    {
      "cell_type": "code",
      "execution_count": null,
      "metadata": {
        "id": "NPI0PJQtM9EH"
      },
      "outputs": [],
      "source": [
        "model.save('M1.h5',M1)\n",
        "M1.save_weights('model1_weights.h5')"
      ]
    },
    {
      "cell_type": "code",
      "execution_count": null,
      "metadata": {
        "id": "Ad9_yeqPAqyR"
      },
      "outputs": [],
      "source": [
        "model3 = Sequential()\n",
        "\n",
        "model3.add(Conv2D(filters=16, kernel_size=(3, 3), padding='same', activation=\"relu\", input_shape=(28,28,1)))\n",
        "model3.add(BatchNormalization())\n",
        "model3.add(MaxPooling2D(pool_size=(2, 2)))\n",
        "model3.add(Dropout(0.15))\n",
        "\n",
        "model3.add(Conv2D(filters=32, kernel_size=(3, 3), padding='same', activation='relu'))\n",
        "model3.add(MaxPooling2D(pool_size=(2, 2)))\n",
        "model3.add(BatchNormalization())\n",
        "model3.add(Dropout(0.15))\n",
        "\n",
        "model3.add(Conv2D(filters=64, kernel_size=(3, 3), padding='same', activation=\"relu\"))\n",
        "model3.add(MaxPooling2D(pool_size=(2, 2)))\n",
        "model3.add(BatchNormalization())\n",
        "model3.add(Dropout(0.12))\n",
        "\n",
        "model3.add(Conv2D(filters=64, kernel_size=(3, 3), padding='same', activation='relu'))\n",
        "model3.add(MaxPooling2D(pool_size=(2, 2)))\n",
        "model3.add(BatchNormalization())\n",
        "model3.add(Dropout(0.12))\n",
        "\n",
        "model3.add(Flatten())\n",
        "model3.add(Dense(1024, activation='relu'))\n",
        "model3.add(Dropout(0.1))\n",
        "model3.add(Dense(512, activation='relu'))\n",
        "model3.add(Dropout(0.1))\n",
        "model3.add(Dense(64, activation='relu'))\n",
        "model3.add(Dropout(0.1))\n",
        "model3.add(Dense(1, activation='sigmoid'))"
      ]
    },
    {
      "cell_type": "code",
      "execution_count": null,
      "metadata": {
        "colab": {
          "base_uri": "https://localhost:8080/"
        },
        "id": "cCw4cnDJE4P1",
        "outputId": "1d94ad04-295f-40e9-97ae-e89a295ea36c"
      },
      "outputs": [
        {
          "name": "stdout",
          "output_type": "stream",
          "text": [
            "Model: \"sequential_3\"\n",
            "_________________________________________________________________\n",
            " Layer (type)                Output Shape              Param #   \n",
            "=================================================================\n",
            " conv2d_10 (Conv2D)          (None, 28, 28, 16)        160       \n",
            "                                                                 \n",
            " batch_normalization_8 (Batc  (None, 28, 28, 16)       64        \n",
            " hNormalization)                                                 \n",
            "                                                                 \n",
            " max_pooling2d_8 (MaxPooling  (None, 14, 14, 16)       0         \n",
            " 2D)                                                             \n",
            "                                                                 \n",
            " dropout_14 (Dropout)        (None, 14, 14, 16)        0         \n",
            "                                                                 \n",
            " conv2d_11 (Conv2D)          (None, 14, 14, 32)        4640      \n",
            "                                                                 \n",
            " max_pooling2d_9 (MaxPooling  (None, 7, 7, 32)         0         \n",
            " 2D)                                                             \n",
            "                                                                 \n",
            " batch_normalization_9 (Batc  (None, 7, 7, 32)         128       \n",
            " hNormalization)                                                 \n",
            "                                                                 \n",
            " dropout_15 (Dropout)        (None, 7, 7, 32)          0         \n",
            "                                                                 \n",
            " conv2d_12 (Conv2D)          (None, 7, 7, 64)          18496     \n",
            "                                                                 \n",
            " max_pooling2d_10 (MaxPoolin  (None, 3, 3, 64)         0         \n",
            " g2D)                                                            \n",
            "                                                                 \n",
            " batch_normalization_10 (Bat  (None, 3, 3, 64)         256       \n",
            " chNormalization)                                                \n",
            "                                                                 \n",
            " dropout_16 (Dropout)        (None, 3, 3, 64)          0         \n",
            "                                                                 \n",
            " conv2d_13 (Conv2D)          (None, 3, 3, 64)          36928     \n",
            "                                                                 \n",
            " max_pooling2d_11 (MaxPoolin  (None, 1, 1, 64)         0         \n",
            " g2D)                                                            \n",
            "                                                                 \n",
            " batch_normalization_11 (Bat  (None, 1, 1, 64)         256       \n",
            " chNormalization)                                                \n",
            "                                                                 \n",
            " dropout_17 (Dropout)        (None, 1, 1, 64)          0         \n",
            "                                                                 \n",
            " flatten_3 (Flatten)         (None, 64)                0         \n",
            "                                                                 \n",
            " dense_10 (Dense)            (None, 1024)              66560     \n",
            "                                                                 \n",
            " dropout_18 (Dropout)        (None, 1024)              0         \n",
            "                                                                 \n",
            " dense_11 (Dense)            (None, 512)               524800    \n",
            "                                                                 \n",
            " dropout_19 (Dropout)        (None, 512)               0         \n",
            "                                                                 \n",
            " dense_12 (Dense)            (None, 64)                32832     \n",
            "                                                                 \n",
            " dropout_20 (Dropout)        (None, 64)                0         \n",
            "                                                                 \n",
            " dense_13 (Dense)            (None, 1)                 65        \n",
            "                                                                 \n",
            "=================================================================\n",
            "Total params: 685,185\n",
            "Trainable params: 684,833\n",
            "Non-trainable params: 352\n",
            "_________________________________________________________________\n"
          ]
        }
      ],
      "source": [
        "model3.summary()"
      ]
    },
    {
      "cell_type": "code",
      "execution_count": null,
      "metadata": {
        "id": "gbkUpvL_E7Uk"
      },
      "outputs": [],
      "source": [
        "model3.compile(optimizer=keras.optimizers.Adam(learning_rate=1e-3), loss='binary_crossentropy', metrics=['accuracy'])"
      ]
    },
    {
      "cell_type": "code",
      "execution_count": null,
      "metadata": {
        "colab": {
          "base_uri": "https://localhost:8080/"
        },
        "id": "wpIacGk0FI4Y",
        "outputId": "d9b5da4a-3819-4268-8798-d19829726ca5"
      },
      "outputs": [
        {
          "name": "stdout",
          "output_type": "stream",
          "text": [
            "Epoch 1/20\n",
            "57/57 [==============================] - 0s 8ms/step - loss: 0.1200 - accuracy: 0.9521 - val_loss: 0.9487 - val_accuracy: 0.7750\n",
            "Epoch 2/20\n",
            "57/57 [==============================] - 0s 8ms/step - loss: 0.1282 - accuracy: 0.9577 - val_loss: 0.9512 - val_accuracy: 0.7800\n",
            "Epoch 3/20\n",
            "57/57 [==============================] - 0s 8ms/step - loss: 0.1016 - accuracy: 0.9599 - val_loss: 1.2334 - val_accuracy: 0.7350\n",
            "Epoch 4/20\n",
            "57/57 [==============================] - 0s 8ms/step - loss: 0.0941 - accuracy: 0.9644 - val_loss: 1.0679 - val_accuracy: 0.7650\n",
            "Epoch 5/20\n",
            "57/57 [==============================] - 0s 9ms/step - loss: 0.0697 - accuracy: 0.9755 - val_loss: 1.1901 - val_accuracy: 0.7550\n",
            "Epoch 6/20\n",
            "57/57 [==============================] - 0s 9ms/step - loss: 0.1513 - accuracy: 0.9465 - val_loss: 0.9558 - val_accuracy: 0.7300\n",
            "Epoch 7/20\n",
            "57/57 [==============================] - 0s 8ms/step - loss: 0.1123 - accuracy: 0.9605 - val_loss: 1.1345 - val_accuracy: 0.7500\n",
            "Epoch 8/20\n",
            "57/57 [==============================] - 0s 8ms/step - loss: 0.1044 - accuracy: 0.9644 - val_loss: 1.0117 - val_accuracy: 0.7800\n",
            "Epoch 9/20\n",
            "57/57 [==============================] - 1s 12ms/step - loss: 0.0957 - accuracy: 0.9549 - val_loss: 1.0594 - val_accuracy: 0.7600\n",
            "Epoch 10/20\n",
            "57/57 [==============================] - 1s 12ms/step - loss: 0.0953 - accuracy: 0.9638 - val_loss: 1.1281 - val_accuracy: 0.7650\n",
            "Epoch 11/20\n",
            "57/57 [==============================] - 1s 13ms/step - loss: 0.1070 - accuracy: 0.9571 - val_loss: 1.0966 - val_accuracy: 0.7700\n",
            "Epoch 12/20\n",
            "57/57 [==============================] - 1s 13ms/step - loss: 0.0934 - accuracy: 0.9633 - val_loss: 1.2533 - val_accuracy: 0.7900\n",
            "Epoch 13/20\n",
            "57/57 [==============================] - 1s 13ms/step - loss: 0.0764 - accuracy: 0.9705 - val_loss: 1.1485 - val_accuracy: 0.7700\n",
            "Epoch 14/20\n",
            "57/57 [==============================] - 1s 11ms/step - loss: 0.0837 - accuracy: 0.9716 - val_loss: 1.2450 - val_accuracy: 0.7900\n",
            "Epoch 15/20\n",
            "57/57 [==============================] - 1s 9ms/step - loss: 0.0788 - accuracy: 0.9716 - val_loss: 1.3453 - val_accuracy: 0.7550\n",
            "Epoch 16/20\n",
            "57/57 [==============================] - 1s 13ms/step - loss: 0.0754 - accuracy: 0.9738 - val_loss: 1.1704 - val_accuracy: 0.7700\n",
            "Epoch 17/20\n",
            "57/57 [==============================] - 1s 12ms/step - loss: 0.0918 - accuracy: 0.9638 - val_loss: 1.1827 - val_accuracy: 0.7950\n",
            "Epoch 18/20\n",
            "57/57 [==============================] - 1s 13ms/step - loss: 0.0836 - accuracy: 0.9683 - val_loss: 1.1984 - val_accuracy: 0.7650\n",
            "Epoch 19/20\n",
            "57/57 [==============================] - 1s 13ms/step - loss: 0.0953 - accuracy: 0.9666 - val_loss: 1.1139 - val_accuracy: 0.7900\n",
            "Epoch 20/20\n",
            "57/57 [==============================] - 1s 13ms/step - loss: 0.0961 - accuracy: 0.9627 - val_loss: 1.1107 - val_accuracy: 0.7500\n"
          ]
        }
      ],
      "source": [
        "history = model3.fit(x_train, y_train1, epochs=20, validation_data=(x_test, y_test1), batch_size=32)"
      ]
    },
    {
      "cell_type": "code",
      "execution_count": null,
      "metadata": {
        "id": "s2EKDrONLhmn"
      },
      "outputs": [],
      "source": [
        "model.save('zM1.h5',M1)\n",
        "M1.save_weights('zmodel1_weights.h5')"
      ]
    },
    {
      "cell_type": "code",
      "execution_count": null,
      "metadata": {
        "colab": {
          "base_uri": "https://localhost:8080/",
          "height": 430
        },
        "id": "E7622KvBF3qW",
        "outputId": "c6d7e7e1-bcf6-4946-c255-df86b31e8717"
      },
      "outputs": [
        {
          "data": {
            "image/png": "[encoded data removed]",
            "text/plain": [
              "<Figure size 640x480 with 1 Axes>"
            ]
          },
          "metadata": {},
          "output_type": "display_data"
        }
      ],
      "source": [
        "import matplotlib.pyplot as plt\n",
        "\n",
        "plt.plot(history.history['accuracy'],color='red',label='train')\n",
        "plt.plot(history.history['val_accuracy'],color='blue',label='validation')\n",
        "plt.legend()\n",
        "plt.show()"
      ]
    },
    {
      "cell_type": "code",
      "execution_count": null,
      "metadata": {
        "id": "I54hhmeFGEyo"
      },
      "outputs": [],
      "source": [
        "model4 = Sequential()\n",
        "\n",
        "model4.add(Conv2D(filters=16, kernel_size=(3, 3), padding='same', activation=\"relu\", input_shape=(28,28,1)))\n",
        "model4.add(BatchNormalization())\n",
        "model4.add(MaxPooling2D(pool_size=(2, 2)))\n",
        "model4.add(Dropout(0.15))\n",
        "\n",
        "model4.add(Conv2D(filters=32, kernel_size=(3, 3), padding='same', activation='relu'))\n",
        "model4.add(MaxPooling2D(pool_size=(2, 2)))\n",
        "model4.add(BatchNormalization())\n",
        "model4.add(Dropout(0.15))\n",
        "\n",
        "model4.add(Conv2D(filters=64, kernel_size=(3, 3), padding='same', activation=\"relu\"))\n",
        "model4.add(MaxPooling2D(pool_size=(2, 2)))\n",
        "model4.add(BatchNormalization())\n",
        "model4.add(Dropout(0.12))\n",
        "\n",
        "model4.add(Conv2D(filters=64, kernel_size=(3, 3), padding='same', activation='relu'))\n",
        "model4.add(MaxPooling2D(pool_size=(2, 2)))\n",
        "model4.add(BatchNormalization())\n",
        "model4.add(Dropout(0.12))\n",
        "\n",
        "model4.add(Flatten())\n",
        "model4.add(Dense(128, activation='relu'))\n",
        "model4.add(Dropout(0.1))\n",
        "model4.add(Dense(64, activation='relu'))\n",
        "model4.add(Dropout(0.1))\n",
        "model4.add(Dense(1, activation='sigmoid'))\n"
      ]
    },
    {
      "cell_type": "code",
      "execution_count": null,
      "metadata": {
        "id": "XP-TGzN8GXaX"
      },
      "outputs": [],
      "source": [
        "model4.compile(optimizer=keras.optimizers.Adam(learning_rate=1e-3),\n",
        "              loss='binary_crossentropy',\n",
        "              metrics=['accuracy'])"
      ]
    },
    {
      "cell_type": "code",
      "execution_count": null,
      "metadata": {
        "id": "EnsD8JxRHSG_"
      },
      "outputs": [],
      "source": [
        "history = model3.fit(x_train, y_train1, epochs=20, validation_data=(x_test, y_test1), batch_size=32)"
      ]
    },
    {
      "cell_type": "code",
      "execution_count": null,
      "metadata": {
        "colab": {
          "base_uri": "https://localhost:8080/"
        },
        "id": "uO-UZq0DG2bj",
        "outputId": "cde77240-80c1-4b78-9e0b-e89ea43183c5"
      },
      "outputs": [
        {
          "name": "stdout",
          "output_type": "stream",
          "text": [
            "Epoch 1/50\n",
            "57/57 [==============================] - 7s 12ms/step - loss: 0.6359 - accuracy: 0.6381 - val_loss: 0.6600 - val_accuracy: 0.6500\n",
            "Epoch 2/50\n",
            "57/57 [==============================] - 1s 9ms/step - loss: 0.5681 - accuracy: 0.7027 - val_loss: 0.7207 - val_accuracy: 0.6500\n",
            "Epoch 3/50\n",
            "57/57 [==============================] - 0s 8ms/step - loss: 0.5448 - accuracy: 0.7094 - val_loss: 0.6666 - val_accuracy: 0.6500\n",
            "Epoch 4/50\n",
            "57/57 [==============================] - 0s 8ms/step - loss: 0.5214 - accuracy: 0.7383 - val_loss: 0.6690 - val_accuracy: 0.6500\n",
            "Epoch 5/50\n",
            "57/57 [==============================] - 0s 8ms/step - loss: 0.4865 - accuracy: 0.7584 - val_loss: 0.6903 - val_accuracy: 0.6500\n",
            "Epoch 6/50\n",
            "57/57 [==============================] - 0s 8ms/step - loss: 0.4754 - accuracy: 0.7617 - val_loss: 0.5671 - val_accuracy: 0.7550\n",
            "Epoch 7/50\n",
            "57/57 [==============================] - 0s 8ms/step - loss: 0.4622 - accuracy: 0.7795 - val_loss: 0.6515 - val_accuracy: 0.6000\n",
            "Epoch 8/50\n",
            "57/57 [==============================] - 0s 8ms/step - loss: 0.4408 - accuracy: 0.7678 - val_loss: 0.4751 - val_accuracy: 0.7900\n",
            "Epoch 9/50\n",
            "57/57 [==============================] - 0s 8ms/step - loss: 0.4445 - accuracy: 0.7751 - val_loss: 0.5009 - val_accuracy: 0.7400\n",
            "Epoch 10/50\n",
            "57/57 [==============================] - 0s 8ms/step - loss: 0.4415 - accuracy: 0.7817 - val_loss: 0.4417 - val_accuracy: 0.8150\n",
            "Epoch 11/50\n",
            "57/57 [==============================] - 0s 8ms/step - loss: 0.4251 - accuracy: 0.7890 - val_loss: 0.3881 - val_accuracy: 0.8450\n",
            "Epoch 12/50\n",
            "57/57 [==============================] - 0s 8ms/step - loss: 0.4008 - accuracy: 0.8085 - val_loss: 0.4051 - val_accuracy: 0.8250\n",
            "Epoch 13/50\n",
            "57/57 [==============================] - 0s 8ms/step - loss: 0.4075 - accuracy: 0.8101 - val_loss: 0.4256 - val_accuracy: 0.7850\n",
            "Epoch 14/50\n",
            "57/57 [==============================] - 0s 8ms/step - loss: 0.3985 - accuracy: 0.8062 - val_loss: 0.4179 - val_accuracy: 0.8100\n",
            "Epoch 15/50\n",
            "57/57 [==============================] - 0s 8ms/step - loss: 0.3822 - accuracy: 0.8263 - val_loss: 0.4090 - val_accuracy: 0.8100\n",
            "Epoch 16/50\n",
            "57/57 [==============================] - 1s 10ms/step - loss: 0.3729 - accuracy: 0.8263 - val_loss: 0.4085 - val_accuracy: 0.8200\n",
            "Epoch 17/50\n",
            "57/57 [==============================] - 1s 12ms/step - loss: 0.3623 - accuracy: 0.8296 - val_loss: 0.4274 - val_accuracy: 0.7950\n",
            "Epoch 18/50\n",
            "57/57 [==============================] - 1s 12ms/step - loss: 0.3489 - accuracy: 0.8352 - val_loss: 0.4594 - val_accuracy: 0.7850\n",
            "Epoch 19/50\n",
            "57/57 [==============================] - 1s 12ms/step - loss: 0.3294 - accuracy: 0.8524 - val_loss: 0.4044 - val_accuracy: 0.8150\n",
            "Epoch 20/50\n",
            "57/57 [==============================] - 1s 12ms/step - loss: 0.3423 - accuracy: 0.8419 - val_loss: 0.4277 - val_accuracy: 0.8000\n",
            "Epoch 21/50\n",
            "57/57 [==============================] - 1s 12ms/step - loss: 0.3314 - accuracy: 0.8380 - val_loss: 0.4809 - val_accuracy: 0.8100\n",
            "Epoch 22/50\n",
            "57/57 [==============================] - 1s 9ms/step - loss: 0.3375 - accuracy: 0.8519 - val_loss: 0.4586 - val_accuracy: 0.8100\n",
            "Epoch 23/50\n",
            "57/57 [==============================] - 0s 8ms/step - loss: 0.3138 - accuracy: 0.8552 - val_loss: 0.4351 - val_accuracy: 0.8300\n",
            "Epoch 24/50\n",
            "57/57 [==============================] - 0s 8ms/step - loss: 0.3110 - accuracy: 0.8569 - val_loss: 0.4740 - val_accuracy: 0.8150\n",
            "Epoch 25/50\n",
            "57/57 [==============================] - 0s 8ms/step - loss: 0.2962 - accuracy: 0.8680 - val_loss: 0.4686 - val_accuracy: 0.7900\n",
            "Epoch 26/50\n",
            "57/57 [==============================] - 0s 8ms/step - loss: 0.2820 - accuracy: 0.8731 - val_loss: 0.4271 - val_accuracy: 0.8200\n",
            "Epoch 27/50\n",
            "57/57 [==============================] - 0s 8ms/step - loss: 0.2717 - accuracy: 0.8825 - val_loss: 0.4733 - val_accuracy: 0.8050\n",
            "Epoch 28/50\n",
            "57/57 [==============================] - 0s 8ms/step - loss: 0.2875 - accuracy: 0.8781 - val_loss: 0.4492 - val_accuracy: 0.8200\n",
            "Epoch 29/50\n",
            "57/57 [==============================] - 0s 8ms/step - loss: 0.2706 - accuracy: 0.8769 - val_loss: 0.4617 - val_accuracy: 0.8250\n",
            "Epoch 30/50\n",
            "57/57 [==============================] - 0s 8ms/step - loss: 0.3207 - accuracy: 0.8536 - val_loss: 0.4588 - val_accuracy: 0.8150\n",
            "Epoch 31/50\n",
            "57/57 [==============================] - 0s 8ms/step - loss: 0.2645 - accuracy: 0.8881 - val_loss: 0.4949 - val_accuracy: 0.8100\n",
            "Epoch 32/50\n",
            "57/57 [==============================] - 0s 8ms/step - loss: 0.2588 - accuracy: 0.8881 - val_loss: 0.4663 - val_accuracy: 0.8250\n",
            "Epoch 33/50\n",
            "57/57 [==============================] - 0s 8ms/step - loss: 0.2354 - accuracy: 0.8992 - val_loss: 0.4469 - val_accuracy: 0.8150\n",
            "Epoch 34/50\n",
            "57/57 [==============================] - 0s 8ms/step - loss: 0.2213 - accuracy: 0.9070 - val_loss: 0.4486 - val_accuracy: 0.8150\n",
            "Epoch 35/50\n",
            "57/57 [==============================] - 0s 8ms/step - loss: 0.2322 - accuracy: 0.9070 - val_loss: 0.5128 - val_accuracy: 0.8150\n",
            "Epoch 36/50\n",
            "57/57 [==============================] - 0s 8ms/step - loss: 0.2299 - accuracy: 0.9037 - val_loss: 0.4831 - val_accuracy: 0.7950\n",
            "Epoch 37/50\n",
            "57/57 [==============================] - 0s 8ms/step - loss: 0.2237 - accuracy: 0.9014 - val_loss: 0.5182 - val_accuracy: 0.8050\n",
            "Epoch 38/50\n",
            "57/57 [==============================] - 0s 8ms/step - loss: 0.2027 - accuracy: 0.9182 - val_loss: 0.5332 - val_accuracy: 0.8450\n",
            "Epoch 39/50\n",
            "57/57 [==============================] - 0s 8ms/step - loss: 0.1963 - accuracy: 0.9154 - val_loss: 0.5530 - val_accuracy: 0.8400\n",
            "Epoch 40/50\n",
            "57/57 [==============================] - 0s 8ms/step - loss: 0.1923 - accuracy: 0.9220 - val_loss: 0.5307 - val_accuracy: 0.8000\n",
            "Epoch 41/50\n",
            "57/57 [==============================] - 0s 8ms/step - loss: 0.2081 - accuracy: 0.9182 - val_loss: 0.5829 - val_accuracy: 0.7900\n",
            "Epoch 42/50\n",
            "57/57 [==============================] - 0s 8ms/step - loss: 0.1819 - accuracy: 0.9304 - val_loss: 0.6366 - val_accuracy: 0.8000\n",
            "Epoch 43/50\n",
            "57/57 [==============================] - 1s 10ms/step - loss: 0.1925 - accuracy: 0.9198 - val_loss: 0.6057 - val_accuracy: 0.7800\n",
            "Epoch 44/50\n",
            "57/57 [==============================] - 1s 12ms/step - loss: 0.2029 - accuracy: 0.9198 - val_loss: 0.6676 - val_accuracy: 0.7750\n",
            "Epoch 45/50\n",
            "57/57 [==============================] - 1s 12ms/step - loss: 0.1819 - accuracy: 0.9310 - val_loss: 0.6768 - val_accuracy: 0.7800\n",
            "Epoch 46/50\n",
            "57/57 [==============================] - 1s 12ms/step - loss: 0.1786 - accuracy: 0.9226 - val_loss: 0.5769 - val_accuracy: 0.8000\n",
            "Epoch 47/50\n",
            "57/57 [==============================] - 1s 12ms/step - loss: 0.1698 - accuracy: 0.9349 - val_loss: 0.5461 - val_accuracy: 0.7950\n",
            "Epoch 48/50\n",
            "57/57 [==============================] - 1s 12ms/step - loss: 0.1587 - accuracy: 0.9304 - val_loss: 0.6846 - val_accuracy: 0.7700\n",
            "Epoch 49/50\n",
            "57/57 [==============================] - 1s 10ms/step - loss: 0.1870 - accuracy: 0.9259 - val_loss: 0.6364 - val_accuracy: 0.8000\n",
            "Epoch 50/50\n",
            "57/57 [==============================] - 0s 8ms/step - loss: 0.1498 - accuracy: 0.9421 - val_loss: 0.6674 - val_accuracy: 0.8000\n"
          ]
        }
      ],
      "source": [
        "history = model4.fit(x_train, y_train1, epochs = 50, validation_data =(x_test,y_test1), batch_size = 32)"
      ]
    },
    {
      "cell_type": "code",
      "execution_count": null,
      "metadata": {
        "colab": {
          "base_uri": "https://localhost:8080/",
          "height": 430
        },
        "id": "ekIxkkWRIYDB",
        "outputId": "221568b4-2817-437b-e4be-82d0e008e13b"
      },
      "outputs": [
        {
          "data": {
            "image/png": "[encoded data removed]",
            "text/plain": [
              "<Figure size 640x480 with 1 Axes>"
            ]
          },
          "metadata": {},
          "output_type": "display_data"
        }
      ],
      "source": [
        "import matplotlib.pyplot as plt\n",
        "\n",
        "plt.plot(history.history['accuracy'],color='red',label='train')\n",
        "plt.plot(history.history['val_accuracy'],color='blue',label='validation')\n",
        "plt.legend()\n",
        "plt.show()"
      ]
    },
    {
      "cell_type": "markdown",
      "metadata": {
        "id": "ox8187M3SjkR"
      },
      "source": [
        "## Z model twiking"
      ]
    },
    {
      "cell_type": "code",
      "execution_count": null,
      "metadata": {
        "id": "8U9q-zVQSoMW"
      },
      "outputs": [],
      "source": [
        "model5 = Sequential()\n",
        "\n",
        "model5.add(Conv2D(filters=16, kernel_size=(3, 3), activation=\"relu\", input_shape=(28,28,1)))\n",
        "model5.add(BatchNormalization())\n",
        "model5.add(MaxPooling2D(pool_size=(2, 2)))\n",
        "# model5.add(Dropout(0.2))\n",
        "\n",
        "model5.add(Conv2D(filters=64, kernel_size=(3,3), activation='relu'))\n",
        "model5.add(MaxPooling2D(pool_size=(2, 2)))\n",
        "model5.add(BatchNormalization())\n",
        "# model5.add(Dropout(0.2))\n",
        "\n",
        "model5.add(Conv2D(filters=128, kernel_size=(3, 3), activation=\"relu\"))\n",
        "model5.add(MaxPooling2D(pool_size=(2, 2)))\n",
        "model5.add(BatchNormalization())\n",
        "# model5.add(Dropout(0.2))\n",
        "\n",
        "# model5.add(Conv2D(filters=128, kernel_size=(3, 3), activation='relu'))\n",
        "# model5.add(MaxPooling2D(pool_size=(2, 2)))\n",
        "# model5.add(BatchNormalization())\n",
        "# # model5.add(Dropout(0.1))\n",
        "\n",
        "model5.add(Flatten())\n",
        "model5.add(Dense(128, activation='relu'))\n",
        "model5.add(Dropout(0.5))\n",
        "model5.add(Dense(64, activation='relu'))\n",
        "model5.add(Dropout(0.5))\n",
        "model5.add(Dense(1, activation='sigmoid'))"
      ]
    },
    {
      "cell_type": "code",
      "execution_count": null,
      "metadata": {
        "colab": {
          "base_uri": "https://localhost:8080/"
        },
        "id": "5xicO7VaS1vq",
        "outputId": "70b43633-6bd6-4938-cafc-a6c682273817"
      },
      "outputs": [
        {
          "name": "stdout",
          "output_type": "stream",
          "text": [
            "Model: \"sequential_13\"\n",
            "_________________________________________________________________\n",
            " Layer (type)                Output Shape              Param #   \n",
            "=================================================================\n",
            " conv2d_44 (Conv2D)          (None, 26, 26, 16)        160       \n",
            "                                                                 \n",
            " batch_normalization_36 (Bat  (None, 26, 26, 16)       64        \n",
            " chNormalization)                                                \n",
            "                                                                 \n",
            " max_pooling2d_36 (MaxPoolin  (None, 13, 13, 16)       0         \n",
            " g2D)                                                            \n",
            "                                                                 \n",
            " conv2d_45 (Conv2D)          (None, 11, 11, 64)        9280      \n",
            "                                                                 \n",
            " max_pooling2d_37 (MaxPoolin  (None, 5, 5, 64)         0         \n",
            " g2D)                                                            \n",
            "                                                                 \n",
            " batch_normalization_37 (Bat  (None, 5, 5, 64)         256       \n",
            " chNormalization)                                                \n",
            "                                                                 \n",
            " conv2d_46 (Conv2D)          (None, 3, 3, 128)         73856     \n",
            "                                                                 \n",
            " max_pooling2d_38 (MaxPoolin  (None, 1, 1, 128)        0         \n",
            " g2D)                                                            \n",
            "                                                                 \n",
            " batch_normalization_38 (Bat  (None, 1, 1, 128)        512       \n",
            " chNormalization)                                                \n",
            "                                                                 \n",
            " flatten_6 (Flatten)         (None, 128)               0         \n",
            "                                                                 \n",
            " dense_20 (Dense)            (None, 128)               16512     \n",
            "                                                                 \n",
            " dropout_37 (Dropout)        (None, 128)               0         \n",
            "                                                                 \n",
            " dense_21 (Dense)            (None, 64)                8256      \n",
            "                                                                 \n",
            " dropout_38 (Dropout)        (None, 64)                0         \n",
            "                                                                 \n",
            " dense_22 (Dense)            (None, 1)                 65        \n",
            "                                                                 \n",
            "=================================================================\n",
            "Total params: 108,961\n",
            "Trainable params: 108,545\n",
            "Non-trainable params: 416\n",
            "_________________________________________________________________\n",
            "Epoch 1/50\n",
            "29/29 [==============================] - 4s 24ms/step - loss: 0.7555 - accuracy: 0.6008 - val_loss: 0.6588 - val_accuracy: 0.6500\n",
            "Epoch 2/50\n",
            "29/29 [==============================] - 0s 8ms/step - loss: 0.6320 - accuracy: 0.6631 - val_loss: 0.6401 - val_accuracy: 0.6500\n",
            "Epoch 3/50\n",
            "29/29 [==============================] - 0s 13ms/step - loss: 0.5986 - accuracy: 0.6821 - val_loss: 0.6384 - val_accuracy: 0.6500\n",
            "Epoch 4/50\n",
            "29/29 [==============================] - 0s 11ms/step - loss: 0.5685 - accuracy: 0.6971 - val_loss: 0.6456 - val_accuracy: 0.6500\n",
            "Epoch 5/50\n",
            "29/29 [==============================] - 0s 11ms/step - loss: 0.5482 - accuracy: 0.7071 - val_loss: 0.6816 - val_accuracy: 0.6500\n",
            "Epoch 6/50\n",
            "29/29 [==============================] - 0s 11ms/step - loss: 0.5253 - accuracy: 0.7300 - val_loss: 0.6349 - val_accuracy: 0.6500\n",
            "Epoch 7/50\n",
            "29/29 [==============================] - 0s 11ms/step - loss: 0.4879 - accuracy: 0.7545 - val_loss: 0.6691 - val_accuracy: 0.6500\n",
            "Epoch 8/50\n",
            "29/29 [==============================] - 0s 11ms/step - loss: 0.4811 - accuracy: 0.7522 - val_loss: 0.6831 - val_accuracy: 0.6500\n",
            "Epoch 9/50\n",
            "29/29 [==============================] - 0s 11ms/step - loss: 0.4610 - accuracy: 0.7600 - val_loss: 0.7320 - val_accuracy: 0.6500\n",
            "Epoch 10/50\n",
            "29/29 [==============================] - 0s 11ms/step - loss: 0.4771 - accuracy: 0.7706 - val_loss: 0.7005 - val_accuracy: 0.6500\n",
            "Epoch 11/50\n",
            "29/29 [==============================] - 0s 11ms/step - loss: 0.4498 - accuracy: 0.7756 - val_loss: 0.7234 - val_accuracy: 0.6500\n",
            "Epoch 12/50\n",
            "29/29 [==============================] - 0s 11ms/step - loss: 0.4178 - accuracy: 0.7979 - val_loss: 0.6618 - val_accuracy: 0.6500\n",
            "Epoch 13/50\n",
            "29/29 [==============================] - 0s 11ms/step - loss: 0.4171 - accuracy: 0.8023 - val_loss: 0.6987 - val_accuracy: 0.6600\n",
            "Epoch 14/50\n",
            "29/29 [==============================] - 0s 12ms/step - loss: 0.4106 - accuracy: 0.8035 - val_loss: 0.6376 - val_accuracy: 0.6750\n",
            "Epoch 15/50\n",
            "29/29 [==============================] - 0s 11ms/step - loss: 0.3848 - accuracy: 0.8246 - val_loss: 0.7317 - val_accuracy: 0.6650\n",
            "Epoch 16/50\n",
            "29/29 [==============================] - 0s 8ms/step - loss: 0.4103 - accuracy: 0.8018 - val_loss: 0.5949 - val_accuracy: 0.6800\n",
            "Epoch 17/50\n",
            "29/29 [==============================] - 0s 8ms/step - loss: 0.3944 - accuracy: 0.8157 - val_loss: 0.5109 - val_accuracy: 0.7500\n",
            "Epoch 18/50\n",
            "29/29 [==============================] - 0s 7ms/step - loss: 0.3776 - accuracy: 0.8246 - val_loss: 0.5953 - val_accuracy: 0.6950\n",
            "Epoch 19/50\n",
            "29/29 [==============================] - 0s 8ms/step - loss: 0.3612 - accuracy: 0.8413 - val_loss: 0.5858 - val_accuracy: 0.7400\n",
            "Epoch 20/50\n",
            "29/29 [==============================] - 0s 7ms/step - loss: 0.3273 - accuracy: 0.8463 - val_loss: 0.5946 - val_accuracy: 0.7500\n",
            "Epoch 21/50\n",
            "29/29 [==============================] - 0s 7ms/step - loss: 0.2680 - accuracy: 0.8808 - val_loss: 0.5947 - val_accuracy: 0.7550\n",
            "Epoch 22/50\n",
            "29/29 [==============================] - 0s 7ms/step - loss: 0.2967 - accuracy: 0.8753 - val_loss: 0.6336 - val_accuracy: 0.7700\n",
            "Epoch 23/50\n",
            "29/29 [==============================] - 0s 7ms/step - loss: 0.2797 - accuracy: 0.8836 - val_loss: 0.6830 - val_accuracy: 0.7350\n",
            "Epoch 24/50\n",
            "29/29 [==============================] - 0s 8ms/step - loss: 0.2346 - accuracy: 0.9020 - val_loss: 0.7142 - val_accuracy: 0.7500\n",
            "Epoch 25/50\n",
            "29/29 [==============================] - 0s 7ms/step - loss: 0.1981 - accuracy: 0.9248 - val_loss: 0.9769 - val_accuracy: 0.7100\n",
            "Epoch 26/50\n",
            "29/29 [==============================] - 0s 8ms/step - loss: 0.2025 - accuracy: 0.9187 - val_loss: 0.9366 - val_accuracy: 0.7200\n",
            "Epoch 27/50\n",
            "29/29 [==============================] - 0s 8ms/step - loss: 0.2276 - accuracy: 0.9026 - val_loss: 1.1094 - val_accuracy: 0.7150\n",
            "Epoch 28/50\n",
            "29/29 [==============================] - 0s 8ms/step - loss: 0.2202 - accuracy: 0.9048 - val_loss: 0.7813 - val_accuracy: 0.7600\n",
            "Epoch 29/50\n",
            "29/29 [==============================] - 0s 7ms/step - loss: 0.3549 - accuracy: 0.8513 - val_loss: 1.3551 - val_accuracy: 0.6950\n",
            "Epoch 30/50\n",
            "29/29 [==============================] - 0s 8ms/step - loss: 0.2479 - accuracy: 0.8925 - val_loss: 0.9260 - val_accuracy: 0.7400\n",
            "Epoch 31/50\n",
            "29/29 [==============================] - 0s 8ms/step - loss: 0.1888 - accuracy: 0.9304 - val_loss: 0.8144 - val_accuracy: 0.7550\n",
            "Epoch 32/50\n",
            "29/29 [==============================] - 0s 8ms/step - loss: 0.1801 - accuracy: 0.9315 - val_loss: 0.8894 - val_accuracy: 0.7500\n",
            "Epoch 33/50\n",
            "29/29 [==============================] - 0s 8ms/step - loss: 0.1439 - accuracy: 0.9465 - val_loss: 0.9781 - val_accuracy: 0.7600\n",
            "Epoch 34/50\n",
            "29/29 [==============================] - 0s 8ms/step - loss: 0.0911 - accuracy: 0.9722 - val_loss: 0.9749 - val_accuracy: 0.7650\n",
            "Epoch 35/50\n",
            "29/29 [==============================] - 0s 10ms/step - loss: 0.0854 - accuracy: 0.9671 - val_loss: 1.0687 - val_accuracy: 0.7200\n",
            "Epoch 36/50\n",
            "29/29 [==============================] - 0s 8ms/step - loss: 0.0951 - accuracy: 0.9694 - val_loss: 1.1117 - val_accuracy: 0.7250\n",
            "Epoch 37/50\n",
            "29/29 [==============================] - 0s 8ms/step - loss: 0.3616 - accuracy: 0.8625 - val_loss: 0.8925 - val_accuracy: 0.7250\n",
            "Epoch 38/50\n",
            "29/29 [==============================] - 0s 8ms/step - loss: 0.2303 - accuracy: 0.9048 - val_loss: 0.7083 - val_accuracy: 0.7500\n",
            "Epoch 39/50\n",
            "29/29 [==============================] - 0s 8ms/step - loss: 0.1566 - accuracy: 0.9410 - val_loss: 0.7809 - val_accuracy: 0.7350\n",
            "Epoch 40/50\n",
            "29/29 [==============================] - 0s 7ms/step - loss: 0.1291 - accuracy: 0.9493 - val_loss: 0.8166 - val_accuracy: 0.7350\n",
            "Epoch 41/50\n",
            "29/29 [==============================] - 0s 8ms/step - loss: 0.1039 - accuracy: 0.9677 - val_loss: 0.8840 - val_accuracy: 0.7500\n",
            "Epoch 42/50\n",
            "29/29 [==============================] - 0s 7ms/step - loss: 0.0887 - accuracy: 0.9660 - val_loss: 1.1112 - val_accuracy: 0.7400\n",
            "Epoch 43/50\n",
            "29/29 [==============================] - 0s 8ms/step - loss: 0.0707 - accuracy: 0.9755 - val_loss: 1.1532 - val_accuracy: 0.7250\n",
            "Epoch 44/50\n",
            "29/29 [==============================] - 0s 8ms/step - loss: 0.0497 - accuracy: 0.9822 - val_loss: 1.3470 - val_accuracy: 0.6950\n",
            "Epoch 45/50\n",
            "29/29 [==============================] - 0s 8ms/step - loss: 0.0374 - accuracy: 0.9861 - val_loss: 1.3152 - val_accuracy: 0.7150\n",
            "Epoch 46/50\n",
            "29/29 [==============================] - 0s 8ms/step - loss: 0.0332 - accuracy: 0.9916 - val_loss: 1.4118 - val_accuracy: 0.7300\n",
            "Epoch 47/50\n",
            "29/29 [==============================] - 0s 8ms/step - loss: 0.0738 - accuracy: 0.9744 - val_loss: 1.4240 - val_accuracy: 0.7650\n",
            "Epoch 48/50\n",
            "29/29 [==============================] - 0s 8ms/step - loss: 0.0689 - accuracy: 0.9727 - val_loss: 1.2811 - val_accuracy: 0.7650\n",
            "Epoch 49/50\n",
            "29/29 [==============================] - 0s 8ms/step - loss: 0.0530 - accuracy: 0.9816 - val_loss: 1.3635 - val_accuracy: 0.7800\n",
            "Epoch 50/50\n",
            "29/29 [==============================] - 0s 8ms/step - loss: 0.3390 - accuracy: 0.8970 - val_loss: 1.1482 - val_accuracy: 0.6550\n"
          ]
        }
      ],
      "source": [
        "model5.summary()\n",
        "model5.compile(optimizer='adam', loss='binary_crossentropy', metrics=['accuracy'])\n",
        "history = model5.fit(x_train, y_train1, epochs=50, validation_data=(x_test, y_test1), batch_size=64)"
      ]
    },
    {
      "cell_type": "code",
      "execution_count": null,
      "metadata": {
        "id": "Sh4m3wTjrByn"
      },
      "outputs": [],
      "source": [
        "model3.save('/content/drive/My Drive/t_models/zM1.h5')\n",
        "model3.save_weights('/content/drive/My Drive/t_models_weights/ZM1_weights.h5')"
      ]
    },
    {
      "cell_type": "code",
      "execution_count": null,
      "metadata": {
        "id": "zEfrdXcATPRv"
      },
      "outputs": [],
      "source": [
        "import matplotlib.pyplot as plt\n",
        "\n",
        "plt.plot(history.history['accuracy'],color='red',label='train')\n",
        "plt.plot(history.history['val_accuracy'],color='blue',label='validation')\n",
        "plt.legend()\n",
        "plt.show()"
      ]
    },
    {
      "cell_type": "code",
      "execution_count": null,
      "metadata": {
        "id": "vFb0q976YJMZ"
      },
      "outputs": [],
      "source": [
        "model = Sequential()\n",
        "model.add(Conv2D(64, kernel_size = (3,3),activation='relu',input_shape=(28,28,1)))\n",
        "model.add(Conv2D(64, kernel_size = (3,3),activation='relu'))\n",
        "model.add(Conv2D(128, kernel_size = (3,3),activation='relu'))\n",
        "model.add(Conv2D(256, kernel_size = (3,3),activation='relu'))\n",
        "model.add(Conv2D(1024, kernel_size = (3,3),activation='relu'))\n",
        "model.add(MaxPooling2D(pool_size=(2, 2)))\n",
        "model.add(BatchNormalization())\n",
        "model.add(Dropout(0.25))\n",
        "model.add(Flatten())\n",
        "model.add(Dense(512, activation='relu'))\n",
        "model.add(BatchNormalization())\n",
        "model.add(Dropout(0.5))\n",
        "model.add(Dense(84, activation='softmax'))\n"
      ]
    },
    {
      "cell_type": "code",
      "execution_count": null,
      "metadata": {
        "id": "2chidcjQbAag"
      },
      "outputs": [],
      "source": [
        "model.compile(optimizer=keras.optimizers.Adam(learning_rate=1e-3), loss=keras.losses.categorical_crossentropy, metrics=['accuracy'])\n",
        "\n",
        "history = model.fit(x_train, y_train1, epochs=20, validation_data=(x_test, y_test1), batch_size=32)"
      ]
    },
    {
      "cell_type": "code",
      "execution_count": null,
      "metadata": {
        "id": "n6M-Xi9NbQwk"
      },
      "outputs": [],
      "source": [
        "score = model.evaluate(x_test, y_test1, verbose=0)\n",
        "print('Test loss:', score[0])\n",
        "print('Test accuracy:', score[1]*100,\"%\")"
      ]
    },
    {
      "cell_type": "markdown",
      "metadata": {
        "id": "-hWJIfmYaFrt"
      },
      "source": [
        "### T2"
      ]
    },
    {
      "cell_type": "code",
      "execution_count": null,
      "metadata": {
        "colab": {
          "base_uri": "https://localhost:8080/"
        },
        "id": "OGtbP4aPaVt8",
        "outputId": "a6cedc72-a375-4c34-d7b3-29e290cc19c4"
      },
      "outputs": [
        {
          "data": {
            "text/plain": [
              "(1796, 28, 28, 1)"
            ]
          },
          "execution_count": 60,
          "metadata": {},
          "output_type": "execute_result"
        }
      ],
      "source": [
        "x_train, x_test, y_train2, y_test2 = train_test_split(X, y_t2, random_state=8, test_size = 0.10)\n",
        "x_train.shape"
      ]
    },
    {
      "cell_type": "code",
      "execution_count": null,
      "metadata": {
        "id": "bJRSgApEavk2"
      },
      "outputs": [],
      "source": [
        "M2 = keras.models.load_model('M1.h5')\n",
        "M3 = keras.models.load_model('M1.h5')\n",
        "M4 = keras.models.load_model('M1.h5')\n",
        "M5 = keras.models.load_model('M1.h5')\n",
        "M6 = keras.models.load_model('M1.h5')\n",
        "M7 = keras.models.load_model('M1.h5')\n",
        "M8 = keras.models.load_model('M1.h5')\n",
        "M9 = keras.models.load_model('M1.h5')\n",
        "M10 = keras.models.load_model('M1.h5')\n",
        "M11= keras.models.load_model('M1.h5')"
      ]
    },
    {
      "cell_type": "code",
      "execution_count": null,
      "metadata": {
        "colab": {
          "base_uri": "https://localhost:8080/"
        },
        "id": "ZEl0UNEkaaD_",
        "outputId": "28a43ef0-d524-49e0-879b-182497c05371"
      },
      "outputs": [
        {
          "name": "stdout",
          "output_type": "stream",
          "text": [
            "Epoch 1/5\n",
            "57/57 [==============================] - 3s 13ms/step - loss: 0.0030 - accuracy: 0.9994 - val_loss: 0.8589 - val_accuracy: 0.8700\n",
            "Epoch 2/5\n",
            "57/57 [==============================] - 1s 9ms/step - loss: 0.0040 - accuracy: 0.9978 - val_loss: 0.8673 - val_accuracy: 0.8950\n",
            "Epoch 3/5\n",
            "57/57 [==============================] - 0s 8ms/step - loss: 0.0620 - accuracy: 0.9861 - val_loss: 0.8461 - val_accuracy: 0.8800\n",
            "Epoch 4/5\n",
            "57/57 [==============================] - 0s 6ms/step - loss: 0.0131 - accuracy: 0.9955 - val_loss: 0.7829 - val_accuracy: 0.8850\n",
            "Epoch 5/5\n",
            "57/57 [==============================] - 0s 6ms/step - loss: 0.0045 - accuracy: 0.9983 - val_loss: 0.8243 - val_accuracy: 0.9000\n"
          ]
        }
      ],
      "source": [
        "# M2.compile(\n",
        "#     optimizer=keras.optimizers.RMSprop(lr=1e-5),\n",
        "#     loss='binary_crossentropy',\n",
        "#     metrics=['accuracy']\n",
        "#   )\n",
        "\n",
        "M2.compile(optimizer ='adam',\n",
        "    loss='binary_crossentropy',\n",
        "    metrics=['accuracy']\n",
        "  )\n",
        "\n",
        "history = M2.fit(x_train, y_train2, epochs=5, validation_data=(x_test, y_test2), batch_size=32)"
      ]
    },
    {
      "cell_type": "code",
      "execution_count": null,
      "metadata": {
        "colab": {
          "base_uri": "https://localhost:8080/",
          "height": 430
        },
        "id": "OivZ4Eg9H06u",
        "outputId": "0105cbc7-70dc-458d-b4d0-52d93708baa5"
      },
      "outputs": [
        {
          "data": {
            "image/png": "[encoded data removed]",
            "text/plain": [
              "<Figure size 640x480 with 1 Axes>"
            ]
          },
          "metadata": {},
          "output_type": "display_data"
        }
      ],
      "source": [
        "import matplotlib.pyplot as plt\n",
        "\n",
        "plt.plot(history.history['accuracy'],color='red',label='train')\n",
        "plt.plot(history.history['val_accuracy'],color='blue',label='validation')\n",
        "plt.legend()\n",
        "plt.show()"
      ]
    },
    {
      "cell_type": "code",
      "execution_count": null,
      "metadata": {
        "id": "2YfTNpkGVgNw"
      },
      "outputs": [],
      "source": [
        "zM2 = keras.models.load_model('zM1.h5')"
      ]
    },
    {
      "cell_type": "code",
      "execution_count": null,
      "metadata": {
        "colab": {
          "base_uri": "https://localhost:8080/"
        },
        "id": "9m6lnhrpVod9",
        "outputId": "4c52fd01-49ff-4de9-e794-d15ea13ba460"
      },
      "outputs": [
        {
          "name": "stdout",
          "output_type": "stream",
          "text": [
            "Epoch 1/5\n",
            "57/57 [==============================] - 2s 8ms/step - loss: 0.0062 - accuracy: 0.9978 - val_loss: 0.8465 - val_accuracy: 0.8850\n",
            "Epoch 2/5\n",
            "57/57 [==============================] - 0s 6ms/step - loss: 0.0072 - accuracy: 0.9972 - val_loss: 0.7933 - val_accuracy: 0.9100\n",
            "Epoch 3/5\n",
            "57/57 [==============================] - 0s 6ms/step - loss: 0.0025 - accuracy: 0.9989 - val_loss: 0.7755 - val_accuracy: 0.8850\n",
            "Epoch 4/5\n",
            "57/57 [==============================] - 0s 6ms/step - loss: 0.0068 - accuracy: 0.9983 - val_loss: 0.7254 - val_accuracy: 0.9050\n",
            "Epoch 5/5\n",
            "57/57 [==============================] - 0s 6ms/step - loss: 0.0097 - accuracy: 0.9955 - val_loss: 0.6517 - val_accuracy: 0.9150\n"
          ]
        }
      ],
      "source": [
        "zM2.compile(optimizer=keras.optimizers.Adam(learning_rate=1e-3),\n",
        "              loss='binary_crossentropy',\n",
        "              metrics=['accuracy'])\n",
        "\n",
        "history = zM2.fit(x_train, y_train2, epochs=5, validation_data=(x_test, y_test2), batch_size=32)"
      ]
    },
    {
      "cell_type": "code",
      "execution_count": null,
      "metadata": {
        "colab": {
          "base_uri": "https://localhost:8080/",
          "height": 430
        },
        "id": "3eGjPfQgXspX",
        "outputId": "5811299e-1553-4b36-c172-d98272f82b97"
      },
      "outputs": [
        {
          "data": {
            "image/png": "[encoded data removed]",
            "text/plain": [
              "<Figure size 640x480 with 1 Axes>"
            ]
          },
          "metadata": {},
          "output_type": "display_data"
        }
      ],
      "source": [
        "import matplotlib.pyplot as plt\n",
        "\n",
        "plt.plot(history.history['accuracy'],color='red',label='train')\n",
        "plt.plot(history.history['val_accuracy'],color='blue',label='validation')\n",
        "plt.legend()\n",
        "plt.show()"
      ]
    },
    {
      "cell_type": "code",
      "execution_count": null,
      "metadata": {
        "id": "Uzj5qMtPPUq_"
      },
      "outputs": [],
      "source": [
        "zM2.save('zM2.h5')\n",
        "zM2.save_weights('ZM2_weights.h5')"
      ]
    },
    {
      "cell_type": "code",
      "execution_count": null,
      "metadata": {
        "id": "jgriL7dFhPSi"
      },
      "outputs": [],
      "source": [
        "/content/drive/My Drive/images"
      ]
    },
    {
      "cell_type": "code",
      "execution_count": null,
      "metadata": {
        "id": "20OIgA5_hQIC"
      },
      "outputs": [],
      "source": [
        "zM2.save('/content/drive/My Drive/t_models/zM2.h5')\n",
        "zM2.save_weights('/content/drive/My Drive/t_models_weights/ZM2_weights.h5')"
      ]
    },
    {
      "cell_type": "markdown",
      "metadata": {
        "id": "MFNPD1BY_ATH"
      },
      "source": [
        "# T3"
      ]
    },
    {
      "cell_type": "code",
      "execution_count": null,
      "metadata": {
        "colab": {
          "base_uri": "https://localhost:8080/"
        },
        "id": "Jm60-fdq-bUv",
        "outputId": "ba9de004-8729-4889-a8cb-953470831a80"
      },
      "outputs": [
        {
          "data": {
            "text/plain": [
              "(1796, 28, 28, 1)"
            ]
          },
          "execution_count": 80,
          "metadata": {},
          "output_type": "execute_result"
        }
      ],
      "source": [
        "x_train, x_test, y_train3, y_test3 = train_test_split(X, y_t3, random_state=8, test_size = 0.10)\n",
        "x_train.shape"
      ]
    },
    {
      "cell_type": "code",
      "execution_count": null,
      "metadata": {
        "colab": {
          "base_uri": "https://localhost:8080/"
        },
        "id": "xHnyxe89cKzB",
        "outputId": "809c6e53-97d3-49ee-b8d9-f5ee2466fc88"
      },
      "outputs": [
        {
          "name": "stdout",
          "output_type": "stream",
          "text": [
            "Epoch 1/50\n",
            "57/57 [==============================] - 2s 9ms/step - loss: 0.0178 - accuracy: 0.9972 - val_loss: 2.6248 - val_accuracy: 0.7750\n",
            "Epoch 2/50\n",
            "57/57 [==============================] - 0s 8ms/step - loss: 0.0261 - accuracy: 0.9905 - val_loss: 2.0274 - val_accuracy: 0.7700\n",
            "Epoch 3/50\n",
            "57/57 [==============================] - 0s 9ms/step - loss: 0.0445 - accuracy: 0.9866 - val_loss: 1.9820 - val_accuracy: 0.7750\n",
            "Epoch 4/50\n",
            "57/57 [==============================] - 1s 9ms/step - loss: 0.0045 - accuracy: 0.9989 - val_loss: 2.1284 - val_accuracy: 0.7750\n",
            "Epoch 5/50\n",
            "57/57 [==============================] - 0s 8ms/step - loss: 0.0024 - accuracy: 0.9989 - val_loss: 2.0887 - val_accuracy: 0.7800\n",
            "Epoch 6/50\n",
            "57/57 [==============================] - 0s 8ms/step - loss: 0.0024 - accuracy: 0.9989 - val_loss: 2.1045 - val_accuracy: 0.7950\n",
            "Epoch 7/50\n",
            "57/57 [==============================] - 0s 8ms/step - loss: 2.0813e-04 - accuracy: 1.0000 - val_loss: 2.1863 - val_accuracy: 0.7750\n",
            "Epoch 8/50\n",
            "57/57 [==============================] - 0s 8ms/step - loss: 8.9990e-05 - accuracy: 1.0000 - val_loss: 2.1897 - val_accuracy: 0.7700\n",
            "Epoch 9/50\n",
            "57/57 [==============================] - 1s 9ms/step - loss: 6.4853e-05 - accuracy: 1.0000 - val_loss: 2.1949 - val_accuracy: 0.7700\n",
            "Epoch 10/50\n",
            "57/57 [==============================] - 0s 7ms/step - loss: 5.6729e-05 - accuracy: 1.0000 - val_loss: 2.2033 - val_accuracy: 0.7700\n",
            "Epoch 11/50\n",
            "57/57 [==============================] - 0s 6ms/step - loss: 5.0362e-05 - accuracy: 1.0000 - val_loss: 2.2161 - val_accuracy: 0.7700\n",
            "Epoch 12/50\n",
            "57/57 [==============================] - 0s 6ms/step - loss: 4.5551e-05 - accuracy: 1.0000 - val_loss: 2.2223 - val_accuracy: 0.7700\n",
            "Epoch 13/50\n",
            "57/57 [==============================] - 0s 6ms/step - loss: 4.1424e-05 - accuracy: 1.0000 - val_loss: 2.2325 - val_accuracy: 0.7700\n",
            "Epoch 14/50\n",
            "57/57 [==============================] - 0s 6ms/step - loss: 3.7940e-05 - accuracy: 1.0000 - val_loss: 2.2417 - val_accuracy: 0.7700\n",
            "Epoch 15/50\n",
            "57/57 [==============================] - 0s 6ms/step - loss: 3.5114e-05 - accuracy: 1.0000 - val_loss: 2.2503 - val_accuracy: 0.7700\n",
            "Epoch 16/50\n",
            "57/57 [==============================] - 0s 6ms/step - loss: 3.2380e-05 - accuracy: 1.0000 - val_loss: 2.2610 - val_accuracy: 0.7700\n",
            "Epoch 17/50\n",
            "57/57 [==============================] - 0s 6ms/step - loss: 3.0069e-05 - accuracy: 1.0000 - val_loss: 2.2702 - val_accuracy: 0.7700\n",
            "Epoch 18/50\n",
            "57/57 [==============================] - 0s 6ms/step - loss: 2.7867e-05 - accuracy: 1.0000 - val_loss: 2.2789 - val_accuracy: 0.7700\n",
            "Epoch 19/50\n",
            "57/57 [==============================] - 0s 5ms/step - loss: 2.5986e-05 - accuracy: 1.0000 - val_loss: 2.2873 - val_accuracy: 0.7700\n",
            "Epoch 20/50\n",
            "57/57 [==============================] - 0s 6ms/step - loss: 2.4229e-05 - accuracy: 1.0000 - val_loss: 2.2984 - val_accuracy: 0.7700\n",
            "Epoch 21/50\n",
            "57/57 [==============================] - 0s 6ms/step - loss: 2.2168e-05 - accuracy: 1.0000 - val_loss: 2.3077 - val_accuracy: 0.7700\n",
            "Epoch 22/50\n",
            "57/57 [==============================] - 0s 5ms/step - loss: 2.0588e-05 - accuracy: 1.0000 - val_loss: 2.3185 - val_accuracy: 0.7700\n",
            "Epoch 23/50\n",
            "57/57 [==============================] - 0s 6ms/step - loss: 1.9007e-05 - accuracy: 1.0000 - val_loss: 2.3273 - val_accuracy: 0.7700\n",
            "Epoch 24/50\n",
            "57/57 [==============================] - 0s 5ms/step - loss: 1.7540e-05 - accuracy: 1.0000 - val_loss: 2.3390 - val_accuracy: 0.7700\n",
            "Epoch 25/50\n",
            "57/57 [==============================] - 0s 5ms/step - loss: 1.6241e-05 - accuracy: 1.0000 - val_loss: 2.3503 - val_accuracy: 0.7700\n",
            "Epoch 26/50\n",
            "57/57 [==============================] - 0s 6ms/step - loss: 1.4968e-05 - accuracy: 1.0000 - val_loss: 2.3622 - val_accuracy: 0.7700\n",
            "Epoch 27/50\n",
            "57/57 [==============================] - 0s 6ms/step - loss: 1.3683e-05 - accuracy: 1.0000 - val_loss: 2.3734 - val_accuracy: 0.7700\n",
            "Epoch 28/50\n",
            "57/57 [==============================] - 0s 5ms/step - loss: 1.2540e-05 - accuracy: 1.0000 - val_loss: 2.3891 - val_accuracy: 0.7700\n",
            "Epoch 29/50\n",
            "57/57 [==============================] - 0s 5ms/step - loss: 1.1553e-05 - accuracy: 1.0000 - val_loss: 2.4047 - val_accuracy: 0.7700\n",
            "Epoch 30/50\n",
            "57/57 [==============================] - 0s 6ms/step - loss: 1.0618e-05 - accuracy: 1.0000 - val_loss: 2.4196 - val_accuracy: 0.7700\n",
            "Epoch 31/50\n",
            "57/57 [==============================] - 0s 5ms/step - loss: 9.5836e-06 - accuracy: 1.0000 - val_loss: 2.4350 - val_accuracy: 0.7700\n",
            "Epoch 32/50\n",
            "57/57 [==============================] - 0s 5ms/step - loss: 8.7940e-06 - accuracy: 1.0000 - val_loss: 2.4493 - val_accuracy: 0.7700\n",
            "Epoch 33/50\n",
            "57/57 [==============================] - 0s 6ms/step - loss: 8.0836e-06 - accuracy: 1.0000 - val_loss: 2.4649 - val_accuracy: 0.7700\n",
            "Epoch 34/50\n",
            "57/57 [==============================] - 0s 5ms/step - loss: 7.4218e-06 - accuracy: 1.0000 - val_loss: 2.4772 - val_accuracy: 0.7700\n",
            "Epoch 35/50\n",
            "57/57 [==============================] - 0s 5ms/step - loss: 6.9023e-06 - accuracy: 1.0000 - val_loss: 2.4875 - val_accuracy: 0.7700\n",
            "Epoch 36/50\n",
            "57/57 [==============================] - 0s 6ms/step - loss: 6.2842e-06 - accuracy: 1.0000 - val_loss: 2.5044 - val_accuracy: 0.7700\n",
            "Epoch 37/50\n",
            "57/57 [==============================] - 0s 6ms/step - loss: 5.8520e-06 - accuracy: 1.0000 - val_loss: 2.5079 - val_accuracy: 0.7700\n",
            "Epoch 38/50\n",
            "57/57 [==============================] - 0s 5ms/step - loss: 5.3569e-06 - accuracy: 1.0000 - val_loss: 2.5277 - val_accuracy: 0.7700\n",
            "Epoch 39/50\n",
            "57/57 [==============================] - 0s 5ms/step - loss: 5.0752e-06 - accuracy: 1.0000 - val_loss: 2.5204 - val_accuracy: 0.7700\n",
            "Epoch 40/50\n",
            "57/57 [==============================] - 0s 6ms/step - loss: 4.6596e-06 - accuracy: 1.0000 - val_loss: 2.5408 - val_accuracy: 0.7700\n",
            "Epoch 41/50\n",
            "57/57 [==============================] - 1s 9ms/step - loss: 4.3440e-06 - accuracy: 1.0000 - val_loss: 2.5517 - val_accuracy: 0.7700\n",
            "Epoch 42/50\n",
            "57/57 [==============================] - 0s 8ms/step - loss: 4.0027e-06 - accuracy: 1.0000 - val_loss: 2.5663 - val_accuracy: 0.7700\n",
            "Epoch 43/50\n",
            "57/57 [==============================] - 0s 9ms/step - loss: 3.8425e-06 - accuracy: 1.0000 - val_loss: 2.5724 - val_accuracy: 0.7700\n",
            "Epoch 44/50\n",
            "57/57 [==============================] - 1s 9ms/step - loss: 3.5746e-06 - accuracy: 1.0000 - val_loss: 2.5769 - val_accuracy: 0.7700\n",
            "Epoch 45/50\n",
            "57/57 [==============================] - 1s 9ms/step - loss: 3.3671e-06 - accuracy: 1.0000 - val_loss: 2.5879 - val_accuracy: 0.7700\n",
            "Epoch 46/50\n",
            "57/57 [==============================] - 0s 8ms/step - loss: 3.1449e-06 - accuracy: 1.0000 - val_loss: 2.5901 - val_accuracy: 0.7700\n",
            "Epoch 47/50\n",
            "57/57 [==============================] - 0s 8ms/step - loss: 3.0037e-06 - accuracy: 1.0000 - val_loss: 2.6016 - val_accuracy: 0.7700\n",
            "Epoch 48/50\n",
            "57/57 [==============================] - 1s 9ms/step - loss: 2.8892e-06 - accuracy: 1.0000 - val_loss: 2.6076 - val_accuracy: 0.7700\n",
            "Epoch 49/50\n",
            "57/57 [==============================] - 0s 6ms/step - loss: 2.6869e-06 - accuracy: 1.0000 - val_loss: 2.6139 - val_accuracy: 0.7700\n",
            "Epoch 50/50\n",
            "57/57 [==============================] - 0s 5ms/step - loss: 2.5927e-06 - accuracy: 1.0000 - val_loss: 2.6196 - val_accuracy: 0.7700\n"
          ]
        }
      ],
      "source": [
        "M3.compile(optimizer='adam', loss='binary_crossentropy',metrics=['accuracy'])\n",
        "history = M3.fit(x_train, y_train3, epochs=50, validation_data=(x_test, y_test3), batch_size=32)"
      ]
    },
    {
      "cell_type": "code",
      "execution_count": null,
      "metadata": {
        "id": "GoZb5AzDH2cq"
      },
      "outputs": [],
      "source": [
        "import matplotlib.pyplot as plt\n",
        "\n",
        "plt.plot(history.history['accuracy'],color='red',label='train')\n",
        "plt.plot(history.history['val_accuracy'],color='blue',label='validation')\n",
        "plt.legend()\n",
        "plt.show()"
      ]
    },
    {
      "cell_type": "code",
      "execution_count": null,
      "metadata": {
        "id": "dOdn9oceaB02"
      },
      "outputs": [],
      "source": []
    },
    {
      "cell_type": "code",
      "execution_count": null,
      "metadata": {
        "id": "bg0AVVA9PZ-Y"
      },
      "outputs": [],
      "source": [
        "model.save('M3.h5',M3)\n",
        "M3.save_weights('model3_weights.h5')"
      ]
    },
    {
      "cell_type": "code",
      "execution_count": null,
      "metadata": {
        "colab": {
          "base_uri": "https://localhost:8080/"
        },
        "id": "bJZi9_7JYlgP",
        "outputId": "7c920835-245d-4c6f-eeda-1d1fdeddd66d"
      },
      "outputs": [
        {
          "name": "stdout",
          "output_type": "stream",
          "text": [
            "Epoch 1/50\n",
            "57/57 [==============================] - 2s 9ms/step - loss: 0.4642 - accuracy: 0.7584 - val_loss: 0.4586 - val_accuracy: 0.7800\n",
            "Epoch 2/50\n",
            "57/57 [==============================] - 0s 6ms/step - loss: 0.3521 - accuracy: 0.8357 - val_loss: 0.4274 - val_accuracy: 0.7800\n",
            "Epoch 3/50\n",
            "57/57 [==============================] - 0s 6ms/step - loss: 0.3067 - accuracy: 0.8558 - val_loss: 0.3926 - val_accuracy: 0.8150\n",
            "Epoch 4/50\n",
            "57/57 [==============================] - 0s 6ms/step - loss: 0.2852 - accuracy: 0.8686 - val_loss: 0.4143 - val_accuracy: 0.8100\n",
            "Epoch 5/50\n",
            "57/57 [==============================] - 0s 6ms/step - loss: 0.2599 - accuracy: 0.8881 - val_loss: 0.4143 - val_accuracy: 0.8000\n",
            "Epoch 6/50\n",
            "57/57 [==============================] - 0s 6ms/step - loss: 0.2366 - accuracy: 0.8970 - val_loss: 0.4248 - val_accuracy: 0.7900\n",
            "Epoch 7/50\n",
            "57/57 [==============================] - 0s 6ms/step - loss: 0.2136 - accuracy: 0.9104 - val_loss: 0.4722 - val_accuracy: 0.8000\n",
            "Epoch 8/50\n",
            "57/57 [==============================] - 0s 6ms/step - loss: 0.1978 - accuracy: 0.9198 - val_loss: 0.5258 - val_accuracy: 0.7900\n",
            "Epoch 9/50\n",
            "57/57 [==============================] - 0s 6ms/step - loss: 0.1422 - accuracy: 0.9404 - val_loss: 0.5435 - val_accuracy: 0.7950\n",
            "Epoch 10/50\n",
            "57/57 [==============================] - 0s 6ms/step - loss: 0.1188 - accuracy: 0.9543 - val_loss: 0.5730 - val_accuracy: 0.7950\n",
            "Epoch 11/50\n",
            "57/57 [==============================] - 0s 6ms/step - loss: 0.1077 - accuracy: 0.9571 - val_loss: 0.6926 - val_accuracy: 0.7900\n",
            "Epoch 12/50\n",
            "57/57 [==============================] - 0s 5ms/step - loss: 0.0616 - accuracy: 0.9794 - val_loss: 0.7547 - val_accuracy: 0.8100\n",
            "Epoch 13/50\n",
            "57/57 [==============================] - 0s 5ms/step - loss: 0.0597 - accuracy: 0.9794 - val_loss: 0.7822 - val_accuracy: 0.7700\n",
            "Epoch 14/50\n",
            "57/57 [==============================] - 0s 6ms/step - loss: 0.0420 - accuracy: 0.9866 - val_loss: 1.0363 - val_accuracy: 0.8000\n",
            "Epoch 15/50\n",
            "57/57 [==============================] - 0s 6ms/step - loss: 0.0199 - accuracy: 0.9939 - val_loss: 1.1181 - val_accuracy: 0.7900\n",
            "Epoch 16/50\n",
            "57/57 [==============================] - 0s 6ms/step - loss: 0.0104 - accuracy: 0.9989 - val_loss: 1.2608 - val_accuracy: 0.7950\n",
            "Epoch 17/50\n",
            "57/57 [==============================] - 0s 6ms/step - loss: 0.0126 - accuracy: 0.9967 - val_loss: 1.3213 - val_accuracy: 0.7950\n",
            "Epoch 18/50\n",
            "57/57 [==============================] - 0s 6ms/step - loss: 0.0127 - accuracy: 0.9955 - val_loss: 1.3580 - val_accuracy: 0.8000\n",
            "Epoch 19/50\n",
            "57/57 [==============================] - 0s 5ms/step - loss: 0.0079 - accuracy: 0.9989 - val_loss: 1.5176 - val_accuracy: 0.7900\n",
            "Epoch 20/50\n",
            "57/57 [==============================] - 0s 6ms/step - loss: 0.0036 - accuracy: 0.9994 - val_loss: 1.4370 - val_accuracy: 0.8050\n",
            "Epoch 21/50\n",
            "57/57 [==============================] - 0s 6ms/step - loss: 0.0018 - accuracy: 0.9994 - val_loss: 1.5126 - val_accuracy: 0.8050\n",
            "Epoch 22/50\n",
            "57/57 [==============================] - 0s 7ms/step - loss: 0.0012 - accuracy: 0.9994 - val_loss: 1.5874 - val_accuracy: 0.8150\n",
            "Epoch 23/50\n",
            "57/57 [==============================] - 0s 8ms/step - loss: 0.0011 - accuracy: 0.9994 - val_loss: 1.6330 - val_accuracy: 0.8150\n",
            "Epoch 24/50\n",
            "57/57 [==============================] - 0s 8ms/step - loss: 9.1855e-04 - accuracy: 0.9994 - val_loss: 1.6551 - val_accuracy: 0.8150\n",
            "Epoch 25/50\n",
            "57/57 [==============================] - 0s 9ms/step - loss: 8.5650e-04 - accuracy: 0.9994 - val_loss: 1.6863 - val_accuracy: 0.8250\n",
            "Epoch 26/50\n",
            "57/57 [==============================] - 0s 8ms/step - loss: 7.7636e-04 - accuracy: 0.9994 - val_loss: 1.7269 - val_accuracy: 0.8300\n",
            "Epoch 27/50\n",
            "57/57 [==============================] - 0s 8ms/step - loss: 7.2842e-04 - accuracy: 0.9994 - val_loss: 1.7484 - val_accuracy: 0.8250\n",
            "Epoch 28/50\n",
            "57/57 [==============================] - 1s 9ms/step - loss: 6.8010e-04 - accuracy: 0.9994 - val_loss: 1.7949 - val_accuracy: 0.8250\n",
            "Epoch 29/50\n",
            "57/57 [==============================] - 1s 9ms/step - loss: 6.4650e-04 - accuracy: 0.9994 - val_loss: 1.8219 - val_accuracy: 0.8300\n",
            "Epoch 30/50\n",
            "57/57 [==============================] - 0s 6ms/step - loss: 6.1753e-04 - accuracy: 0.9994 - val_loss: 1.8391 - val_accuracy: 0.8250\n",
            "Epoch 31/50\n",
            "57/57 [==============================] - 0s 6ms/step - loss: 5.8903e-04 - accuracy: 0.9994 - val_loss: 1.8720 - val_accuracy: 0.8250\n",
            "Epoch 32/50\n",
            "57/57 [==============================] - 0s 6ms/step - loss: 5.6441e-04 - accuracy: 0.9994 - val_loss: 1.8872 - val_accuracy: 0.8250\n",
            "Epoch 33/50\n",
            "57/57 [==============================] - 0s 7ms/step - loss: 5.4577e-04 - accuracy: 0.9994 - val_loss: 1.9302 - val_accuracy: 0.8250\n",
            "Epoch 34/50\n",
            "57/57 [==============================] - 0s 6ms/step - loss: 5.3160e-04 - accuracy: 0.9994 - val_loss: 1.9471 - val_accuracy: 0.8200\n",
            "Epoch 35/50\n",
            "57/57 [==============================] - 0s 6ms/step - loss: 5.1752e-04 - accuracy: 0.9994 - val_loss: 1.9585 - val_accuracy: 0.8200\n",
            "Epoch 36/50\n",
            "57/57 [==============================] - 0s 6ms/step - loss: 5.0532e-04 - accuracy: 0.9994 - val_loss: 1.9957 - val_accuracy: 0.8200\n",
            "Epoch 37/50\n",
            "57/57 [==============================] - 0s 5ms/step - loss: 4.9493e-04 - accuracy: 0.9994 - val_loss: 2.0006 - val_accuracy: 0.8200\n",
            "Epoch 38/50\n",
            "57/57 [==============================] - 0s 6ms/step - loss: 4.8502e-04 - accuracy: 0.9994 - val_loss: 2.0384 - val_accuracy: 0.8250\n",
            "Epoch 39/50\n",
            "57/57 [==============================] - 0s 5ms/step - loss: 4.7936e-04 - accuracy: 0.9994 - val_loss: 2.0473 - val_accuracy: 0.8250\n",
            "Epoch 40/50\n",
            "57/57 [==============================] - 0s 5ms/step - loss: 4.7065e-04 - accuracy: 0.9994 - val_loss: 2.0599 - val_accuracy: 0.8200\n",
            "Epoch 41/50\n",
            "57/57 [==============================] - 0s 6ms/step - loss: 4.6299e-04 - accuracy: 0.9994 - val_loss: 2.0817 - val_accuracy: 0.8150\n",
            "Epoch 42/50\n",
            "57/57 [==============================] - 0s 5ms/step - loss: 4.5672e-04 - accuracy: 0.9994 - val_loss: 2.0956 - val_accuracy: 0.8200\n",
            "Epoch 43/50\n",
            "57/57 [==============================] - 0s 5ms/step - loss: 4.5278e-04 - accuracy: 0.9994 - val_loss: 2.1060 - val_accuracy: 0.8150\n",
            "Epoch 44/50\n",
            "57/57 [==============================] - 0s 5ms/step - loss: 4.4714e-04 - accuracy: 0.9994 - val_loss: 2.1293 - val_accuracy: 0.8150\n",
            "Epoch 45/50\n",
            "57/57 [==============================] - 0s 6ms/step - loss: 4.4231e-04 - accuracy: 0.9994 - val_loss: 2.1444 - val_accuracy: 0.8150\n",
            "Epoch 46/50\n",
            "57/57 [==============================] - 0s 6ms/step - loss: 4.3756e-04 - accuracy: 0.9994 - val_loss: 2.1727 - val_accuracy: 0.8150\n",
            "Epoch 47/50\n",
            "57/57 [==============================] - 0s 5ms/step - loss: 4.3438e-04 - accuracy: 1.0000 - val_loss: 2.1745 - val_accuracy: 0.8150\n",
            "Epoch 48/50\n",
            "57/57 [==============================] - 0s 6ms/step - loss: 4.3031e-04 - accuracy: 1.0000 - val_loss: 2.1992 - val_accuracy: 0.8150\n",
            "Epoch 49/50\n",
            "57/57 [==============================] - 0s 5ms/step - loss: 4.4185e-04 - accuracy: 0.9994 - val_loss: 2.1274 - val_accuracy: 0.8050\n",
            "Epoch 50/50\n",
            "57/57 [==============================] - 0s 5ms/step - loss: 4.9392e-04 - accuracy: 1.0000 - val_loss: 2.0618 - val_accuracy: 0.8200\n"
          ]
        }
      ],
      "source": [
        "zM3 = keras.models.load_model('zM1.h5')\n",
        "zM3.compile(optimizer=keras.optimizers.Adam(learning_rate=1e-3),\n",
        "              loss='binary_crossentropy',\n",
        "              metrics=['accuracy'])\n",
        "\n",
        "history = zM3.fit(x_train, y_train3, epochs=50, validation_data=(x_test, y_test3), batch_size=32)"
      ]
    },
    {
      "cell_type": "code",
      "execution_count": null,
      "metadata": {
        "id": "Np59kCYzZQQm"
      },
      "outputs": [],
      "source": [
        "zM3.save('zM3.h5')\n",
        "zM3.save_weights('ZM3_weights.h5')"
      ]
    },
    {
      "cell_type": "code",
      "execution_count": null,
      "metadata": {
        "id": "j_UAJJxxnh-6"
      },
      "outputs": [],
      "source": [
        "zM3.save('/content/drive/My Drive/t_models/zM3.h5')\n",
        "zM3.save_weights('/content/drive/My Drive/t_models_weights/ZM3_weights.h5')"
      ]
    },
    {
      "cell_type": "code",
      "execution_count": null,
      "metadata": {
        "colab": {
          "base_uri": "https://localhost:8080/",
          "height": 430
        },
        "id": "NgnLO87OaEdd",
        "outputId": "0bf2d393-af61-4d45-dd8b-0a98cc7bd8b4"
      },
      "outputs": [
        {
          "data": {
            "image/png": "[encoded data removed]",
            "text/plain": [
              "<Figure size 640x480 with 1 Axes>"
            ]
          },
          "metadata": {},
          "output_type": "display_data"
        }
      ],
      "source": [
        "import matplotlib.pyplot as plt\n",
        "\n",
        "plt.plot(history.history['accuracy'],color='red',label='train')\n",
        "plt.plot(history.history['val_accuracy'],color='blue',label='validation')\n",
        "plt.legend()\n",
        "plt.show()"
      ]
    },
    {
      "cell_type": "markdown",
      "metadata": {
        "id": "aU3Tww5Ac3F2"
      },
      "source": [
        "## M1 Fitting and accuracy t4"
      ]
    },
    {
      "cell_type": "code",
      "execution_count": null,
      "metadata": {
        "colab": {
          "base_uri": "https://localhost:8080/"
        },
        "id": "VMd_fZfCdW7s",
        "outputId": "768d2b68-035b-46b8-a49a-ce940c22512f"
      },
      "outputs": [
        {
          "data": {
            "text/plain": [
              "(1796, 28, 28, 1)"
            ]
          },
          "execution_count": 98,
          "metadata": {},
          "output_type": "execute_result"
        }
      ],
      "source": [
        "x_train, x_test, y_train4, y_test4 = train_test_split(X, y_t4, random_state=8, test_size = 0.10)\n",
        "x_train.shape"
      ]
    },
    {
      "cell_type": "code",
      "execution_count": null,
      "metadata": {
        "colab": {
          "base_uri": "https://localhost:8080/"
        },
        "id": "gnTyOCoFdWFE",
        "outputId": "c06c8dde-7990-4c1c-db57-062537e13ceb"
      },
      "outputs": [
        {
          "name": "stdout",
          "output_type": "stream",
          "text": [
            "Epoch 1/50\n",
            "57/57 [==============================] - 2s 10ms/step - loss: 0.0252 - accuracy: 0.9939 - val_loss: 1.7456 - val_accuracy: 0.8400\n",
            "Epoch 2/50\n",
            "57/57 [==============================] - 0s 6ms/step - loss: 0.0102 - accuracy: 0.9955 - val_loss: 1.4826 - val_accuracy: 0.8400\n",
            "Epoch 3/50\n",
            "57/57 [==============================] - 0s 6ms/step - loss: 0.0038 - accuracy: 0.9989 - val_loss: 1.7702 - val_accuracy: 0.8550\n",
            "Epoch 4/50\n",
            "57/57 [==============================] - 0s 6ms/step - loss: 0.0136 - accuracy: 0.9978 - val_loss: 1.6861 - val_accuracy: 0.8450\n",
            "Epoch 5/50\n",
            "57/57 [==============================] - 0s 5ms/step - loss: 0.0062 - accuracy: 0.9972 - val_loss: 2.0278 - val_accuracy: 0.8500\n",
            "Epoch 6/50\n",
            "57/57 [==============================] - 0s 6ms/step - loss: 0.0109 - accuracy: 0.9967 - val_loss: 1.6423 - val_accuracy: 0.8500\n",
            "Epoch 7/50\n",
            "57/57 [==============================] - 0s 5ms/step - loss: 0.0091 - accuracy: 0.9961 - val_loss: 1.5703 - val_accuracy: 0.8350\n",
            "Epoch 8/50\n",
            "57/57 [==============================] - 0s 5ms/step - loss: 0.0366 - accuracy: 0.9883 - val_loss: 1.4482 - val_accuracy: 0.8650\n",
            "Epoch 9/50\n",
            "57/57 [==============================] - 1s 12ms/step - loss: 0.0090 - accuracy: 0.9950 - val_loss: 1.4691 - val_accuracy: 0.8550\n",
            "Epoch 10/50\n",
            "57/57 [==============================] - 1s 20ms/step - loss: 0.0010 - accuracy: 1.0000 - val_loss: 1.5534 - val_accuracy: 0.8600\n",
            "Epoch 11/50\n",
            "57/57 [==============================] - 1s 14ms/step - loss: 1.4792e-04 - accuracy: 1.0000 - val_loss: 1.5722 - val_accuracy: 0.8650\n",
            "Epoch 12/50\n",
            "57/57 [==============================] - 1s 21ms/step - loss: 1.0623e-04 - accuracy: 1.0000 - val_loss: 1.5736 - val_accuracy: 0.8650\n",
            "Epoch 13/50\n",
            "57/57 [==============================] - 1s 10ms/step - loss: 8.7436e-05 - accuracy: 1.0000 - val_loss: 1.5789 - val_accuracy: 0.8650\n",
            "Epoch 14/50\n",
            "57/57 [==============================] - 0s 7ms/step - loss: 7.5178e-05 - accuracy: 1.0000 - val_loss: 1.5864 - val_accuracy: 0.8650\n",
            "Epoch 15/50\n",
            "57/57 [==============================] - 0s 6ms/step - loss: 6.5347e-05 - accuracy: 1.0000 - val_loss: 1.5938 - val_accuracy: 0.8650\n",
            "Epoch 16/50\n",
            "57/57 [==============================] - 0s 6ms/step - loss: 5.6440e-05 - accuracy: 1.0000 - val_loss: 1.6008 - val_accuracy: 0.8650\n",
            "Epoch 17/50\n",
            "57/57 [==============================] - 0s 6ms/step - loss: 5.0462e-05 - accuracy: 1.0000 - val_loss: 1.6058 - val_accuracy: 0.8650\n",
            "Epoch 18/50\n",
            "57/57 [==============================] - 0s 6ms/step - loss: 4.5541e-05 - accuracy: 1.0000 - val_loss: 1.6125 - val_accuracy: 0.8650\n",
            "Epoch 19/50\n",
            "57/57 [==============================] - 0s 6ms/step - loss: 4.1436e-05 - accuracy: 1.0000 - val_loss: 1.6186 - val_accuracy: 0.8650\n",
            "Epoch 20/50\n",
            "57/57 [==============================] - 0s 5ms/step - loss: 3.8078e-05 - accuracy: 1.0000 - val_loss: 1.6252 - val_accuracy: 0.8650\n",
            "Epoch 21/50\n",
            "57/57 [==============================] - 0s 6ms/step - loss: 3.4941e-05 - accuracy: 1.0000 - val_loss: 1.6322 - val_accuracy: 0.8650\n",
            "Epoch 22/50\n",
            "57/57 [==============================] - 0s 6ms/step - loss: 3.2423e-05 - accuracy: 1.0000 - val_loss: 1.6386 - val_accuracy: 0.8650\n",
            "Epoch 23/50\n",
            "57/57 [==============================] - 0s 5ms/step - loss: 3.0050e-05 - accuracy: 1.0000 - val_loss: 1.6433 - val_accuracy: 0.8650\n",
            "Epoch 24/50\n",
            "57/57 [==============================] - 0s 6ms/step - loss: 2.8038e-05 - accuracy: 1.0000 - val_loss: 1.6482 - val_accuracy: 0.8650\n",
            "Epoch 25/50\n",
            "57/57 [==============================] - 0s 6ms/step - loss: 2.6196e-05 - accuracy: 1.0000 - val_loss: 1.6558 - val_accuracy: 0.8650\n",
            "Epoch 26/50\n",
            "57/57 [==============================] - 0s 5ms/step - loss: 2.4528e-05 - accuracy: 1.0000 - val_loss: 1.6600 - val_accuracy: 0.8650\n",
            "Epoch 27/50\n",
            "57/57 [==============================] - 0s 5ms/step - loss: 2.2945e-05 - accuracy: 1.0000 - val_loss: 1.6653 - val_accuracy: 0.8650\n",
            "Epoch 28/50\n",
            "57/57 [==============================] - 0s 5ms/step - loss: 2.1470e-05 - accuracy: 1.0000 - val_loss: 1.6714 - val_accuracy: 0.8650\n",
            "Epoch 29/50\n",
            "57/57 [==============================] - 0s 6ms/step - loss: 2.0223e-05 - accuracy: 1.0000 - val_loss: 1.6768 - val_accuracy: 0.8650\n",
            "Epoch 30/50\n",
            "57/57 [==============================] - 0s 5ms/step - loss: 1.9069e-05 - accuracy: 1.0000 - val_loss: 1.6820 - val_accuracy: 0.8650\n",
            "Epoch 31/50\n",
            "57/57 [==============================] - 0s 5ms/step - loss: 1.8010e-05 - accuracy: 1.0000 - val_loss: 1.6863 - val_accuracy: 0.8650\n",
            "Epoch 32/50\n",
            "57/57 [==============================] - 0s 6ms/step - loss: 1.6950e-05 - accuracy: 1.0000 - val_loss: 1.6940 - val_accuracy: 0.8650\n",
            "Epoch 33/50\n",
            "57/57 [==============================] - 0s 5ms/step - loss: 1.6056e-05 - accuracy: 1.0000 - val_loss: 1.6979 - val_accuracy: 0.8650\n",
            "Epoch 34/50\n",
            "57/57 [==============================] - 0s 6ms/step - loss: 1.5202e-05 - accuracy: 1.0000 - val_loss: 1.7031 - val_accuracy: 0.8650\n",
            "Epoch 35/50\n",
            "57/57 [==============================] - 0s 6ms/step - loss: 1.4413e-05 - accuracy: 1.0000 - val_loss: 1.7082 - val_accuracy: 0.8650\n",
            "Epoch 36/50\n",
            "57/57 [==============================] - 0s 6ms/step - loss: 1.3694e-05 - accuracy: 1.0000 - val_loss: 1.7131 - val_accuracy: 0.8650\n",
            "Epoch 37/50\n",
            "57/57 [==============================] - 0s 6ms/step - loss: 1.3015e-05 - accuracy: 1.0000 - val_loss: 1.7183 - val_accuracy: 0.8650\n",
            "Epoch 38/50\n",
            "57/57 [==============================] - 0s 6ms/step - loss: 1.2397e-05 - accuracy: 1.0000 - val_loss: 1.7230 - val_accuracy: 0.8650\n",
            "Epoch 39/50\n",
            "57/57 [==============================] - 0s 5ms/step - loss: 1.1816e-05 - accuracy: 1.0000 - val_loss: 1.7268 - val_accuracy: 0.8650\n",
            "Epoch 40/50\n",
            "57/57 [==============================] - 0s 6ms/step - loss: 1.1239e-05 - accuracy: 1.0000 - val_loss: 1.7330 - val_accuracy: 0.8650\n",
            "Epoch 41/50\n",
            "57/57 [==============================] - 0s 6ms/step - loss: 1.0758e-05 - accuracy: 1.0000 - val_loss: 1.7383 - val_accuracy: 0.8650\n",
            "Epoch 42/50\n",
            "57/57 [==============================] - 1s 9ms/step - loss: 1.0264e-05 - accuracy: 1.0000 - val_loss: 1.7421 - val_accuracy: 0.8650\n",
            "Epoch 43/50\n",
            "57/57 [==============================] - 1s 10ms/step - loss: 9.8155e-06 - accuracy: 1.0000 - val_loss: 1.7463 - val_accuracy: 0.8650\n",
            "Epoch 44/50\n",
            "57/57 [==============================] - 1s 15ms/step - loss: 9.3840e-06 - accuracy: 1.0000 - val_loss: 1.7514 - val_accuracy: 0.8650\n",
            "Epoch 45/50\n",
            "57/57 [==============================] - 1s 12ms/step - loss: 8.9776e-06 - accuracy: 1.0000 - val_loss: 1.7560 - val_accuracy: 0.8650\n",
            "Epoch 46/50\n",
            "57/57 [==============================] - 1s 14ms/step - loss: 8.5832e-06 - accuracy: 1.0000 - val_loss: 1.7604 - val_accuracy: 0.8650\n",
            "Epoch 47/50\n",
            "57/57 [==============================] - 1s 13ms/step - loss: 8.2316e-06 - accuracy: 1.0000 - val_loss: 1.7657 - val_accuracy: 0.8650\n",
            "Epoch 48/50\n",
            "57/57 [==============================] - 1s 14ms/step - loss: 7.8891e-06 - accuracy: 1.0000 - val_loss: 1.7699 - val_accuracy: 0.8650\n",
            "Epoch 49/50\n",
            "57/57 [==============================] - 1s 13ms/step - loss: 7.5705e-06 - accuracy: 1.0000 - val_loss: 1.7734 - val_accuracy: 0.8650\n",
            "Epoch 50/50\n",
            "57/57 [==============================] - 1s 11ms/step - loss: 7.2693e-06 - accuracy: 1.0000 - val_loss: 1.7787 - val_accuracy: 0.8650\n"
          ]
        }
      ],
      "source": [
        "M4.compile(optimizer='adam',loss='binary_crossentropy',metrics=['accuracy'])\n",
        "history = M4.fit(x_train, y_train4, epochs=50, validation_data=(x_test, y_test4), batch_size=32)"
      ]
    },
    {
      "cell_type": "code",
      "execution_count": null,
      "metadata": {
        "colab": {
          "base_uri": "https://localhost:8080/",
          "height": 430
        },
        "id": "SglULZU_H3fh",
        "outputId": "85b639f2-de0b-427b-9aee-b713041e6a53"
      },
      "outputs": [
        {
          "data": {
            "image/png": "[encoded data removed]",
            "text/plain": [
              "<Figure size 640x480 with 1 Axes>"
            ]
          },
          "metadata": {},
          "output_type": "display_data"
        }
      ],
      "source": [
        "import matplotlib.pyplot as plt\n",
        "\n",
        "plt.plot(history.history['accuracy'],color='red',label='train')\n",
        "plt.plot(history.history['val_accuracy'],color='blue',label='validation')\n",
        "plt.legend()\n",
        "plt.show()"
      ]
    },
    {
      "cell_type": "code",
      "execution_count": null,
      "metadata": {
        "id": "B0nSpOZWPfrh"
      },
      "outputs": [],
      "source": [
        "model.save('M4.h5',M4)\n",
        "M4.save_weights('model4_weights.h5')"
      ]
    },
    {
      "cell_type": "code",
      "execution_count": null,
      "metadata": {
        "colab": {
          "base_uri": "https://localhost:8080/"
        },
        "id": "ZEZRZnZea9Ts",
        "outputId": "2eaf49a3-4604-4e3a-e0ab-4b04d85fcfe9"
      },
      "outputs": [
        {
          "name": "stdout",
          "output_type": "stream",
          "text": [
            "Epoch 1/50\n",
            "57/57 [==============================] - 2s 8ms/step - loss: 0.3546 - accuracy: 0.8168 - val_loss: 0.3099 - val_accuracy: 0.8550\n",
            "Epoch 2/50\n",
            "57/57 [==============================] - 0s 6ms/step - loss: 0.2138 - accuracy: 0.9081 - val_loss: 0.2653 - val_accuracy: 0.8900\n",
            "Epoch 3/50\n",
            "57/57 [==============================] - 0s 6ms/step - loss: 0.1855 - accuracy: 0.9254 - val_loss: 0.3032 - val_accuracy: 0.9000\n",
            "Epoch 4/50\n",
            "57/57 [==============================] - 0s 5ms/step - loss: 0.1561 - accuracy: 0.9337 - val_loss: 0.3509 - val_accuracy: 0.8950\n",
            "Epoch 5/50\n",
            "57/57 [==============================] - 0s 5ms/step - loss: 0.1433 - accuracy: 0.9427 - val_loss: 0.3077 - val_accuracy: 0.8650\n",
            "Epoch 6/50\n",
            "57/57 [==============================] - 0s 8ms/step - loss: 0.1242 - accuracy: 0.9471 - val_loss: 0.3893 - val_accuracy: 0.8850\n",
            "Epoch 7/50\n",
            "57/57 [==============================] - 0s 8ms/step - loss: 0.0999 - accuracy: 0.9621 - val_loss: 0.5445 - val_accuracy: 0.8750\n",
            "Epoch 8/50\n",
            "57/57 [==============================] - 0s 8ms/step - loss: 0.0861 - accuracy: 0.9710 - val_loss: 0.4232 - val_accuracy: 0.8800\n",
            "Epoch 9/50\n",
            "57/57 [==============================] - 1s 9ms/step - loss: 0.0669 - accuracy: 0.9783 - val_loss: 0.4391 - val_accuracy: 0.8700\n",
            "Epoch 10/50\n",
            "57/57 [==============================] - 0s 9ms/step - loss: 0.0470 - accuracy: 0.9844 - val_loss: 0.4487 - val_accuracy: 0.8500\n",
            "Epoch 11/50\n",
            "57/57 [==============================] - 0s 8ms/step - loss: 0.0369 - accuracy: 0.9878 - val_loss: 0.6077 - val_accuracy: 0.8550\n",
            "Epoch 12/50\n",
            "57/57 [==============================] - 1s 9ms/step - loss: 0.0265 - accuracy: 0.9911 - val_loss: 0.6242 - val_accuracy: 0.8750\n",
            "Epoch 13/50\n",
            "57/57 [==============================] - 1s 9ms/step - loss: 0.0108 - accuracy: 0.9983 - val_loss: 0.7163 - val_accuracy: 0.8600\n",
            "Epoch 14/50\n",
            "57/57 [==============================] - 0s 7ms/step - loss: 0.0066 - accuracy: 0.9983 - val_loss: 0.7188 - val_accuracy: 0.8600\n",
            "Epoch 15/50\n",
            "57/57 [==============================] - 0s 6ms/step - loss: 0.0039 - accuracy: 0.9989 - val_loss: 0.8444 - val_accuracy: 0.8700\n",
            "Epoch 16/50\n",
            "57/57 [==============================] - 0s 6ms/step - loss: 0.0061 - accuracy: 0.9972 - val_loss: 0.7970 - val_accuracy: 0.8500\n",
            "Epoch 17/50\n",
            "57/57 [==============================] - 0s 5ms/step - loss: 0.0146 - accuracy: 0.9916 - val_loss: 0.7607 - val_accuracy: 0.8500\n",
            "Epoch 18/50\n",
            "57/57 [==============================] - 0s 6ms/step - loss: 0.0069 - accuracy: 0.9961 - val_loss: 0.8329 - val_accuracy: 0.8700\n",
            "Epoch 19/50\n",
            "57/57 [==============================] - 0s 6ms/step - loss: 0.0021 - accuracy: 0.9994 - val_loss: 0.8590 - val_accuracy: 0.8700\n",
            "Epoch 20/50\n",
            "57/57 [==============================] - 0s 5ms/step - loss: 0.0012 - accuracy: 0.9994 - val_loss: 0.9025 - val_accuracy: 0.8750\n",
            "Epoch 21/50\n",
            "57/57 [==============================] - 0s 5ms/step - loss: 9.9164e-04 - accuracy: 0.9994 - val_loss: 0.9278 - val_accuracy: 0.8750\n",
            "Epoch 22/50\n",
            "57/57 [==============================] - 0s 5ms/step - loss: 8.5209e-04 - accuracy: 0.9994 - val_loss: 0.9501 - val_accuracy: 0.8700\n",
            "Epoch 23/50\n",
            "57/57 [==============================] - 0s 5ms/step - loss: 7.9578e-04 - accuracy: 0.9994 - val_loss: 0.9908 - val_accuracy: 0.8700\n",
            "Epoch 24/50\n",
            "57/57 [==============================] - 0s 6ms/step - loss: 7.2423e-04 - accuracy: 0.9994 - val_loss: 0.9941 - val_accuracy: 0.8700\n",
            "Epoch 25/50\n",
            "57/57 [==============================] - 0s 5ms/step - loss: 7.1972e-04 - accuracy: 0.9994 - val_loss: 1.0257 - val_accuracy: 0.8700\n",
            "Epoch 26/50\n",
            "57/57 [==============================] - 0s 6ms/step - loss: 6.5695e-04 - accuracy: 0.9994 - val_loss: 1.0383 - val_accuracy: 0.8650\n",
            "Epoch 27/50\n",
            "57/57 [==============================] - 0s 5ms/step - loss: 6.1013e-04 - accuracy: 0.9994 - val_loss: 1.0484 - val_accuracy: 0.8650\n",
            "Epoch 28/50\n",
            "57/57 [==============================] - 0s 6ms/step - loss: 5.8390e-04 - accuracy: 0.9994 - val_loss: 1.0640 - val_accuracy: 0.8650\n",
            "Epoch 29/50\n",
            "57/57 [==============================] - 0s 6ms/step - loss: 5.5977e-04 - accuracy: 0.9994 - val_loss: 1.0835 - val_accuracy: 0.8700\n",
            "Epoch 30/50\n",
            "57/57 [==============================] - 0s 5ms/step - loss: 5.4092e-04 - accuracy: 0.9994 - val_loss: 1.0909 - val_accuracy: 0.8650\n",
            "Epoch 31/50\n",
            "57/57 [==============================] - 0s 6ms/step - loss: 5.2418e-04 - accuracy: 0.9994 - val_loss: 1.1048 - val_accuracy: 0.8650\n",
            "Epoch 32/50\n",
            "57/57 [==============================] - 0s 6ms/step - loss: 5.0876e-04 - accuracy: 0.9994 - val_loss: 1.1109 - val_accuracy: 0.8650\n",
            "Epoch 33/50\n",
            "57/57 [==============================] - 0s 6ms/step - loss: 4.9837e-04 - accuracy: 0.9994 - val_loss: 1.1250 - val_accuracy: 0.8650\n",
            "Epoch 34/50\n",
            "57/57 [==============================] - 0s 6ms/step - loss: 4.8626e-04 - accuracy: 0.9994 - val_loss: 1.1347 - val_accuracy: 0.8650\n",
            "Epoch 35/50\n",
            "57/57 [==============================] - 0s 6ms/step - loss: 4.7708e-04 - accuracy: 1.0000 - val_loss: 1.1465 - val_accuracy: 0.8650\n",
            "Epoch 36/50\n",
            "57/57 [==============================] - 0s 6ms/step - loss: 4.6996e-04 - accuracy: 1.0000 - val_loss: 1.1591 - val_accuracy: 0.8650\n",
            "Epoch 37/50\n",
            "57/57 [==============================] - 0s 6ms/step - loss: 4.6259e-04 - accuracy: 1.0000 - val_loss: 1.1673 - val_accuracy: 0.8650\n",
            "Epoch 38/50\n",
            "57/57 [==============================] - 0s 6ms/step - loss: 4.5545e-04 - accuracy: 1.0000 - val_loss: 1.1755 - val_accuracy: 0.8650\n",
            "Epoch 39/50\n",
            "57/57 [==============================] - 0s 6ms/step - loss: 4.5055e-04 - accuracy: 1.0000 - val_loss: 1.1918 - val_accuracy: 0.8650\n",
            "Epoch 40/50\n",
            "57/57 [==============================] - 0s 5ms/step - loss: 4.4495e-04 - accuracy: 1.0000 - val_loss: 1.1968 - val_accuracy: 0.8650\n",
            "Epoch 41/50\n",
            "57/57 [==============================] - 0s 6ms/step - loss: 4.4038e-04 - accuracy: 1.0000 - val_loss: 1.2032 - val_accuracy: 0.8650\n",
            "Epoch 42/50\n",
            "57/57 [==============================] - 0s 5ms/step - loss: 4.3705e-04 - accuracy: 1.0000 - val_loss: 1.2128 - val_accuracy: 0.8650\n",
            "Epoch 43/50\n",
            "57/57 [==============================] - 0s 6ms/step - loss: 4.3228e-04 - accuracy: 1.0000 - val_loss: 1.2208 - val_accuracy: 0.8650\n",
            "Epoch 44/50\n",
            "57/57 [==============================] - 0s 6ms/step - loss: 4.2827e-04 - accuracy: 1.0000 - val_loss: 1.2287 - val_accuracy: 0.8650\n",
            "Epoch 45/50\n",
            "57/57 [==============================] - 0s 8ms/step - loss: 4.2613e-04 - accuracy: 1.0000 - val_loss: 1.2361 - val_accuracy: 0.8650\n",
            "Epoch 46/50\n",
            "57/57 [==============================] - 0s 8ms/step - loss: 4.2218e-04 - accuracy: 1.0000 - val_loss: 1.2450 - val_accuracy: 0.8650\n",
            "Epoch 47/50\n",
            "57/57 [==============================] - 0s 8ms/step - loss: 4.1983e-04 - accuracy: 1.0000 - val_loss: 1.2524 - val_accuracy: 0.8650\n",
            "Epoch 48/50\n",
            "57/57 [==============================] - 0s 9ms/step - loss: 4.1706e-04 - accuracy: 1.0000 - val_loss: 1.2543 - val_accuracy: 0.8650\n",
            "Epoch 49/50\n",
            "57/57 [==============================] - 0s 8ms/step - loss: 4.1430e-04 - accuracy: 1.0000 - val_loss: 1.2620 - val_accuracy: 0.8650\n",
            "Epoch 50/50\n",
            "57/57 [==============================] - 0s 9ms/step - loss: 4.1254e-04 - accuracy: 1.0000 - val_loss: 1.2716 - val_accuracy: 0.8650\n"
          ]
        }
      ],
      "source": [
        "zM4 = keras.models.load_model('zM1.h5')\n",
        "zM4.compile(optimizer=keras.optimizers.Adam(learning_rate=1e-3),\n",
        "              loss='binary_crossentropy',\n",
        "              metrics=['accuracy'])\n",
        "\n",
        "history = zM4.fit(x_train, y_train4, epochs=50, validation_data=(x_test, y_test4), batch_size=32)\n",
        "\n",
        "zM4.save('zM4.h5')\n",
        "zM4.save_weights('ZM4_weights.h5')"
      ]
    },
    {
      "cell_type": "code",
      "execution_count": null,
      "metadata": {
        "id": "pJyQX_RwnFn_"
      },
      "outputs": [],
      "source": [
        "zM4.save('/content/drive/My Drive/t_models/zM4.h5')\n",
        "zM4.save_weights('/content/drive/My Drive/t_models_weights/ZM4_weights.h5')"
      ]
    },
    {
      "cell_type": "code",
      "execution_count": null,
      "metadata": {
        "colab": {
          "base_uri": "https://localhost:8080/",
          "height": 430
        },
        "id": "X24n211iayTB",
        "outputId": "0683798a-79d8-4000-83da-d15b4b653f32"
      },
      "outputs": [
        {
          "data": {
            "image/png": "[encoded data removed]",
            "text/plain": [
              "<Figure size 640x480 with 1 Axes>"
            ]
          },
          "metadata": {},
          "output_type": "display_data"
        }
      ],
      "source": [
        "import matplotlib.pyplot as plt\n",
        "\n",
        "plt.plot(history.history['accuracy'],color='red',label='train')\n",
        "plt.plot(history.history['val_accuracy'],color='blue',label='validation')\n",
        "plt.legend()\n",
        "plt.show()"
      ]
    },
    {
      "cell_type": "markdown",
      "metadata": {
        "id": "HtLQ2UOc_XyQ"
      },
      "source": [
        "## T5"
      ]
    },
    {
      "cell_type": "code",
      "execution_count": null,
      "metadata": {
        "colab": {
          "base_uri": "https://localhost:8080/"
        },
        "id": "Vl3lrNdQ_aSR",
        "outputId": "21d8c55e-a44c-4e83-a238-467d519b316c"
      },
      "outputs": [
        {
          "data": {
            "text/plain": [
              "(1796, 28, 28, 1)"
            ]
          },
          "execution_count": 105,
          "metadata": {},
          "output_type": "execute_result"
        }
      ],
      "source": [
        "x_train, x_test, y_train5, y_test5 = train_test_split(X, y_t5, random_state=8, test_size = 0.10)\n",
        "x_train.shape"
      ]
    },
    {
      "cell_type": "code",
      "execution_count": null,
      "metadata": {
        "colab": {
          "base_uri": "https://localhost:8080/"
        },
        "id": "uPjJfBIm_rhG",
        "outputId": "1edbdbbe-f8f7-4699-b9c0-8424a55c0341"
      },
      "outputs": [
        {
          "name": "stderr",
          "output_type": "stream",
          "text": [
            "WARNING:absl:`lr` is deprecated in Keras optimizer, please use `learning_rate` or use the legacy optimizer, e.g.,tf.keras.optimizers.legacy.RMSprop.\n"
          ]
        },
        {
          "name": "stdout",
          "output_type": "stream",
          "text": [
            "Epoch 1/50\n",
            "57/57 [==============================] - 2s 10ms/step - loss: 0.5367 - accuracy: 0.7584 - val_loss: 0.5116 - val_accuracy: 0.8350\n",
            "Epoch 2/50\n",
            "57/57 [==============================] - 0s 8ms/step - loss: 0.4582 - accuracy: 0.7700 - val_loss: 0.3805 - val_accuracy: 0.8350\n",
            "Epoch 3/50\n",
            "57/57 [==============================] - 1s 9ms/step - loss: 0.4248 - accuracy: 0.8068 - val_loss: 0.3310 - val_accuracy: 0.8350\n",
            "Epoch 4/50\n",
            "57/57 [==============================] - 0s 8ms/step - loss: 0.3936 - accuracy: 0.8341 - val_loss: 0.3189 - val_accuracy: 0.8600\n",
            "Epoch 5/50\n",
            "57/57 [==============================] - 1s 9ms/step - loss: 0.3597 - accuracy: 0.8502 - val_loss: 0.2963 - val_accuracy: 0.8700\n",
            "Epoch 6/50\n",
            "57/57 [==============================] - 0s 8ms/step - loss: 0.3367 - accuracy: 0.8675 - val_loss: 0.3089 - val_accuracy: 0.8600\n",
            "Epoch 7/50\n",
            "57/57 [==============================] - 0s 8ms/step - loss: 0.2957 - accuracy: 0.8814 - val_loss: 0.5747 - val_accuracy: 0.7000\n",
            "Epoch 8/50\n",
            "57/57 [==============================] - 0s 8ms/step - loss: 0.2755 - accuracy: 0.8808 - val_loss: 0.3046 - val_accuracy: 0.8750\n",
            "Epoch 9/50\n",
            "57/57 [==============================] - 1s 9ms/step - loss: 0.2373 - accuracy: 0.8992 - val_loss: 0.4048 - val_accuracy: 0.8300\n",
            "Epoch 10/50\n",
            "57/57 [==============================] - 0s 6ms/step - loss: 0.2255 - accuracy: 0.9137 - val_loss: 0.3508 - val_accuracy: 0.8800\n",
            "Epoch 11/50\n",
            "57/57 [==============================] - 0s 6ms/step - loss: 0.1870 - accuracy: 0.9259 - val_loss: 0.3129 - val_accuracy: 0.8750\n",
            "Epoch 12/50\n",
            "57/57 [==============================] - 0s 5ms/step - loss: 0.1700 - accuracy: 0.9298 - val_loss: 0.3216 - val_accuracy: 0.8700\n",
            "Epoch 13/50\n",
            "57/57 [==============================] - 0s 5ms/step - loss: 0.1419 - accuracy: 0.9443 - val_loss: 0.3312 - val_accuracy: 0.8600\n",
            "Epoch 14/50\n",
            "57/57 [==============================] - 0s 6ms/step - loss: 0.1148 - accuracy: 0.9582 - val_loss: 0.3511 - val_accuracy: 0.8800\n",
            "Epoch 15/50\n",
            "57/57 [==============================] - 0s 5ms/step - loss: 0.0946 - accuracy: 0.9666 - val_loss: 0.3636 - val_accuracy: 0.8700\n",
            "Epoch 16/50\n",
            "57/57 [==============================] - 0s 6ms/step - loss: 0.0766 - accuracy: 0.9761 - val_loss: 0.4769 - val_accuracy: 0.8400\n",
            "Epoch 17/50\n",
            "57/57 [==============================] - 0s 6ms/step - loss: 0.0521 - accuracy: 0.9833 - val_loss: 0.3979 - val_accuracy: 0.8750\n",
            "Epoch 18/50\n",
            "57/57 [==============================] - 0s 6ms/step - loss: 0.0466 - accuracy: 0.9844 - val_loss: 0.4564 - val_accuracy: 0.8550\n",
            "Epoch 19/50\n",
            "57/57 [==============================] - 0s 6ms/step - loss: 0.0314 - accuracy: 0.9894 - val_loss: 0.5591 - val_accuracy: 0.8600\n",
            "Epoch 20/50\n",
            "57/57 [==============================] - 0s 6ms/step - loss: 0.0275 - accuracy: 0.9911 - val_loss: 0.5619 - val_accuracy: 0.8650\n",
            "Epoch 21/50\n",
            "57/57 [==============================] - 0s 5ms/step - loss: 0.0173 - accuracy: 0.9950 - val_loss: 0.5864 - val_accuracy: 0.8500\n",
            "Epoch 22/50\n",
            "57/57 [==============================] - 0s 5ms/step - loss: 0.0122 - accuracy: 0.9961 - val_loss: 0.6750 - val_accuracy: 0.8450\n",
            "Epoch 23/50\n",
            "57/57 [==============================] - 0s 6ms/step - loss: 0.0157 - accuracy: 0.9961 - val_loss: 0.6327 - val_accuracy: 0.8450\n",
            "Epoch 24/50\n",
            "57/57 [==============================] - 0s 6ms/step - loss: 0.0092 - accuracy: 0.9972 - val_loss: 0.5810 - val_accuracy: 0.8650\n",
            "Epoch 25/50\n",
            "57/57 [==============================] - 0s 5ms/step - loss: 0.0055 - accuracy: 0.9978 - val_loss: 0.6156 - val_accuracy: 0.8700\n",
            "Epoch 26/50\n",
            "57/57 [==============================] - 0s 6ms/step - loss: 0.0067 - accuracy: 0.9972 - val_loss: 0.6446 - val_accuracy: 0.8700\n",
            "Epoch 27/50\n",
            "57/57 [==============================] - 0s 6ms/step - loss: 8.5339e-04 - accuracy: 1.0000 - val_loss: 0.7462 - val_accuracy: 0.8600\n",
            "Epoch 28/50\n",
            "57/57 [==============================] - 0s 5ms/step - loss: 0.0016 - accuracy: 0.9994 - val_loss: 0.8289 - val_accuracy: 0.8350\n",
            "Epoch 29/50\n",
            "57/57 [==============================] - 0s 5ms/step - loss: 3.2591e-04 - accuracy: 1.0000 - val_loss: 0.8133 - val_accuracy: 0.8550\n",
            "Epoch 30/50\n",
            "57/57 [==============================] - 0s 6ms/step - loss: 9.3744e-05 - accuracy: 1.0000 - val_loss: 0.8428 - val_accuracy: 0.8550\n",
            "Epoch 31/50\n",
            "57/57 [==============================] - 0s 5ms/step - loss: 5.8865e-05 - accuracy: 1.0000 - val_loss: 0.8782 - val_accuracy: 0.8700\n",
            "Epoch 32/50\n",
            "57/57 [==============================] - 0s 6ms/step - loss: 3.5652e-05 - accuracy: 1.0000 - val_loss: 0.9004 - val_accuracy: 0.8700\n",
            "Epoch 33/50\n",
            "57/57 [==============================] - 1s 9ms/step - loss: 2.7503e-05 - accuracy: 1.0000 - val_loss: 0.9194 - val_accuracy: 0.8700\n",
            "Epoch 34/50\n",
            "57/57 [==============================] - 0s 8ms/step - loss: 2.1972e-05 - accuracy: 1.0000 - val_loss: 0.9316 - val_accuracy: 0.8700\n",
            "Epoch 35/50\n",
            "57/57 [==============================] - 0s 9ms/step - loss: 1.8645e-05 - accuracy: 1.0000 - val_loss: 0.9409 - val_accuracy: 0.8700\n",
            "Epoch 36/50\n",
            "57/57 [==============================] - 1s 9ms/step - loss: 1.5778e-05 - accuracy: 1.0000 - val_loss: 0.9562 - val_accuracy: 0.8700\n",
            "Epoch 37/50\n",
            "57/57 [==============================] - 0s 8ms/step - loss: 1.3839e-05 - accuracy: 1.0000 - val_loss: 0.9662 - val_accuracy: 0.8700\n",
            "Epoch 38/50\n",
            "57/57 [==============================] - 0s 8ms/step - loss: 1.2282e-05 - accuracy: 1.0000 - val_loss: 0.9744 - val_accuracy: 0.8700\n",
            "Epoch 39/50\n",
            "57/57 [==============================] - 1s 10ms/step - loss: 1.1072e-05 - accuracy: 1.0000 - val_loss: 0.9811 - val_accuracy: 0.8700\n",
            "Epoch 40/50\n",
            "57/57 [==============================] - 1s 13ms/step - loss: 1.0168e-05 - accuracy: 1.0000 - val_loss: 0.9892 - val_accuracy: 0.8700\n",
            "Epoch 41/50\n",
            "57/57 [==============================] - 1s 12ms/step - loss: 9.2017e-06 - accuracy: 1.0000 - val_loss: 0.9987 - val_accuracy: 0.8700\n",
            "Epoch 42/50\n",
            "57/57 [==============================] - 1s 9ms/step - loss: 8.5463e-06 - accuracy: 1.0000 - val_loss: 1.0140 - val_accuracy: 0.8650\n",
            "Epoch 43/50\n",
            "57/57 [==============================] - 0s 9ms/step - loss: 8.1071e-06 - accuracy: 1.0000 - val_loss: 1.0111 - val_accuracy: 0.8700\n",
            "Epoch 44/50\n",
            "57/57 [==============================] - 0s 7ms/step - loss: 7.3925e-06 - accuracy: 1.0000 - val_loss: 1.0184 - val_accuracy: 0.8700\n",
            "Epoch 45/50\n",
            "57/57 [==============================] - 0s 7ms/step - loss: 6.9085e-06 - accuracy: 1.0000 - val_loss: 1.0221 - val_accuracy: 0.8700\n",
            "Epoch 46/50\n",
            "57/57 [==============================] - 0s 7ms/step - loss: 6.4363e-06 - accuracy: 1.0000 - val_loss: 1.0270 - val_accuracy: 0.8700\n",
            "Epoch 47/50\n",
            "57/57 [==============================] - 1s 9ms/step - loss: 6.1402e-06 - accuracy: 1.0000 - val_loss: 1.0336 - val_accuracy: 0.8700\n",
            "Epoch 48/50\n",
            "57/57 [==============================] - 0s 7ms/step - loss: 5.7851e-06 - accuracy: 1.0000 - val_loss: 1.0366 - val_accuracy: 0.8700\n",
            "Epoch 49/50\n",
            "57/57 [==============================] - 0s 6ms/step - loss: 5.4698e-06 - accuracy: 1.0000 - val_loss: 1.0435 - val_accuracy: 0.8700\n",
            "Epoch 50/50\n",
            "57/57 [==============================] - 0s 6ms/step - loss: 5.2315e-06 - accuracy: 1.0000 - val_loss: 1.0460 - val_accuracy: 0.8700\n"
          ]
        }
      ],
      "source": [
        "M5.compile(\n",
        "    optimizer=keras.optimizers.RMSprop(lr=1e-5),\n",
        "    loss='binary_crossentropy',\n",
        "    metrics=['accuracy']\n",
        "  )\n",
        "\n",
        "\n",
        "history = M5.fit(x_train, y_train5, epochs=50, validation_data=(x_test, y_test5), batch_size=32)"
      ]
    },
    {
      "cell_type": "code",
      "execution_count": null,
      "metadata": {
        "id": "vHb7qz1hH4qh"
      },
      "outputs": [],
      "source": [
        "import matplotlib.pyplot as plt\n",
        "\n",
        "plt.plot(history.history['accuracy'],color='red',label='train')\n",
        "plt.plot(history.history['val_accuracy'],color='blue',label='validation')\n",
        "plt.legend()\n",
        "plt.show()"
      ]
    },
    {
      "cell_type": "code",
      "execution_count": null,
      "metadata": {
        "id": "W02jo84xPkwD"
      },
      "outputs": [],
      "source": [
        "model.save('M5.h5',M5)\n",
        "M5.save_weights('model5_weights.h5')"
      ]
    },
    {
      "cell_type": "code",
      "execution_count": null,
      "metadata": {
        "colab": {
          "base_uri": "https://localhost:8080/"
        },
        "id": "ZvNxNv7bddru",
        "outputId": "981ba8fd-7df8-44a9-bfdc-44efda5be27c"
      },
      "outputs": [
        {
          "name": "stdout",
          "output_type": "stream",
          "text": [
            "Epoch 1/50\n",
            "57/57 [==============================] - 2s 9ms/step - loss: 0.5450 - accuracy: 0.7500 - val_loss: 0.3973 - val_accuracy: 0.8350\n",
            "Epoch 2/50\n",
            "57/57 [==============================] - 0s 6ms/step - loss: 0.4419 - accuracy: 0.7867 - val_loss: 0.3756 - val_accuracy: 0.8350\n",
            "Epoch 3/50\n",
            "57/57 [==============================] - 0s 6ms/step - loss: 0.3779 - accuracy: 0.8280 - val_loss: 0.3389 - val_accuracy: 0.8500\n",
            "Epoch 4/50\n",
            "57/57 [==============================] - 0s 6ms/step - loss: 0.3228 - accuracy: 0.8641 - val_loss: 0.3152 - val_accuracy: 0.8700\n",
            "Epoch 5/50\n",
            "57/57 [==============================] - 0s 5ms/step - loss: 0.2522 - accuracy: 0.8925 - val_loss: 0.2933 - val_accuracy: 0.8800\n",
            "Epoch 6/50\n",
            "57/57 [==============================] - 0s 6ms/step - loss: 0.2177 - accuracy: 0.9187 - val_loss: 0.3169 - val_accuracy: 0.8650\n",
            "Epoch 7/50\n",
            "57/57 [==============================] - 0s 5ms/step - loss: 0.1754 - accuracy: 0.9343 - val_loss: 0.3250 - val_accuracy: 0.8700\n",
            "Epoch 8/50\n",
            "57/57 [==============================] - 0s 6ms/step - loss: 0.1213 - accuracy: 0.9566 - val_loss: 0.3644 - val_accuracy: 0.8450\n",
            "Epoch 9/50\n",
            "57/57 [==============================] - 0s 6ms/step - loss: 0.0856 - accuracy: 0.9699 - val_loss: 0.3820 - val_accuracy: 0.8750\n",
            "Epoch 10/50\n",
            "57/57 [==============================] - 0s 5ms/step - loss: 0.0551 - accuracy: 0.9855 - val_loss: 0.4178 - val_accuracy: 0.8650\n",
            "Epoch 11/50\n",
            "57/57 [==============================] - 0s 6ms/step - loss: 0.0301 - accuracy: 0.9911 - val_loss: 0.4494 - val_accuracy: 0.8850\n",
            "Epoch 12/50\n",
            "57/57 [==============================] - 0s 5ms/step - loss: 0.0114 - accuracy: 0.9989 - val_loss: 0.5118 - val_accuracy: 0.8850\n",
            "Epoch 13/50\n",
            "57/57 [==============================] - 0s 5ms/step - loss: 0.0066 - accuracy: 0.9994 - val_loss: 0.5356 - val_accuracy: 0.8900\n",
            "Epoch 14/50\n",
            "57/57 [==============================] - 0s 5ms/step - loss: 0.0039 - accuracy: 1.0000 - val_loss: 0.5705 - val_accuracy: 0.8900\n",
            "Epoch 15/50\n",
            "57/57 [==============================] - 0s 6ms/step - loss: 0.0025 - accuracy: 1.0000 - val_loss: 0.5625 - val_accuracy: 0.8950\n",
            "Epoch 16/50\n",
            "57/57 [==============================] - 0s 5ms/step - loss: 0.0013 - accuracy: 1.0000 - val_loss: 0.6050 - val_accuracy: 0.8900\n",
            "Epoch 17/50\n",
            "57/57 [==============================] - 0s 8ms/step - loss: 8.1010e-04 - accuracy: 1.0000 - val_loss: 0.6277 - val_accuracy: 0.8850\n",
            "Epoch 18/50\n",
            "57/57 [==============================] - 0s 8ms/step - loss: 6.4974e-04 - accuracy: 1.0000 - val_loss: 0.6476 - val_accuracy: 0.8850\n",
            "Epoch 19/50\n",
            "57/57 [==============================] - 0s 8ms/step - loss: 5.4594e-04 - accuracy: 1.0000 - val_loss: 0.6561 - val_accuracy: 0.8850\n",
            "Epoch 20/50\n",
            "57/57 [==============================] - 0s 9ms/step - loss: 4.6267e-04 - accuracy: 1.0000 - val_loss: 0.6664 - val_accuracy: 0.8850\n",
            "Epoch 21/50\n",
            "57/57 [==============================] - 0s 8ms/step - loss: 3.9590e-04 - accuracy: 1.0000 - val_loss: 0.6788 - val_accuracy: 0.8850\n",
            "Epoch 22/50\n",
            "57/57 [==============================] - 0s 8ms/step - loss: 3.4464e-04 - accuracy: 1.0000 - val_loss: 0.6930 - val_accuracy: 0.8850\n",
            "Epoch 23/50\n",
            "57/57 [==============================] - 0s 8ms/step - loss: 3.0246e-04 - accuracy: 1.0000 - val_loss: 0.6933 - val_accuracy: 0.8850\n",
            "Epoch 24/50\n",
            "57/57 [==============================] - 0s 8ms/step - loss: 2.7346e-04 - accuracy: 1.0000 - val_loss: 0.7090 - val_accuracy: 0.8850\n",
            "Epoch 25/50\n",
            "57/57 [==============================] - 0s 8ms/step - loss: 2.4480e-04 - accuracy: 1.0000 - val_loss: 0.7176 - val_accuracy: 0.8850\n",
            "Epoch 26/50\n",
            "57/57 [==============================] - 0s 6ms/step - loss: 2.3705e-04 - accuracy: 1.0000 - val_loss: 0.7175 - val_accuracy: 0.8850\n",
            "Epoch 27/50\n",
            "57/57 [==============================] - 0s 6ms/step - loss: 1.9690e-04 - accuracy: 1.0000 - val_loss: 0.7332 - val_accuracy: 0.8850\n",
            "Epoch 28/50\n",
            "57/57 [==============================] - 0s 6ms/step - loss: 1.8461e-04 - accuracy: 1.0000 - val_loss: 0.7334 - val_accuracy: 0.8850\n",
            "Epoch 29/50\n",
            "57/57 [==============================] - 0s 7ms/step - loss: 1.6030e-04 - accuracy: 1.0000 - val_loss: 0.7402 - val_accuracy: 0.8850\n",
            "Epoch 30/50\n",
            "57/57 [==============================] - 0s 6ms/step - loss: 1.4664e-04 - accuracy: 1.0000 - val_loss: 0.7500 - val_accuracy: 0.8850\n",
            "Epoch 31/50\n",
            "57/57 [==============================] - 0s 5ms/step - loss: 1.3350e-04 - accuracy: 1.0000 - val_loss: 0.7591 - val_accuracy: 0.8850\n",
            "Epoch 32/50\n",
            "57/57 [==============================] - 0s 6ms/step - loss: 1.2301e-04 - accuracy: 1.0000 - val_loss: 0.7660 - val_accuracy: 0.8900\n",
            "Epoch 33/50\n",
            "57/57 [==============================] - 0s 5ms/step - loss: 1.1285e-04 - accuracy: 1.0000 - val_loss: 0.7698 - val_accuracy: 0.8850\n",
            "Epoch 34/50\n",
            "57/57 [==============================] - 0s 6ms/step - loss: 1.0408e-04 - accuracy: 1.0000 - val_loss: 0.7744 - val_accuracy: 0.8850\n",
            "Epoch 35/50\n",
            "57/57 [==============================] - 0s 6ms/step - loss: 9.6962e-05 - accuracy: 1.0000 - val_loss: 0.7842 - val_accuracy: 0.8900\n",
            "Epoch 36/50\n",
            "57/57 [==============================] - 0s 5ms/step - loss: 8.9601e-05 - accuracy: 1.0000 - val_loss: 0.7864 - val_accuracy: 0.8850\n",
            "Epoch 37/50\n",
            "57/57 [==============================] - 0s 5ms/step - loss: 8.3304e-05 - accuracy: 1.0000 - val_loss: 0.7939 - val_accuracy: 0.8900\n",
            "Epoch 38/50\n",
            "57/57 [==============================] - 0s 6ms/step - loss: 7.7798e-05 - accuracy: 1.0000 - val_loss: 0.7914 - val_accuracy: 0.8850\n",
            "Epoch 39/50\n",
            "57/57 [==============================] - 0s 5ms/step - loss: 7.3030e-05 - accuracy: 1.0000 - val_loss: 0.8001 - val_accuracy: 0.8900\n",
            "Epoch 40/50\n",
            "57/57 [==============================] - 0s 5ms/step - loss: 6.7886e-05 - accuracy: 1.0000 - val_loss: 0.8072 - val_accuracy: 0.8900\n",
            "Epoch 41/50\n",
            "57/57 [==============================] - 0s 5ms/step - loss: 6.2979e-05 - accuracy: 1.0000 - val_loss: 0.8124 - val_accuracy: 0.8900\n",
            "Epoch 42/50\n",
            "57/57 [==============================] - 0s 6ms/step - loss: 5.9428e-05 - accuracy: 1.0000 - val_loss: 0.8159 - val_accuracy: 0.8850\n",
            "Epoch 43/50\n",
            "57/57 [==============================] - 0s 5ms/step - loss: 5.5340e-05 - accuracy: 1.0000 - val_loss: 0.8210 - val_accuracy: 0.8900\n",
            "Epoch 44/50\n",
            "57/57 [==============================] - 0s 5ms/step - loss: 5.2565e-05 - accuracy: 1.0000 - val_loss: 0.8226 - val_accuracy: 0.8900\n",
            "Epoch 45/50\n",
            "57/57 [==============================] - 0s 5ms/step - loss: 4.8713e-05 - accuracy: 1.0000 - val_loss: 0.8298 - val_accuracy: 0.8900\n",
            "Epoch 46/50\n",
            "57/57 [==============================] - 0s 5ms/step - loss: 4.6125e-05 - accuracy: 1.0000 - val_loss: 0.8352 - val_accuracy: 0.8900\n",
            "Epoch 47/50\n",
            "57/57 [==============================] - 0s 5ms/step - loss: 4.3237e-05 - accuracy: 1.0000 - val_loss: 0.8360 - val_accuracy: 0.8900\n",
            "Epoch 48/50\n",
            "57/57 [==============================] - 0s 5ms/step - loss: 4.0661e-05 - accuracy: 1.0000 - val_loss: 0.8419 - val_accuracy: 0.8900\n",
            "Epoch 49/50\n",
            "57/57 [==============================] - 0s 5ms/step - loss: 3.8324e-05 - accuracy: 1.0000 - val_loss: 0.8485 - val_accuracy: 0.8900\n",
            "Epoch 50/50\n",
            "57/57 [==============================] - 0s 5ms/step - loss: 3.6045e-05 - accuracy: 1.0000 - val_loss: 0.8483 - val_accuracy: 0.8900\n"
          ]
        }
      ],
      "source": [
        "zM5 = keras.models.load_model('zM1.h5')\n",
        "zM5.compile(optimizer=keras.optimizers.Adam(learning_rate=1e-3),\n",
        "              loss='binary_crossentropy',\n",
        "              metrics=['accuracy'])\n",
        "\n",
        "history = zM5.fit(x_train, y_train5, epochs=50, validation_data=(x_test, y_test5), batch_size=32)\n",
        "\n",
        "zM5.save('zM5.h5')\n",
        "zM5.save_weights('ZM5_weights.h5')"
      ]
    },
    {
      "cell_type": "code",
      "execution_count": null,
      "metadata": {
        "id": "DgB5L90zmuIf"
      },
      "outputs": [],
      "source": [
        "zM5.save('/content/drive/My Drive/t_models/zM5.h5')\n",
        "zM5.save_weights('/content/drive/My Drive/t_models_weights/ZM5_weights.h5')"
      ]
    },
    {
      "cell_type": "code",
      "execution_count": null,
      "metadata": {
        "colab": {
          "base_uri": "https://localhost:8080/",
          "height": 430
        },
        "id": "3zB_9K1-d3U9",
        "outputId": "0c81782d-6658-4e4a-d4cd-8fd7aa0adfae"
      },
      "outputs": [
        {
          "data": {
            "image/png": "[encoded data removed]",
            "text/plain": [
              "<Figure size 640x480 with 1 Axes>"
            ]
          },
          "metadata": {},
          "output_type": "display_data"
        }
      ],
      "source": [
        "import matplotlib.pyplot as plt\n",
        "\n",
        "plt.plot(history.history['accuracy'],color='red',label='train')\n",
        "plt.plot(history.history['val_accuracy'],color='blue',label='validation')\n",
        "plt.legend()\n",
        "plt.show()"
      ]
    },
    {
      "cell_type": "markdown",
      "metadata": {
        "id": "VrFM43_ZB9YV"
      },
      "source": [
        "## T6"
      ]
    },
    {
      "cell_type": "code",
      "execution_count": null,
      "metadata": {
        "colab": {
          "base_uri": "https://localhost:8080/"
        },
        "id": "zfY6TuQPB_y1",
        "outputId": "b0a8762b-2034-45bb-d05b-7d8684a2a623"
      },
      "outputs": [
        {
          "data": {
            "text/plain": [
              "(1796, 28, 28, 1)"
            ]
          },
          "execution_count": 109,
          "metadata": {},
          "output_type": "execute_result"
        }
      ],
      "source": [
        "x_train, x_test, y_train6, y_test6 = train_test_split(X, y_t6, random_state=8, test_size = 0.10)\n",
        "x_train.shape"
      ]
    },
    {
      "cell_type": "code",
      "execution_count": null,
      "metadata": {
        "colab": {
          "base_uri": "https://localhost:8080/"
        },
        "id": "pumSrdUuCBb_",
        "outputId": "3c2cd831-6a74-432d-8e35-015752900ed9"
      },
      "outputs": [
        {
          "name": "stderr",
          "output_type": "stream",
          "text": [
            "WARNING:absl:`lr` is deprecated in Keras optimizer, please use `learning_rate` or use the legacy optimizer, e.g.,tf.keras.optimizers.legacy.RMSprop.\n"
          ]
        },
        {
          "name": "stdout",
          "output_type": "stream",
          "text": [
            "Epoch 1/50\n",
            "57/57 [==============================] - 2s 12ms/step - loss: 0.4052 - accuracy: 0.7984 - val_loss: 0.3216 - val_accuracy: 0.8550\n",
            "Epoch 2/50\n",
            "57/57 [==============================] - 0s 8ms/step - loss: 0.3195 - accuracy: 0.8563 - val_loss: 0.2412 - val_accuracy: 0.8950\n",
            "Epoch 3/50\n",
            "57/57 [==============================] - 0s 8ms/step - loss: 0.2935 - accuracy: 0.8680 - val_loss: 0.2702 - val_accuracy: 0.8600\n",
            "Epoch 4/50\n",
            "57/57 [==============================] - 1s 9ms/step - loss: 0.2703 - accuracy: 0.8769 - val_loss: 0.2328 - val_accuracy: 0.8750\n",
            "Epoch 5/50\n",
            "57/57 [==============================] - 0s 8ms/step - loss: 0.2534 - accuracy: 0.8859 - val_loss: 0.2951 - val_accuracy: 0.8550\n",
            "Epoch 6/50\n",
            "57/57 [==============================] - 0s 8ms/step - loss: 0.2405 - accuracy: 0.8970 - val_loss: 0.2218 - val_accuracy: 0.8900\n",
            "Epoch 7/50\n",
            "57/57 [==============================] - 0s 7ms/step - loss: 0.2191 - accuracy: 0.9020 - val_loss: 0.2541 - val_accuracy: 0.8950\n",
            "Epoch 8/50\n",
            "57/57 [==============================] - 0s 8ms/step - loss: 0.1996 - accuracy: 0.9165 - val_loss: 0.2553 - val_accuracy: 0.8800\n",
            "Epoch 9/50\n",
            "57/57 [==============================] - 0s 7ms/step - loss: 0.1843 - accuracy: 0.9215 - val_loss: 0.2715 - val_accuracy: 0.8750\n",
            "Epoch 10/50\n",
            "57/57 [==============================] - 0s 6ms/step - loss: 0.1685 - accuracy: 0.9265 - val_loss: 0.2755 - val_accuracy: 0.8600\n",
            "Epoch 11/50\n",
            "57/57 [==============================] - 1s 9ms/step - loss: 0.1399 - accuracy: 0.9388 - val_loss: 0.2978 - val_accuracy: 0.8550\n",
            "Epoch 12/50\n",
            "57/57 [==============================] - 0s 9ms/step - loss: 0.1218 - accuracy: 0.9516 - val_loss: 0.3636 - val_accuracy: 0.8500\n",
            "Epoch 13/50\n",
            "57/57 [==============================] - 1s 9ms/step - loss: 0.1028 - accuracy: 0.9499 - val_loss: 0.3187 - val_accuracy: 0.8500\n",
            "Epoch 14/50\n",
            "57/57 [==============================] - 0s 8ms/step - loss: 0.0913 - accuracy: 0.9633 - val_loss: 0.3933 - val_accuracy: 0.8550\n",
            "Epoch 15/50\n",
            "57/57 [==============================] - 0s 6ms/step - loss: 0.0726 - accuracy: 0.9738 - val_loss: 0.3964 - val_accuracy: 0.8500\n",
            "Epoch 16/50\n",
            "57/57 [==============================] - 0s 6ms/step - loss: 0.0579 - accuracy: 0.9772 - val_loss: 0.4691 - val_accuracy: 0.8850\n",
            "Epoch 17/50\n",
            "57/57 [==============================] - 0s 6ms/step - loss: 0.0464 - accuracy: 0.9839 - val_loss: 0.8121 - val_accuracy: 0.8300\n",
            "Epoch 18/50\n",
            "57/57 [==============================] - 0s 6ms/step - loss: 0.0466 - accuracy: 0.9844 - val_loss: 0.4553 - val_accuracy: 0.8850\n",
            "Epoch 19/50\n",
            "57/57 [==============================] - 0s 6ms/step - loss: 0.0363 - accuracy: 0.9894 - val_loss: 0.5489 - val_accuracy: 0.8500\n",
            "Epoch 20/50\n",
            "57/57 [==============================] - 0s 5ms/step - loss: 0.0221 - accuracy: 0.9955 - val_loss: 0.6919 - val_accuracy: 0.8550\n",
            "Epoch 21/50\n",
            "57/57 [==============================] - 0s 6ms/step - loss: 0.0228 - accuracy: 0.9911 - val_loss: 0.5989 - val_accuracy: 0.8650\n",
            "Epoch 22/50\n",
            "57/57 [==============================] - 0s 6ms/step - loss: 0.0133 - accuracy: 0.9955 - val_loss: 0.6911 - val_accuracy: 0.8650\n",
            "Epoch 23/50\n",
            "57/57 [==============================] - 0s 5ms/step - loss: 0.0120 - accuracy: 0.9955 - val_loss: 0.7081 - val_accuracy: 0.8650\n",
            "Epoch 24/50\n",
            "57/57 [==============================] - 0s 6ms/step - loss: 0.0104 - accuracy: 0.9967 - val_loss: 0.7706 - val_accuracy: 0.8700\n",
            "Epoch 25/50\n",
            "57/57 [==============================] - 0s 5ms/step - loss: 0.0125 - accuracy: 0.9950 - val_loss: 0.7533 - val_accuracy: 0.8850\n",
            "Epoch 26/50\n",
            "57/57 [==============================] - 0s 6ms/step - loss: 0.0036 - accuracy: 0.9994 - val_loss: 0.8086 - val_accuracy: 0.8500\n",
            "Epoch 27/50\n",
            "57/57 [==============================] - 0s 6ms/step - loss: 0.0029 - accuracy: 0.9994 - val_loss: 0.8219 - val_accuracy: 0.8700\n",
            "Epoch 28/50\n",
            "57/57 [==============================] - 0s 5ms/step - loss: 0.0112 - accuracy: 0.9978 - val_loss: 0.7897 - val_accuracy: 0.8700\n",
            "Epoch 29/50\n",
            "57/57 [==============================] - 0s 6ms/step - loss: 0.0043 - accuracy: 0.9989 - val_loss: 0.8295 - val_accuracy: 0.8750\n",
            "Epoch 30/50\n",
            "57/57 [==============================] - 0s 5ms/step - loss: 0.0022 - accuracy: 0.9994 - val_loss: 1.2404 - val_accuracy: 0.8650\n",
            "Epoch 31/50\n",
            "57/57 [==============================] - 0s 5ms/step - loss: 0.0068 - accuracy: 0.9972 - val_loss: 0.9445 - val_accuracy: 0.8700\n",
            "Epoch 32/50\n",
            "57/57 [==============================] - 0s 6ms/step - loss: 6.6936e-04 - accuracy: 1.0000 - val_loss: 0.9802 - val_accuracy: 0.8700\n",
            "Epoch 33/50\n",
            "57/57 [==============================] - 0s 5ms/step - loss: 4.8289e-04 - accuracy: 1.0000 - val_loss: 1.0271 - val_accuracy: 0.8750\n",
            "Epoch 34/50\n",
            "57/57 [==============================] - 0s 5ms/step - loss: 4.1980e-04 - accuracy: 1.0000 - val_loss: 1.0598 - val_accuracy: 0.8700\n",
            "Epoch 35/50\n",
            "57/57 [==============================] - 0s 5ms/step - loss: 4.0114e-04 - accuracy: 1.0000 - val_loss: 1.0902 - val_accuracy: 0.8700\n",
            "Epoch 36/50\n",
            "57/57 [==============================] - 0s 5ms/step - loss: 3.9497e-04 - accuracy: 1.0000 - val_loss: 1.1215 - val_accuracy: 0.8700\n",
            "Epoch 37/50\n",
            "57/57 [==============================] - 0s 6ms/step - loss: 3.9091e-04 - accuracy: 1.0000 - val_loss: 1.1314 - val_accuracy: 0.8700\n",
            "Epoch 38/50\n",
            "57/57 [==============================] - 0s 8ms/step - loss: 3.8780e-04 - accuracy: 1.0000 - val_loss: 1.1545 - val_accuracy: 0.8700\n",
            "Epoch 39/50\n",
            "57/57 [==============================] - 0s 8ms/step - loss: 3.8517e-04 - accuracy: 1.0000 - val_loss: 1.1662 - val_accuracy: 0.8700\n",
            "Epoch 40/50\n",
            "57/57 [==============================] - 0s 8ms/step - loss: 3.8311e-04 - accuracy: 1.0000 - val_loss: 1.1787 - val_accuracy: 0.8700\n",
            "Epoch 41/50\n",
            "57/57 [==============================] - 0s 9ms/step - loss: 3.8127e-04 - accuracy: 1.0000 - val_loss: 1.1954 - val_accuracy: 0.8700\n",
            "Epoch 42/50\n",
            "57/57 [==============================] - 0s 8ms/step - loss: 3.7960e-04 - accuracy: 1.0000 - val_loss: 1.2040 - val_accuracy: 0.8700\n",
            "Epoch 43/50\n",
            "57/57 [==============================] - 0s 8ms/step - loss: 3.7814e-04 - accuracy: 1.0000 - val_loss: 1.2130 - val_accuracy: 0.8700\n",
            "Epoch 44/50\n",
            "57/57 [==============================] - 1s 11ms/step - loss: 3.7677e-04 - accuracy: 1.0000 - val_loss: 1.2193 - val_accuracy: 0.8700\n",
            "Epoch 45/50\n",
            "57/57 [==============================] - 1s 11ms/step - loss: 3.7545e-04 - accuracy: 1.0000 - val_loss: 1.2269 - val_accuracy: 0.8700\n",
            "Epoch 46/50\n",
            "57/57 [==============================] - 1s 12ms/step - loss: 3.7423e-04 - accuracy: 1.0000 - val_loss: 1.2335 - val_accuracy: 0.8700\n",
            "Epoch 47/50\n",
            "57/57 [==============================] - 1s 16ms/step - loss: 3.7304e-04 - accuracy: 1.0000 - val_loss: 1.2414 - val_accuracy: 0.8700\n",
            "Epoch 48/50\n",
            "57/57 [==============================] - 1s 17ms/step - loss: 3.7194e-04 - accuracy: 1.0000 - val_loss: 1.2483 - val_accuracy: 0.8700\n",
            "Epoch 49/50\n",
            "57/57 [==============================] - 1s 20ms/step - loss: 3.7082e-04 - accuracy: 1.0000 - val_loss: 1.2541 - val_accuracy: 0.8700\n",
            "Epoch 50/50\n",
            "57/57 [==============================] - 1s 22ms/step - loss: 3.6975e-04 - accuracy: 1.0000 - val_loss: 1.2602 - val_accuracy: 0.8700\n"
          ]
        }
      ],
      "source": [
        "M6.compile(\n",
        "    optimizer=keras.optimizers.RMSprop(lr=1e-5),\n",
        "    loss='binary_crossentropy',\n",
        "    metrics=['accuracy']\n",
        "  )\n",
        "\n",
        "\n",
        "history = M6.fit(x_train, y_train6, epochs=50, validation_data=(x_test, y_test6), batch_size=32)"
      ]
    },
    {
      "cell_type": "code",
      "execution_count": null,
      "metadata": {
        "colab": {
          "base_uri": "https://localhost:8080/"
        },
        "id": "4n-EqmiHeSaP",
        "outputId": "fd1a352f-3923-4437-b5d6-a3aabe8a5eb7"
      },
      "outputs": [
        {
          "name": "stdout",
          "output_type": "stream",
          "text": [
            "Epoch 1/50\n",
            "57/57 [==============================] - 3s 13ms/step - loss: 0.4451 - accuracy: 0.7439 - val_loss: 0.2986 - val_accuracy: 0.8900\n",
            "Epoch 2/50\n",
            "57/57 [==============================] - 0s 8ms/step - loss: 0.3226 - accuracy: 0.8497 - val_loss: 0.2708 - val_accuracy: 0.8850\n",
            "Epoch 3/50\n",
            "57/57 [==============================] - 0s 6ms/step - loss: 0.3004 - accuracy: 0.8541 - val_loss: 0.2893 - val_accuracy: 0.8600\n",
            "Epoch 4/50\n",
            "57/57 [==============================] - 0s 6ms/step - loss: 0.2692 - accuracy: 0.8758 - val_loss: 0.2415 - val_accuracy: 0.8750\n",
            "Epoch 5/50\n",
            "57/57 [==============================] - 0s 5ms/step - loss: 0.2493 - accuracy: 0.8881 - val_loss: 0.2415 - val_accuracy: 0.8650\n",
            "Epoch 6/50\n",
            "57/57 [==============================] - 0s 6ms/step - loss: 0.2156 - accuracy: 0.9031 - val_loss: 0.2425 - val_accuracy: 0.8800\n",
            "Epoch 7/50\n",
            "57/57 [==============================] - 0s 6ms/step - loss: 0.1963 - accuracy: 0.9137 - val_loss: 0.2652 - val_accuracy: 0.8800\n",
            "Epoch 8/50\n",
            "57/57 [==============================] - 0s 5ms/step - loss: 0.1672 - accuracy: 0.9349 - val_loss: 0.3285 - val_accuracy: 0.8650\n",
            "Epoch 9/50\n",
            "57/57 [==============================] - 0s 6ms/step - loss: 0.1372 - accuracy: 0.9399 - val_loss: 0.3304 - val_accuracy: 0.8700\n",
            "Epoch 10/50\n",
            "57/57 [==============================] - 0s 5ms/step - loss: 0.1110 - accuracy: 0.9588 - val_loss: 0.3731 - val_accuracy: 0.8550\n",
            "Epoch 11/50\n",
            "57/57 [==============================] - 0s 5ms/step - loss: 0.0890 - accuracy: 0.9655 - val_loss: 0.3886 - val_accuracy: 0.8650\n",
            "Epoch 12/50\n",
            "57/57 [==============================] - 0s 5ms/step - loss: 0.0522 - accuracy: 0.9855 - val_loss: 0.4761 - val_accuracy: 0.8700\n",
            "Epoch 13/50\n",
            "57/57 [==============================] - 0s 5ms/step - loss: 0.0354 - accuracy: 0.9883 - val_loss: 0.5012 - val_accuracy: 0.8700\n",
            "Epoch 14/50\n",
            "57/57 [==============================] - 0s 5ms/step - loss: 0.0249 - accuracy: 0.9928 - val_loss: 0.5533 - val_accuracy: 0.8600\n",
            "Epoch 15/50\n",
            "57/57 [==============================] - 0s 6ms/step - loss: 0.0108 - accuracy: 0.9994 - val_loss: 0.6636 - val_accuracy: 0.8650\n",
            "Epoch 16/50\n",
            "57/57 [==============================] - 0s 5ms/step - loss: 0.0160 - accuracy: 0.9950 - val_loss: 0.6100 - val_accuracy: 0.8550\n",
            "Epoch 17/50\n",
            "57/57 [==============================] - 0s 5ms/step - loss: 0.0071 - accuracy: 0.9989 - val_loss: 0.7682 - val_accuracy: 0.8450\n",
            "Epoch 18/50\n",
            "57/57 [==============================] - 0s 5ms/step - loss: 0.0030 - accuracy: 1.0000 - val_loss: 0.8726 - val_accuracy: 0.8400\n",
            "Epoch 19/50\n",
            "57/57 [==============================] - 0s 5ms/step - loss: 0.0087 - accuracy: 0.9983 - val_loss: 0.8013 - val_accuracy: 0.8300\n",
            "Epoch 20/50\n",
            "57/57 [==============================] - 0s 5ms/step - loss: 0.0024 - accuracy: 1.0000 - val_loss: 0.8564 - val_accuracy: 0.8500\n",
            "Epoch 21/50\n",
            "57/57 [==============================] - 0s 5ms/step - loss: 9.4877e-04 - accuracy: 1.0000 - val_loss: 0.8766 - val_accuracy: 0.8350\n",
            "Epoch 22/50\n",
            "57/57 [==============================] - 0s 5ms/step - loss: 6.7605e-04 - accuracy: 1.0000 - val_loss: 0.9024 - val_accuracy: 0.8300\n",
            "Epoch 23/50\n",
            "57/57 [==============================] - 0s 5ms/step - loss: 5.3307e-04 - accuracy: 1.0000 - val_loss: 0.9231 - val_accuracy: 0.8300\n",
            "Epoch 24/50\n",
            "57/57 [==============================] - 0s 5ms/step - loss: 4.4354e-04 - accuracy: 1.0000 - val_loss: 0.9445 - val_accuracy: 0.8300\n",
            "Epoch 25/50\n",
            "57/57 [==============================] - 0s 6ms/step - loss: 3.7787e-04 - accuracy: 1.0000 - val_loss: 0.9611 - val_accuracy: 0.8350\n",
            "Epoch 26/50\n",
            "57/57 [==============================] - 0s 6ms/step - loss: 3.2502e-04 - accuracy: 1.0000 - val_loss: 0.9778 - val_accuracy: 0.8350\n",
            "Epoch 27/50\n",
            "57/57 [==============================] - 0s 5ms/step - loss: 2.9122e-04 - accuracy: 1.0000 - val_loss: 0.9920 - val_accuracy: 0.8350\n",
            "Epoch 28/50\n",
            "57/57 [==============================] - 0s 5ms/step - loss: 2.5816e-04 - accuracy: 1.0000 - val_loss: 1.0057 - val_accuracy: 0.8350\n",
            "Epoch 29/50\n",
            "57/57 [==============================] - 0s 6ms/step - loss: 2.5907e-04 - accuracy: 1.0000 - val_loss: 1.0151 - val_accuracy: 0.8350\n",
            "Epoch 30/50\n",
            "57/57 [==============================] - 0s 5ms/step - loss: 2.0895e-04 - accuracy: 1.0000 - val_loss: 1.0294 - val_accuracy: 0.8350\n",
            "Epoch 31/50\n",
            "57/57 [==============================] - 0s 5ms/step - loss: 1.8476e-04 - accuracy: 1.0000 - val_loss: 1.0397 - val_accuracy: 0.8350\n",
            "Epoch 32/50\n",
            "57/57 [==============================] - 0s 6ms/step - loss: 1.6823e-04 - accuracy: 1.0000 - val_loss: 1.0528 - val_accuracy: 0.8350\n",
            "Epoch 33/50\n",
            "57/57 [==============================] - 0s 6ms/step - loss: 1.5266e-04 - accuracy: 1.0000 - val_loss: 1.0615 - val_accuracy: 0.8350\n",
            "Epoch 34/50\n",
            "57/57 [==============================] - 0s 7ms/step - loss: 1.4014e-04 - accuracy: 1.0000 - val_loss: 1.0761 - val_accuracy: 0.8350\n",
            "Epoch 35/50\n",
            "57/57 [==============================] - 0s 8ms/step - loss: 1.2886e-04 - accuracy: 1.0000 - val_loss: 1.0796 - val_accuracy: 0.8350\n",
            "Epoch 36/50\n",
            "57/57 [==============================] - 0s 8ms/step - loss: 1.1988e-04 - accuracy: 1.0000 - val_loss: 1.0912 - val_accuracy: 0.8350\n",
            "Epoch 37/50\n",
            "57/57 [==============================] - 0s 8ms/step - loss: 1.0893e-04 - accuracy: 1.0000 - val_loss: 1.1005 - val_accuracy: 0.8350\n",
            "Epoch 38/50\n",
            "57/57 [==============================] - 0s 8ms/step - loss: 1.0121e-04 - accuracy: 1.0000 - val_loss: 1.1056 - val_accuracy: 0.8350\n",
            "Epoch 39/50\n",
            "57/57 [==============================] - 0s 8ms/step - loss: 9.3494e-05 - accuracy: 1.0000 - val_loss: 1.1186 - val_accuracy: 0.8350\n",
            "Epoch 40/50\n",
            "57/57 [==============================] - 0s 9ms/step - loss: 8.9101e-05 - accuracy: 1.0000 - val_loss: 1.1257 - val_accuracy: 0.8350\n",
            "Epoch 41/50\n",
            "57/57 [==============================] - 0s 8ms/step - loss: 8.1533e-05 - accuracy: 1.0000 - val_loss: 1.1335 - val_accuracy: 0.8400\n",
            "Epoch 42/50\n",
            "57/57 [==============================] - 0s 8ms/step - loss: 7.4820e-05 - accuracy: 1.0000 - val_loss: 1.1466 - val_accuracy: 0.8350\n",
            "Epoch 43/50\n",
            "57/57 [==============================] - 0s 7ms/step - loss: 7.1265e-05 - accuracy: 1.0000 - val_loss: 1.1509 - val_accuracy: 0.8350\n",
            "Epoch 44/50\n",
            "57/57 [==============================] - 0s 6ms/step - loss: 6.7564e-05 - accuracy: 1.0000 - val_loss: 1.1506 - val_accuracy: 0.8300\n",
            "Epoch 45/50\n",
            "57/57 [==============================] - 0s 5ms/step - loss: 6.1737e-05 - accuracy: 1.0000 - val_loss: 1.1650 - val_accuracy: 0.8350\n",
            "Epoch 46/50\n",
            "57/57 [==============================] - 0s 5ms/step - loss: 5.7523e-05 - accuracy: 1.0000 - val_loss: 1.1705 - val_accuracy: 0.8350\n",
            "Epoch 47/50\n",
            "57/57 [==============================] - 0s 6ms/step - loss: 5.3993e-05 - accuracy: 1.0000 - val_loss: 1.1809 - val_accuracy: 0.8350\n",
            "Epoch 48/50\n",
            "57/57 [==============================] - 0s 5ms/step - loss: 5.0817e-05 - accuracy: 1.0000 - val_loss: 1.1873 - val_accuracy: 0.8400\n",
            "Epoch 49/50\n",
            "57/57 [==============================] - 0s 5ms/step - loss: 4.7589e-05 - accuracy: 1.0000 - val_loss: 1.1959 - val_accuracy: 0.8400\n",
            "Epoch 50/50\n",
            "57/57 [==============================] - 0s 6ms/step - loss: 4.4714e-05 - accuracy: 1.0000 - val_loss: 1.2031 - val_accuracy: 0.8400\n"
          ]
        }
      ],
      "source": [
        "zM6 = keras.models.load_model('zM1.h5')\n",
        "zM6.compile(optimizer=keras.optimizers.Adam(learning_rate=1e-3),\n",
        "              loss='binary_crossentropy',\n",
        "              metrics=['accuracy'])\n",
        "\n",
        "history = zM6.fit(x_train, y_train6, epochs=50, validation_data=(x_test, y_test6), batch_size=32)\n",
        "\n",
        "zM6.save('zM6.h5')\n",
        "zM6.save_weights('ZM6_weights.h5')"
      ]
    },
    {
      "cell_type": "code",
      "execution_count": null,
      "metadata": {
        "id": "LzCa3YIhH7ma"
      },
      "outputs": [],
      "source": [
        "import matplotlib.pyplot as plt\n",
        "\n",
        "plt.plot(history.history['accuracy'],color='red',label='train')\n",
        "plt.plot(history.history['val_accuracy'],color='blue',label='validation')\n",
        "plt.legend()\n",
        "plt.show()"
      ]
    },
    {
      "cell_type": "code",
      "execution_count": null,
      "metadata": {
        "id": "FNv7UuwiPpyl"
      },
      "outputs": [],
      "source": [
        "M6.save('zM6.h5',M6)\n",
        "M6.save_weights('zModel6_weights.h5')"
      ]
    },
    {
      "cell_type": "code",
      "execution_count": null,
      "metadata": {
        "id": "0C5G3V-Smfyp"
      },
      "outputs": [],
      "source": [
        "M6.save('/content/drive/My Drive/t_models/zM6.h5')\n",
        "M6.save_weights('/content/drive/My Drive/t_models_weights/ZM6_weights.h5')"
      ]
    },
    {
      "cell_type": "markdown",
      "metadata": {
        "id": "ExH-ni11CNPa"
      },
      "source": [
        "## T7"
      ]
    },
    {
      "cell_type": "code",
      "execution_count": null,
      "metadata": {
        "colab": {
          "base_uri": "https://localhost:8080/"
        },
        "id": "p-lkDB9tCPTv",
        "outputId": "18578655-3f5d-48a7-8fb7-96b1faf2e4c6"
      },
      "outputs": [
        {
          "data": {
            "text/plain": [
              "(1796, 28, 28, 1)"
            ]
          },
          "execution_count": 115,
          "metadata": {},
          "output_type": "execute_result"
        }
      ],
      "source": [
        "x_train, x_test, y_train7, y_test7 = train_test_split(X, y_t7, random_state=8, test_size = 0.10)\n",
        "x_train.shape"
      ]
    },
    {
      "cell_type": "code",
      "execution_count": null,
      "metadata": {
        "colab": {
          "base_uri": "https://localhost:8080/"
        },
        "id": "Y3LjcTtDCRef",
        "outputId": "7a30a1ed-f691-4b89-fb8f-22535729f43d"
      },
      "outputs": [
        {
          "name": "stderr",
          "output_type": "stream",
          "text": [
            "WARNING:absl:`lr` is deprecated in Keras optimizer, please use `learning_rate` or use the legacy optimizer, e.g.,tf.keras.optimizers.legacy.RMSprop.\n"
          ]
        },
        {
          "name": "stdout",
          "output_type": "stream",
          "text": [
            "Epoch 1/50\n",
            "57/57 [==============================] - 2s 9ms/step - loss: 0.5236 - accuracy: 0.7589 - val_loss: 0.6217 - val_accuracy: 0.7700\n",
            "Epoch 2/50\n",
            "57/57 [==============================] - 0s 6ms/step - loss: 0.4342 - accuracy: 0.8096 - val_loss: 0.5347 - val_accuracy: 0.7800\n",
            "Epoch 3/50\n",
            "57/57 [==============================] - 0s 6ms/step - loss: 0.3806 - accuracy: 0.8330 - val_loss: 0.4148 - val_accuracy: 0.8200\n",
            "Epoch 4/50\n",
            "57/57 [==============================] - 0s 5ms/step - loss: 0.3271 - accuracy: 0.8591 - val_loss: 0.4074 - val_accuracy: 0.8300\n",
            "Epoch 5/50\n",
            "57/57 [==============================] - 0s 5ms/step - loss: 0.2898 - accuracy: 0.8769 - val_loss: 0.4978 - val_accuracy: 0.8300\n",
            "Epoch 6/50\n",
            "57/57 [==============================] - 0s 6ms/step - loss: 0.2704 - accuracy: 0.8853 - val_loss: 0.4190 - val_accuracy: 0.8100\n",
            "Epoch 7/50\n",
            "57/57 [==============================] - 0s 8ms/step - loss: 0.2397 - accuracy: 0.8937 - val_loss: 0.4208 - val_accuracy: 0.8450\n",
            "Epoch 8/50\n",
            "57/57 [==============================] - 0s 8ms/step - loss: 0.2109 - accuracy: 0.9098 - val_loss: 0.4011 - val_accuracy: 0.8300\n",
            "Epoch 9/50\n",
            "57/57 [==============================] - 0s 7ms/step - loss: 0.1945 - accuracy: 0.9204 - val_loss: 0.4649 - val_accuracy: 0.8100\n",
            "Epoch 10/50\n",
            "57/57 [==============================] - 0s 7ms/step - loss: 0.1697 - accuracy: 0.9298 - val_loss: 0.4881 - val_accuracy: 0.8300\n",
            "Epoch 11/50\n",
            "57/57 [==============================] - 0s 8ms/step - loss: 0.1418 - accuracy: 0.9438 - val_loss: 0.5918 - val_accuracy: 0.7650\n",
            "Epoch 12/50\n",
            "57/57 [==============================] - 0s 8ms/step - loss: 0.1176 - accuracy: 0.9549 - val_loss: 0.6729 - val_accuracy: 0.7950\n",
            "Epoch 13/50\n",
            "57/57 [==============================] - 0s 8ms/step - loss: 0.1053 - accuracy: 0.9555 - val_loss: 0.5718 - val_accuracy: 0.7900\n",
            "Epoch 14/50\n",
            "57/57 [==============================] - 0s 8ms/step - loss: 0.0892 - accuracy: 0.9649 - val_loss: 0.5833 - val_accuracy: 0.8350\n",
            "Epoch 15/50\n",
            "57/57 [==============================] - 0s 8ms/step - loss: 0.0692 - accuracy: 0.9733 - val_loss: 0.6845 - val_accuracy: 0.8250\n",
            "Epoch 16/50\n",
            "57/57 [==============================] - 0s 8ms/step - loss: 0.0542 - accuracy: 0.9816 - val_loss: 0.7170 - val_accuracy: 0.8200\n",
            "Epoch 17/50\n",
            "57/57 [==============================] - 0s 8ms/step - loss: 0.0398 - accuracy: 0.9861 - val_loss: 0.8156 - val_accuracy: 0.8000\n",
            "Epoch 18/50\n",
            "57/57 [==============================] - 0s 8ms/step - loss: 0.0287 - accuracy: 0.9900 - val_loss: 0.9239 - val_accuracy: 0.8150\n",
            "Epoch 19/50\n",
            "57/57 [==============================] - 0s 8ms/step - loss: 0.0288 - accuracy: 0.9911 - val_loss: 0.9512 - val_accuracy: 0.8200\n",
            "Epoch 20/50\n",
            "57/57 [==============================] - 0s 7ms/step - loss: 0.0203 - accuracy: 0.9922 - val_loss: 1.0853 - val_accuracy: 0.8300\n",
            "Epoch 21/50\n",
            "57/57 [==============================] - 0s 8ms/step - loss: 0.0203 - accuracy: 0.9933 - val_loss: 0.9873 - val_accuracy: 0.8200\n",
            "Epoch 22/50\n",
            "57/57 [==============================] - 0s 8ms/step - loss: 0.0116 - accuracy: 0.9978 - val_loss: 1.1194 - val_accuracy: 0.8050\n",
            "Epoch 23/50\n",
            "57/57 [==============================] - 0s 9ms/step - loss: 0.0083 - accuracy: 0.9994 - val_loss: 1.1427 - val_accuracy: 0.8300\n",
            "Epoch 24/50\n",
            "57/57 [==============================] - 0s 7ms/step - loss: 0.0072 - accuracy: 0.9967 - val_loss: 1.1903 - val_accuracy: 0.7850\n",
            "Epoch 25/50\n",
            "57/57 [==============================] - 0s 6ms/step - loss: 0.0091 - accuracy: 0.9983 - val_loss: 1.1201 - val_accuracy: 0.8050\n",
            "Epoch 26/50\n",
            "57/57 [==============================] - 0s 6ms/step - loss: 0.0019 - accuracy: 1.0000 - val_loss: 1.3966 - val_accuracy: 0.7900\n",
            "Epoch 27/50\n",
            "57/57 [==============================] - 0s 6ms/step - loss: 0.0045 - accuracy: 0.9983 - val_loss: 1.3766 - val_accuracy: 0.8150\n",
            "Epoch 28/50\n",
            "57/57 [==============================] - 0s 5ms/step - loss: 6.0116e-04 - accuracy: 1.0000 - val_loss: 1.4949 - val_accuracy: 0.8100\n",
            "Epoch 29/50\n",
            "57/57 [==============================] - 0s 5ms/step - loss: 5.1680e-04 - accuracy: 0.9994 - val_loss: 1.5631 - val_accuracy: 0.8200\n",
            "Epoch 30/50\n",
            "57/57 [==============================] - 0s 5ms/step - loss: 4.1852e-04 - accuracy: 1.0000 - val_loss: 1.6503 - val_accuracy: 0.8250\n",
            "Epoch 31/50\n",
            "57/57 [==============================] - 0s 5ms/step - loss: 3.9062e-04 - accuracy: 1.0000 - val_loss: 1.7032 - val_accuracy: 0.8200\n",
            "Epoch 32/50\n",
            "57/57 [==============================] - 0s 6ms/step - loss: 3.7707e-04 - accuracy: 1.0000 - val_loss: 1.7394 - val_accuracy: 0.8150\n",
            "Epoch 33/50\n",
            "57/57 [==============================] - 0s 5ms/step - loss: 3.6899e-04 - accuracy: 1.0000 - val_loss: 1.7907 - val_accuracy: 0.8100\n",
            "Epoch 34/50\n",
            "57/57 [==============================] - 0s 5ms/step - loss: 3.6604e-04 - accuracy: 1.0000 - val_loss: 1.8082 - val_accuracy: 0.8150\n",
            "Epoch 35/50\n",
            "57/57 [==============================] - 0s 6ms/step - loss: 3.6013e-04 - accuracy: 1.0000 - val_loss: 1.8325 - val_accuracy: 0.8150\n",
            "Epoch 36/50\n",
            "57/57 [==============================] - 0s 5ms/step - loss: 3.5689e-04 - accuracy: 1.0000 - val_loss: 1.8516 - val_accuracy: 0.8150\n",
            "Epoch 37/50\n",
            "57/57 [==============================] - 0s 5ms/step - loss: 3.5432e-04 - accuracy: 1.0000 - val_loss: 1.8722 - val_accuracy: 0.8150\n",
            "Epoch 38/50\n",
            "57/57 [==============================] - 0s 5ms/step - loss: 3.5232e-04 - accuracy: 1.0000 - val_loss: 1.8914 - val_accuracy: 0.8150\n",
            "Epoch 39/50\n",
            "57/57 [==============================] - 0s 6ms/step - loss: 3.5041e-04 - accuracy: 1.0000 - val_loss: 1.9068 - val_accuracy: 0.8150\n",
            "Epoch 40/50\n",
            "57/57 [==============================] - 0s 6ms/step - loss: 3.4880e-04 - accuracy: 1.0000 - val_loss: 1.9192 - val_accuracy: 0.8150\n",
            "Epoch 41/50\n",
            "57/57 [==============================] - 0s 5ms/step - loss: 3.4737e-04 - accuracy: 1.0000 - val_loss: 1.9350 - val_accuracy: 0.8150\n",
            "Epoch 42/50\n",
            "57/57 [==============================] - 0s 7ms/step - loss: 3.4604e-04 - accuracy: 1.0000 - val_loss: 1.9477 - val_accuracy: 0.8150\n",
            "Epoch 43/50\n",
            "57/57 [==============================] - 0s 7ms/step - loss: 3.4476e-04 - accuracy: 1.0000 - val_loss: 1.9615 - val_accuracy: 0.8150\n",
            "Epoch 44/50\n",
            "57/57 [==============================] - 0s 8ms/step - loss: 3.4350e-04 - accuracy: 1.0000 - val_loss: 1.9717 - val_accuracy: 0.8150\n",
            "Epoch 45/50\n",
            "57/57 [==============================] - 0s 8ms/step - loss: 3.4234e-04 - accuracy: 1.0000 - val_loss: 1.9827 - val_accuracy: 0.8150\n",
            "Epoch 46/50\n",
            "57/57 [==============================] - 0s 9ms/step - loss: 3.4119e-04 - accuracy: 1.0000 - val_loss: 1.9931 - val_accuracy: 0.8150\n",
            "Epoch 47/50\n",
            "57/57 [==============================] - 0s 8ms/step - loss: 3.4011e-04 - accuracy: 1.0000 - val_loss: 2.0020 - val_accuracy: 0.8150\n",
            "Epoch 48/50\n",
            "57/57 [==============================] - 1s 9ms/step - loss: 3.3905e-04 - accuracy: 1.0000 - val_loss: 2.0104 - val_accuracy: 0.8150\n",
            "Epoch 49/50\n",
            "57/57 [==============================] - 0s 8ms/step - loss: 3.3804e-04 - accuracy: 1.0000 - val_loss: 2.0186 - val_accuracy: 0.8150\n",
            "Epoch 50/50\n",
            "57/57 [==============================] - 0s 8ms/step - loss: 3.3708e-04 - accuracy: 1.0000 - val_loss: 2.0273 - val_accuracy: 0.8150\n"
          ]
        }
      ],
      "source": [
        "M7.compile(\n",
        "    optimizer=keras.optimizers.RMSprop(lr=1e-5),\n",
        "    loss='binary_crossentropy',\n",
        "    metrics=['accuracy']\n",
        "  )\n",
        "\n",
        "\n",
        "history = M7.fit(x_train, y_train7, epochs=50, validation_data=(x_test, y_test7), batch_size=32)"
      ]
    },
    {
      "cell_type": "code",
      "execution_count": null,
      "metadata": {
        "id": "guZaJICNH8ex"
      },
      "outputs": [],
      "source": [
        "import matplotlib.pyplot as plt\n",
        "\n",
        "plt.plot(history.history['accuracy'],color='red',label='train')\n",
        "plt.plot(history.history['val_accuracy'],color='blue',label='validation')\n",
        "plt.legend()\n",
        "plt.show()"
      ]
    },
    {
      "cell_type": "code",
      "execution_count": null,
      "metadata": {
        "id": "QsIP3kF-PtxU"
      },
      "outputs": [],
      "source": [
        "model.save('M7.h5',M7)\n",
        "M7.save_weights('model7_weights.h5')"
      ]
    },
    {
      "cell_type": "code",
      "execution_count": null,
      "metadata": {
        "colab": {
          "base_uri": "https://localhost:8080/"
        },
        "id": "8BZmBdY4fsUc",
        "outputId": "5b307108-c411-407d-b8bc-055f4fac691c"
      },
      "outputs": [
        {
          "name": "stdout",
          "output_type": "stream",
          "text": [
            "Epoch 1/50\n",
            "57/57 [==============================] - 3s 12ms/step - loss: 0.5304 - accuracy: 0.7483 - val_loss: 0.5058 - val_accuracy: 0.7750\n",
            "Epoch 2/50\n",
            "57/57 [==============================] - 0s 8ms/step - loss: 0.4371 - accuracy: 0.8107 - val_loss: 0.4435 - val_accuracy: 0.8150\n",
            "Epoch 3/50\n",
            "57/57 [==============================] - 0s 9ms/step - loss: 0.3718 - accuracy: 0.8363 - val_loss: 0.4038 - val_accuracy: 0.8100\n",
            "Epoch 4/50\n",
            "57/57 [==============================] - 1s 11ms/step - loss: 0.3113 - accuracy: 0.8641 - val_loss: 0.4050 - val_accuracy: 0.8250\n",
            "Epoch 5/50\n",
            "57/57 [==============================] - 1s 10ms/step - loss: 0.2679 - accuracy: 0.8925 - val_loss: 0.3826 - val_accuracy: 0.8600\n",
            "Epoch 6/50\n",
            "57/57 [==============================] - 0s 8ms/step - loss: 0.2230 - accuracy: 0.9081 - val_loss: 0.3904 - val_accuracy: 0.8300\n",
            "Epoch 7/50\n",
            "57/57 [==============================] - 1s 9ms/step - loss: 0.1875 - accuracy: 0.9287 - val_loss: 0.4776 - val_accuracy: 0.7850\n",
            "Epoch 8/50\n",
            "57/57 [==============================] - 1s 21ms/step - loss: 0.1572 - accuracy: 0.9399 - val_loss: 0.5214 - val_accuracy: 0.7950\n",
            "Epoch 9/50\n",
            "57/57 [==============================] - 1s 13ms/step - loss: 0.1134 - accuracy: 0.9549 - val_loss: 0.5295 - val_accuracy: 0.8150\n",
            "Epoch 10/50\n",
            "57/57 [==============================] - 1s 13ms/step - loss: 0.0774 - accuracy: 0.9722 - val_loss: 0.5887 - val_accuracy: 0.8200\n",
            "Epoch 11/50\n",
            "57/57 [==============================] - 0s 8ms/step - loss: 0.0492 - accuracy: 0.9839 - val_loss: 0.7330 - val_accuracy: 0.8150\n",
            "Epoch 12/50\n",
            "57/57 [==============================] - 0s 6ms/step - loss: 0.0486 - accuracy: 0.9827 - val_loss: 0.7417 - val_accuracy: 0.8350\n",
            "Epoch 13/50\n",
            "57/57 [==============================] - 0s 6ms/step - loss: 0.0263 - accuracy: 0.9916 - val_loss: 0.8112 - val_accuracy: 0.8000\n",
            "Epoch 14/50\n",
            "57/57 [==============================] - 0s 6ms/step - loss: 0.0114 - accuracy: 0.9983 - val_loss: 0.9195 - val_accuracy: 0.8150\n",
            "Epoch 15/50\n",
            "57/57 [==============================] - 0s 6ms/step - loss: 0.0077 - accuracy: 0.9983 - val_loss: 0.9956 - val_accuracy: 0.8150\n",
            "Epoch 16/50\n",
            "57/57 [==============================] - 0s 6ms/step - loss: 0.0159 - accuracy: 0.9944 - val_loss: 0.9996 - val_accuracy: 0.8100\n",
            "Epoch 17/50\n",
            "57/57 [==============================] - 0s 5ms/step - loss: 0.0074 - accuracy: 0.9983 - val_loss: 1.0070 - val_accuracy: 0.8050\n",
            "Epoch 18/50\n",
            "57/57 [==============================] - 0s 5ms/step - loss: 0.0020 - accuracy: 1.0000 - val_loss: 1.0520 - val_accuracy: 0.8100\n",
            "Epoch 19/50\n",
            "57/57 [==============================] - 0s 6ms/step - loss: 0.0011 - accuracy: 1.0000 - val_loss: 1.1081 - val_accuracy: 0.8050\n",
            "Epoch 20/50\n",
            "57/57 [==============================] - 0s 6ms/step - loss: 8.5386e-04 - accuracy: 1.0000 - val_loss: 1.1416 - val_accuracy: 0.8100\n",
            "Epoch 21/50\n",
            "57/57 [==============================] - 0s 5ms/step - loss: 6.6995e-04 - accuracy: 1.0000 - val_loss: 1.1709 - val_accuracy: 0.8050\n",
            "Epoch 22/50\n",
            "57/57 [==============================] - 0s 6ms/step - loss: 5.4940e-04 - accuracy: 1.0000 - val_loss: 1.1997 - val_accuracy: 0.8050\n",
            "Epoch 23/50\n",
            "57/57 [==============================] - 0s 5ms/step - loss: 4.7054e-04 - accuracy: 1.0000 - val_loss: 1.2158 - val_accuracy: 0.8050\n",
            "Epoch 24/50\n",
            "57/57 [==============================] - 0s 6ms/step - loss: 4.0778e-04 - accuracy: 1.0000 - val_loss: 1.2438 - val_accuracy: 0.8050\n",
            "Epoch 25/50\n",
            "57/57 [==============================] - 0s 6ms/step - loss: 3.3891e-04 - accuracy: 1.0000 - val_loss: 1.2701 - val_accuracy: 0.8000\n",
            "Epoch 26/50\n",
            "57/57 [==============================] - 0s 6ms/step - loss: 2.8899e-04 - accuracy: 1.0000 - val_loss: 1.2793 - val_accuracy: 0.8050\n",
            "Epoch 27/50\n",
            "57/57 [==============================] - 0s 6ms/step - loss: 2.5446e-04 - accuracy: 1.0000 - val_loss: 1.3024 - val_accuracy: 0.7950\n",
            "Epoch 28/50\n",
            "57/57 [==============================] - 0s 6ms/step - loss: 2.1136e-04 - accuracy: 1.0000 - val_loss: 1.3232 - val_accuracy: 0.7950\n",
            "Epoch 29/50\n",
            "57/57 [==============================] - 0s 6ms/step - loss: 1.7914e-04 - accuracy: 1.0000 - val_loss: 1.3467 - val_accuracy: 0.8000\n",
            "Epoch 30/50\n",
            "57/57 [==============================] - 0s 7ms/step - loss: 1.5061e-04 - accuracy: 1.0000 - val_loss: 1.3555 - val_accuracy: 0.7950\n",
            "Epoch 31/50\n",
            "57/57 [==============================] - 0s 8ms/step - loss: 1.2966e-04 - accuracy: 1.0000 - val_loss: 1.3688 - val_accuracy: 0.7950\n",
            "Epoch 32/50\n",
            "57/57 [==============================] - 0s 8ms/step - loss: 1.1090e-04 - accuracy: 1.0000 - val_loss: 1.3927 - val_accuracy: 0.8000\n",
            "Epoch 33/50\n",
            "57/57 [==============================] - 0s 8ms/step - loss: 9.7150e-05 - accuracy: 1.0000 - val_loss: 1.4064 - val_accuracy: 0.7900\n",
            "Epoch 34/50\n",
            "57/57 [==============================] - 0s 8ms/step - loss: 8.4427e-05 - accuracy: 1.0000 - val_loss: 1.4112 - val_accuracy: 0.7900\n",
            "Epoch 35/50\n",
            "57/57 [==============================] - 0s 8ms/step - loss: 7.5091e-05 - accuracy: 1.0000 - val_loss: 1.4268 - val_accuracy: 0.7950\n",
            "Epoch 36/50\n",
            "57/57 [==============================] - 0s 9ms/step - loss: 6.4059e-05 - accuracy: 1.0000 - val_loss: 1.4521 - val_accuracy: 0.7900\n",
            "Epoch 37/50\n",
            "57/57 [==============================] - 0s 9ms/step - loss: 5.9572e-05 - accuracy: 1.0000 - val_loss: 1.4499 - val_accuracy: 0.7900\n",
            "Epoch 38/50\n",
            "57/57 [==============================] - 0s 8ms/step - loss: 5.4893e-05 - accuracy: 1.0000 - val_loss: 1.4664 - val_accuracy: 0.7900\n",
            "Epoch 39/50\n",
            "57/57 [==============================] - 0s 6ms/step - loss: 4.6017e-05 - accuracy: 1.0000 - val_loss: 1.4739 - val_accuracy: 0.7900\n",
            "Epoch 40/50\n",
            "57/57 [==============================] - 0s 6ms/step - loss: 4.0349e-05 - accuracy: 1.0000 - val_loss: 1.4910 - val_accuracy: 0.7900\n",
            "Epoch 41/50\n",
            "57/57 [==============================] - 0s 6ms/step - loss: 3.6546e-05 - accuracy: 1.0000 - val_loss: 1.4926 - val_accuracy: 0.7950\n",
            "Epoch 42/50\n",
            "57/57 [==============================] - 0s 6ms/step - loss: 3.4301e-05 - accuracy: 1.0000 - val_loss: 1.4899 - val_accuracy: 0.7950\n",
            "Epoch 43/50\n",
            "57/57 [==============================] - 0s 6ms/step - loss: 3.0624e-05 - accuracy: 1.0000 - val_loss: 1.5184 - val_accuracy: 0.7950\n",
            "Epoch 44/50\n",
            "57/57 [==============================] - 0s 6ms/step - loss: 2.7723e-05 - accuracy: 1.0000 - val_loss: 1.5130 - val_accuracy: 0.7900\n",
            "Epoch 45/50\n",
            "57/57 [==============================] - 0s 6ms/step - loss: 2.5002e-05 - accuracy: 1.0000 - val_loss: 1.5388 - val_accuracy: 0.7950\n",
            "Epoch 46/50\n",
            "57/57 [==============================] - 0s 5ms/step - loss: 2.3299e-05 - accuracy: 1.0000 - val_loss: 1.5225 - val_accuracy: 0.7900\n",
            "Epoch 47/50\n",
            "57/57 [==============================] - 0s 6ms/step - loss: 2.1725e-05 - accuracy: 1.0000 - val_loss: 1.5391 - val_accuracy: 0.7900\n",
            "Epoch 48/50\n",
            "57/57 [==============================] - 0s 6ms/step - loss: 1.9449e-05 - accuracy: 1.0000 - val_loss: 1.5583 - val_accuracy: 0.7950\n",
            "Epoch 49/50\n",
            "57/57 [==============================] - 0s 6ms/step - loss: 1.7943e-05 - accuracy: 1.0000 - val_loss: 1.5599 - val_accuracy: 0.7900\n",
            "Epoch 50/50\n",
            "57/57 [==============================] - 0s 6ms/step - loss: 1.6735e-05 - accuracy: 1.0000 - val_loss: 1.5743 - val_accuracy: 0.7950\n"
          ]
        }
      ],
      "source": [
        "zM7 = keras.models.load_model('zM1.h5')\n",
        "zM7.compile(optimizer=keras.optimizers.Adam(learning_rate=1e-3),\n",
        "              loss='binary_crossentropy',\n",
        "              metrics=['accuracy'])\n",
        "\n",
        "history = zM7.fit(x_train, y_train7, epochs=50, validation_data=(x_test, y_test7), batch_size=32)\n"
      ]
    },
    {
      "cell_type": "code",
      "execution_count": null,
      "metadata": {
        "id": "e8vXSO3Qf3C3"
      },
      "outputs": [],
      "source": [
        "M7.save('zM3.h5')\n",
        "M7.save_weights('ZM3_weights.h5')"
      ]
    },
    {
      "cell_type": "code",
      "execution_count": null,
      "metadata": {
        "id": "W0ir-8wphtqO"
      },
      "outputs": [],
      "source": [
        "M7.save('/content/drive/My Drive/t_models/zM7.h5')\n",
        "M7.save_weights('/content/drive/My Drive/t_models_weights/ZM7_weights.h5')"
      ]
    },
    {
      "cell_type": "markdown",
      "metadata": {
        "id": "ZPtHoI6ZCauW"
      },
      "source": [
        "## T8"
      ]
    },
    {
      "cell_type": "code",
      "execution_count": null,
      "metadata": {
        "colab": {
          "base_uri": "https://localhost:8080/"
        },
        "id": "nE-of1keCcb2",
        "outputId": "6dcefbb7-abae-4c3a-db6b-25ffdcbe0a68"
      },
      "outputs": [
        {
          "data": {
            "text/plain": [
              "(1796, 28, 28, 1)"
            ]
          },
          "execution_count": 123,
          "metadata": {},
          "output_type": "execute_result"
        }
      ],
      "source": [
        "x_train, x_test, y_train8, y_test8 = train_test_split(X, y_t8, random_state=8, test_size = 0.10)\n",
        "x_train.shape"
      ]
    },
    {
      "cell_type": "code",
      "execution_count": null,
      "metadata": {
        "colab": {
          "base_uri": "https://localhost:8080/"
        },
        "id": "55ChIKoJCdx-",
        "outputId": "b55242b5-9b80-42a0-e44d-ed95569f491f"
      },
      "outputs": [
        {
          "name": "stderr",
          "output_type": "stream",
          "text": [
            "WARNING:absl:`lr` is deprecated in Keras optimizer, please use `learning_rate` or use the legacy optimizer, e.g.,tf.keras.optimizers.legacy.RMSprop.\n"
          ]
        },
        {
          "name": "stdout",
          "output_type": "stream",
          "text": [
            "Epoch 1/50\n",
            "57/57 [==============================] - 3s 12ms/step - loss: 0.3916 - accuracy: 0.8268 - val_loss: 0.3430 - val_accuracy: 0.8500\n",
            "Epoch 2/50\n",
            "57/57 [==============================] - 0s 8ms/step - loss: 0.2878 - accuracy: 0.8831 - val_loss: 0.3435 - val_accuracy: 0.8650\n",
            "Epoch 3/50\n",
            "57/57 [==============================] - 0s 6ms/step - loss: 0.2613 - accuracy: 0.8870 - val_loss: 0.3381 - val_accuracy: 0.8450\n",
            "Epoch 4/50\n",
            "57/57 [==============================] - 0s 6ms/step - loss: 0.2465 - accuracy: 0.8920 - val_loss: 0.3173 - val_accuracy: 0.8600\n",
            "Epoch 5/50\n",
            "57/57 [==============================] - 0s 5ms/step - loss: 0.2325 - accuracy: 0.9059 - val_loss: 0.3090 - val_accuracy: 0.8650\n",
            "Epoch 6/50\n",
            "57/57 [==============================] - 0s 5ms/step - loss: 0.2187 - accuracy: 0.9092 - val_loss: 0.3945 - val_accuracy: 0.8350\n",
            "Epoch 7/50\n",
            "57/57 [==============================] - 0s 6ms/step - loss: 0.1974 - accuracy: 0.9137 - val_loss: 0.3610 - val_accuracy: 0.8600\n",
            "Epoch 8/50\n",
            "57/57 [==============================] - 0s 5ms/step - loss: 0.1774 - accuracy: 0.9243 - val_loss: 0.3570 - val_accuracy: 0.8500\n",
            "Epoch 9/50\n",
            "57/57 [==============================] - 0s 6ms/step - loss: 0.1531 - accuracy: 0.9382 - val_loss: 0.3430 - val_accuracy: 0.8350\n",
            "Epoch 10/50\n",
            "57/57 [==============================] - 0s 6ms/step - loss: 0.1328 - accuracy: 0.9488 - val_loss: 0.3746 - val_accuracy: 0.8450\n",
            "Epoch 11/50\n",
            "57/57 [==============================] - 0s 5ms/step - loss: 0.1110 - accuracy: 0.9543 - val_loss: 0.4355 - val_accuracy: 0.8650\n",
            "Epoch 12/50\n",
            "57/57 [==============================] - 0s 5ms/step - loss: 0.0919 - accuracy: 0.9677 - val_loss: 0.4863 - val_accuracy: 0.8400\n",
            "Epoch 13/50\n",
            "57/57 [==============================] - 0s 5ms/step - loss: 0.0746 - accuracy: 0.9699 - val_loss: 0.4836 - val_accuracy: 0.8650\n",
            "Epoch 14/50\n",
            "57/57 [==============================] - 0s 6ms/step - loss: 0.0549 - accuracy: 0.9788 - val_loss: 0.5390 - val_accuracy: 0.8400\n",
            "Epoch 15/50\n",
            "57/57 [==============================] - 0s 5ms/step - loss: 0.0432 - accuracy: 0.9850 - val_loss: 0.6248 - val_accuracy: 0.8500\n",
            "Epoch 16/50\n",
            "57/57 [==============================] - 0s 5ms/step - loss: 0.0323 - accuracy: 0.9905 - val_loss: 0.5578 - val_accuracy: 0.8650\n",
            "Epoch 17/50\n",
            "57/57 [==============================] - 0s 5ms/step - loss: 0.0239 - accuracy: 0.9939 - val_loss: 0.8159 - val_accuracy: 0.8600\n",
            "Epoch 18/50\n",
            "57/57 [==============================] - 0s 6ms/step - loss: 0.0131 - accuracy: 0.9955 - val_loss: 0.7700 - val_accuracy: 0.8450\n",
            "Epoch 19/50\n",
            "57/57 [==============================] - 0s 6ms/step - loss: 0.0143 - accuracy: 0.9961 - val_loss: 0.8267 - val_accuracy: 0.8700\n",
            "Epoch 20/50\n",
            "57/57 [==============================] - 0s 6ms/step - loss: 0.0040 - accuracy: 0.9994 - val_loss: 0.9718 - val_accuracy: 0.8550\n",
            "Epoch 21/50\n",
            "57/57 [==============================] - 0s 6ms/step - loss: 0.0080 - accuracy: 0.9978 - val_loss: 0.9194 - val_accuracy: 0.8650\n",
            "Epoch 22/50\n",
            "57/57 [==============================] - 0s 6ms/step - loss: 0.0013 - accuracy: 1.0000 - val_loss: 1.0369 - val_accuracy: 0.8700\n",
            "Epoch 23/50\n",
            "57/57 [==============================] - 0s 6ms/step - loss: 0.0026 - accuracy: 0.9994 - val_loss: 1.2419 - val_accuracy: 0.8600\n",
            "Epoch 24/50\n",
            "57/57 [==============================] - 0s 5ms/step - loss: 0.0018 - accuracy: 0.9994 - val_loss: 1.0654 - val_accuracy: 0.8650\n",
            "Epoch 25/50\n",
            "57/57 [==============================] - 0s 5ms/step - loss: 2.1212e-04 - accuracy: 1.0000 - val_loss: 1.2551 - val_accuracy: 0.8700\n",
            "Epoch 26/50\n",
            "57/57 [==============================] - 0s 5ms/step - loss: 7.2383e-05 - accuracy: 1.0000 - val_loss: 1.2822 - val_accuracy: 0.8650\n",
            "Epoch 27/50\n",
            "57/57 [==============================] - 0s 6ms/step - loss: 4.0739e-05 - accuracy: 1.0000 - val_loss: 1.3389 - val_accuracy: 0.8650\n",
            "Epoch 28/50\n",
            "57/57 [==============================] - 0s 5ms/step - loss: 2.8263e-05 - accuracy: 1.0000 - val_loss: 1.3791 - val_accuracy: 0.8750\n",
            "Epoch 29/50\n",
            "57/57 [==============================] - 0s 6ms/step - loss: 2.1904e-05 - accuracy: 1.0000 - val_loss: 1.4099 - val_accuracy: 0.8750\n",
            "Epoch 30/50\n",
            "57/57 [==============================] - 0s 6ms/step - loss: 1.7775e-05 - accuracy: 1.0000 - val_loss: 1.4313 - val_accuracy: 0.8750\n",
            "Epoch 31/50\n",
            "57/57 [==============================] - 0s 5ms/step - loss: 1.4800e-05 - accuracy: 1.0000 - val_loss: 1.4541 - val_accuracy: 0.8750\n",
            "Epoch 32/50\n",
            "57/57 [==============================] - 0s 6ms/step - loss: 1.2690e-05 - accuracy: 1.0000 - val_loss: 1.4723 - val_accuracy: 0.8750\n",
            "Epoch 33/50\n",
            "57/57 [==============================] - 0s 6ms/step - loss: 1.1139e-05 - accuracy: 1.0000 - val_loss: 1.4863 - val_accuracy: 0.8750\n",
            "Epoch 34/50\n",
            "57/57 [==============================] - 0s 8ms/step - loss: 9.8990e-06 - accuracy: 1.0000 - val_loss: 1.5021 - val_accuracy: 0.8750\n",
            "Epoch 35/50\n",
            "57/57 [==============================] - 0s 8ms/step - loss: 8.8970e-06 - accuracy: 1.0000 - val_loss: 1.5200 - val_accuracy: 0.8750\n",
            "Epoch 36/50\n",
            "57/57 [==============================] - 0s 8ms/step - loss: 8.0308e-06 - accuracy: 1.0000 - val_loss: 1.5306 - val_accuracy: 0.8750\n",
            "Epoch 37/50\n",
            "57/57 [==============================] - 0s 8ms/step - loss: 7.3857e-06 - accuracy: 1.0000 - val_loss: 1.5406 - val_accuracy: 0.8750\n",
            "Epoch 38/50\n",
            "57/57 [==============================] - 0s 9ms/step - loss: 6.7770e-06 - accuracy: 1.0000 - val_loss: 1.5511 - val_accuracy: 0.8700\n",
            "Epoch 39/50\n",
            "57/57 [==============================] - 0s 8ms/step - loss: 6.3101e-06 - accuracy: 1.0000 - val_loss: 1.5606 - val_accuracy: 0.8750\n",
            "Epoch 40/50\n",
            "57/57 [==============================] - 0s 7ms/step - loss: 5.8623e-06 - accuracy: 1.0000 - val_loss: 1.5694 - val_accuracy: 0.8750\n",
            "Epoch 41/50\n",
            "57/57 [==============================] - 0s 8ms/step - loss: 5.4775e-06 - accuracy: 1.0000 - val_loss: 1.5771 - val_accuracy: 0.8750\n",
            "Epoch 42/50\n",
            "57/57 [==============================] - 0s 7ms/step - loss: 5.1481e-06 - accuracy: 1.0000 - val_loss: 1.5859 - val_accuracy: 0.8700\n",
            "Epoch 43/50\n",
            "57/57 [==============================] - 0s 6ms/step - loss: 4.8552e-06 - accuracy: 1.0000 - val_loss: 1.5932 - val_accuracy: 0.8750\n",
            "Epoch 44/50\n",
            "57/57 [==============================] - 0s 7ms/step - loss: 4.5867e-06 - accuracy: 1.0000 - val_loss: 1.6007 - val_accuracy: 0.8750\n",
            "Epoch 45/50\n",
            "57/57 [==============================] - 0s 6ms/step - loss: 4.3359e-06 - accuracy: 1.0000 - val_loss: 1.6080 - val_accuracy: 0.8750\n",
            "Epoch 46/50\n",
            "57/57 [==============================] - 0s 6ms/step - loss: 4.1251e-06 - accuracy: 1.0000 - val_loss: 1.6147 - val_accuracy: 0.8750\n",
            "Epoch 47/50\n",
            "57/57 [==============================] - 0s 6ms/step - loss: 3.9413e-06 - accuracy: 1.0000 - val_loss: 1.6205 - val_accuracy: 0.8750\n",
            "Epoch 48/50\n",
            "57/57 [==============================] - 0s 6ms/step - loss: 3.7551e-06 - accuracy: 1.0000 - val_loss: 1.6273 - val_accuracy: 0.8750\n",
            "Epoch 49/50\n",
            "57/57 [==============================] - 0s 6ms/step - loss: 3.5985e-06 - accuracy: 1.0000 - val_loss: 1.6328 - val_accuracy: 0.8750\n",
            "Epoch 50/50\n",
            "57/57 [==============================] - 0s 6ms/step - loss: 3.4476e-06 - accuracy: 1.0000 - val_loss: 1.6366 - val_accuracy: 0.8700\n"
          ]
        }
      ],
      "source": [
        "M8.compile(\n",
        "    optimizer=keras.optimizers.RMSprop(lr=1e-5),\n",
        "    loss='binary_crossentropy',\n",
        "    metrics=['accuracy']\n",
        "  )\n",
        "\n",
        "\n",
        "history = M8.fit(x_train, y_train8, epochs=50, validation_data=(x_test, y_test8), batch_size=32)"
      ]
    },
    {
      "cell_type": "code",
      "execution_count": null,
      "metadata": {
        "id": "5uynQi9PH9jx"
      },
      "outputs": [],
      "source": [
        "import matplotlib.pyplot as plt\n",
        "\n",
        "plt.plot(history.history['accuracy'],color='red',label='train')\n",
        "plt.plot(history.history['val_accuracy'],color='blue',label='validation')\n",
        "plt.legend()\n",
        "plt.show()"
      ]
    },
    {
      "cell_type": "code",
      "execution_count": null,
      "metadata": {
        "id": "XTwowbbzPyng"
      },
      "outputs": [],
      "source": [
        "model.save('M8.h5',M8)\n",
        "M8.save_weights('model8_weights.h5')"
      ]
    },
    {
      "cell_type": "code",
      "execution_count": null,
      "metadata": {
        "colab": {
          "base_uri": "https://localhost:8080/"
        },
        "id": "8_GZrOnNiAj1",
        "outputId": "c8a2088e-2838-4b22-8f21-589a50ee446b"
      },
      "outputs": [
        {
          "name": "stdout",
          "output_type": "stream",
          "text": [
            "Epoch 1/50\n",
            "57/57 [==============================] - 4s 13ms/step - loss: 0.4148 - accuracy: 0.8235 - val_loss: 0.3333 - val_accuracy: 0.8700\n",
            "Epoch 2/50\n",
            "57/57 [==============================] - 1s 9ms/step - loss: 0.2754 - accuracy: 0.8814 - val_loss: 0.3301 - val_accuracy: 0.8500\n",
            "Epoch 3/50\n",
            "57/57 [==============================] - 0s 8ms/step - loss: 0.2422 - accuracy: 0.8948 - val_loss: 0.3333 - val_accuracy: 0.8550\n",
            "Epoch 4/50\n",
            "57/57 [==============================] - 0s 8ms/step - loss: 0.2314 - accuracy: 0.8998 - val_loss: 0.3434 - val_accuracy: 0.8500\n",
            "Epoch 5/50\n",
            "57/57 [==============================] - 0s 9ms/step - loss: 0.1989 - accuracy: 0.9193 - val_loss: 0.3096 - val_accuracy: 0.8550\n",
            "Epoch 6/50\n",
            "57/57 [==============================] - 0s 8ms/step - loss: 0.1820 - accuracy: 0.9220 - val_loss: 0.3684 - val_accuracy: 0.8500\n",
            "Epoch 7/50\n",
            "57/57 [==============================] - 0s 6ms/step - loss: 0.1595 - accuracy: 0.9365 - val_loss: 0.3764 - val_accuracy: 0.8300\n",
            "Epoch 8/50\n",
            "57/57 [==============================] - 0s 6ms/step - loss: 0.1179 - accuracy: 0.9560 - val_loss: 0.4159 - val_accuracy: 0.8600\n",
            "Epoch 9/50\n",
            "57/57 [==============================] - 0s 6ms/step - loss: 0.0945 - accuracy: 0.9610 - val_loss: 0.4324 - val_accuracy: 0.8500\n",
            "Epoch 10/50\n",
            "57/57 [==============================] - 0s 6ms/step - loss: 0.0898 - accuracy: 0.9655 - val_loss: 0.4678 - val_accuracy: 0.8400\n",
            "Epoch 11/50\n",
            "57/57 [==============================] - 0s 6ms/step - loss: 0.0488 - accuracy: 0.9839 - val_loss: 0.4854 - val_accuracy: 0.8500\n",
            "Epoch 12/50\n",
            "57/57 [==============================] - 0s 6ms/step - loss: 0.0566 - accuracy: 0.9805 - val_loss: 0.6046 - val_accuracy: 0.8550\n",
            "Epoch 13/50\n",
            "57/57 [==============================] - 0s 6ms/step - loss: 0.0235 - accuracy: 0.9933 - val_loss: 0.5848 - val_accuracy: 0.8600\n",
            "Epoch 14/50\n",
            "57/57 [==============================] - 0s 5ms/step - loss: 0.0154 - accuracy: 0.9961 - val_loss: 0.7366 - val_accuracy: 0.8650\n",
            "Epoch 15/50\n",
            "57/57 [==============================] - 0s 5ms/step - loss: 0.0066 - accuracy: 0.9989 - val_loss: 0.6874 - val_accuracy: 0.8750\n",
            "Epoch 16/50\n",
            "57/57 [==============================] - 0s 5ms/step - loss: 0.0036 - accuracy: 1.0000 - val_loss: 0.7772 - val_accuracy: 0.8650\n",
            "Epoch 17/50\n",
            "57/57 [==============================] - 0s 6ms/step - loss: 0.0032 - accuracy: 0.9994 - val_loss: 0.8248 - val_accuracy: 0.8600\n",
            "Epoch 18/50\n",
            "57/57 [==============================] - 0s 5ms/step - loss: 0.0015 - accuracy: 1.0000 - val_loss: 0.8412 - val_accuracy: 0.8650\n",
            "Epoch 19/50\n",
            "57/57 [==============================] - 0s 6ms/step - loss: 0.0012 - accuracy: 0.9994 - val_loss: 0.8736 - val_accuracy: 0.8600\n",
            "Epoch 20/50\n",
            "57/57 [==============================] - 0s 6ms/step - loss: 0.0010 - accuracy: 0.9994 - val_loss: 0.8899 - val_accuracy: 0.8600\n",
            "Epoch 21/50\n",
            "57/57 [==============================] - 0s 5ms/step - loss: 8.8961e-04 - accuracy: 1.0000 - val_loss: 0.9152 - val_accuracy: 0.8600\n",
            "Epoch 22/50\n",
            "57/57 [==============================] - 0s 6ms/step - loss: 8.1146e-04 - accuracy: 1.0000 - val_loss: 0.9341 - val_accuracy: 0.8600\n",
            "Epoch 23/50\n",
            "57/57 [==============================] - 0s 5ms/step - loss: 7.5508e-04 - accuracy: 1.0000 - val_loss: 0.9491 - val_accuracy: 0.8600\n",
            "Epoch 24/50\n",
            "57/57 [==============================] - 0s 6ms/step - loss: 7.1670e-04 - accuracy: 1.0000 - val_loss: 0.9504 - val_accuracy: 0.8600\n",
            "Epoch 25/50\n",
            "57/57 [==============================] - 0s 6ms/step - loss: 6.8358e-04 - accuracy: 1.0000 - val_loss: 0.9716 - val_accuracy: 0.8600\n",
            "Epoch 26/50\n",
            "57/57 [==============================] - 0s 6ms/step - loss: 6.4391e-04 - accuracy: 1.0000 - val_loss: 0.9849 - val_accuracy: 0.8600\n",
            "Epoch 27/50\n",
            "57/57 [==============================] - 0s 6ms/step - loss: 6.1414e-04 - accuracy: 1.0000 - val_loss: 1.0037 - val_accuracy: 0.8600\n",
            "Epoch 28/50\n",
            "57/57 [==============================] - 0s 6ms/step - loss: 6.1016e-04 - accuracy: 1.0000 - val_loss: 0.9902 - val_accuracy: 0.8600\n",
            "Epoch 29/50\n",
            "57/57 [==============================] - 0s 6ms/step - loss: 5.9593e-04 - accuracy: 1.0000 - val_loss: 1.0141 - val_accuracy: 0.8600\n",
            "Epoch 30/50\n",
            "57/57 [==============================] - 0s 5ms/step - loss: 5.6754e-04 - accuracy: 1.0000 - val_loss: 1.0271 - val_accuracy: 0.8600\n",
            "Epoch 31/50\n",
            "57/57 [==============================] - 0s 6ms/step - loss: 5.4804e-04 - accuracy: 1.0000 - val_loss: 1.0428 - val_accuracy: 0.8600\n",
            "Epoch 32/50\n",
            "57/57 [==============================] - 0s 6ms/step - loss: 5.3418e-04 - accuracy: 1.0000 - val_loss: 1.0483 - val_accuracy: 0.8600\n",
            "Epoch 33/50\n",
            "57/57 [==============================] - 0s 5ms/step - loss: 5.1828e-04 - accuracy: 1.0000 - val_loss: 1.0616 - val_accuracy: 0.8600\n",
            "Epoch 34/50\n",
            "57/57 [==============================] - 0s 5ms/step - loss: 5.0674e-04 - accuracy: 1.0000 - val_loss: 1.0672 - val_accuracy: 0.8600\n",
            "Epoch 35/50\n",
            "57/57 [==============================] - 0s 6ms/step - loss: 5.0273e-04 - accuracy: 1.0000 - val_loss: 1.0786 - val_accuracy: 0.8600\n",
            "Epoch 36/50\n",
            "57/57 [==============================] - 0s 5ms/step - loss: 4.9579e-04 - accuracy: 1.0000 - val_loss: 1.0706 - val_accuracy: 0.8600\n",
            "Epoch 37/50\n",
            "57/57 [==============================] - 0s 7ms/step - loss: 4.8646e-04 - accuracy: 1.0000 - val_loss: 1.0843 - val_accuracy: 0.8600\n",
            "Epoch 38/50\n",
            "57/57 [==============================] - 0s 8ms/step - loss: 4.7582e-04 - accuracy: 1.0000 - val_loss: 1.0977 - val_accuracy: 0.8600\n",
            "Epoch 39/50\n",
            "57/57 [==============================] - 0s 7ms/step - loss: 4.6809e-04 - accuracy: 1.0000 - val_loss: 1.1062 - val_accuracy: 0.8600\n",
            "Epoch 40/50\n",
            "57/57 [==============================] - 0s 8ms/step - loss: 4.6061e-04 - accuracy: 1.0000 - val_loss: 1.1164 - val_accuracy: 0.8600\n",
            "Epoch 41/50\n",
            "57/57 [==============================] - 0s 8ms/step - loss: 4.5476e-04 - accuracy: 1.0000 - val_loss: 1.1256 - val_accuracy: 0.8600\n",
            "Epoch 42/50\n",
            "57/57 [==============================] - 0s 9ms/step - loss: 4.4868e-04 - accuracy: 1.0000 - val_loss: 1.1369 - val_accuracy: 0.8600\n",
            "Epoch 43/50\n",
            "57/57 [==============================] - 0s 8ms/step - loss: 4.4364e-04 - accuracy: 1.0000 - val_loss: 1.1410 - val_accuracy: 0.8600\n",
            "Epoch 44/50\n",
            "57/57 [==============================] - 0s 8ms/step - loss: 4.4768e-04 - accuracy: 1.0000 - val_loss: 1.1316 - val_accuracy: 0.8600\n",
            "Epoch 45/50\n",
            "57/57 [==============================] - 0s 8ms/step - loss: 4.4991e-04 - accuracy: 1.0000 - val_loss: 1.1449 - val_accuracy: 0.8600\n",
            "Epoch 46/50\n",
            "57/57 [==============================] - 0s 7ms/step - loss: 4.9921e-04 - accuracy: 1.0000 - val_loss: 1.1310 - val_accuracy: 0.8550\n",
            "Epoch 47/50\n",
            "57/57 [==============================] - 0s 6ms/step - loss: 4.5527e-04 - accuracy: 1.0000 - val_loss: 1.1499 - val_accuracy: 0.8550\n",
            "Epoch 48/50\n",
            "57/57 [==============================] - 0s 6ms/step - loss: 4.5751e-04 - accuracy: 1.0000 - val_loss: 1.1257 - val_accuracy: 0.8550\n",
            "Epoch 49/50\n",
            "57/57 [==============================] - 0s 6ms/step - loss: 0.0761 - accuracy: 0.9755 - val_loss: 0.6665 - val_accuracy: 0.8400\n",
            "Epoch 50/50\n",
            "57/57 [==============================] - 0s 5ms/step - loss: 0.1154 - accuracy: 0.9532 - val_loss: 0.5793 - val_accuracy: 0.8350\n"
          ]
        }
      ],
      "source": [
        "zM8 = keras.models.load_model('zM1.h5')\n",
        "zM8.compile(optimizer=keras.optimizers.Adam(learning_rate=1e-3),\n",
        "              loss='binary_crossentropy',\n",
        "              metrics=['accuracy'])\n",
        "\n",
        "history = zM8.fit(x_train, y_train8, epochs=50, validation_data=(x_test, y_test8), batch_size=32)\n"
      ]
    },
    {
      "cell_type": "code",
      "execution_count": null,
      "metadata": {
        "id": "Hy7p319OiUtM"
      },
      "outputs": [],
      "source": [
        "M8.save('/content/drive/My Drive/t_models/zM8.h5')\n",
        "M8.save_weights('/content/drive/My Drive/t_models_weights/ZM8_weights.h5')\n"
      ]
    },
    {
      "cell_type": "markdown",
      "metadata": {
        "id": "DsmpI8WhCxWt"
      },
      "source": [
        "## T9"
      ]
    },
    {
      "cell_type": "code",
      "execution_count": null,
      "metadata": {
        "colab": {
          "base_uri": "https://localhost:8080/"
        },
        "id": "KWrj6sUTC0QO",
        "outputId": "6c1bea99-9c40-4a35-d961-93870abe4395"
      },
      "outputs": [
        {
          "data": {
            "text/plain": [
              "(1796, 28, 28, 1)"
            ]
          },
          "execution_count": 127,
          "metadata": {},
          "output_type": "execute_result"
        }
      ],
      "source": [
        "x_train, x_test, y_train9, y_test9 = train_test_split(X, y_t9, random_state=8, test_size = 0.10)\n",
        "x_train.shape"
      ]
    },
    {
      "cell_type": "code",
      "execution_count": null,
      "metadata": {
        "colab": {
          "base_uri": "https://localhost:8080/"
        },
        "id": "sfamzze1CzVK",
        "outputId": "ed2a9e57-6829-4da4-823f-4a74b547ef3a"
      },
      "outputs": [
        {
          "name": "stderr",
          "output_type": "stream",
          "text": [
            "WARNING:absl:`lr` is deprecated in Keras optimizer, please use `learning_rate` or use the legacy optimizer, e.g.,tf.keras.optimizers.legacy.RMSprop.\n"
          ]
        },
        {
          "name": "stdout",
          "output_type": "stream",
          "text": [
            "Epoch 1/50\n",
            "57/57 [==============================] - 2s 8ms/step - loss: 0.7002 - accuracy: 0.5367 - val_loss: 0.6472 - val_accuracy: 0.6350\n",
            "Epoch 2/50\n",
            "57/57 [==============================] - 0s 6ms/step - loss: 0.6745 - accuracy: 0.5896 - val_loss: 0.6688 - val_accuracy: 0.6250\n",
            "Epoch 3/50\n",
            "57/57 [==============================] - 0s 6ms/step - loss: 0.6481 - accuracy: 0.6308 - val_loss: 0.5945 - val_accuracy: 0.6600\n",
            "Epoch 4/50\n",
            "57/57 [==============================] - 0s 5ms/step - loss: 0.5898 - accuracy: 0.6876 - val_loss: 0.6031 - val_accuracy: 0.6650\n",
            "Epoch 5/50\n",
            "57/57 [==============================] - 0s 6ms/step - loss: 0.5277 - accuracy: 0.7394 - val_loss: 0.5502 - val_accuracy: 0.7050\n",
            "Epoch 6/50\n",
            "57/57 [==============================] - 0s 7ms/step - loss: 0.4626 - accuracy: 0.7840 - val_loss: 0.6339 - val_accuracy: 0.7050\n",
            "Epoch 7/50\n",
            "57/57 [==============================] - 1s 9ms/step - loss: 0.3970 - accuracy: 0.8213 - val_loss: 0.5489 - val_accuracy: 0.7600\n",
            "Epoch 8/50\n",
            "57/57 [==============================] - 0s 6ms/step - loss: 0.3480 - accuracy: 0.8547 - val_loss: 0.6171 - val_accuracy: 0.7250\n",
            "Epoch 9/50\n",
            "57/57 [==============================] - 0s 6ms/step - loss: 0.2973 - accuracy: 0.8792 - val_loss: 0.5697 - val_accuracy: 0.7400\n",
            "Epoch 10/50\n",
            "57/57 [==============================] - 0s 6ms/step - loss: 0.2339 - accuracy: 0.9109 - val_loss: 0.6914 - val_accuracy: 0.7500\n",
            "Epoch 11/50\n",
            "57/57 [==============================] - 0s 8ms/step - loss: 0.1936 - accuracy: 0.9254 - val_loss: 0.7331 - val_accuracy: 0.7250\n",
            "Epoch 12/50\n",
            "57/57 [==============================] - 0s 8ms/step - loss: 0.1550 - accuracy: 0.9454 - val_loss: 0.9777 - val_accuracy: 0.7100\n",
            "Epoch 13/50\n",
            "57/57 [==============================] - 0s 8ms/step - loss: 0.1102 - accuracy: 0.9610 - val_loss: 0.9925 - val_accuracy: 0.7250\n",
            "Epoch 14/50\n",
            "57/57 [==============================] - 0s 8ms/step - loss: 0.0954 - accuracy: 0.9655 - val_loss: 1.0553 - val_accuracy: 0.7300\n",
            "Epoch 15/50\n",
            "57/57 [==============================] - 0s 8ms/step - loss: 0.0661 - accuracy: 0.9772 - val_loss: 1.1247 - val_accuracy: 0.7550\n",
            "Epoch 16/50\n",
            "57/57 [==============================] - 0s 7ms/step - loss: 0.0442 - accuracy: 0.9894 - val_loss: 1.3054 - val_accuracy: 0.7300\n",
            "Epoch 17/50\n",
            "57/57 [==============================] - 0s 8ms/step - loss: 0.0318 - accuracy: 0.9916 - val_loss: 1.5219 - val_accuracy: 0.7400\n",
            "Epoch 18/50\n",
            "57/57 [==============================] - 0s 8ms/step - loss: 0.0319 - accuracy: 0.9911 - val_loss: 1.4443 - val_accuracy: 0.7400\n",
            "Epoch 19/50\n",
            "57/57 [==============================] - 0s 8ms/step - loss: 0.0178 - accuracy: 0.9955 - val_loss: 1.6202 - val_accuracy: 0.7400\n",
            "Epoch 20/50\n",
            "57/57 [==============================] - 0s 6ms/step - loss: 0.0107 - accuracy: 0.9967 - val_loss: 1.6537 - val_accuracy: 0.7400\n",
            "Epoch 21/50\n",
            "57/57 [==============================] - 0s 6ms/step - loss: 0.0140 - accuracy: 0.9939 - val_loss: 1.7998 - val_accuracy: 0.7250\n",
            "Epoch 22/50\n",
            "57/57 [==============================] - 0s 6ms/step - loss: 0.0061 - accuracy: 0.9989 - val_loss: 2.1615 - val_accuracy: 0.7100\n",
            "Epoch 23/50\n",
            "57/57 [==============================] - 0s 5ms/step - loss: 0.0094 - accuracy: 0.9972 - val_loss: 2.0677 - val_accuracy: 0.7350\n",
            "Epoch 24/50\n",
            "57/57 [==============================] - 0s 6ms/step - loss: 0.0068 - accuracy: 0.9978 - val_loss: 1.9516 - val_accuracy: 0.7350\n",
            "Epoch 25/50\n",
            "57/57 [==============================] - 0s 6ms/step - loss: 0.0031 - accuracy: 0.9989 - val_loss: 2.2783 - val_accuracy: 0.7250\n",
            "Epoch 26/50\n",
            "57/57 [==============================] - 0s 5ms/step - loss: 0.0022 - accuracy: 0.9989 - val_loss: 2.1939 - val_accuracy: 0.7350\n",
            "Epoch 27/50\n",
            "57/57 [==============================] - 0s 5ms/step - loss: 4.9799e-04 - accuracy: 0.9994 - val_loss: 2.2969 - val_accuracy: 0.7400\n",
            "Epoch 28/50\n",
            "57/57 [==============================] - 0s 6ms/step - loss: 4.9041e-04 - accuracy: 0.9994 - val_loss: 2.3610 - val_accuracy: 0.7300\n",
            "Epoch 29/50\n",
            "57/57 [==============================] - 0s 6ms/step - loss: 4.3248e-04 - accuracy: 0.9994 - val_loss: 2.4401 - val_accuracy: 0.7300\n",
            "Epoch 30/50\n",
            "57/57 [==============================] - 0s 5ms/step - loss: 4.2005e-04 - accuracy: 0.9994 - val_loss: 2.5078 - val_accuracy: 0.7400\n",
            "Epoch 31/50\n",
            "57/57 [==============================] - 0s 6ms/step - loss: 4.1235e-04 - accuracy: 0.9994 - val_loss: 2.5546 - val_accuracy: 0.7400\n",
            "Epoch 32/50\n",
            "57/57 [==============================] - 0s 6ms/step - loss: 4.0737e-04 - accuracy: 0.9994 - val_loss: 2.5961 - val_accuracy: 0.7400\n",
            "Epoch 33/50\n",
            "57/57 [==============================] - 0s 6ms/step - loss: 4.0357e-04 - accuracy: 0.9994 - val_loss: 2.6337 - val_accuracy: 0.7400\n",
            "Epoch 34/50\n",
            "57/57 [==============================] - 0s 5ms/step - loss: 4.0086e-04 - accuracy: 0.9994 - val_loss: 2.6662 - val_accuracy: 0.7400\n",
            "Epoch 35/50\n",
            "57/57 [==============================] - 0s 6ms/step - loss: 3.9825e-04 - accuracy: 0.9994 - val_loss: 2.6941 - val_accuracy: 0.7400\n",
            "Epoch 36/50\n",
            "57/57 [==============================] - 0s 6ms/step - loss: 3.9619e-04 - accuracy: 1.0000 - val_loss: 2.7216 - val_accuracy: 0.7400\n",
            "Epoch 37/50\n",
            "57/57 [==============================] - 0s 6ms/step - loss: 3.9426e-04 - accuracy: 1.0000 - val_loss: 2.7481 - val_accuracy: 0.7400\n",
            "Epoch 38/50\n",
            "57/57 [==============================] - 0s 6ms/step - loss: 3.9250e-04 - accuracy: 1.0000 - val_loss: 2.7685 - val_accuracy: 0.7400\n",
            "Epoch 39/50\n",
            "57/57 [==============================] - 0s 5ms/step - loss: 3.9097e-04 - accuracy: 1.0000 - val_loss: 2.7871 - val_accuracy: 0.7400\n",
            "Epoch 40/50\n",
            "57/57 [==============================] - 0s 5ms/step - loss: 3.8950e-04 - accuracy: 1.0000 - val_loss: 2.8069 - val_accuracy: 0.7400\n",
            "Epoch 41/50\n",
            "57/57 [==============================] - 0s 5ms/step - loss: 3.8810e-04 - accuracy: 1.0000 - val_loss: 2.8231 - val_accuracy: 0.7400\n",
            "Epoch 42/50\n",
            "57/57 [==============================] - 0s 5ms/step - loss: 3.8678e-04 - accuracy: 1.0000 - val_loss: 2.8400 - val_accuracy: 0.7400\n",
            "Epoch 43/50\n",
            "57/57 [==============================] - 0s 5ms/step - loss: 3.8552e-04 - accuracy: 1.0000 - val_loss: 2.8563 - val_accuracy: 0.7400\n",
            "Epoch 44/50\n",
            "57/57 [==============================] - 0s 6ms/step - loss: 3.8430e-04 - accuracy: 1.0000 - val_loss: 2.8717 - val_accuracy: 0.7400\n",
            "Epoch 45/50\n",
            "57/57 [==============================] - 0s 5ms/step - loss: 3.8312e-04 - accuracy: 1.0000 - val_loss: 2.8848 - val_accuracy: 0.7400\n",
            "Epoch 46/50\n",
            "57/57 [==============================] - 0s 5ms/step - loss: 3.8198e-04 - accuracy: 1.0000 - val_loss: 2.8981 - val_accuracy: 0.7400\n",
            "Epoch 47/50\n",
            "57/57 [==============================] - 0s 5ms/step - loss: 3.8087e-04 - accuracy: 1.0000 - val_loss: 2.9110 - val_accuracy: 0.7400\n",
            "Epoch 48/50\n",
            "57/57 [==============================] - 0s 5ms/step - loss: 3.7977e-04 - accuracy: 1.0000 - val_loss: 2.9241 - val_accuracy: 0.7400\n",
            "Epoch 49/50\n",
            "57/57 [==============================] - 0s 5ms/step - loss: 3.7871e-04 - accuracy: 1.0000 - val_loss: 2.9352 - val_accuracy: 0.7400\n",
            "Epoch 50/50\n",
            "57/57 [==============================] - 0s 7ms/step - loss: 3.7765e-04 - accuracy: 1.0000 - val_loss: 2.9460 - val_accuracy: 0.7400\n"
          ]
        }
      ],
      "source": [
        "M9.compile(\n",
        "    optimizer=keras.optimizers.RMSprop(lr=1e-5),\n",
        "    loss='binary_crossentropy',\n",
        "    metrics=['accuracy']\n",
        "  )\n",
        "\n",
        "\n",
        "history = M9.fit(x_train, y_train9, epochs=50, validation_data=(x_test, y_test9), batch_size=32)"
      ]
    },
    {
      "cell_type": "code",
      "execution_count": null,
      "metadata": {
        "colab": {
          "base_uri": "https://localhost:8080/",
          "height": 430
        },
        "id": "L3Y68zxjH-l7",
        "outputId": "b6a7b811-1a63-49ed-9056-56fee141d22e"
      },
      "outputs": [
        {
          "data": {
            "image/png": "[encoded data removed]",
            "text/plain": [
              "<Figure size 640x480 with 1 Axes>"
            ]
          },
          "metadata": {},
          "output_type": "display_data"
        }
      ],
      "source": [
        "import matplotlib.pyplot as plt\n",
        "\n",
        "plt.plot(history.history['accuracy'],color='red',label='train')\n",
        "plt.plot(history.history['val_accuracy'],color='blue',label='validation')\n",
        "plt.legend()\n",
        "plt.show()"
      ]
    },
    {
      "cell_type": "code",
      "execution_count": null,
      "metadata": {
        "id": "TyTuKt6ZP3wq"
      },
      "outputs": [],
      "source": [
        "model.save('M9.h5',M9)\n",
        "M9.save_weights('model9_weights.h5')"
      ]
    },
    {
      "cell_type": "code",
      "execution_count": null,
      "metadata": {
        "colab": {
          "base_uri": "https://localhost:8080/"
        },
        "id": "In-j7aEHitbA",
        "outputId": "0a9ae55a-ce37-469c-ee78-8adb45834d5d"
      },
      "outputs": [
        {
          "name": "stdout",
          "output_type": "stream",
          "text": [
            "Epoch 1/50\n",
            "57/57 [==============================] - 3s 13ms/step - loss: 0.7098 - accuracy: 0.5301 - val_loss: 0.6665 - val_accuracy: 0.6050\n",
            "Epoch 2/50\n",
            "57/57 [==============================] - 1s 9ms/step - loss: 0.6819 - accuracy: 0.5813 - val_loss: 0.6577 - val_accuracy: 0.6500\n",
            "Epoch 3/50\n",
            "57/57 [==============================] - 0s 8ms/step - loss: 0.6592 - accuracy: 0.6080 - val_loss: 0.6767 - val_accuracy: 0.5850\n",
            "Epoch 4/50\n",
            "57/57 [==============================] - 1s 10ms/step - loss: 0.6240 - accuracy: 0.6526 - val_loss: 0.6150 - val_accuracy: 0.6800\n",
            "Epoch 5/50\n",
            "57/57 [==============================] - 1s 10ms/step - loss: 0.5438 - accuracy: 0.7216 - val_loss: 0.5554 - val_accuracy: 0.7050\n",
            "Epoch 6/50\n",
            "57/57 [==============================] - 1s 10ms/step - loss: 0.4391 - accuracy: 0.8035 - val_loss: 0.5272 - val_accuracy: 0.7250\n",
            "Epoch 7/50\n",
            "57/57 [==============================] - 1s 10ms/step - loss: 0.3472 - accuracy: 0.8480 - val_loss: 0.5880 - val_accuracy: 0.7150\n",
            "Epoch 8/50\n",
            "57/57 [==============================] - 1s 10ms/step - loss: 0.2623 - accuracy: 0.8881 - val_loss: 0.6303 - val_accuracy: 0.7600\n",
            "Epoch 9/50\n",
            "57/57 [==============================] - 0s 8ms/step - loss: 0.1800 - accuracy: 0.9315 - val_loss: 0.6720 - val_accuracy: 0.7400\n",
            "Epoch 10/50\n",
            "57/57 [==============================] - 0s 8ms/step - loss: 0.1330 - accuracy: 0.9521 - val_loss: 0.8087 - val_accuracy: 0.7650\n",
            "Epoch 11/50\n",
            "57/57 [==============================] - 0s 8ms/step - loss: 0.0829 - accuracy: 0.9710 - val_loss: 1.0095 - val_accuracy: 0.7400\n",
            "Epoch 12/50\n",
            "57/57 [==============================] - 1s 9ms/step - loss: 0.0467 - accuracy: 0.9861 - val_loss: 1.0440 - val_accuracy: 0.7650\n",
            "Epoch 13/50\n",
            "57/57 [==============================] - 0s 8ms/step - loss: 0.0259 - accuracy: 0.9955 - val_loss: 1.1109 - val_accuracy: 0.7600\n",
            "Epoch 14/50\n",
            "57/57 [==============================] - 0s 6ms/step - loss: 0.0106 - accuracy: 0.9989 - val_loss: 1.2076 - val_accuracy: 0.7800\n",
            "Epoch 15/50\n",
            "57/57 [==============================] - 0s 6ms/step - loss: 0.0059 - accuracy: 0.9994 - val_loss: 1.3110 - val_accuracy: 0.7700\n",
            "Epoch 16/50\n",
            "57/57 [==============================] - 0s 6ms/step - loss: 0.0035 - accuracy: 1.0000 - val_loss: 1.3300 - val_accuracy: 0.7750\n",
            "Epoch 17/50\n",
            "57/57 [==============================] - 0s 6ms/step - loss: 0.0028 - accuracy: 0.9994 - val_loss: 1.3670 - val_accuracy: 0.7750\n",
            "Epoch 18/50\n",
            "57/57 [==============================] - 0s 6ms/step - loss: 0.0021 - accuracy: 1.0000 - val_loss: 1.4171 - val_accuracy: 0.7750\n",
            "Epoch 19/50\n",
            "57/57 [==============================] - 0s 5ms/step - loss: 0.0018 - accuracy: 1.0000 - val_loss: 1.4643 - val_accuracy: 0.7750\n",
            "Epoch 20/50\n",
            "57/57 [==============================] - 0s 5ms/step - loss: 0.0017 - accuracy: 1.0000 - val_loss: 1.4910 - val_accuracy: 0.7800\n",
            "Epoch 21/50\n",
            "57/57 [==============================] - 0s 6ms/step - loss: 0.0015 - accuracy: 1.0000 - val_loss: 1.5254 - val_accuracy: 0.7750\n",
            "Epoch 22/50\n",
            "57/57 [==============================] - 0s 6ms/step - loss: 0.0014 - accuracy: 1.0000 - val_loss: 1.5517 - val_accuracy: 0.7800\n",
            "Epoch 23/50\n",
            "57/57 [==============================] - 0s 5ms/step - loss: 0.0013 - accuracy: 1.0000 - val_loss: 1.5838 - val_accuracy: 0.7750\n",
            "Epoch 24/50\n",
            "57/57 [==============================] - 0s 6ms/step - loss: 0.0013 - accuracy: 1.0000 - val_loss: 1.5844 - val_accuracy: 0.7700\n",
            "Epoch 25/50\n",
            "57/57 [==============================] - 0s 5ms/step - loss: 8.3080e-04 - accuracy: 1.0000 - val_loss: 1.6191 - val_accuracy: 0.7750\n",
            "Epoch 26/50\n",
            "57/57 [==============================] - 0s 6ms/step - loss: 7.5941e-04 - accuracy: 1.0000 - val_loss: 1.6494 - val_accuracy: 0.7750\n",
            "Epoch 27/50\n",
            "57/57 [==============================] - 0s 6ms/step - loss: 7.1086e-04 - accuracy: 1.0000 - val_loss: 1.6700 - val_accuracy: 0.7700\n",
            "Epoch 28/50\n",
            "57/57 [==============================] - 0s 5ms/step - loss: 6.7655e-04 - accuracy: 1.0000 - val_loss: 1.6943 - val_accuracy: 0.7750\n",
            "Epoch 29/50\n",
            "57/57 [==============================] - 0s 5ms/step - loss: 6.4736e-04 - accuracy: 1.0000 - val_loss: 1.7193 - val_accuracy: 0.7800\n",
            "Epoch 30/50\n",
            "57/57 [==============================] - 0s 5ms/step - loss: 6.2412e-04 - accuracy: 1.0000 - val_loss: 1.7370 - val_accuracy: 0.7800\n",
            "Epoch 31/50\n",
            "57/57 [==============================] - 0s 5ms/step - loss: 5.9991e-04 - accuracy: 1.0000 - val_loss: 1.7569 - val_accuracy: 0.7750\n",
            "Epoch 32/50\n",
            "57/57 [==============================] - 0s 6ms/step - loss: 5.7976e-04 - accuracy: 1.0000 - val_loss: 1.7769 - val_accuracy: 0.7700\n",
            "Epoch 33/50\n",
            "57/57 [==============================] - 0s 5ms/step - loss: 5.6356e-04 - accuracy: 1.0000 - val_loss: 1.7961 - val_accuracy: 0.7750\n",
            "Epoch 34/50\n",
            "57/57 [==============================] - 0s 6ms/step - loss: 5.4705e-04 - accuracy: 1.0000 - val_loss: 1.8147 - val_accuracy: 0.7650\n",
            "Epoch 35/50\n",
            "57/57 [==============================] - 0s 5ms/step - loss: 5.3197e-04 - accuracy: 1.0000 - val_loss: 1.8341 - val_accuracy: 0.7750\n",
            "Epoch 36/50\n",
            "57/57 [==============================] - 0s 5ms/step - loss: 5.2046e-04 - accuracy: 1.0000 - val_loss: 1.8548 - val_accuracy: 0.7750\n",
            "Epoch 37/50\n",
            "57/57 [==============================] - 0s 6ms/step - loss: 5.0932e-04 - accuracy: 1.0000 - val_loss: 1.8637 - val_accuracy: 0.7650\n",
            "Epoch 38/50\n",
            "57/57 [==============================] - 0s 6ms/step - loss: 4.9939e-04 - accuracy: 1.0000 - val_loss: 1.8875 - val_accuracy: 0.7700\n",
            "Epoch 39/50\n",
            "57/57 [==============================] - 0s 5ms/step - loss: 4.8941e-04 - accuracy: 1.0000 - val_loss: 1.9038 - val_accuracy: 0.7700\n",
            "Epoch 40/50\n",
            "57/57 [==============================] - 0s 6ms/step - loss: 4.8121e-04 - accuracy: 1.0000 - val_loss: 1.9163 - val_accuracy: 0.7650\n",
            "Epoch 41/50\n",
            "57/57 [==============================] - 0s 7ms/step - loss: 4.7363e-04 - accuracy: 1.0000 - val_loss: 1.9337 - val_accuracy: 0.7650\n",
            "Epoch 42/50\n",
            "57/57 [==============================] - 0s 6ms/step - loss: 4.6708e-04 - accuracy: 1.0000 - val_loss: 1.9492 - val_accuracy: 0.7550\n",
            "Epoch 43/50\n",
            "57/57 [==============================] - 0s 6ms/step - loss: 4.6025e-04 - accuracy: 1.0000 - val_loss: 1.9661 - val_accuracy: 0.7650\n",
            "Epoch 44/50\n",
            "57/57 [==============================] - 0s 7ms/step - loss: 4.5478e-04 - accuracy: 1.0000 - val_loss: 1.9833 - val_accuracy: 0.7650\n",
            "Epoch 45/50\n",
            "57/57 [==============================] - 0s 8ms/step - loss: 4.4932e-04 - accuracy: 1.0000 - val_loss: 1.9968 - val_accuracy: 0.7600\n",
            "Epoch 46/50\n",
            "57/57 [==============================] - 0s 8ms/step - loss: 4.5433e-04 - accuracy: 1.0000 - val_loss: 1.9861 - val_accuracy: 0.7750\n",
            "Epoch 47/50\n",
            "57/57 [==============================] - 0s 8ms/step - loss: 4.7654e-04 - accuracy: 1.0000 - val_loss: 2.0098 - val_accuracy: 0.7650\n",
            "Epoch 48/50\n",
            "57/57 [==============================] - 0s 8ms/step - loss: 4.4942e-04 - accuracy: 1.0000 - val_loss: 2.0173 - val_accuracy: 0.7600\n",
            "Epoch 49/50\n",
            "57/57 [==============================] - 0s 8ms/step - loss: 4.4136e-04 - accuracy: 1.0000 - val_loss: 2.0365 - val_accuracy: 0.7550\n",
            "Epoch 50/50\n",
            "57/57 [==============================] - 1s 9ms/step - loss: 4.3543e-04 - accuracy: 1.0000 - val_loss: 2.0512 - val_accuracy: 0.7600\n"
          ]
        }
      ],
      "source": [
        "zM9 = keras.models.load_model('zM1.h5')\n",
        "zM9.compile(optimizer=keras.optimizers.Adam(learning_rate=1e-3),\n",
        "              loss='binary_crossentropy',\n",
        "              metrics=['accuracy'])\n",
        "\n",
        "history = zM9.fit(x_train, y_train9, epochs=50, validation_data=(x_test, y_test9), batch_size=32)\n"
      ]
    },
    {
      "cell_type": "code",
      "execution_count": null,
      "metadata": {
        "id": "KH_gVocIi9OL"
      },
      "outputs": [],
      "source": [
        "zM9.save('/content/drive/My Drive/t_models/zM9.h5')\n",
        "zM9.save_weights('/content/drive/My Drive/t_models_weights/ZM9_weights.h5')"
      ]
    },
    {
      "cell_type": "markdown",
      "metadata": {
        "id": "J937IE_qESME"
      },
      "source": [
        "## T10"
      ]
    },
    {
      "cell_type": "code",
      "execution_count": null,
      "metadata": {
        "colab": {
          "base_uri": "https://localhost:8080/"
        },
        "id": "fn0oAlqmEXbm",
        "outputId": "a58ad846-2fcf-4298-d3ee-19ec8fd5b19c"
      },
      "outputs": [
        {
          "data": {
            "text/plain": [
              "(1796, 28, 28, 1)"
            ]
          },
          "execution_count": 132,
          "metadata": {},
          "output_type": "execute_result"
        }
      ],
      "source": [
        "x_train, x_test, y_train10, y_test10 = train_test_split(X, y_t10, random_state=8, test_size = 0.10)\n",
        "x_train.shape"
      ]
    },
    {
      "cell_type": "code",
      "execution_count": null,
      "metadata": {
        "colab": {
          "base_uri": "https://localhost:8080/"
        },
        "id": "1t6sr3JaEZY3",
        "outputId": "a2a4e94b-0fd5-41e8-f832-6e22237d42b9"
      },
      "outputs": [
        {
          "name": "stderr",
          "output_type": "stream",
          "text": [
            "WARNING:absl:`lr` is deprecated in Keras optimizer, please use `learning_rate` or use the legacy optimizer, e.g.,tf.keras.optimizers.legacy.RMSprop.\n"
          ]
        },
        {
          "name": "stdout",
          "output_type": "stream",
          "text": [
            "Epoch 1/50\n",
            "57/57 [==============================] - 3s 9ms/step - loss: 3.1234e-06 - accuracy: 1.0000 - val_loss: 0.8646 - val_accuracy: 0.9150\n",
            "Epoch 2/50\n",
            "57/57 [==============================] - 0s 6ms/step - loss: 3.0099e-06 - accuracy: 1.0000 - val_loss: 0.8663 - val_accuracy: 0.9150\n",
            "Epoch 3/50\n",
            "57/57 [==============================] - 0s 5ms/step - loss: 2.9181e-06 - accuracy: 1.0000 - val_loss: 0.8782 - val_accuracy: 0.9150\n",
            "Epoch 4/50\n",
            "57/57 [==============================] - 0s 6ms/step - loss: 2.8436e-06 - accuracy: 1.0000 - val_loss: 0.8745 - val_accuracy: 0.9150\n",
            "Epoch 5/50\n",
            "57/57 [==============================] - 0s 6ms/step - loss: 2.7369e-06 - accuracy: 1.0000 - val_loss: 0.8732 - val_accuracy: 0.9150\n",
            "Epoch 6/50\n",
            "57/57 [==============================] - 0s 5ms/step - loss: 2.6549e-06 - accuracy: 1.0000 - val_loss: 0.8762 - val_accuracy: 0.9150\n",
            "Epoch 7/50\n",
            "57/57 [==============================] - 0s 6ms/step - loss: 2.5765e-06 - accuracy: 1.0000 - val_loss: 0.8783 - val_accuracy: 0.9150\n",
            "Epoch 8/50\n",
            "57/57 [==============================] - 0s 5ms/step - loss: 2.5026e-06 - accuracy: 1.0000 - val_loss: 0.8805 - val_accuracy: 0.9150\n",
            "Epoch 9/50\n",
            "57/57 [==============================] - 0s 5ms/step - loss: 2.4328e-06 - accuracy: 1.0000 - val_loss: 0.8851 - val_accuracy: 0.9150\n",
            "Epoch 10/50\n",
            "57/57 [==============================] - 0s 6ms/step - loss: 2.3748e-06 - accuracy: 1.0000 - val_loss: 0.8900 - val_accuracy: 0.9150\n",
            "Epoch 11/50\n",
            "57/57 [==============================] - 0s 5ms/step - loss: 2.3061e-06 - accuracy: 1.0000 - val_loss: 0.8877 - val_accuracy: 0.9150\n",
            "Epoch 12/50\n",
            "57/57 [==============================] - 0s 6ms/step - loss: 2.2462e-06 - accuracy: 1.0000 - val_loss: 0.8913 - val_accuracy: 0.9150\n",
            "Epoch 13/50\n",
            "57/57 [==============================] - 0s 6ms/step - loss: 2.1923e-06 - accuracy: 1.0000 - val_loss: 0.8912 - val_accuracy: 0.9150\n",
            "Epoch 14/50\n",
            "57/57 [==============================] - 0s 6ms/step - loss: 2.1347e-06 - accuracy: 1.0000 - val_loss: 0.8931 - val_accuracy: 0.9150\n",
            "Epoch 15/50\n",
            "57/57 [==============================] - 0s 5ms/step - loss: 2.0880e-06 - accuracy: 1.0000 - val_loss: 0.8942 - val_accuracy: 0.9150\n",
            "Epoch 16/50\n",
            "57/57 [==============================] - 0s 6ms/step - loss: 2.0342e-06 - accuracy: 1.0000 - val_loss: 0.8946 - val_accuracy: 0.9150\n",
            "Epoch 17/50\n",
            "57/57 [==============================] - 0s 5ms/step - loss: 1.9909e-06 - accuracy: 1.0000 - val_loss: 0.8934 - val_accuracy: 0.9150\n",
            "Epoch 18/50\n",
            "57/57 [==============================] - 0s 5ms/step - loss: 1.9501e-06 - accuracy: 1.0000 - val_loss: 0.8972 - val_accuracy: 0.9150\n",
            "Epoch 19/50\n",
            "57/57 [==============================] - 0s 5ms/step - loss: 1.9030e-06 - accuracy: 1.0000 - val_loss: 0.9009 - val_accuracy: 0.9150\n",
            "Epoch 20/50\n",
            "57/57 [==============================] - 0s 6ms/step - loss: 1.8636e-06 - accuracy: 1.0000 - val_loss: 0.9030 - val_accuracy: 0.9150\n",
            "Epoch 21/50\n",
            "57/57 [==============================] - 0s 5ms/step - loss: 1.8240e-06 - accuracy: 1.0000 - val_loss: 0.9046 - val_accuracy: 0.9150\n",
            "Epoch 22/50\n",
            "57/57 [==============================] - 0s 5ms/step - loss: 1.7868e-06 - accuracy: 1.0000 - val_loss: 0.9052 - val_accuracy: 0.9150\n",
            "Epoch 23/50\n",
            "57/57 [==============================] - 0s 5ms/step - loss: 1.7498e-06 - accuracy: 1.0000 - val_loss: 0.9064 - val_accuracy: 0.9150\n",
            "Epoch 24/50\n",
            "57/57 [==============================] - 0s 5ms/step - loss: 1.7136e-06 - accuracy: 1.0000 - val_loss: 0.9111 - val_accuracy: 0.9150\n",
            "Epoch 25/50\n",
            "57/57 [==============================] - 0s 5ms/step - loss: 1.6848e-06 - accuracy: 1.0000 - val_loss: 0.9119 - val_accuracy: 0.9150\n",
            "Epoch 26/50\n",
            "57/57 [==============================] - 0s 6ms/step - loss: 1.6455e-06 - accuracy: 1.0000 - val_loss: 0.9115 - val_accuracy: 0.9150\n",
            "Epoch 27/50\n",
            "57/57 [==============================] - 0s 6ms/step - loss: 1.6138e-06 - accuracy: 1.0000 - val_loss: 0.9133 - val_accuracy: 0.9150\n",
            "Epoch 28/50\n",
            "57/57 [==============================] - 0s 8ms/step - loss: 1.5871e-06 - accuracy: 1.0000 - val_loss: 0.9138 - val_accuracy: 0.9150\n",
            "Epoch 29/50\n",
            "57/57 [==============================] - 1s 9ms/step - loss: 1.5557e-06 - accuracy: 1.0000 - val_loss: 0.9157 - val_accuracy: 0.9150\n",
            "Epoch 30/50\n",
            "57/57 [==============================] - 0s 6ms/step - loss: 1.5284e-06 - accuracy: 1.0000 - val_loss: 0.9165 - val_accuracy: 0.9150\n",
            "Epoch 31/50\n",
            "57/57 [==============================] - 0s 8ms/step - loss: 1.5033e-06 - accuracy: 1.0000 - val_loss: 0.9177 - val_accuracy: 0.9150\n",
            "Epoch 32/50\n",
            "57/57 [==============================] - 0s 8ms/step - loss: 1.4757e-06 - accuracy: 1.0000 - val_loss: 0.9184 - val_accuracy: 0.9150\n",
            "Epoch 33/50\n",
            "57/57 [==============================] - 0s 7ms/step - loss: 1.4551e-06 - accuracy: 1.0000 - val_loss: 0.9199 - val_accuracy: 0.9150\n",
            "Epoch 34/50\n",
            "57/57 [==============================] - 0s 7ms/step - loss: 1.4286e-06 - accuracy: 1.0000 - val_loss: 0.9213 - val_accuracy: 0.9150\n",
            "Epoch 35/50\n",
            "57/57 [==============================] - 0s 8ms/step - loss: 1.4045e-06 - accuracy: 1.0000 - val_loss: 0.9225 - val_accuracy: 0.9150\n",
            "Epoch 36/50\n",
            "57/57 [==============================] - 0s 8ms/step - loss: 1.3827e-06 - accuracy: 1.0000 - val_loss: 0.9243 - val_accuracy: 0.9150\n",
            "Epoch 37/50\n",
            "57/57 [==============================] - 0s 6ms/step - loss: 1.3616e-06 - accuracy: 1.0000 - val_loss: 0.9250 - val_accuracy: 0.9150\n",
            "Epoch 38/50\n",
            "57/57 [==============================] - 0s 6ms/step - loss: 1.3405e-06 - accuracy: 1.0000 - val_loss: 0.9260 - val_accuracy: 0.9150\n",
            "Epoch 39/50\n",
            "57/57 [==============================] - 0s 6ms/step - loss: 1.3175e-06 - accuracy: 1.0000 - val_loss: 0.9264 - val_accuracy: 0.9150\n",
            "Epoch 40/50\n",
            "57/57 [==============================] - 0s 5ms/step - loss: 1.3005e-06 - accuracy: 1.0000 - val_loss: 0.9280 - val_accuracy: 0.9150\n",
            "Epoch 41/50\n",
            "57/57 [==============================] - 0s 5ms/step - loss: 1.2790e-06 - accuracy: 1.0000 - val_loss: 0.9293 - val_accuracy: 0.9150\n",
            "Epoch 42/50\n",
            "57/57 [==============================] - 0s 5ms/step - loss: 1.2596e-06 - accuracy: 1.0000 - val_loss: 0.9303 - val_accuracy: 0.9150\n",
            "Epoch 43/50\n",
            "57/57 [==============================] - 0s 6ms/step - loss: 1.2410e-06 - accuracy: 1.0000 - val_loss: 0.9310 - val_accuracy: 0.9150\n",
            "Epoch 44/50\n",
            "57/57 [==============================] - 0s 5ms/step - loss: 1.2241e-06 - accuracy: 1.0000 - val_loss: 0.9331 - val_accuracy: 0.9150\n",
            "Epoch 45/50\n",
            "57/57 [==============================] - 0s 6ms/step - loss: 1.2061e-06 - accuracy: 1.0000 - val_loss: 0.9309 - val_accuracy: 0.9150\n",
            "Epoch 46/50\n",
            "57/57 [==============================] - 0s 5ms/step - loss: 1.1907e-06 - accuracy: 1.0000 - val_loss: 0.9330 - val_accuracy: 0.9150\n",
            "Epoch 47/50\n",
            "57/57 [==============================] - 0s 5ms/step - loss: 1.1743e-06 - accuracy: 1.0000 - val_loss: 0.9346 - val_accuracy: 0.9150\n",
            "Epoch 48/50\n",
            "57/57 [==============================] - 0s 5ms/step - loss: 1.1591e-06 - accuracy: 1.0000 - val_loss: 0.9358 - val_accuracy: 0.9150\n",
            "Epoch 49/50\n",
            "57/57 [==============================] - 0s 5ms/step - loss: 1.1413e-06 - accuracy: 1.0000 - val_loss: 0.9368 - val_accuracy: 0.9150\n",
            "Epoch 50/50\n",
            "57/57 [==============================] - 0s 5ms/step - loss: 1.1255e-06 - accuracy: 1.0000 - val_loss: 0.9378 - val_accuracy: 0.9150\n"
          ]
        }
      ],
      "source": [
        "M10.compile(\n",
        "    optimizer=keras.optimizers.RMSprop(lr=1e-5),\n",
        "    loss='binary_crossentropy',\n",
        "    metrics=['accuracy']\n",
        "  )\n",
        "\n",
        "\n",
        "history = M10.fit(x_train, y_train10, epochs=50, validation_data=(x_test, y_test10), batch_size=32)"
      ]
    },
    {
      "cell_type": "code",
      "execution_count": null,
      "metadata": {
        "colab": {
          "base_uri": "https://localhost:8080/",
          "height": 430
        },
        "id": "tguC7OlNH_bI",
        "outputId": "bce4b525-08ce-4da6-b901-97195e206f2b"
      },
      "outputs": [
        {
          "data": {
            "image/png": "[encoded data removed]",
            "text/plain": [
              "<Figure size 640x480 with 1 Axes>"
            ]
          },
          "metadata": {},
          "output_type": "display_data"
        }
      ],
      "source": [
        "import matplotlib.pyplot as plt\n",
        "\n",
        "plt.plot(history.history['accuracy'],color='red',label='train')\n",
        "plt.plot(history.history['val_accuracy'],color='blue',label='validation')\n",
        "plt.legend()\n",
        "plt.show()"
      ]
    },
    {
      "cell_type": "code",
      "execution_count": null,
      "metadata": {
        "id": "dvMbGPNbQPxW"
      },
      "outputs": [],
      "source": [
        "model.save('M10.h5',M10)\n",
        "M10.save_weights('model10_weights.h5')"
      ]
    },
    {
      "cell_type": "code",
      "execution_count": null,
      "metadata": {
        "colab": {
          "base_uri": "https://localhost:8080/"
        },
        "id": "oaRt9RlBjp8d",
        "outputId": "18b2aad8-ba3d-4135-dda7-4177eab12207"
      },
      "outputs": [
        {
          "name": "stdout",
          "output_type": "stream",
          "text": [
            "Epoch 1/50\n",
            "57/57 [==============================] - 2s 9ms/step - loss: 0.2495 - accuracy: 0.8903 - val_loss: 0.1776 - val_accuracy: 0.9150\n",
            "Epoch 2/50\n",
            "57/57 [==============================] - 0s 6ms/step - loss: 0.1588 - accuracy: 0.9343 - val_loss: 0.1841 - val_accuracy: 0.9150\n",
            "Epoch 3/50\n",
            "57/57 [==============================] - 0s 6ms/step - loss: 0.1440 - accuracy: 0.9449 - val_loss: 0.1753 - val_accuracy: 0.9250\n",
            "Epoch 4/50\n",
            "57/57 [==============================] - 0s 6ms/step - loss: 0.1301 - accuracy: 0.9449 - val_loss: 0.1605 - val_accuracy: 0.9150\n",
            "Epoch 5/50\n",
            "57/57 [==============================] - 0s 5ms/step - loss: 0.1209 - accuracy: 0.9510 - val_loss: 0.1697 - val_accuracy: 0.9250\n",
            "Epoch 6/50\n",
            "57/57 [==============================] - 0s 6ms/step - loss: 0.1029 - accuracy: 0.9588 - val_loss: 0.2153 - val_accuracy: 0.9250\n",
            "Epoch 7/50\n",
            "57/57 [==============================] - 0s 6ms/step - loss: 0.0945 - accuracy: 0.9627 - val_loss: 0.1755 - val_accuracy: 0.9050\n",
            "Epoch 8/50\n",
            "57/57 [==============================] - 0s 7ms/step - loss: 0.0771 - accuracy: 0.9705 - val_loss: 0.2046 - val_accuracy: 0.9150\n",
            "Epoch 9/50\n",
            "57/57 [==============================] - 0s 8ms/step - loss: 0.0647 - accuracy: 0.9766 - val_loss: 0.2627 - val_accuracy: 0.9050\n",
            "Epoch 10/50\n",
            "57/57 [==============================] - 0s 8ms/step - loss: 0.0452 - accuracy: 0.9833 - val_loss: 0.2647 - val_accuracy: 0.9050\n",
            "Epoch 11/50\n",
            "57/57 [==============================] - 0s 8ms/step - loss: 0.0358 - accuracy: 0.9839 - val_loss: 0.2242 - val_accuracy: 0.9400\n",
            "Epoch 12/50\n",
            "57/57 [==============================] - 1s 9ms/step - loss: 0.0191 - accuracy: 0.9950 - val_loss: 0.3898 - val_accuracy: 0.9150\n",
            "Epoch 13/50\n",
            "57/57 [==============================] - 0s 9ms/step - loss: 0.0250 - accuracy: 0.9922 - val_loss: 0.3682 - val_accuracy: 0.9300\n",
            "Epoch 14/50\n",
            "57/57 [==============================] - 0s 8ms/step - loss: 0.0176 - accuracy: 0.9950 - val_loss: 0.3844 - val_accuracy: 0.9350\n",
            "Epoch 15/50\n",
            "57/57 [==============================] - 0s 8ms/step - loss: 0.0189 - accuracy: 0.9928 - val_loss: 0.4524 - val_accuracy: 0.8950\n",
            "Epoch 16/50\n",
            "57/57 [==============================] - 0s 8ms/step - loss: 0.0087 - accuracy: 0.9978 - val_loss: 0.4030 - val_accuracy: 0.9350\n",
            "Epoch 17/50\n",
            "57/57 [==============================] - 0s 6ms/step - loss: 0.0046 - accuracy: 0.9983 - val_loss: 0.4644 - val_accuracy: 0.9300\n",
            "Epoch 18/50\n",
            "57/57 [==============================] - 0s 6ms/step - loss: 0.0022 - accuracy: 1.0000 - val_loss: 0.4981 - val_accuracy: 0.9250\n",
            "Epoch 19/50\n",
            "57/57 [==============================] - 0s 6ms/step - loss: 0.0018 - accuracy: 1.0000 - val_loss: 0.5079 - val_accuracy: 0.9400\n",
            "Epoch 20/50\n",
            "57/57 [==============================] - 0s 6ms/step - loss: 0.0017 - accuracy: 0.9994 - val_loss: 0.5110 - val_accuracy: 0.9350\n",
            "Epoch 21/50\n",
            "57/57 [==============================] - 0s 6ms/step - loss: 0.0016 - accuracy: 0.9994 - val_loss: 0.5325 - val_accuracy: 0.9300\n",
            "Epoch 22/50\n",
            "57/57 [==============================] - 0s 6ms/step - loss: 0.0015 - accuracy: 1.0000 - val_loss: 0.5350 - val_accuracy: 0.9300\n",
            "Epoch 23/50\n",
            "57/57 [==============================] - 0s 6ms/step - loss: 0.0013 - accuracy: 1.0000 - val_loss: 0.5672 - val_accuracy: 0.9300\n",
            "Epoch 24/50\n",
            "57/57 [==============================] - 0s 6ms/step - loss: 6.8185e-04 - accuracy: 1.0000 - val_loss: 0.5713 - val_accuracy: 0.9300\n",
            "Epoch 25/50\n",
            "57/57 [==============================] - 0s 6ms/step - loss: 3.1615e-04 - accuracy: 1.0000 - val_loss: 0.5784 - val_accuracy: 0.9250\n",
            "Epoch 26/50\n",
            "57/57 [==============================] - 0s 6ms/step - loss: 2.5216e-04 - accuracy: 1.0000 - val_loss: 0.5956 - val_accuracy: 0.9300\n",
            "Epoch 27/50\n",
            "57/57 [==============================] - 0s 6ms/step - loss: 1.8821e-04 - accuracy: 1.0000 - val_loss: 0.5989 - val_accuracy: 0.9300\n",
            "Epoch 28/50\n",
            "57/57 [==============================] - 0s 6ms/step - loss: 1.5707e-04 - accuracy: 1.0000 - val_loss: 0.6093 - val_accuracy: 0.9300\n",
            "Epoch 29/50\n",
            "57/57 [==============================] - 0s 5ms/step - loss: 1.3349e-04 - accuracy: 1.0000 - val_loss: 0.6146 - val_accuracy: 0.9350\n",
            "Epoch 30/50\n",
            "57/57 [==============================] - 0s 6ms/step - loss: 1.1570e-04 - accuracy: 1.0000 - val_loss: 0.6230 - val_accuracy: 0.9350\n",
            "Epoch 31/50\n",
            "57/57 [==============================] - 0s 6ms/step - loss: 1.0175e-04 - accuracy: 1.0000 - val_loss: 0.6286 - val_accuracy: 0.9300\n",
            "Epoch 32/50\n",
            "57/57 [==============================] - 0s 6ms/step - loss: 9.1022e-05 - accuracy: 1.0000 - val_loss: 0.6375 - val_accuracy: 0.9300\n",
            "Epoch 33/50\n",
            "57/57 [==============================] - 0s 6ms/step - loss: 8.1704e-05 - accuracy: 1.0000 - val_loss: 0.6411 - val_accuracy: 0.9350\n",
            "Epoch 34/50\n",
            "57/57 [==============================] - 0s 5ms/step - loss: 7.4159e-05 - accuracy: 1.0000 - val_loss: 0.6497 - val_accuracy: 0.9300\n",
            "Epoch 35/50\n",
            "57/57 [==============================] - 0s 5ms/step - loss: 6.7583e-05 - accuracy: 1.0000 - val_loss: 0.6485 - val_accuracy: 0.9350\n",
            "Epoch 36/50\n",
            "57/57 [==============================] - 0s 6ms/step - loss: 6.1984e-05 - accuracy: 1.0000 - val_loss: 0.6569 - val_accuracy: 0.9350\n",
            "Epoch 37/50\n",
            "57/57 [==============================] - 0s 6ms/step - loss: 5.6439e-05 - accuracy: 1.0000 - val_loss: 0.6608 - val_accuracy: 0.9300\n",
            "Epoch 38/50\n",
            "57/57 [==============================] - 0s 6ms/step - loss: 5.2327e-05 - accuracy: 1.0000 - val_loss: 0.6660 - val_accuracy: 0.9300\n",
            "Epoch 39/50\n",
            "57/57 [==============================] - 0s 6ms/step - loss: 4.8110e-05 - accuracy: 1.0000 - val_loss: 0.6678 - val_accuracy: 0.9350\n",
            "Epoch 40/50\n",
            "57/57 [==============================] - 0s 6ms/step - loss: 4.5111e-05 - accuracy: 1.0000 - val_loss: 0.6731 - val_accuracy: 0.9300\n",
            "Epoch 41/50\n",
            "57/57 [==============================] - 0s 6ms/step - loss: 4.1929e-05 - accuracy: 1.0000 - val_loss: 0.6737 - val_accuracy: 0.9350\n",
            "Epoch 42/50\n",
            "57/57 [==============================] - 0s 6ms/step - loss: 3.9438e-05 - accuracy: 1.0000 - val_loss: 0.6751 - val_accuracy: 0.9350\n",
            "Epoch 43/50\n",
            "57/57 [==============================] - 0s 6ms/step - loss: 3.6319e-05 - accuracy: 1.0000 - val_loss: 0.6841 - val_accuracy: 0.9350\n",
            "Epoch 44/50\n",
            "57/57 [==============================] - 0s 5ms/step - loss: 3.4371e-05 - accuracy: 1.0000 - val_loss: 0.6832 - val_accuracy: 0.9350\n",
            "Epoch 45/50\n",
            "57/57 [==============================] - 0s 6ms/step - loss: 3.2182e-05 - accuracy: 1.0000 - val_loss: 0.6874 - val_accuracy: 0.9350\n",
            "Epoch 46/50\n",
            "57/57 [==============================] - 0s 7ms/step - loss: 3.0482e-05 - accuracy: 1.0000 - val_loss: 0.6875 - val_accuracy: 0.9350\n",
            "Epoch 47/50\n",
            "57/57 [==============================] - 0s 8ms/step - loss: 2.8740e-05 - accuracy: 1.0000 - val_loss: 0.6960 - val_accuracy: 0.9350\n",
            "Epoch 48/50\n",
            "57/57 [==============================] - 1s 9ms/step - loss: 2.7213e-05 - accuracy: 1.0000 - val_loss: 0.6938 - val_accuracy: 0.9350\n",
            "Epoch 49/50\n",
            "57/57 [==============================] - 0s 9ms/step - loss: 2.5674e-05 - accuracy: 1.0000 - val_loss: 0.7025 - val_accuracy: 0.9350\n",
            "Epoch 50/50\n",
            "57/57 [==============================] - 0s 9ms/step - loss: 2.4191e-05 - accuracy: 1.0000 - val_loss: 0.7050 - val_accuracy: 0.9350\n"
          ]
        }
      ],
      "source": [
        "zM10 = keras.models.load_model('zM1.h5')\n",
        "zM10.compile(optimizer=keras.optimizers.Adam(learning_rate=1e-3),\n",
        "              loss='binary_crossentropy',\n",
        "              metrics=['accuracy'])\n",
        "\n",
        "history = zM10.fit(x_train, y_train10, epochs=50, validation_data=(x_test, y_test10), batch_size=32)"
      ]
    },
    {
      "cell_type": "code",
      "execution_count": null,
      "metadata": {
        "id": "yFNlm2OWj-Db"
      },
      "outputs": [],
      "source": [
        "zM10.save('/content/drive/My Drive/t_models/zM10.h5')\n",
        "zM10.save_weights('/content/drive/My Drive/t_models_weights/ZM10_weights.h5')"
      ]
    },
    {
      "cell_type": "markdown",
      "metadata": {
        "id": "pSRFp_w0EfU5"
      },
      "source": [
        "## T11"
      ]
    },
    {
      "cell_type": "code",
      "execution_count": null,
      "metadata": {
        "colab": {
          "base_uri": "https://localhost:8080/"
        },
        "id": "gD4Kg_d_EjTH",
        "outputId": "93b8931b-4b9a-4a78-d2ef-fd75e3a7b92d"
      },
      "outputs": [
        {
          "data": {
            "text/plain": [
              "(1796, 28, 28, 1)"
            ]
          },
          "execution_count": 139,
          "metadata": {},
          "output_type": "execute_result"
        }
      ],
      "source": [
        "x_train, x_test, y_train11, y_test11 = train_test_split(X, y_t11, random_state=8, test_size = 0.10)\n",
        "x_train.shape"
      ]
    },
    {
      "cell_type": "code",
      "execution_count": null,
      "metadata": {
        "colab": {
          "base_uri": "https://localhost:8080/"
        },
        "id": "GcQjqtuxElIZ",
        "outputId": "86a17b4f-6da9-4c19-ab7a-aaed6fc812d9"
      },
      "outputs": [
        {
          "name": "stderr",
          "output_type": "stream",
          "text": [
            "WARNING:absl:`lr` is deprecated in Keras optimizer, please use `learning_rate` or use the legacy optimizer, e.g.,tf.keras.optimizers.legacy.RMSprop.\n"
          ]
        },
        {
          "name": "stdout",
          "output_type": "stream",
          "text": [
            "Epoch 1/50\n",
            "57/57 [==============================] - 2s 8ms/step - loss: 0.5549 - accuracy: 0.7339 - val_loss: 0.5000 - val_accuracy: 0.7850\n",
            "Epoch 2/50\n",
            "57/57 [==============================] - 0s 6ms/step - loss: 0.4686 - accuracy: 0.7678 - val_loss: 0.4880 - val_accuracy: 0.7750\n",
            "Epoch 3/50\n",
            "57/57 [==============================] - 0s 6ms/step - loss: 0.4314 - accuracy: 0.7918 - val_loss: 0.4735 - val_accuracy: 0.7850\n",
            "Epoch 4/50\n",
            "57/57 [==============================] - 0s 6ms/step - loss: 0.4093 - accuracy: 0.7906 - val_loss: 0.4825 - val_accuracy: 0.7750\n",
            "Epoch 5/50\n",
            "57/57 [==============================] - 0s 5ms/step - loss: 0.3777 - accuracy: 0.8146 - val_loss: 0.5054 - val_accuracy: 0.7850\n",
            "Epoch 6/50\n",
            "57/57 [==============================] - 0s 6ms/step - loss: 0.3568 - accuracy: 0.8302 - val_loss: 0.5393 - val_accuracy: 0.7150\n",
            "Epoch 7/50\n",
            "57/57 [==============================] - 0s 5ms/step - loss: 0.3204 - accuracy: 0.8435 - val_loss: 0.5518 - val_accuracy: 0.7800\n",
            "Epoch 8/50\n",
            "57/57 [==============================] - 0s 9ms/step - loss: 0.2888 - accuracy: 0.8714 - val_loss: 0.6104 - val_accuracy: 0.7350\n",
            "Epoch 9/50\n",
            "57/57 [==============================] - 0s 8ms/step - loss: 0.2539 - accuracy: 0.8937 - val_loss: 0.6000 - val_accuracy: 0.7850\n",
            "Epoch 10/50\n",
            "57/57 [==============================] - 0s 8ms/step - loss: 0.2121 - accuracy: 0.9081 - val_loss: 0.5986 - val_accuracy: 0.7800\n",
            "Epoch 11/50\n",
            "57/57 [==============================] - 0s 8ms/step - loss: 0.1760 - accuracy: 0.9215 - val_loss: 0.6965 - val_accuracy: 0.7150\n",
            "Epoch 12/50\n",
            "57/57 [==============================] - 0s 8ms/step - loss: 0.1332 - accuracy: 0.9499 - val_loss: 0.9574 - val_accuracy: 0.6550\n",
            "Epoch 13/50\n",
            "57/57 [==============================] - 0s 7ms/step - loss: 0.1038 - accuracy: 0.9616 - val_loss: 0.7796 - val_accuracy: 0.7800\n",
            "Epoch 14/50\n",
            "57/57 [==============================] - 0s 8ms/step - loss: 0.0713 - accuracy: 0.9794 - val_loss: 1.0476 - val_accuracy: 0.7250\n",
            "Epoch 15/50\n",
            "57/57 [==============================] - 0s 8ms/step - loss: 0.0527 - accuracy: 0.9811 - val_loss: 1.1937 - val_accuracy: 0.7550\n",
            "Epoch 16/50\n",
            "57/57 [==============================] - 0s 7ms/step - loss: 0.0354 - accuracy: 0.9916 - val_loss: 1.1162 - val_accuracy: 0.7550\n",
            "Epoch 17/50\n",
            "57/57 [==============================] - 0s 6ms/step - loss: 0.0200 - accuracy: 0.9967 - val_loss: 1.3178 - val_accuracy: 0.7500\n",
            "Epoch 18/50\n",
            "57/57 [==============================] - 0s 6ms/step - loss: 0.0150 - accuracy: 0.9972 - val_loss: 1.5889 - val_accuracy: 0.6950\n",
            "Epoch 19/50\n",
            "57/57 [==============================] - 0s 6ms/step - loss: 0.0078 - accuracy: 0.9989 - val_loss: 1.5521 - val_accuracy: 0.7250\n",
            "Epoch 20/50\n",
            "57/57 [==============================] - 0s 6ms/step - loss: 0.0103 - accuracy: 0.9967 - val_loss: 1.6492 - val_accuracy: 0.7250\n",
            "Epoch 21/50\n",
            "57/57 [==============================] - 0s 6ms/step - loss: 0.0061 - accuracy: 0.9983 - val_loss: 1.8792 - val_accuracy: 0.7100\n",
            "Epoch 22/50\n",
            "57/57 [==============================] - 0s 5ms/step - loss: 0.0034 - accuracy: 0.9994 - val_loss: 1.9253 - val_accuracy: 0.7250\n",
            "Epoch 23/50\n",
            "57/57 [==============================] - 0s 5ms/step - loss: 0.0024 - accuracy: 1.0000 - val_loss: 2.0815 - val_accuracy: 0.7450\n",
            "Epoch 24/50\n",
            "57/57 [==============================] - 0s 5ms/step - loss: 2.9240e-04 - accuracy: 1.0000 - val_loss: 2.1664 - val_accuracy: 0.7500\n",
            "Epoch 25/50\n",
            "57/57 [==============================] - 0s 6ms/step - loss: 9.5799e-05 - accuracy: 1.0000 - val_loss: 2.2842 - val_accuracy: 0.7500\n",
            "Epoch 26/50\n",
            "57/57 [==============================] - 0s 5ms/step - loss: 5.1630e-05 - accuracy: 1.0000 - val_loss: 2.3603 - val_accuracy: 0.7500\n",
            "Epoch 27/50\n",
            "57/57 [==============================] - 0s 5ms/step - loss: 3.6572e-05 - accuracy: 1.0000 - val_loss: 2.4284 - val_accuracy: 0.7500\n",
            "Epoch 28/50\n",
            "57/57 [==============================] - 0s 6ms/step - loss: 2.8163e-05 - accuracy: 1.0000 - val_loss: 2.4780 - val_accuracy: 0.7500\n",
            "Epoch 29/50\n",
            "57/57 [==============================] - 0s 5ms/step - loss: 2.2770e-05 - accuracy: 1.0000 - val_loss: 2.5220 - val_accuracy: 0.7450\n",
            "Epoch 30/50\n",
            "57/57 [==============================] - 0s 5ms/step - loss: 1.9148e-05 - accuracy: 1.0000 - val_loss: 2.5625 - val_accuracy: 0.7400\n",
            "Epoch 31/50\n",
            "57/57 [==============================] - 0s 5ms/step - loss: 1.6503e-05 - accuracy: 1.0000 - val_loss: 2.5944 - val_accuracy: 0.7400\n",
            "Epoch 32/50\n",
            "57/57 [==============================] - 0s 5ms/step - loss: 1.4462e-05 - accuracy: 1.0000 - val_loss: 2.6262 - val_accuracy: 0.7400\n",
            "Epoch 33/50\n",
            "57/57 [==============================] - 0s 5ms/step - loss: 1.2892e-05 - accuracy: 1.0000 - val_loss: 2.6492 - val_accuracy: 0.7400\n",
            "Epoch 34/50\n",
            "57/57 [==============================] - 0s 5ms/step - loss: 1.1579e-05 - accuracy: 1.0000 - val_loss: 2.6728 - val_accuracy: 0.7400\n",
            "Epoch 35/50\n",
            "57/57 [==============================] - 0s 5ms/step - loss: 1.0507e-05 - accuracy: 1.0000 - val_loss: 2.6948 - val_accuracy: 0.7450\n",
            "Epoch 36/50\n",
            "57/57 [==============================] - 0s 6ms/step - loss: 9.6215e-06 - accuracy: 1.0000 - val_loss: 2.7114 - val_accuracy: 0.7450\n",
            "Epoch 37/50\n",
            "57/57 [==============================] - 0s 5ms/step - loss: 8.8900e-06 - accuracy: 1.0000 - val_loss: 2.7339 - val_accuracy: 0.7400\n",
            "Epoch 38/50\n",
            "57/57 [==============================] - 0s 5ms/step - loss: 8.2122e-06 - accuracy: 1.0000 - val_loss: 2.7513 - val_accuracy: 0.7400\n",
            "Epoch 39/50\n",
            "57/57 [==============================] - 0s 5ms/step - loss: 7.6414e-06 - accuracy: 1.0000 - val_loss: 2.7674 - val_accuracy: 0.7400\n",
            "Epoch 40/50\n",
            "57/57 [==============================] - 0s 5ms/step - loss: 7.1704e-06 - accuracy: 1.0000 - val_loss: 2.7838 - val_accuracy: 0.7400\n",
            "Epoch 41/50\n",
            "57/57 [==============================] - 0s 6ms/step - loss: 6.7319e-06 - accuracy: 1.0000 - val_loss: 2.7968 - val_accuracy: 0.7400\n",
            "Epoch 42/50\n",
            "57/57 [==============================] - 0s 5ms/step - loss: 6.3464e-06 - accuracy: 1.0000 - val_loss: 2.8134 - val_accuracy: 0.7350\n",
            "Epoch 43/50\n",
            "57/57 [==============================] - 0s 5ms/step - loss: 5.9916e-06 - accuracy: 1.0000 - val_loss: 2.8275 - val_accuracy: 0.7400\n",
            "Epoch 44/50\n",
            "57/57 [==============================] - 0s 5ms/step - loss: 5.6567e-06 - accuracy: 1.0000 - val_loss: 2.8401 - val_accuracy: 0.7400\n",
            "Epoch 45/50\n",
            "57/57 [==============================] - 0s 5ms/step - loss: 5.3733e-06 - accuracy: 1.0000 - val_loss: 2.8506 - val_accuracy: 0.7400\n",
            "Epoch 46/50\n",
            "57/57 [==============================] - 0s 5ms/step - loss: 5.1232e-06 - accuracy: 1.0000 - val_loss: 2.8632 - val_accuracy: 0.7400\n",
            "Epoch 47/50\n",
            "57/57 [==============================] - 0s 6ms/step - loss: 4.8933e-06 - accuracy: 1.0000 - val_loss: 2.8740 - val_accuracy: 0.7400\n",
            "Epoch 48/50\n",
            "57/57 [==============================] - 0s 8ms/step - loss: 4.6768e-06 - accuracy: 1.0000 - val_loss: 2.8829 - val_accuracy: 0.7400\n",
            "Epoch 49/50\n",
            "57/57 [==============================] - 0s 8ms/step - loss: 4.4843e-06 - accuracy: 1.0000 - val_loss: 2.8966 - val_accuracy: 0.7400\n",
            "Epoch 50/50\n",
            "57/57 [==============================] - 0s 8ms/step - loss: 4.3054e-06 - accuracy: 1.0000 - val_loss: 2.9046 - val_accuracy: 0.7400\n"
          ]
        }
      ],
      "source": [
        "M11.compile(\n",
        "    optimizer=keras.optimizers.RMSprop(lr=1e-5),\n",
        "    loss='binary_crossentropy',\n",
        "    metrics=['accuracy']\n",
        "  )\n",
        "\n",
        "\n",
        "history = M11.fit(x_train, y_train11, epochs=50, validation_data=(x_test, y_test11), batch_size=32)"
      ]
    },
    {
      "cell_type": "code",
      "execution_count": null,
      "metadata": {
        "colab": {
          "base_uri": "https://localhost:8080/",
          "height": 430
        },
        "id": "KhX88DULIAaR",
        "outputId": "1184497d-2302-4f1c-9fa3-31294f86b4f4"
      },
      "outputs": [
        {
          "data": {
            "image/png": "[encoded data removed]",
            "text/plain": [
              "<Figure size 640x480 with 1 Axes>"
            ]
          },
          "metadata": {},
          "output_type": "display_data"
        }
      ],
      "source": [
        "import matplotlib.pyplot as plt\n",
        "\n",
        "plt.plot(history.history['accuracy'],color='red',label='train')\n",
        "plt.plot(history.history['val_accuracy'],color='blue',label='validation')\n",
        "plt.legend()\n",
        "plt.show()"
      ]
    },
    {
      "cell_type": "code",
      "execution_count": null,
      "metadata": {
        "id": "NkqYbO16QVCr"
      },
      "outputs": [],
      "source": [
        "model.save('M11.h5',M11)\n",
        "M11.save_weights('model11_weights.h5')"
      ]
    },
    {
      "cell_type": "code",
      "execution_count": null,
      "metadata": {
        "colab": {
          "base_uri": "https://localhost:8080/"
        },
        "id": "ndBPX3z5kUAG",
        "outputId": "279d74fa-345b-415c-efae-cb40b8d28fd4"
      },
      "outputs": [
        {
          "name": "stdout",
          "output_type": "stream",
          "text": [
            "Epoch 1/10\n",
            "57/57 [==============================] - 2s 9ms/step - loss: 0.5696 - accuracy: 0.7316 - val_loss: 0.4984 - val_accuracy: 0.7750\n",
            "Epoch 2/10\n",
            "57/57 [==============================] - 0s 7ms/step - loss: 0.4717 - accuracy: 0.7584 - val_loss: 0.4552 - val_accuracy: 0.7900\n",
            "Epoch 3/10\n",
            "57/57 [==============================] - 0s 6ms/step - loss: 0.4221 - accuracy: 0.7801 - val_loss: 0.4652 - val_accuracy: 0.7750\n",
            "Epoch 4/10\n",
            "57/57 [==============================] - 0s 6ms/step - loss: 0.3936 - accuracy: 0.8012 - val_loss: 0.4787 - val_accuracy: 0.7800\n",
            "Epoch 5/10\n",
            "57/57 [==============================] - 0s 6ms/step - loss: 0.3516 - accuracy: 0.8235 - val_loss: 0.4960 - val_accuracy: 0.7800\n",
            "Epoch 6/10\n",
            "57/57 [==============================] - 0s 6ms/step - loss: 0.3055 - accuracy: 0.8508 - val_loss: 0.5193 - val_accuracy: 0.7650\n",
            "Epoch 7/10\n",
            "57/57 [==============================] - 0s 6ms/step - loss: 0.2516 - accuracy: 0.8842 - val_loss: 0.5898 - val_accuracy: 0.7700\n",
            "Epoch 8/10\n",
            "57/57 [==============================] - 0s 5ms/step - loss: 0.1969 - accuracy: 0.9131 - val_loss: 0.6641 - val_accuracy: 0.7400\n",
            "Epoch 9/10\n",
            "57/57 [==============================] - 0s 6ms/step - loss: 0.1488 - accuracy: 0.9404 - val_loss: 0.8487 - val_accuracy: 0.7300\n",
            "Epoch 10/10\n",
            "57/57 [==============================] - 0s 6ms/step - loss: 0.1079 - accuracy: 0.9621 - val_loss: 0.9754 - val_accuracy: 0.7000\n"
          ]
        }
      ],
      "source": [
        "zM11 = keras.models.load_model('zM1.h5')\n",
        "zM11.compile(optimizer=keras.optimizers.Adam(learning_rate=1e-3),\n",
        "              loss='binary_crossentropy',\n",
        "              metrics=['accuracy'])\n",
        "\n",
        "history = zM11.fit(x_train, y_train11, epochs=10, validation_data=(x_test, y_test11), batch_size=32)\n"
      ]
    },
    {
      "cell_type": "code",
      "execution_count": null,
      "metadata": {
        "id": "kmjnAaqWlKqV"
      },
      "outputs": [],
      "source": [
        "M11.save('/content/drive/My Drive/t_models/zM11.h5')\n",
        "M11.save_weights('/content/drive/My Drive/t_models_weights/ZM11_weights.h5')"
      ]
    },
    {
      "cell_type": "markdown",
      "metadata": {
        "id": "YH5INtGrMpFS"
      },
      "source": [
        "### Prediction Over an Image"
      ]
    },
    {
      "cell_type": "code",
      "source": [
        "import cv2\n",
        "import keras\n",
        "import numpy as np\n",
        "import os\n",
        "import tensorflow as tf\n",
        "import numpy as np"
      ],
      "metadata": {
        "id": "UfrEQ9w5HjKP"
      },
      "execution_count": null,
      "outputs": []
    },
    {
      "cell_type": "code",
      "execution_count": null,
      "metadata": {
        "colab": {
          "base_uri": "https://localhost:8080/"
        },
        "id": "dI27H6ftMmiI",
        "outputId": "00d17afb-898c-44f0-f903-38aefd28bff4"
      },
      "outputs": [
        {
          "output_type": "stream",
          "name": "stdout",
          "text": [
            "(1, 28, 28, 1)\n"
          ]
        }
      ],
      "source": [
        "# Load the image using the provided filename\n",
        "test_img = tf.keras.utils.load_img('/content/77.png', color_mode='grayscale')\n",
        "test_img = tf.keras.preprocessing.image.img_to_array(test_img, dtype=np.float32)\n",
        "\n",
        "# Convert the loaded image to a numpy array\n",
        "test_img = tf.keras.utils.img_to_array(test_img)\n",
        "\n",
        "# Normalize the pixel values of the image between 0 and 1\n",
        "test_img = test_img/255.0\n",
        "\n",
        "# Reshape the image to a 4D tensor with dimensions (1, height, width,channel)\n",
        "test_img = np.reshape(test_img,(1,28,28,1))\n",
        "print(test_img.shape)"
      ]
    },
    {
      "cell_type": "code",
      "execution_count": null,
      "metadata": {
        "id": "OFt-qTLLTvlM"
      },
      "outputs": [],
      "source": [
        "# Define a dictionary that maps index to label\n",
        "label_map2 = {\n",
        "    0: 'Well-organized and emotionally stable',\n",
        "    1: 'High self-esteem and ambitions',\n",
        "    2: 'Tendency to long-term procrastinate',\n",
        "    3: 'Tendency to be Lazy, may lack self-discipline.',\n",
        "    4: 'Pessimistic tendency',\n",
        "    5: 'Tendency to be impatient',\n",
        "    6: 'Optimistic',\n",
        "    7: 'High level of enthusiasm ',\n",
        "    8: 'Level headed enthusiast',\n",
        "    9: 'Low Ambitions and self esteem',\n",
        "    10: 'May lack motivation'\n",
        "}\n"
      ]
    },
    {
      "cell_type": "code",
      "execution_count": null,
      "metadata": {
        "id": "2T0_az805sBt"
      },
      "outputs": [],
      "source": [
        "label_map1 = {\n",
        "    0: 'Balanced Crossbar',\n",
        "    1: 'High Crossbar',\n",
        "    2: 'Left Dominant Crossbar',\n",
        "    3: 'Short Length Crossbar',\n",
        "    4: 'Down Sloping',\n",
        "    5: 'Right Dominant Crossbar',\n",
        "    6: 'Upsloping',\n",
        "    7: 'Lengthy Crossbar',\n",
        "    8: 'Flat Crossbar',\n",
        "    9: 'Low Crossbar',\n",
        "    10: 'Medium Length Crossbar'\n",
        "}"
      ]
    },
    {
      "cell_type": "code",
      "source": [
        "from google.colab import drive\n",
        "drive.mount('/content/drive')"
      ],
      "metadata": {
        "colab": {
          "base_uri": "https://localhost:8080/"
        },
        "id": "BmcWktWoIL5M",
        "outputId": "5afa2a28-4f09-40cb-9306-abe01363cfa6"
      },
      "execution_count": null,
      "outputs": [
        {
          "output_type": "stream",
          "name": "stdout",
          "text": [
            "Mounted at /content/drive\n"
          ]
        }
      ]
    },
    {
      "cell_type": "code",
      "execution_count": null,
      "metadata": {
        "id": "vBlnKaeQUpCq",
        "colab": {
          "base_uri": "https://localhost:8080/"
        },
        "outputId": "49a7cb13-8b4a-4f4e-c887-bf91b4b58241"
      },
      "outputs": [
        {
          "output_type": "stream",
          "name": "stderr",
          "text": [
            "WARNING:absl:Compiled the loaded model, but the compiled metrics have yet to be built. `model.compile_metrics` will be empty until you train or evaluate the model.\n",
            "WARNING:absl:Error in loading the saved optimizer state. As a result, your model is starting with a freshly initialized optimizer.\n",
            "WARNING:absl:Compiled the loaded model, but the compiled metrics have yet to be built. `model.compile_metrics` will be empty until you train or evaluate the model.\n",
            "WARNING:absl:Error in loading the saved optimizer state. As a result, your model is starting with a freshly initialized optimizer.\n",
            "WARNING:absl:Compiled the loaded model, but the compiled metrics have yet to be built. `model.compile_metrics` will be empty until you train or evaluate the model.\n",
            "WARNING:absl:Error in loading the saved optimizer state. As a result, your model is starting with a freshly initialized optimizer.\n",
            "WARNING:absl:Compiled the loaded model, but the compiled metrics have yet to be built. `model.compile_metrics` will be empty until you train or evaluate the model.\n",
            "WARNING:absl:Error in loading the saved optimizer state. As a result, your model is starting with a freshly initialized optimizer.\n",
            "WARNING:absl:Compiled the loaded model, but the compiled metrics have yet to be built. `model.compile_metrics` will be empty until you train or evaluate the model.\n",
            "WARNING:absl:Error in loading the saved optimizer state. As a result, your model is starting with a freshly initialized optimizer.\n",
            "WARNING:absl:Compiled the loaded model, but the compiled metrics have yet to be built. `model.compile_metrics` will be empty until you train or evaluate the model.\n",
            "WARNING:absl:Error in loading the saved optimizer state. As a result, your model is starting with a freshly initialized optimizer.\n",
            "WARNING:absl:Compiled the loaded model, but the compiled metrics have yet to be built. `model.compile_metrics` will be empty until you train or evaluate the model.\n",
            "WARNING:absl:Error in loading the saved optimizer state. As a result, your model is starting with a freshly initialized optimizer.\n",
            "WARNING:absl:Compiled the loaded model, but the compiled metrics have yet to be built. `model.compile_metrics` will be empty until you train or evaluate the model.\n",
            "WARNING:absl:Error in loading the saved optimizer state. As a result, your model is starting with a freshly initialized optimizer.\n",
            "WARNING:absl:Compiled the loaded model, but the compiled metrics have yet to be built. `model.compile_metrics` will be empty until you train or evaluate the model.\n",
            "WARNING:absl:Error in loading the saved optimizer state. As a result, your model is starting with a freshly initialized optimizer.\n",
            "WARNING:absl:Compiled the loaded model, but the compiled metrics have yet to be built. `model.compile_metrics` will be empty until you train or evaluate the model.\n",
            "WARNING:absl:Error in loading the saved optimizer state. As a result, your model is starting with a freshly initialized optimizer.\n",
            "WARNING:absl:Compiled the loaded model, but the compiled metrics have yet to be built. `model.compile_metrics` will be empty until you train or evaluate the model.\n",
            "WARNING:absl:Error in loading the saved optimizer state. As a result, your model is starting with a freshly initialized optimizer.\n"
          ]
        }
      ],
      "source": [
        "from keras.models import load_model\n",
        "\n",
        "loaded_models = []\n",
        "\n",
        "# Load the models and their weights\n",
        "for i in range(11):\n",
        "    model_file = f'/content/drive/My Drive/t_models/zM{i+1}.h5'\n",
        "    weight_file = f'/content/drive/My Drive/t_models_weights/ZM{i+1}_weights.h5'\n",
        "    model = load_model(model_file)\n",
        "    model.load_weights(weight_file)\n",
        "    loaded_models.append(model)\n",
        "\n",
        "# Set the saved weights to each model\n",
        "for i in range(11):\n",
        "    loaded_models[i].set_weights(loaded_models[i].get_weights())"
      ]
    },
    {
      "cell_type": "code",
      "source": [
        "predList = []\n",
        "\n",
        "for i in range(11):\n",
        "        predictions = model.predict(test_img)\n",
        "        predList.append(predictions)"
      ],
      "metadata": {
        "colab": {
          "base_uri": "https://localhost:8080/"
        },
        "id": "vuvFIoBchb0k",
        "outputId": "36e0076c-92e7-401a-826b-f9ae84c39941"
      },
      "execution_count": null,
      "outputs": [
        {
          "output_type": "stream",
          "name": "stdout",
          "text": [
            "\u001b[1m1/1\u001b[0m \u001b[32m━━━━━━━━━━━━━━━━━━━━\u001b[0m\u001b[37m\u001b[0m \u001b[1m0s\u001b[0m 38ms/step\n",
            "\u001b[1m1/1\u001b[0m \u001b[32m━━━━━━━━━━━━━━━━━━━━\u001b[0m\u001b[37m\u001b[0m \u001b[1m0s\u001b[0m 25ms/step\n",
            "\u001b[1m1/1\u001b[0m \u001b[32m━━━━━━━━━━━━━━━━━━━━\u001b[0m\u001b[37m\u001b[0m \u001b[1m0s\u001b[0m 25ms/step\n",
            "\u001b[1m1/1\u001b[0m \u001b[32m━━━━━━━━━━━━━━━━━━━━\u001b[0m\u001b[37m\u001b[0m \u001b[1m0s\u001b[0m 26ms/step\n",
            "\u001b[1m1/1\u001b[0m \u001b[32m━━━━━━━━━━━━━━━━━━━━\u001b[0m\u001b[37m\u001b[0m \u001b[1m0s\u001b[0m 29ms/step\n",
            "\u001b[1m1/1\u001b[0m \u001b[32m━━━━━━━━━━━━━━━━━━━━\u001b[0m\u001b[37m\u001b[0m \u001b[1m0s\u001b[0m 25ms/step\n",
            "\u001b[1m1/1\u001b[0m \u001b[32m━━━━━━━━━━━━━━━━━━━━\u001b[0m\u001b[37m\u001b[0m \u001b[1m0s\u001b[0m 32ms/step\n",
            "\u001b[1m1/1\u001b[0m \u001b[32m━━━━━━━━━━━━━━━━━━━━\u001b[0m\u001b[37m\u001b[0m \u001b[1m0s\u001b[0m 28ms/step\n",
            "\u001b[1m1/1\u001b[0m \u001b[32m━━━━━━━━━━━━━━━━━━━━\u001b[0m\u001b[37m\u001b[0m \u001b[1m0s\u001b[0m 29ms/step\n",
            "\u001b[1m1/1\u001b[0m \u001b[32m━━━━━━━━━━━━━━━━━━━━\u001b[0m\u001b[37m\u001b[0m \u001b[1m0s\u001b[0m 27ms/step\n",
            "\u001b[1m1/1\u001b[0m \u001b[32m━━━━━━━━━━━━━━━━━━━━\u001b[0m\u001b[37m\u001b[0m \u001b[1m0s\u001b[0m 31ms/step\n"
          ]
        }
      ]
    },
    {
      "cell_type": "code",
      "source": [
        "for i, pred in enumerate(predList):\n",
        "    label1 = label_map1[i]\n",
        "\n",
        "    # If pred is a numpy array, round it using np.round\n",
        "    if isinstance(pred, np.ndarray):\n",
        "        pred_rounded = np.round(pred, 3)\n",
        "        print(f'{label1}: {pred_rounded}')\n",
        "    else:\n",
        "        print(f'{label1}: {pred:.3f}')\n",
        "\n",
        "    label2 = label_map2[i]\n",
        "    if np.round(pred, 3) <= 0:\n",
        "        print(f'{label2}: Trait is Absent')\n",
        "        print('\\n*************************************************************')\n",
        "    else:\n",
        "        print(f'{label2}: Trait is Present')\n",
        "        print('\\n*************************************************************')"
      ],
      "metadata": {
        "colab": {
          "base_uri": "https://localhost:8080/"
        },
        "id": "xR4WpTuOQsYl",
        "outputId": "af3da91a-8713-4fd2-f587-47c672bf24f2"
      },
      "execution_count": null,
      "outputs": [
        {
          "output_type": "stream",
          "name": "stdout",
          "text": [
            "Balanced Crossbar: [[0.]]\n",
            "Well-organized and emotionally stable: Trait is Absent\n",
            "\n",
            "*************************************************************\n",
            "High Crossbar: [[0.]]\n",
            "High self-esteem and ambitions: Trait is Absent\n",
            "\n",
            "*************************************************************\n",
            "Left Dominant Crossbar: [[0.]]\n",
            "Tendency to long-term procrastinate: Trait is Absent\n",
            "\n",
            "*************************************************************\n",
            "Short Length Crossbar: [[0.]]\n",
            "Tendency to be Lazy, may lack self-discipline.: Trait is Absent\n",
            "\n",
            "*************************************************************\n",
            "Down Sloping: [[0.]]\n",
            "Pessimistic tendency: Trait is Absent\n",
            "\n",
            "*************************************************************\n",
            "Right Dominant Crossbar: [[0.]]\n",
            "Tendency to be impatient: Trait is Absent\n",
            "\n",
            "*************************************************************\n",
            "Upsloping: [[0.]]\n",
            "Optimistic: Trait is Absent\n",
            "\n",
            "*************************************************************\n",
            "Lengthy Crossbar: [[0.]]\n",
            "High level of enthusiasm : Trait is Absent\n",
            "\n",
            "*************************************************************\n",
            "Flat Crossbar: [[0.]]\n",
            "Level headed enthusiast: Trait is Absent\n",
            "\n",
            "*************************************************************\n",
            "Low Crossbar: [[0.]]\n",
            "Low Ambitions and self esteem: Trait is Absent\n",
            "\n",
            "*************************************************************\n",
            "Medium Length Crossbar: [[0.]]\n",
            "May lack motivation: Trait is Absent\n",
            "\n",
            "*************************************************************\n"
          ]
        }
      ]
    },
    {
      "cell_type": "markdown",
      "metadata": {
        "id": "f121toPCX69Q"
      },
      "source": [
        "## Predicting for the folder of t images"
      ]
    },
    {
      "cell_type": "code",
      "execution_count": null,
      "metadata": {
        "id": "RF1me9QXzOTN"
      },
      "outputs": [],
      "source": [
        "# Define the directory where the test images are stored\n",
        "test_dir = '/path/to/test/images/'\n",
        "\n",
        "# Loop through the images in the directory and make predictions using the loaded models\n",
        "for img_file in os.listdir(test_dir):\n",
        "    img_path = os.path.join(test_dir, img_file)\n",
        "    img = cv2.imread(img_path, cv2.IMREAD_GRAYSCALE)\n",
        "    img = tf.keras.utils.img_to_array(img)\n",
        "    imgs = np.reshape(1,28,28,1)\n",
        "\n",
        "    # Make predictions using each of the loaded models\n",
        "    for i, model in enumerate(loaded_models):\n",
        "        predictions = model.predict(img)\n",
        "        print(f\"Model {i+1}: {predictions}\")\n",
        "        label1 = label_map1[i]\n",
        "        print(f'{label}: [{pred}]')\n",
        "        print(f'{label1}: [{pred}]')\n",
        "        label2 = label_map2[i]\n",
        "        print(f'{label2}: [{pred}]')\n",
        "        print('*************************************************************')"
      ]
    },
    {
      "cell_type": "code",
      "execution_count": null,
      "metadata": {
        "id": "rbF3C9L4fGdS"
      },
      "outputs": [],
      "source": [
        "from google.colab import drive\n",
        "drive.mount('/content/drive')"
      ]
    },
    {
      "cell_type": "code",
      "execution_count": null,
      "metadata": {
        "id": "s6YBbUE3ejgr"
      },
      "outputs": [],
      "source": [
        "import cv2\n",
        "import keras\n",
        "import numpy as np\n",
        "import os\n",
        "import tensorflow as tf\n",
        "\n",
        "# Define a dictionary that maps index to label\n",
        "label_map2 = {\n",
        "    0: 'Well-organized and emotionally stable',\n",
        "    1: 'High self-esteem and ambitions',\n",
        "    2: 'Tendency to long-term procrastinate',\n",
        "    3: 'Tendency to be Lazy, may lack self-discipline.',\n",
        "    4: 'Pessimistic tendency',\n",
        "    5: 'Tendency to be impatient',\n",
        "    6: 'Optimistic',\n",
        "    7: 'High level of enthusiasm ',\n",
        "    8: 'Level headed enthusiast',\n",
        "    9: 'Low Ambitions and self esteem',\n",
        "    10: 'May lack motivation'\n",
        "}\n",
        "label_map1 = {\n",
        "    0: 'Balanced Crossbar',\n",
        "    1: 'High Crossbar',\n",
        "    2: 'Left Dominant Crossbar',\n",
        "    3: 'Short Length Crossbar',\n",
        "    4: 'Down Sloping',\n",
        "    5: 'Right Dominant Crossbar',\n",
        "    6: 'Upsloping',\n",
        "    7: 'Lengthy Crossbar',\n",
        "    8: 'Flat Crossbar',\n",
        "    9: 'Low Crossbar',\n",
        "    10: 'Medium Length Crossbar'\n",
        "}\n",
        "\n",
        "from keras.models import load_model\n",
        "loaded_models = []\n",
        "\n",
        "# Load the models and their weights\n",
        "for i in range(11):\n",
        "    model_file = f'zM{i+1}.h5'\n",
        "    weight_file = f'./t_models_weights/ZM{i+1}_weights.h5'\n",
        "    model = load_model(model_file)\n",
        "    model.load_weights(weight_file)\n",
        "    loaded_models.append(model)\n",
        "\n",
        "# Set the saved weights to each model\n",
        "for i in range(11):\n",
        "    loaded_models[i].set_weights(loaded_models[i].get_weights())\n",
        "\n",
        "# Define the directory where the test images are stored\n",
        "test_dir = '/content/77.jpeg'\n",
        "predList = []\n",
        "# Loop through the images in the directory and make predictions using the loaded models\n",
        "for img_file in os.listdir(test_dir):\n",
        "    img_path = os.path.join(test_dir, img_file)\n",
        "    img = cv2.imread(img_path, cv2.IMREAD_GRAYSCALE)\n",
        "    img = tf.keras.utils.img_to_array(img)\n",
        "    img = np.reshape(img,(1,28,28,1))\n",
        "\n",
        "    # Make predictions using each of the loaded models\n",
        "    for i in range(11):\n",
        "        predictions = model.predict(img)\n",
        "        predList.append(predictions)\n",
        "        for i, pred in enumerate(predList): #if predList[i]>0.96:\n",
        "\n",
        "            label1 = label_map1[i]\n",
        "            print(f'{label1}: [{pred}]')\n",
        "            label2 = label_map2[i]\n",
        "            print(f'{label2}: [{pred}]')\n",
        "            print('*************************************************************')"
      ]
    }
  ],
  "metadata": {
    "accelerator": "GPU",
    "colab": {
      "provenance": []
    },
    "gpuClass": "standard",
    "kernelspec": {
      "display_name": "Python 3",
      "name": "python3"
    },
    "language_info": {
      "name": "python"
    }
  },
  "nbformat": 4,
  "nbformat_minor": 0
}